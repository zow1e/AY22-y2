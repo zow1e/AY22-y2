{
 "cells": [
  {
   "attachments": {
    "NYPLogo.png": {
     "image/png": "[encoded data removed]"
    }
   },
   "cell_type": "markdown",
   "metadata": {},
   "source": [
    "![NYPLogo.png](attachment:NYPLogo.png)\n",
    "\n",
    "# ITB251 Assignment - Task 1: Sentiment Classification\n",
    "\n",
    "You are required to build a sentiment classification model predict the sentiment of the review text. Businesses will be able to use this model to predict the sentiment of a new review.\n",
    "\n",
    "Complete the following sub-tasks:\n",
    "1.\t**Data Understanding**: Examine the dataset\n",
    "2.\t**Data Preparation**: Prepares the data and all necessary pre-processing tasks\n",
    "3.\t**Modelling**: Use different text representation and modelling algorithms\n",
    "4.\t**Evaluation**: Evaluates results from the algorithms and select the best model\n",
    "\n",
    "For each sub-task, perform the necessary steps and **explain the rationale taken for each step in this Jupyter notebook**. \n",
    "\n",
    "**Done by: \\<Zowie Ong 212345X\\>**"
   ]
  },
  {
   "cell_type": "markdown",
   "metadata": {},
   "source": [
    "## Import libraries and download the packages"
   ]
  },
  {
   "cell_type": "code",
   "execution_count": 1,
   "metadata": {},
   "outputs": [
    {
     "name": "stderr",
     "output_type": "stream",
     "text": [
      "[nltk_data] Downloading package stopwords to\n",
      "[nltk_data]     C:\\Users\\zoe\\AppData\\Roaming\\nltk_data...\n",
      "[nltk_data]   Package stopwords is already up-to-date!\n",
      "[nltk_data] Downloading package punkt to\n",
      "[nltk_data]     C:\\Users\\zoe\\AppData\\Roaming\\nltk_data...\n",
      "[nltk_data]   Package punkt is already up-to-date!\n"
     ]
    },
    {
     "data": {
      "text/plain": [
       "True"
      ]
     },
     "execution_count": 1,
     "metadata": {},
     "output_type": "execute_result"
    }
   ],
   "source": [
    "import numpy as np\n",
    "import pandas as pd\n",
    "import matplotlib.pyplot as plt\n",
    "import nltk\n",
    "from nltk import FreqDist\n",
    "\n",
    "nltk.download('stopwords')\n",
    "nltk.download('punkt')"
   ]
  },
  {
   "cell_type": "markdown",
   "metadata": {},
   "source": [
    "## Read the dataset"
   ]
  },
  {
   "cell_type": "code",
   "execution_count": 2,
   "metadata": {},
   "outputs": [
    {
     "data": {
      "text/html": [
       "<div>\n",
       "<style scoped>\n",
       "    .dataframe tbody tr th:only-of-type {\n",
       "        vertical-align: middle;\n",
       "    }\n",
       "\n",
       "    .dataframe tbody tr th {\n",
       "        vertical-align: top;\n",
       "    }\n",
       "\n",
       "    .dataframe thead th {\n",
       "        text-align: right;\n",
       "    }\n",
       "</style>\n",
       "<table border=\"1\" class=\"dataframe\">\n",
       "  <thead>\n",
       "    <tr style=\"text-align: right;\">\n",
       "      <th></th>\n",
       "      <th>review_id</th>\n",
       "      <th>date</th>\n",
       "      <th>name</th>\n",
       "      <th>categories</th>\n",
       "      <th>text</th>\n",
       "      <th>stars</th>\n",
       "    </tr>\n",
       "  </thead>\n",
       "  <tbody>\n",
       "    <tr>\n",
       "      <th>0</th>\n",
       "      <td>Af6Jnf8F5xBliuixStWF8g</td>\n",
       "      <td>2019-09-20</td>\n",
       "      <td>\"Soccer Zone\"</td>\n",
       "      <td>Shopping;Sporting Goods</td>\n",
       "      <td>I'll admit it.  I caught World Cup fever in 20...</td>\n",
       "      <td>4</td>\n",
       "    </tr>\n",
       "    <tr>\n",
       "      <th>1</th>\n",
       "      <td>j-6-I55-9EiKNGAjoLHx9A</td>\n",
       "      <td>2020-06-30</td>\n",
       "      <td>\"Fye\"</td>\n",
       "      <td>Shopping;Books;Mags;Music &amp; Video;Music &amp; DVDs</td>\n",
       "      <td>This store has gone through some management ch...</td>\n",
       "      <td>4</td>\n",
       "    </tr>\n",
       "    <tr>\n",
       "      <th>2</th>\n",
       "      <td>wCwl4NC1CxkRIAg2RcLzig</td>\n",
       "      <td>2020-09-28</td>\n",
       "      <td>\"By Design\"</td>\n",
       "      <td>Home &amp; Garden;Furniture Stores;Shopping</td>\n",
       "      <td>By Design sells funky ultra modern furniture. ...</td>\n",
       "      <td>3</td>\n",
       "    </tr>\n",
       "    <tr>\n",
       "      <th>3</th>\n",
       "      <td>PwSZrByRWrZ5x7QTq7V2PA</td>\n",
       "      <td>2020-05-10</td>\n",
       "      <td>\"Star Nursery\"</td>\n",
       "      <td>Nurseries &amp; Gardening;Home &amp; Garden;Shopping</td>\n",
       "      <td>I don't have much of a greenthumb, thankfully ...</td>\n",
       "      <td>4</td>\n",
       "    </tr>\n",
       "    <tr>\n",
       "      <th>4</th>\n",
       "      <td>yHmRAHgjgqucJcUG3to7-Q</td>\n",
       "      <td>2020-08-26</td>\n",
       "      <td>\"Sports Authority\"</td>\n",
       "      <td>Sporting Goods;Shopping</td>\n",
       "      <td>I am only ever going to this Sports Authority ...</td>\n",
       "      <td>5</td>\n",
       "    </tr>\n",
       "  </tbody>\n",
       "</table>\n",
       "</div>"
      ],
      "text/plain": [
       "                review_id        date                name  \\\n",
       "0  Af6Jnf8F5xBliuixStWF8g  2019-09-20       \"Soccer Zone\"   \n",
       "1  j-6-I55-9EiKNGAjoLHx9A  2020-06-30               \"Fye\"   \n",
       "2  wCwl4NC1CxkRIAg2RcLzig  2020-09-28         \"By Design\"   \n",
       "3  PwSZrByRWrZ5x7QTq7V2PA  2020-05-10      \"Star Nursery\"   \n",
       "4  yHmRAHgjgqucJcUG3to7-Q  2020-08-26  \"Sports Authority\"   \n",
       "\n",
       "                                       categories  \\\n",
       "0                         Shopping;Sporting Goods   \n",
       "1  Shopping;Books;Mags;Music & Video;Music & DVDs   \n",
       "2         Home & Garden;Furniture Stores;Shopping   \n",
       "3    Nurseries & Gardening;Home & Garden;Shopping   \n",
       "4                         Sporting Goods;Shopping   \n",
       "\n",
       "                                                text  stars  \n",
       "0  I'll admit it.  I caught World Cup fever in 20...      4  \n",
       "1  This store has gone through some management ch...      4  \n",
       "2  By Design sells funky ultra modern furniture. ...      3  \n",
       "3  I don't have much of a greenthumb, thankfully ...      4  \n",
       "4  I am only ever going to this Sports Authority ...      5  "
      ]
     },
     "execution_count": 2,
     "metadata": {},
     "output_type": "execute_result"
    }
   ],
   "source": [
    "df = pd.read_csv('shopping_reviews.csv',index_col=[0])\n",
    "\n",
    "# reset index\n",
    "df.index = range(len(df.index))\n",
    "\n",
    "\n",
    "df.head()"
   ]
  },
  {
   "cell_type": "markdown",
   "metadata": {},
   "source": [
    "## Data Understanding\n",
    "\n"
   ]
  },
  {
   "cell_type": "markdown",
   "metadata": {},
   "source": [
    "#### How many rows are in  the dataset?"
   ]
  },
  {
   "cell_type": "code",
   "execution_count": 3,
   "metadata": {},
   "outputs": [
    {
     "name": "stdout",
     "output_type": "stream",
     "text": [
      "There are 36422 reviews\n"
     ]
    }
   ],
   "source": [
    "print('There are' , len(df), 'reviews')"
   ]
  },
  {
   "cell_type": "markdown",
   "metadata": {},
   "source": [
    "#### How many different names are in the dataset? "
   ]
  },
  {
   "cell_type": "code",
   "execution_count": 4,
   "metadata": {},
   "outputs": [
    {
     "data": {
      "text/plain": [
       "7475"
      ]
     },
     "execution_count": 4,
     "metadata": {},
     "output_type": "execute_result"
    }
   ],
   "source": [
    "df['name'].nunique()"
   ]
  },
  {
   "cell_type": "markdown",
   "metadata": {},
   "source": [
    "#### Distribution of reviews over months and years "
   ]
  },
  {
   "cell_type": "code",
   "execution_count": 5,
   "metadata": {},
   "outputs": [
    {
     "name": "stderr",
     "output_type": "stream",
     "text": [
      "C:\\Users\\zoe\\AppData\\Local\\Temp/ipykernel_1820/3672976536.py:9: SettingWithCopyWarning: \n",
      "A value is trying to be set on a copy of a slice from a DataFrame\n",
      "\n",
      "See the caveats in the documentation: https://pandas.pydata.org/pandas-docs/stable/user_guide/indexing.html#returning-a-view-versus-a-copy\n",
      "  df['date'][index] = date_obj\n",
      "C:\\Users\\zoe\\AppData\\Local\\Temp/ipykernel_1820/3672976536.py:10: SettingWithCopyWarning: \n",
      "A value is trying to be set on a copy of a slice from a DataFrame\n",
      "\n",
      "See the caveats in the documentation: https://pandas.pydata.org/pandas-docs/stable/user_guide/indexing.html#returning-a-view-versus-a-copy\n",
      "  df['year'][index]=date_obj.strftime('%Y')\n",
      "C:\\Users\\zoe\\AppData\\Local\\Temp/ipykernel_1820/3672976536.py:11: SettingWithCopyWarning: \n",
      "A value is trying to be set on a copy of a slice from a DataFrame\n",
      "\n",
      "See the caveats in the documentation: https://pandas.pydata.org/pandas-docs/stable/user_guide/indexing.html#returning-a-view-versus-a-copy\n",
      "  df['month'][index]=date_obj.strftime('%B')\n"
     ]
    },
    {
     "name": "stdout",
     "output_type": "stream",
     "text": [
      "<class 'datetime.date'>\n",
      "2019-09-20\n"
     ]
    }
   ],
   "source": [
    "from datetime import datetime\n",
    "\n",
    "date_str = df['date']\n",
    "df['year']=''\n",
    "df['month']=''\n",
    "\n",
    "for index, date in enumerate(date_str):\n",
    "    date_obj = datetime.strptime(date, '%Y-%m-%d').date()\n",
    "    df['date'][index] = date_obj\n",
    "    df['year'][index]=date_obj.strftime('%Y')\n",
    "    df['month'][index]=date_obj.strftime('%B')\n",
    "\n",
    "print(type(df['date'][0]))\n",
    "print(df['date'][0])  # printed in default format"
   ]
  },
  {
   "cell_type": "code",
   "execution_count": 6,
   "metadata": {},
   "outputs": [
    {
     "data": {
      "image/png": "[encoded data removed]",
      "text/plain": [
       "<Figure size 432x288 with 2 Axes>"
      ]
     },
     "metadata": {
      "needs_background": "light"
     },
     "output_type": "display_data"
    }
   ],
   "source": [
    "# sort by months\n",
    "\n",
    "import calendar\n",
    "df['month'] = pd.Categorical(df.month, categories=calendar.month_name[1:], ordered=True)\n",
    "\n",
    "df.sort_values('month', inplace=True)\n",
    "\n",
    "\n",
    "import seaborn as sns\n",
    "import matplotlib.pyplot as plt\n",
    "\n",
    "color = sns.color_palette('Set2')\n",
    "plt.xticks(rotation=90)\n",
    "ax = sns.countplot(x='month', data=df, palette = color)\n",
    "ax2 = ax.twinx()\n",
    "ax2.plot(ax.get_xticks(), df['stars'].groupby(by=df['month']).mean())\n",
    "\n",
    "plt.show()"
   ]
  },
  {
   "cell_type": "markdown",
   "metadata": {},
   "source": [
    "April has the highest average stars, November has the lowest average stars.\n",
    "Both months do not have a big difference in number of reviews, but November could have a significantly higher count of negative reviews. This would cause the average stars for November to plummet as compared to other months with similar review count."
   ]
  },
  {
   "cell_type": "code",
   "execution_count": 7,
   "metadata": {},
   "outputs": [
    {
     "data": {
      "image/png": "[encoded data removed]",
      "text/plain": [
       "<Figure size 432x288 with 2 Axes>"
      ]
     },
     "metadata": {
      "needs_background": "light"
     },
     "output_type": "display_data"
    }
   ],
   "source": [
    "# sort by year\n",
    "\n",
    "df.sort_values('year', inplace=True)\n",
    "\n",
    "color = sns.color_palette('Set2')\n",
    "plt.xticks(rotation=90)\n",
    "ax = sns.countplot(x='year', data=df, palette = color)\n",
    "ax2 = ax.twinx()\n",
    "# ax2 = sns.lineplot(x=\"year\", y=\"rating\", data=df)\n",
    "ax2.plot(ax.get_xticks(), df['stars'].groupby(by=df['year']).mean())\n",
    "\n",
    "plt.show()"
   ]
  },
  {
   "cell_type": "markdown",
   "metadata": {},
   "source": [
    "2020 has about 5000 more reviews than 2019, but their average stars are about the same. 2019 average stars is 3.7725, while 2020 average stars is 3.7550. This shows that there is a similar distribution of stars in both years."
   ]
  },
  {
   "cell_type": "markdown",
   "metadata": {},
   "source": [
    "#### This step is done to visualize and hence, have a better understanding of the distribution of star rating given for the reviews."
   ]
  },
  {
   "cell_type": "code",
   "execution_count": 8,
   "metadata": {},
   "outputs": [
    {
     "name": "stdout",
     "output_type": "stream",
     "text": [
      "5    12611\n",
      "4    11984\n",
      "3     5692\n",
      "1     3328\n",
      "2     2807\n",
      "Name: stars, dtype: int64\n"
     ]
    },
    {
     "data": {
      "image/png": "[encoded data removed]",
      "text/plain": [
       "<Figure size 432x288 with 1 Axes>"
      ]
     },
     "metadata": {
      "needs_background": "light"
     },
     "output_type": "display_data"
    }
   ],
   "source": [
    "import seaborn as sns\n",
    "import matplotlib.pyplot as plt\n",
    "\n",
    "print(df['stars'].value_counts())\n",
    "\n",
    "sns.countplot(x='stars', data=df)\n",
    "plt.show()"
   ]
  },
  {
   "cell_type": "markdown",
   "metadata": {},
   "source": [
    "#### What are the top most occuring words?"
   ]
  },
  {
   "cell_type": "code",
   "execution_count": 9,
   "metadata": {},
   "outputs": [
    {
     "name": "stdout",
     "output_type": "stream",
     "text": [
      "<FreqDist with 87146 samples and 5508556 outcomes>\n",
      "[('.', 251452), ('the', 204206), (',', 193559), ('i', 160000), ('and', 145600), ('a', 128521), ('to', 126081), ('of', 83743), ('it', 66045), ('in', 65280)]\n"
     ]
    }
   ],
   "source": [
    "\n",
    "from nltk.tokenize import word_tokenize\n",
    "\n",
    "# extract text\n",
    "all_words = [word.lower() for sent in df.text for word in word_tokenize(sent)]\n",
    "\n",
    "\n",
    "# frequency distribution on text\n",
    "all_words_frequency = FreqDist(all_words)\n",
    "print (all_words_frequency)\n",
    "\n",
    "# print 10 most frequently occurring words\n",
    "print (all_words_frequency.most_common(10))\n"
   ]
  },
  {
   "cell_type": "code",
   "execution_count": 10,
   "metadata": {},
   "outputs": [
    {
     "data": {
      "image/png": "[encoded data removed]",
      "text/plain": [
       "<Figure size 432x288 with 1 Axes>"
      ]
     },
     "metadata": {
      "needs_background": "light"
     },
     "output_type": "display_data"
    },
    {
     "data": {
      "text/plain": [
       "<AxesSubplot:xlabel='Samples', ylabel='Counts'>"
      ]
     },
     "execution_count": 10,
     "metadata": {},
     "output_type": "execute_result"
    }
   ],
   "source": [
    "# plot the frequency distribution of the top 25 words\n",
    "all_words_frequency.plot(25, cumulative=False)"
   ]
  },
  {
   "cell_type": "markdown",
   "metadata": {},
   "source": [
    "The frequency distribution shows us that the top 25 most frequent words are mostly stopwords and punctuation. "
   ]
  },
  {
   "cell_type": "markdown",
   "metadata": {},
   "source": [
    "## Data Preparation\n",
    "- remove unnecessary columns\n",
    "- remove duplicate rows\n",
    "- drop 3 star reviews and assign sentiment to each review\n",
    "\n",
    "\n",
    "clean the text data\n",
    "- remove stopwords, words with 2 characters or lesser, punctuation and perform stemming\n",
    "\n"
   ]
  },
  {
   "cell_type": "markdown",
   "metadata": {},
   "source": [
    "#### remove the columns that will not help in the sentiment analysis."
   ]
  },
  {
   "cell_type": "code",
   "execution_count": 11,
   "metadata": {},
   "outputs": [
    {
     "data": {
      "text/html": [
       "<div>\n",
       "<style scoped>\n",
       "    .dataframe tbody tr th:only-of-type {\n",
       "        vertical-align: middle;\n",
       "    }\n",
       "\n",
       "    .dataframe tbody tr th {\n",
       "        vertical-align: top;\n",
       "    }\n",
       "\n",
       "    .dataframe thead th {\n",
       "        text-align: right;\n",
       "    }\n",
       "</style>\n",
       "<table border=\"1\" class=\"dataframe\">\n",
       "  <thead>\n",
       "    <tr style=\"text-align: right;\">\n",
       "      <th></th>\n",
       "      <th>review_id</th>\n",
       "      <th>text</th>\n",
       "      <th>stars</th>\n",
       "      <th>year</th>\n",
       "      <th>month</th>\n",
       "    </tr>\n",
       "  </thead>\n",
       "  <tbody>\n",
       "    <tr>\n",
       "      <th>22809</th>\n",
       "      <td>4GbV-HJzUnWlrMw2TPteFg</td>\n",
       "      <td>Nothing wrong with tanned, blonde beach-men is...</td>\n",
       "      <td>4</td>\n",
       "      <td>2019</td>\n",
       "      <td>July</td>\n",
       "    </tr>\n",
       "    <tr>\n",
       "      <th>35253</th>\n",
       "      <td>Pkz1T4Zy6tkzEPGnFzmNBw</td>\n",
       "      <td>I remember growing up and always seeing a 1 or...</td>\n",
       "      <td>5</td>\n",
       "      <td>2019</td>\n",
       "      <td>October</td>\n",
       "    </tr>\n",
       "    <tr>\n",
       "      <th>1576</th>\n",
       "      <td>CbuK3LQwbL7j8ExDUWlWPw</td>\n",
       "      <td>Spacious mall. You could easily spend a few ho...</td>\n",
       "      <td>3</td>\n",
       "      <td>2019</td>\n",
       "      <td>October</td>\n",
       "    </tr>\n",
       "    <tr>\n",
       "      <th>6748</th>\n",
       "      <td>RimI3qdCjJ6lYHpTLXuqZA</td>\n",
       "      <td>Wheeeeee this store is a great gift store, won...</td>\n",
       "      <td>4</td>\n",
       "      <td>2019</td>\n",
       "      <td>October</td>\n",
       "    </tr>\n",
       "    <tr>\n",
       "      <th>10172</th>\n",
       "      <td>XWx8V6fIu7LU5jw2PEp6Wg</td>\n",
       "      <td>Gotta give a big THANKS! to this Walgreens.  I...</td>\n",
       "      <td>5</td>\n",
       "      <td>2019</td>\n",
       "      <td>October</td>\n",
       "    </tr>\n",
       "  </tbody>\n",
       "</table>\n",
       "</div>"
      ],
      "text/plain": [
       "                    review_id  \\\n",
       "22809  4GbV-HJzUnWlrMw2TPteFg   \n",
       "35253  Pkz1T4Zy6tkzEPGnFzmNBw   \n",
       "1576   CbuK3LQwbL7j8ExDUWlWPw   \n",
       "6748   RimI3qdCjJ6lYHpTLXuqZA   \n",
       "10172  XWx8V6fIu7LU5jw2PEp6Wg   \n",
       "\n",
       "                                                    text  stars  year    month  \n",
       "22809  Nothing wrong with tanned, blonde beach-men is...      4  2019     July  \n",
       "35253  I remember growing up and always seeing a 1 or...      5  2019  October  \n",
       "1576   Spacious mall. You could easily spend a few ho...      3  2019  October  \n",
       "6748   Wheeeeee this store is a great gift store, won...      4  2019  October  \n",
       "10172  Gotta give a big THANKS! to this Walgreens.  I...      5  2019  October  "
      ]
     },
     "execution_count": 11,
     "metadata": {},
     "output_type": "execute_result"
    }
   ],
   "source": [
    "# drop unnecessary columns\n",
    "\n",
    "df.drop(columns=['date', 'name', 'categories'], inplace=True)\n",
    "df.head()"
   ]
  },
  {
   "cell_type": "markdown",
   "metadata": {},
   "source": [
    "#### remove duplicated rows to avoid biased analysis "
   ]
  },
  {
   "cell_type": "code",
   "execution_count": 12,
   "metadata": {},
   "outputs": [
    {
     "data": {
      "text/plain": [
       "36422"
      ]
     },
     "execution_count": 12,
     "metadata": {},
     "output_type": "execute_result"
    }
   ],
   "source": [
    "# remove duplicate rows\n",
    "\n",
    "df.drop_duplicates(inplace=True)\n",
    "len(df)"
   ]
  },
  {
   "cell_type": "markdown",
   "metadata": {},
   "source": [
    "#### remove 3 star reviews as they are considered 'neutral' and is not useful for the sentiment analysis.\n",
    "Reviews rated as 3 stars may not be accurate as the text could be leaning more towards positive or negative instead. \n",
    "\n",
    "Hence an accurate categorization of 3 star reviews into 'positive' or 'negative' would require me to read and assign each review a sentiment based on my judgment.\n",
    "This would be too time consuming and inefficient. Hence I removed the 3 star reviews to avoid inaccurate categorization / prediction of such reviews."
   ]
  },
  {
   "cell_type": "code",
   "execution_count": 13,
   "metadata": {},
   "outputs": [
    {
     "name": "stdout",
     "output_type": "stream",
     "text": [
      "(36422, 5)\n"
     ]
    },
    {
     "data": {
      "text/plain": [
       "(30730, 5)"
      ]
     },
     "execution_count": 13,
     "metadata": {},
     "output_type": "execute_result"
    }
   ],
   "source": [
    "# drop rows with 3 star reviews\n",
    "\n",
    "print(df.shape)\n",
    "\n",
    "df = df.loc[df[\"stars\"] != 3 ]\n",
    "\n",
    "# reset index\n",
    "df.index = range(len(df.index))\n",
    "df.shape"
   ]
  },
  {
   "cell_type": "markdown",
   "metadata": {},
   "source": [
    "#### replace 'stars' column with 'sentiment' column for model to predict a binary outcome."
   ]
  },
  {
   "cell_type": "code",
   "execution_count": 14,
   "metadata": {},
   "outputs": [
    {
     "name": "stderr",
     "output_type": "stream",
     "text": [
      "C:\\Users\\zoe\\AppData\\Local\\Temp/ipykernel_1820/2327094638.py:10: SettingWithCopyWarning: \n",
      "A value is trying to be set on a copy of a slice from a DataFrame\n",
      "\n",
      "See the caveats in the documentation: https://pandas.pydata.org/pandas-docs/stable/user_guide/indexing.html#returning-a-view-versus-a-copy\n",
      "  df['sentiment'][i] = 'positive'\n",
      "C:\\Users\\zoe\\AppData\\Local\\Temp/ipykernel_1820/2327094638.py:8: SettingWithCopyWarning: \n",
      "A value is trying to be set on a copy of a slice from a DataFrame\n",
      "\n",
      "See the caveats in the documentation: https://pandas.pydata.org/pandas-docs/stable/user_guide/indexing.html#returning-a-view-versus-a-copy\n",
      "  df['sentiment'][i] = 'negative'\n"
     ]
    },
    {
     "data": {
      "text/html": [
       "<div>\n",
       "<style scoped>\n",
       "    .dataframe tbody tr th:only-of-type {\n",
       "        vertical-align: middle;\n",
       "    }\n",
       "\n",
       "    .dataframe tbody tr th {\n",
       "        vertical-align: top;\n",
       "    }\n",
       "\n",
       "    .dataframe thead th {\n",
       "        text-align: right;\n",
       "    }\n",
       "</style>\n",
       "<table border=\"1\" class=\"dataframe\">\n",
       "  <thead>\n",
       "    <tr style=\"text-align: right;\">\n",
       "      <th></th>\n",
       "      <th>review_id</th>\n",
       "      <th>text</th>\n",
       "      <th>year</th>\n",
       "      <th>month</th>\n",
       "      <th>sentiment</th>\n",
       "    </tr>\n",
       "  </thead>\n",
       "  <tbody>\n",
       "    <tr>\n",
       "      <th>30725</th>\n",
       "      <td>xSupwSaR7vrUuW1zjF3Now</td>\n",
       "      <td>The place to go when you need any electronics ...</td>\n",
       "      <td>2020</td>\n",
       "      <td>June</td>\n",
       "      <td>positive</td>\n",
       "    </tr>\n",
       "    <tr>\n",
       "      <th>30726</th>\n",
       "      <td>x3Az2-C7L-xNZf5M2dDQYg</td>\n",
       "      <td>I used the car stereo installation service.  F...</td>\n",
       "      <td>2020</td>\n",
       "      <td>June</td>\n",
       "      <td>negative</td>\n",
       "    </tr>\n",
       "    <tr>\n",
       "      <th>30727</th>\n",
       "      <td>ZReFYiWGfwxfQ1xAYmvnVw</td>\n",
       "      <td>This is the place to go when meeting up with f...</td>\n",
       "      <td>2020</td>\n",
       "      <td>June</td>\n",
       "      <td>positive</td>\n",
       "    </tr>\n",
       "    <tr>\n",
       "      <th>30728</th>\n",
       "      <td>dwrUse1u6CRCVfP8Y5oJtw</td>\n",
       "      <td>Came in to buy a mac book pro. I've done a lot...</td>\n",
       "      <td>2020</td>\n",
       "      <td>June</td>\n",
       "      <td>negative</td>\n",
       "    </tr>\n",
       "    <tr>\n",
       "      <th>30729</th>\n",
       "      <td>Hah1cKEWEecbphLzglMJ-g</td>\n",
       "      <td>The staff were condescending and outright rude...</td>\n",
       "      <td>2020</td>\n",
       "      <td>June</td>\n",
       "      <td>negative</td>\n",
       "    </tr>\n",
       "  </tbody>\n",
       "</table>\n",
       "</div>"
      ],
      "text/plain": [
       "                    review_id  \\\n",
       "30725  xSupwSaR7vrUuW1zjF3Now   \n",
       "30726  x3Az2-C7L-xNZf5M2dDQYg   \n",
       "30727  ZReFYiWGfwxfQ1xAYmvnVw   \n",
       "30728  dwrUse1u6CRCVfP8Y5oJtw   \n",
       "30729  Hah1cKEWEecbphLzglMJ-g   \n",
       "\n",
       "                                                    text  year month sentiment  \n",
       "30725  The place to go when you need any electronics ...  2020  June  positive  \n",
       "30726  I used the car stereo installation service.  F...  2020  June  negative  \n",
       "30727  This is the place to go when meeting up with f...  2020  June  positive  \n",
       "30728  Came in to buy a mac book pro. I've done a lot...  2020  June  negative  \n",
       "30729  The staff were condescending and outright rude...  2020  June  negative  "
      ]
     },
     "execution_count": 14,
     "metadata": {},
     "output_type": "execute_result"
    }
   ],
   "source": [
    "# create new column 'sentiment'\n",
    "\n",
    "df['sentiment'] = ''\n",
    "stars = list(df['stars'])\n",
    "\n",
    "for i, item in enumerate(stars):\n",
    "    if item ==1 or item ==2:\n",
    "        df['sentiment'][i] = 'negative'\n",
    "    else:\n",
    "        df['sentiment'][i] = 'positive'\n",
    "\n",
    "# print(i)\n",
    "df = df.drop(columns=['stars'])\n",
    "df.tail()"
   ]
  },
  {
   "cell_type": "markdown",
   "metadata": {},
   "source": [
    "#### Visualize the distribution of sentiments"
   ]
  },
  {
   "cell_type": "code",
   "execution_count": 15,
   "metadata": {},
   "outputs": [
    {
     "name": "stdout",
     "output_type": "stream",
     "text": [
      "number of positive reviews is 24595 \n",
      "number of negative reviews is 6135\n"
     ]
    },
    {
     "data": {
      "image/png": "[encoded data removed]",
      "text/plain": [
       "<Figure size 432x288 with 1 Axes>"
      ]
     },
     "metadata": {
      "needs_background": "light"
     },
     "output_type": "display_data"
    }
   ],
   "source": [
    "# count sentiment column\n",
    "\n",
    "sentcol = list(df['sentiment'])\n",
    "positive = sentcol.count('positive')\n",
    "negative = sentcol.count('negative')\n",
    "\n",
    "print('number of positive reviews is', positive, '\\nnumber of negative reviews is', negative)\n",
    "\n",
    "\n",
    "# Plotting the Sentiment distribution\n",
    "import matplotlib.pyplot as plt\n",
    "import seaborn as sns\n",
    "\n",
    "color = sns.color_palette(\"deep\")\n",
    "sns.countplot(x='sentiment', data=df, palette=color)\n",
    "plt.show()"
   ]
  },
  {
   "cell_type": "markdown",
   "metadata": {},
   "source": [
    "#### Clean the text data"
   ]
  },
  {
   "cell_type": "markdown",
   "metadata": {},
   "source": [
    "#### This is done to reduce dimensionality, by removing stopwords and punctuation and stemming words. \n",
    "Also done to reduce noise in the dataset. Words that would not help in the categorization or do not carry much meaning such as punctuation, filler words (on, to, of), are removed."
   ]
  },
  {
   "cell_type": "code",
   "execution_count": 16,
   "metadata": {},
   "outputs": [],
   "source": [
    "# pip install gensim"
   ]
  },
  {
   "cell_type": "code",
   "execution_count": 17,
   "metadata": {},
   "outputs": [
    {
     "name": "stdout",
     "output_type": "stream",
     "text": [
      "['noth', 'wrong', 'tan', 'blond', 'beachmen', 'aahhh', 'on', 'place', 'would', 'love']\n"
     ]
    }
   ],
   "source": [
    "\n",
    "import string\n",
    "import gensim\n",
    "from nltk.corpus import stopwords\n",
    "from gensim.parsing.porter import PorterStemmer\n",
    "\n",
    "porter_stemmer = PorterStemmer()\n",
    "stopwords_english = stopwords.words('english')\n",
    "\n",
    "\n",
    "# function to remove Punctuation and Stopwords, perform stemming\n",
    "def clean(doc):\n",
    "    all_words_clean = []\n",
    "    for word in doc:\n",
    "        if word not in stopwords_english and not word.isdigit() and len(word)>2:\n",
    "            punc_free = ''.join([ch for ch in word if ch not in string.punctuation])\n",
    "            if punc_free and not word.isdigit():\n",
    "                all_words_clean.append(porter_stemmer.stem(punc_free))\n",
    "\n",
    "    return all_words_clean\n",
    "\n",
    "all_words_clean = clean(all_words)\n",
    "\n",
    "# print the first 10 words\n",
    "print (all_words_clean[:10])\n"
   ]
  },
  {
   "cell_type": "code",
   "execution_count": 18,
   "metadata": {},
   "outputs": [
    {
     "data": {
      "text/html": [
       "<div>\n",
       "<style scoped>\n",
       "    .dataframe tbody tr th:only-of-type {\n",
       "        vertical-align: middle;\n",
       "    }\n",
       "\n",
       "    .dataframe tbody tr th {\n",
       "        vertical-align: top;\n",
       "    }\n",
       "\n",
       "    .dataframe thead th {\n",
       "        text-align: right;\n",
       "    }\n",
       "</style>\n",
       "<table border=\"1\" class=\"dataframe\">\n",
       "  <thead>\n",
       "    <tr style=\"text-align: right;\">\n",
       "      <th></th>\n",
       "      <th>review_id</th>\n",
       "      <th>text</th>\n",
       "      <th>year</th>\n",
       "      <th>month</th>\n",
       "      <th>sentiment</th>\n",
       "      <th>cl_text</th>\n",
       "    </tr>\n",
       "  </thead>\n",
       "  <tbody>\n",
       "    <tr>\n",
       "      <th>0</th>\n",
       "      <td>4GbV-HJzUnWlrMw2TPteFg</td>\n",
       "      <td>Nothing wrong with tanned, blonde beach-men is...</td>\n",
       "      <td>2019</td>\n",
       "      <td>July</td>\n",
       "      <td>positive</td>\n",
       "      <td>[noth, wrong, tan, blond, beachmen, aahhh, on,...</td>\n",
       "    </tr>\n",
       "    <tr>\n",
       "      <th>1</th>\n",
       "      <td>Pkz1T4Zy6tkzEPGnFzmNBw</td>\n",
       "      <td>I remember growing up and always seeing a 1 or...</td>\n",
       "      <td>2019</td>\n",
       "      <td>October</td>\n",
       "      <td>positive</td>\n",
       "      <td>[rememb, grow, alwai, see, box, see, end, tabl...</td>\n",
       "    </tr>\n",
       "    <tr>\n",
       "      <th>2</th>\n",
       "      <td>RimI3qdCjJ6lYHpTLXuqZA</td>\n",
       "      <td>Wheeeeee this store is a great gift store, won...</td>\n",
       "      <td>2019</td>\n",
       "      <td>October</td>\n",
       "      <td>positive</td>\n",
       "      <td>[wheeeeee, store, great, gift, store, wonder, ...</td>\n",
       "    </tr>\n",
       "    <tr>\n",
       "      <th>3</th>\n",
       "      <td>XWx8V6fIu7LU5jw2PEp6Wg</td>\n",
       "      <td>Gotta give a big THANKS! to this Walgreens.  I...</td>\n",
       "      <td>2019</td>\n",
       "      <td>October</td>\n",
       "      <td>positive</td>\n",
       "      <td>[got, give, big, thank, walgreen, found, shoel...</td>\n",
       "    </tr>\n",
       "    <tr>\n",
       "      <th>4</th>\n",
       "      <td>zPyvxdok-7JyeWyqJKUGmg</td>\n",
       "      <td>I really love Fresh and Easy, the name says it...</td>\n",
       "      <td>2019</td>\n",
       "      <td>October</td>\n",
       "      <td>positive</td>\n",
       "      <td>[realli, love, fresh, easi, name, sai, fresh, ...</td>\n",
       "    </tr>\n",
       "  </tbody>\n",
       "</table>\n",
       "</div>"
      ],
      "text/plain": [
       "                review_id                                               text  \\\n",
       "0  4GbV-HJzUnWlrMw2TPteFg  Nothing wrong with tanned, blonde beach-men is...   \n",
       "1  Pkz1T4Zy6tkzEPGnFzmNBw  I remember growing up and always seeing a 1 or...   \n",
       "2  RimI3qdCjJ6lYHpTLXuqZA  Wheeeeee this store is a great gift store, won...   \n",
       "3  XWx8V6fIu7LU5jw2PEp6Wg  Gotta give a big THANKS! to this Walgreens.  I...   \n",
       "4  zPyvxdok-7JyeWyqJKUGmg  I really love Fresh and Easy, the name says it...   \n",
       "\n",
       "   year    month sentiment                                            cl_text  \n",
       "0  2019     July  positive  [noth, wrong, tan, blond, beachmen, aahhh, on,...  \n",
       "1  2019  October  positive  [rememb, grow, alwai, see, box, see, end, tabl...  \n",
       "2  2019  October  positive  [wheeeeee, store, great, gift, store, wonder, ...  \n",
       "3  2019  October  positive  [got, give, big, thank, walgreen, found, shoel...  \n",
       "4  2019  October  positive  [realli, love, fresh, easi, name, sai, fresh, ...  "
      ]
     },
     "execution_count": 18,
     "metadata": {},
     "output_type": "execute_result"
    }
   ],
   "source": [
    "import re\n",
    "\n",
    "df['cl_text'] = ''\n",
    "\n",
    "# remove number / words with numbers\n",
    "df['cl_text'] = [re.sub(r\"\\w*\\d\\w*\\d*\\w*\",'',s).strip() for s in df['text']]\n",
    "\n",
    "# word tokenize text\n",
    "df['cl_text'] = df['cl_text'].apply(lambda x: word_tokenize(x.lower()))\n",
    "\n",
    "# apply function to text in dataframe; remove words with 2 characters or less, digits, \n",
    "# Punctuation and Stopwords, perform stemming\n",
    "text = df['cl_text']\n",
    "doc_clean = [clean(doc) for doc in text]\n",
    "\n",
    "df['cl_text'] = doc_clean\n",
    "df.head()"
   ]
  },
  {
   "cell_type": "markdown",
   "metadata": {},
   "source": [
    "#### The frequency distribution helps us visualize the top terms and the count of the top few terms in comparison to other terms in the corpus. "
   ]
  },
  {
   "cell_type": "code",
   "execution_count": 19,
   "metadata": {},
   "outputs": [
    {
     "name": "stdout",
     "output_type": "stream",
     "text": [
      "<FreqDist with 61147 samples and 2399316 outcomes>\n",
      "[('nt', 31375), ('store', 29014), ('like', 19860), ('place', 18462), ('get', 18095), ('on', 18049), ('shop', 17693), ('time', 14794), ('great', 14389), ('look', 14141)]\n"
     ]
    },
    {
     "data": {
      "image/png": "[encoded data removed]",
      "text/plain": [
       "<Figure size 432x288 with 1 Axes>"
      ]
     },
     "metadata": {
      "needs_background": "light"
     },
     "output_type": "display_data"
    },
    {
     "data": {
      "text/plain": [
       "<AxesSubplot:xlabel='Samples', ylabel='Counts'>"
      ]
     },
     "execution_count": 19,
     "metadata": {},
     "output_type": "execute_result"
    }
   ],
   "source": [
    "# frequency distribution on cleaned text\n",
    "\n",
    "all_words_frequency = FreqDist(all_words_clean)\n",
    "print (all_words_frequency)\n",
    "\n",
    "# print 10 most frequently occurring words\n",
    "print (all_words_frequency.most_common(10))\n",
    "\n",
    "# plot the frequency distribution of the top 25 words\n",
    "all_words_frequency.plot(25, cumulative=False)"
   ]
  },
  {
   "cell_type": "markdown",
   "metadata": {},
   "source": [
    "Before cleaning the data, there were 87146 samples and 5508556 outcomes, and the most common words were stopwords and punctuation.\n",
    "After cleaning the data, there are 61147 samples and 2399316 outcomes, and there are more meaningful words in the most common words.\n",
    "\n",
    "It is evident that more than 20,000 stopwords and punctuation were removed from the text.\n",
    "This allows for better analysis of meaningful words after removing noise from the dataset."
   ]
  },
  {
   "cell_type": "markdown",
   "metadata": {},
   "source": [
    "# Modelling\n",
    "\n",
    "- Two feature sets will be created, a document-term matrix with term occurence, and a document-term matrix with TF-IDF.\n",
    "    - TF-IDF is used as it considers the term weight with respect to the entire document, so it gives a more relative value of the term as compared to using term occurence.\n",
    "\n",
    "\n",
    "- Logistic regression and decision tree models will be used on both feature sets.\n",
    "    - Both models are used for predicting categorical variables.\n"
   ]
  },
  {
   "cell_type": "markdown",
   "metadata": {},
   "source": [
    "#### 1. create feature set using top 2000 terms based on term occurence.\n",
    "This is to reduce dimensionality of the dataset for the model."
   ]
  },
  {
   "cell_type": "code",
   "execution_count": 20,
   "metadata": {},
   "outputs": [
    {
     "name": "stdout",
     "output_type": "stream",
     "text": [
      "The number of rows in the word:word frequency distribution is  61147\n",
      "Top 10 frequently occuring words \n",
      " [('nt', 31375), ('store', 29014), ('like', 19860), ('place', 18462), ('get', 18095), ('on', 18049), ('shop', 17693), ('time', 14794), ('great', 14389), ('look', 14141)] \n",
      "\n",
      "Bottom 10 frequently occuring words \n",
      " [('gucci', 152), ('lobbi', 152), ('action', 152), ('fiction', 151), ('ti', 151), ('obsess', 151), ('speed', 151), ('resid', 151), ('bob', 151), ('omg', 151)] \n",
      "\n",
      "['nt', 'store', 'like', 'place', 'get', 'on', 'shop', 'time', 'great', 'look']\n"
     ]
    }
   ],
   "source": [
    "# top 2000 words using term occurence\n",
    "\n",
    "print ('The number of rows in the word:word frequency distribution is ', len(all_words_frequency)) \n",
    "\n",
    "# get 2000 frequently occuring words\n",
    "most_common_words = all_words_frequency.most_common(2000)\n",
    "\n",
    "# print the first 10 most frequently occuring words\n",
    "print ('Top 10 frequently occuring words \\n', most_common_words[:10], '\\n')\n",
    "\n",
    "# print the last 10 most frequently occuring words\n",
    "print ('Bottom 10 frequently occuring words \\n', most_common_words[-10:], '\\n')\n",
    "\n",
    "# the most common words list's elements are in the form of tuple get \n",
    "# only the first element of each tuple of the word list\n",
    "word_features = [item[0] for item in most_common_words]\n",
    "print(word_features[:10])"
   ]
  },
  {
   "cell_type": "code",
   "execution_count": 21,
   "metadata": {},
   "outputs": [
    {
     "data": {
      "text/html": [
       "<div>\n",
       "<style scoped>\n",
       "    .dataframe tbody tr th:only-of-type {\n",
       "        vertical-align: middle;\n",
       "    }\n",
       "\n",
       "    .dataframe tbody tr th {\n",
       "        vertical-align: top;\n",
       "    }\n",
       "\n",
       "    .dataframe thead th {\n",
       "        text-align: right;\n",
       "    }\n",
       "</style>\n",
       "<table border=\"1\" class=\"dataframe\">\n",
       "  <thead>\n",
       "    <tr style=\"text-align: right;\">\n",
       "      <th></th>\n",
       "      <th>nt</th>\n",
       "      <th>store</th>\n",
       "      <th>like</th>\n",
       "      <th>place</th>\n",
       "      <th>get</th>\n",
       "      <th>on</th>\n",
       "      <th>shop</th>\n",
       "      <th>time</th>\n",
       "      <th>great</th>\n",
       "      <th>look</th>\n",
       "      <th>...</th>\n",
       "      <th>gucci</th>\n",
       "      <th>lobbi</th>\n",
       "      <th>action</th>\n",
       "      <th>fiction</th>\n",
       "      <th>ti</th>\n",
       "      <th>obsess</th>\n",
       "      <th>speed</th>\n",
       "      <th>resid</th>\n",
       "      <th>bob</th>\n",
       "      <th>omg</th>\n",
       "    </tr>\n",
       "  </thead>\n",
       "  <tbody>\n",
       "    <tr>\n",
       "      <th>0</th>\n",
       "      <td>True</td>\n",
       "      <td>False</td>\n",
       "      <td>False</td>\n",
       "      <td>True</td>\n",
       "      <td>False</td>\n",
       "      <td>True</td>\n",
       "      <td>False</td>\n",
       "      <td>False</td>\n",
       "      <td>False</td>\n",
       "      <td>False</td>\n",
       "      <td>...</td>\n",
       "      <td>False</td>\n",
       "      <td>False</td>\n",
       "      <td>False</td>\n",
       "      <td>False</td>\n",
       "      <td>False</td>\n",
       "      <td>False</td>\n",
       "      <td>False</td>\n",
       "      <td>False</td>\n",
       "      <td>False</td>\n",
       "      <td>False</td>\n",
       "    </tr>\n",
       "    <tr>\n",
       "      <th>1</th>\n",
       "      <td>True</td>\n",
       "      <td>False</td>\n",
       "      <td>False</td>\n",
       "      <td>False</td>\n",
       "      <td>False</td>\n",
       "      <td>True</td>\n",
       "      <td>False</td>\n",
       "      <td>True</td>\n",
       "      <td>False</td>\n",
       "      <td>True</td>\n",
       "      <td>...</td>\n",
       "      <td>False</td>\n",
       "      <td>False</td>\n",
       "      <td>False</td>\n",
       "      <td>False</td>\n",
       "      <td>True</td>\n",
       "      <td>False</td>\n",
       "      <td>False</td>\n",
       "      <td>False</td>\n",
       "      <td>False</td>\n",
       "      <td>False</td>\n",
       "    </tr>\n",
       "    <tr>\n",
       "      <th>2</th>\n",
       "      <td>True</td>\n",
       "      <td>True</td>\n",
       "      <td>True</td>\n",
       "      <td>False</td>\n",
       "      <td>False</td>\n",
       "      <td>True</td>\n",
       "      <td>False</td>\n",
       "      <td>False</td>\n",
       "      <td>True</td>\n",
       "      <td>False</td>\n",
       "      <td>...</td>\n",
       "      <td>False</td>\n",
       "      <td>False</td>\n",
       "      <td>False</td>\n",
       "      <td>False</td>\n",
       "      <td>True</td>\n",
       "      <td>False</td>\n",
       "      <td>False</td>\n",
       "      <td>False</td>\n",
       "      <td>False</td>\n",
       "      <td>False</td>\n",
       "    </tr>\n",
       "    <tr>\n",
       "      <th>3</th>\n",
       "      <td>False</td>\n",
       "      <td>True</td>\n",
       "      <td>False</td>\n",
       "      <td>False</td>\n",
       "      <td>False</td>\n",
       "      <td>False</td>\n",
       "      <td>False</td>\n",
       "      <td>False</td>\n",
       "      <td>False</td>\n",
       "      <td>False</td>\n",
       "      <td>...</td>\n",
       "      <td>False</td>\n",
       "      <td>False</td>\n",
       "      <td>False</td>\n",
       "      <td>False</td>\n",
       "      <td>True</td>\n",
       "      <td>False</td>\n",
       "      <td>False</td>\n",
       "      <td>False</td>\n",
       "      <td>False</td>\n",
       "      <td>False</td>\n",
       "    </tr>\n",
       "    <tr>\n",
       "      <th>4</th>\n",
       "      <td>True</td>\n",
       "      <td>False</td>\n",
       "      <td>False</td>\n",
       "      <td>False</td>\n",
       "      <td>True</td>\n",
       "      <td>True</td>\n",
       "      <td>False</td>\n",
       "      <td>False</td>\n",
       "      <td>False</td>\n",
       "      <td>False</td>\n",
       "      <td>...</td>\n",
       "      <td>False</td>\n",
       "      <td>False</td>\n",
       "      <td>False</td>\n",
       "      <td>False</td>\n",
       "      <td>True</td>\n",
       "      <td>False</td>\n",
       "      <td>False</td>\n",
       "      <td>False</td>\n",
       "      <td>False</td>\n",
       "      <td>False</td>\n",
       "    </tr>\n",
       "  </tbody>\n",
       "</table>\n",
       "<p>5 rows × 2000 columns</p>\n",
       "</div>"
      ],
      "text/plain": [
       "      nt  store   like  place    get     on   shop   time  great   look  ...  \\\n",
       "0   True  False  False   True  False   True  False  False  False  False  ...   \n",
       "1   True  False  False  False  False   True  False   True  False   True  ...   \n",
       "2   True   True   True  False  False   True  False  False   True  False  ...   \n",
       "3  False   True  False  False  False  False  False  False  False  False  ...   \n",
       "4   True  False  False  False   True   True  False  False  False  False  ...   \n",
       "\n",
       "   gucci  lobbi  action  fiction     ti  obsess  speed  resid    bob    omg  \n",
       "0  False  False   False    False  False   False  False  False  False  False  \n",
       "1  False  False   False    False   True   False  False  False  False  False  \n",
       "2  False  False   False    False   True   False  False  False  False  False  \n",
       "3  False  False   False    False   True   False  False  False  False  False  \n",
       "4  False  False   False    False   True   False  False  False  False  False  \n",
       "\n",
       "[5 rows x 2000 columns]"
      ]
     },
     "execution_count": 21,
     "metadata": {},
     "output_type": "execute_result"
    }
   ],
   "source": [
    "# create feature set\n",
    "\n",
    "def document_features(df, stemmed_tokens):\n",
    "    doc_features = []\n",
    "    for index, row in df.iterrows():\n",
    "        features = {}\n",
    "        for word in word_features:\n",
    "            # get term occurence: true if it's in the word_features, false if it's not\n",
    "            features[word] = (word in row[stemmed_tokens])\n",
    "        doc_features.append(features)\n",
    "    return doc_features\n",
    "\n",
    "feature_set = pd.DataFrame(document_features(df, 'text'), index = df.index)\n",
    "feature_set.head()"
   ]
  },
  {
   "cell_type": "markdown",
   "metadata": {},
   "source": [
    "#### split term occuerence feature set"
   ]
  },
  {
   "cell_type": "code",
   "execution_count": 22,
   "metadata": {},
   "outputs": [
    {
     "name": "stdout",
     "output_type": "stream",
     "text": [
      "positive    19676\n",
      "negative     4908\n",
      "Name: sentiment, dtype: int64\n"
     ]
    },
    {
     "data": {
      "image/png": "[encoded data removed]",
      "text/plain": [
       "<Figure size 432x288 with 1 Axes>"
      ]
     },
     "metadata": {
      "needs_background": "light"
     },
     "output_type": "display_data"
    }
   ],
   "source": [
    "# split dataset into training and test dataset\n",
    "from sklearn.model_selection import train_test_split\n",
    "\n",
    "# use x to predict y\n",
    "X = feature_set\n",
    "y = df['sentiment']\n",
    "\n",
    "# test_size=0.2 means split testing 20:training 80 \n",
    "X1_train, X1_test, y1_train, y1_test = train_test_split(X, y, test_size=0.2, random_state=42, stratify=y)\n",
    "\n",
    "print(y1_train.value_counts())\n",
    "\n",
    "# Plotting the Sentiment distribution\n",
    "import matplotlib.pyplot as plt\n",
    "import seaborn as sns\n",
    "\n",
    "color = sns.color_palette(\"deep\")\n",
    "sns.countplot(x=y1_train, palette=color)\n",
    "plt.show()\n",
    "\n"
   ]
  },
  {
   "cell_type": "markdown",
   "metadata": {},
   "source": [
    "#### 2. bag of words with TF-IDF"
   ]
  },
  {
   "cell_type": "markdown",
   "metadata": {},
   "source": [
    "#### split TF-IDF feature set"
   ]
  },
  {
   "cell_type": "code",
   "execution_count": 23,
   "metadata": {
    "scrolled": false
   },
   "outputs": [
    {
     "name": "stdout",
     "output_type": "stream",
     "text": [
      "positive    19676\n",
      "negative     4908\n",
      "Name: sentiment, dtype: int64\n"
     ]
    },
    {
     "data": {
      "image/png": "[encoded data removed]",
      "text/plain": [
       "<Figure size 432x288 with 1 Axes>"
      ]
     },
     "metadata": {
      "needs_background": "light"
     },
     "output_type": "display_data"
    }
   ],
   "source": [
    "X = df['text']\n",
    "X2_train, X2_test, y2_train, y2_test = train_test_split(X, y, test_size=0.2, random_state=42, stratify=y)\n",
    "\n",
    "print(y2_train.value_counts())\n",
    "\n",
    "# Plotting the Sentiment distribution\n",
    "import matplotlib.pyplot as plt\n",
    "import seaborn as sns\n",
    "\n",
    "color = sns.color_palette(\"deep\")\n",
    "sns.countplot(x=y2_train, palette=color)\n",
    "plt.show()"
   ]
  },
  {
   "cell_type": "code",
   "execution_count": 24,
   "metadata": {
    "scrolled": true
   },
   "outputs": [
    {
     "name": "stderr",
     "output_type": "stream",
     "text": [
      "C:\\Users\\zoe\\AppData\\Local\\Temp/ipykernel_1820/2303099486.py:1: FutureWarning: The behavior of `series[i:j]` with an integer-dtype index is deprecated. In a future version, this will be treated as *label-based* indexing, consistent with e.g. `series[i]` lookups. To retain the old behavior, use `series.iloc[i:j]`. To get the future behavior, use `series.loc[i:j]`.\n",
      "  X2_train[:10]\n"
     ]
    },
    {
     "data": {
      "text/plain": [
       "24203    I've been struggling for a while with how to r...\n",
       "4437     Cute, chic and fun!\\n\\nThe selection is ecclec...\n",
       "7918     I just moved to the area and fell in love with...\n",
       "6482     I love these sort of little dusty antique shop...\n",
       "13407    This Indigo's location at Yorkville is the hap...\n",
       "22826    I hate 1 star reviews, but this place really e...\n",
       "29722    You wan customer service? They go above and be...\n",
       "6260     For guitarists, Live Music can be summed up in...\n",
       "23889    I am not sure why the review of this disappear...\n",
       "30499    Crystals is a super high-end mall in the Las V...\n",
       "Name: text, dtype: object"
      ]
     },
     "execution_count": 24,
     "metadata": {},
     "output_type": "execute_result"
    }
   ],
   "source": [
    "X2_train[:10]"
   ]
  },
  {
   "cell_type": "markdown",
   "metadata": {},
   "source": [
    "### Create TF-IDF matrix\n",
    "\n",
    "remove numbers, words with numbers, and words with 2 characters or lesser"
   ]
  },
  {
   "cell_type": "code",
   "execution_count": 25,
   "metadata": {
    "scrolled": true
   },
   "outputs": [
    {
     "data": {
      "text/html": [
       "<div>\n",
       "<style scoped>\n",
       "    .dataframe tbody tr th:only-of-type {\n",
       "        vertical-align: middle;\n",
       "    }\n",
       "\n",
       "    .dataframe tbody tr th {\n",
       "        vertical-align: top;\n",
       "    }\n",
       "\n",
       "    .dataframe thead th {\n",
       "        text-align: right;\n",
       "    }\n",
       "</style>\n",
       "<table border=\"1\" class=\"dataframe\">\n",
       "  <thead>\n",
       "    <tr style=\"text-align: right;\">\n",
       "      <th></th>\n",
       "      <th>00</th>\n",
       "      <th>000</th>\n",
       "      <th>00pm</th>\n",
       "      <th>02</th>\n",
       "      <th>05</th>\n",
       "      <th>09</th>\n",
       "      <th>10</th>\n",
       "      <th>100</th>\n",
       "      <th>1000</th>\n",
       "      <th>100th</th>\n",
       "      <th>...</th>\n",
       "      <th>zwei</th>\n",
       "      <th>zwischen</th>\n",
       "      <th>ça</th>\n",
       "      <th>également</th>\n",
       "      <th>était</th>\n",
       "      <th>été</th>\n",
       "      <th>êtes</th>\n",
       "      <th>être</th>\n",
       "      <th>über</th>\n",
       "      <th>übersichtlich</th>\n",
       "    </tr>\n",
       "  </thead>\n",
       "  <tbody>\n",
       "    <tr>\n",
       "      <th>0</th>\n",
       "      <td>0.0</td>\n",
       "      <td>0.0</td>\n",
       "      <td>0.0</td>\n",
       "      <td>0.0</td>\n",
       "      <td>0.0</td>\n",
       "      <td>0.0</td>\n",
       "      <td>0.0</td>\n",
       "      <td>0.0</td>\n",
       "      <td>0.0</td>\n",
       "      <td>0.0</td>\n",
       "      <td>...</td>\n",
       "      <td>0.088365</td>\n",
       "      <td>0.0</td>\n",
       "      <td>0.0</td>\n",
       "      <td>0.0</td>\n",
       "      <td>0.0</td>\n",
       "      <td>0.0</td>\n",
       "      <td>0.0</td>\n",
       "      <td>0.0</td>\n",
       "      <td>0.078842</td>\n",
       "      <td>0.0</td>\n",
       "    </tr>\n",
       "    <tr>\n",
       "      <th>1</th>\n",
       "      <td>0.0</td>\n",
       "      <td>0.0</td>\n",
       "      <td>0.0</td>\n",
       "      <td>0.0</td>\n",
       "      <td>0.0</td>\n",
       "      <td>0.0</td>\n",
       "      <td>0.0</td>\n",
       "      <td>0.0</td>\n",
       "      <td>0.0</td>\n",
       "      <td>0.0</td>\n",
       "      <td>...</td>\n",
       "      <td>0.000000</td>\n",
       "      <td>0.0</td>\n",
       "      <td>0.0</td>\n",
       "      <td>0.0</td>\n",
       "      <td>0.0</td>\n",
       "      <td>0.0</td>\n",
       "      <td>0.0</td>\n",
       "      <td>0.0</td>\n",
       "      <td>0.000000</td>\n",
       "      <td>0.0</td>\n",
       "    </tr>\n",
       "    <tr>\n",
       "      <th>2</th>\n",
       "      <td>0.0</td>\n",
       "      <td>0.0</td>\n",
       "      <td>0.0</td>\n",
       "      <td>0.0</td>\n",
       "      <td>0.0</td>\n",
       "      <td>0.0</td>\n",
       "      <td>0.0</td>\n",
       "      <td>0.0</td>\n",
       "      <td>0.0</td>\n",
       "      <td>0.0</td>\n",
       "      <td>...</td>\n",
       "      <td>0.000000</td>\n",
       "      <td>0.0</td>\n",
       "      <td>0.0</td>\n",
       "      <td>0.0</td>\n",
       "      <td>0.0</td>\n",
       "      <td>0.0</td>\n",
       "      <td>0.0</td>\n",
       "      <td>0.0</td>\n",
       "      <td>0.000000</td>\n",
       "      <td>0.0</td>\n",
       "    </tr>\n",
       "    <tr>\n",
       "      <th>3</th>\n",
       "      <td>0.0</td>\n",
       "      <td>0.0</td>\n",
       "      <td>0.0</td>\n",
       "      <td>0.0</td>\n",
       "      <td>0.0</td>\n",
       "      <td>0.0</td>\n",
       "      <td>0.0</td>\n",
       "      <td>0.0</td>\n",
       "      <td>0.0</td>\n",
       "      <td>0.0</td>\n",
       "      <td>...</td>\n",
       "      <td>0.000000</td>\n",
       "      <td>0.0</td>\n",
       "      <td>0.0</td>\n",
       "      <td>0.0</td>\n",
       "      <td>0.0</td>\n",
       "      <td>0.0</td>\n",
       "      <td>0.0</td>\n",
       "      <td>0.0</td>\n",
       "      <td>0.000000</td>\n",
       "      <td>0.0</td>\n",
       "    </tr>\n",
       "    <tr>\n",
       "      <th>4</th>\n",
       "      <td>0.0</td>\n",
       "      <td>0.0</td>\n",
       "      <td>0.0</td>\n",
       "      <td>0.0</td>\n",
       "      <td>0.0</td>\n",
       "      <td>0.0</td>\n",
       "      <td>0.0</td>\n",
       "      <td>0.0</td>\n",
       "      <td>0.0</td>\n",
       "      <td>0.0</td>\n",
       "      <td>...</td>\n",
       "      <td>0.000000</td>\n",
       "      <td>0.0</td>\n",
       "      <td>0.0</td>\n",
       "      <td>0.0</td>\n",
       "      <td>0.0</td>\n",
       "      <td>0.0</td>\n",
       "      <td>0.0</td>\n",
       "      <td>0.0</td>\n",
       "      <td>0.000000</td>\n",
       "      <td>0.0</td>\n",
       "    </tr>\n",
       "  </tbody>\n",
       "</table>\n",
       "<p>5 rows × 10000 columns</p>\n",
       "</div>"
      ],
      "text/plain": [
       "    00  000  00pm   02   05   09   10  100  1000  100th  ...      zwei  \\\n",
       "0  0.0  0.0   0.0  0.0  0.0  0.0  0.0  0.0   0.0    0.0  ...  0.088365   \n",
       "1  0.0  0.0   0.0  0.0  0.0  0.0  0.0  0.0   0.0    0.0  ...  0.000000   \n",
       "2  0.0  0.0   0.0  0.0  0.0  0.0  0.0  0.0   0.0    0.0  ...  0.000000   \n",
       "3  0.0  0.0   0.0  0.0  0.0  0.0  0.0  0.0   0.0    0.0  ...  0.000000   \n",
       "4  0.0  0.0   0.0  0.0  0.0  0.0  0.0  0.0   0.0    0.0  ...  0.000000   \n",
       "\n",
       "   zwischen   ça  également  était  été  êtes  être      über  übersichtlich  \n",
       "0       0.0  0.0        0.0    0.0  0.0   0.0   0.0  0.078842            0.0  \n",
       "1       0.0  0.0        0.0    0.0  0.0   0.0   0.0  0.000000            0.0  \n",
       "2       0.0  0.0        0.0    0.0  0.0   0.0   0.0  0.000000            0.0  \n",
       "3       0.0  0.0        0.0    0.0  0.0   0.0   0.0  0.000000            0.0  \n",
       "4       0.0  0.0        0.0    0.0  0.0   0.0   0.0  0.000000            0.0  \n",
       "\n",
       "[5 rows x 10000 columns]"
      ]
     },
     "execution_count": 25,
     "metadata": {},
     "output_type": "execute_result"
    }
   ],
   "source": [
    "# Use TfidfVectorizer() to generate TF-IDF matrix for reviews\n",
    "from sklearn.feature_extraction.text import TfidfVectorizer\n",
    "\n",
    "# create document term matrix with TF-IDF\n",
    "tfid = TfidfVectorizer(stop_words='english', ngram_range=(1,1), max_features=10000)\n",
    "\n",
    "\n",
    "\n",
    "x_train_tfidf = tfid.fit_transform(X2_train).toarray()\n",
    "x_test_tfidf = tfid.transform(X2_test).toarray()\n",
    "\n",
    "\n",
    "x_train_dftfidf = pd.DataFrame(x_train_tfidf, columns = tfid.get_feature_names())\n",
    "x_test_dftfidf = pd.DataFrame(x_test_tfidf, columns = tfid.get_feature_names())\n",
    "x_test_dftfidf.head()"
   ]
  },
  {
   "cell_type": "markdown",
   "metadata": {},
   "source": [
    "Remove terms that are numbers, contain numbers, or are 2 characters or lesser."
   ]
  },
  {
   "cell_type": "code",
   "execution_count": 26,
   "metadata": {},
   "outputs": [],
   "source": [
    "goodcols = []\n",
    "for i in x_train_dftfidf:\n",
    "    if len(i) > 2 and not any(c.isdigit() for c in i):\n",
    "        goodcols.append(i)"
   ]
  },
  {
   "cell_type": "code",
   "execution_count": 27,
   "metadata": {},
   "outputs": [
    {
     "data": {
      "text/html": [
       "<div>\n",
       "<style scoped>\n",
       "    .dataframe tbody tr th:only-of-type {\n",
       "        vertical-align: middle;\n",
       "    }\n",
       "\n",
       "    .dataframe tbody tr th {\n",
       "        vertical-align: top;\n",
       "    }\n",
       "\n",
       "    .dataframe thead th {\n",
       "        text-align: right;\n",
       "    }\n",
       "</style>\n",
       "<table border=\"1\" class=\"dataframe\">\n",
       "  <thead>\n",
       "    <tr style=\"text-align: right;\">\n",
       "      <th></th>\n",
       "      <th>aaa</th>\n",
       "      <th>aaron</th>\n",
       "      <th>aback</th>\n",
       "      <th>abandoned</th>\n",
       "      <th>abc</th>\n",
       "      <th>abend</th>\n",
       "      <th>aber</th>\n",
       "      <th>abercrombie</th>\n",
       "      <th>abilities</th>\n",
       "      <th>ability</th>\n",
       "      <th>...</th>\n",
       "      <th>zwar</th>\n",
       "      <th>zwei</th>\n",
       "      <th>zwischen</th>\n",
       "      <th>également</th>\n",
       "      <th>était</th>\n",
       "      <th>été</th>\n",
       "      <th>êtes</th>\n",
       "      <th>être</th>\n",
       "      <th>über</th>\n",
       "      <th>übersichtlich</th>\n",
       "    </tr>\n",
       "  </thead>\n",
       "  <tbody>\n",
       "    <tr>\n",
       "      <th>0</th>\n",
       "      <td>0.0</td>\n",
       "      <td>0.0</td>\n",
       "      <td>0.0</td>\n",
       "      <td>0.0</td>\n",
       "      <td>0.0</td>\n",
       "      <td>0.101903</td>\n",
       "      <td>0.0</td>\n",
       "      <td>0.0</td>\n",
       "      <td>0.0</td>\n",
       "      <td>0.0</td>\n",
       "      <td>...</td>\n",
       "      <td>0.0</td>\n",
       "      <td>0.088365</td>\n",
       "      <td>0.0</td>\n",
       "      <td>0.0</td>\n",
       "      <td>0.0</td>\n",
       "      <td>0.0</td>\n",
       "      <td>0.0</td>\n",
       "      <td>0.0</td>\n",
       "      <td>0.078842</td>\n",
       "      <td>0.0</td>\n",
       "    </tr>\n",
       "    <tr>\n",
       "      <th>1</th>\n",
       "      <td>0.0</td>\n",
       "      <td>0.0</td>\n",
       "      <td>0.0</td>\n",
       "      <td>0.0</td>\n",
       "      <td>0.0</td>\n",
       "      <td>0.000000</td>\n",
       "      <td>0.0</td>\n",
       "      <td>0.0</td>\n",
       "      <td>0.0</td>\n",
       "      <td>0.0</td>\n",
       "      <td>...</td>\n",
       "      <td>0.0</td>\n",
       "      <td>0.000000</td>\n",
       "      <td>0.0</td>\n",
       "      <td>0.0</td>\n",
       "      <td>0.0</td>\n",
       "      <td>0.0</td>\n",
       "      <td>0.0</td>\n",
       "      <td>0.0</td>\n",
       "      <td>0.000000</td>\n",
       "      <td>0.0</td>\n",
       "    </tr>\n",
       "    <tr>\n",
       "      <th>2</th>\n",
       "      <td>0.0</td>\n",
       "      <td>0.0</td>\n",
       "      <td>0.0</td>\n",
       "      <td>0.0</td>\n",
       "      <td>0.0</td>\n",
       "      <td>0.000000</td>\n",
       "      <td>0.0</td>\n",
       "      <td>0.0</td>\n",
       "      <td>0.0</td>\n",
       "      <td>0.0</td>\n",
       "      <td>...</td>\n",
       "      <td>0.0</td>\n",
       "      <td>0.000000</td>\n",
       "      <td>0.0</td>\n",
       "      <td>0.0</td>\n",
       "      <td>0.0</td>\n",
       "      <td>0.0</td>\n",
       "      <td>0.0</td>\n",
       "      <td>0.0</td>\n",
       "      <td>0.000000</td>\n",
       "      <td>0.0</td>\n",
       "    </tr>\n",
       "    <tr>\n",
       "      <th>3</th>\n",
       "      <td>0.0</td>\n",
       "      <td>0.0</td>\n",
       "      <td>0.0</td>\n",
       "      <td>0.0</td>\n",
       "      <td>0.0</td>\n",
       "      <td>0.000000</td>\n",
       "      <td>0.0</td>\n",
       "      <td>0.0</td>\n",
       "      <td>0.0</td>\n",
       "      <td>0.0</td>\n",
       "      <td>...</td>\n",
       "      <td>0.0</td>\n",
       "      <td>0.000000</td>\n",
       "      <td>0.0</td>\n",
       "      <td>0.0</td>\n",
       "      <td>0.0</td>\n",
       "      <td>0.0</td>\n",
       "      <td>0.0</td>\n",
       "      <td>0.0</td>\n",
       "      <td>0.000000</td>\n",
       "      <td>0.0</td>\n",
       "    </tr>\n",
       "    <tr>\n",
       "      <th>4</th>\n",
       "      <td>0.0</td>\n",
       "      <td>0.0</td>\n",
       "      <td>0.0</td>\n",
       "      <td>0.0</td>\n",
       "      <td>0.0</td>\n",
       "      <td>0.000000</td>\n",
       "      <td>0.0</td>\n",
       "      <td>0.0</td>\n",
       "      <td>0.0</td>\n",
       "      <td>0.0</td>\n",
       "      <td>...</td>\n",
       "      <td>0.0</td>\n",
       "      <td>0.000000</td>\n",
       "      <td>0.0</td>\n",
       "      <td>0.0</td>\n",
       "      <td>0.0</td>\n",
       "      <td>0.0</td>\n",
       "      <td>0.0</td>\n",
       "      <td>0.0</td>\n",
       "      <td>0.000000</td>\n",
       "      <td>0.0</td>\n",
       "    </tr>\n",
       "  </tbody>\n",
       "</table>\n",
       "<p>5 rows × 9669 columns</p>\n",
       "</div>"
      ],
      "text/plain": [
       "   aaa  aaron  aback  abandoned  abc     abend  aber  abercrombie  abilities  \\\n",
       "0  0.0    0.0    0.0        0.0  0.0  0.101903   0.0          0.0        0.0   \n",
       "1  0.0    0.0    0.0        0.0  0.0  0.000000   0.0          0.0        0.0   \n",
       "2  0.0    0.0    0.0        0.0  0.0  0.000000   0.0          0.0        0.0   \n",
       "3  0.0    0.0    0.0        0.0  0.0  0.000000   0.0          0.0        0.0   \n",
       "4  0.0    0.0    0.0        0.0  0.0  0.000000   0.0          0.0        0.0   \n",
       "\n",
       "   ability  ...  zwar      zwei  zwischen  également  était  été  êtes  être  \\\n",
       "0      0.0  ...   0.0  0.088365       0.0        0.0    0.0  0.0   0.0   0.0   \n",
       "1      0.0  ...   0.0  0.000000       0.0        0.0    0.0  0.0   0.0   0.0   \n",
       "2      0.0  ...   0.0  0.000000       0.0        0.0    0.0  0.0   0.0   0.0   \n",
       "3      0.0  ...   0.0  0.000000       0.0        0.0    0.0  0.0   0.0   0.0   \n",
       "4      0.0  ...   0.0  0.000000       0.0        0.0    0.0  0.0   0.0   0.0   \n",
       "\n",
       "       über  übersichtlich  \n",
       "0  0.078842            0.0  \n",
       "1  0.000000            0.0  \n",
       "2  0.000000            0.0  \n",
       "3  0.000000            0.0  \n",
       "4  0.000000            0.0  \n",
       "\n",
       "[5 rows x 9669 columns]"
      ]
     },
     "execution_count": 27,
     "metadata": {},
     "output_type": "execute_result"
    }
   ],
   "source": [
    "x_train_goodtfidf = x_train_dftfidf[goodcols]\n",
    "x_test_goodtfidf = x_test_dftfidf[goodcols]\n",
    "x_test_goodtfidf.head()"
   ]
  },
  {
   "cell_type": "markdown",
   "metadata": {},
   "source": [
    "#### create feature set using TF-IDF more than 0.100 "
   ]
  },
  {
   "cell_type": "code",
   "execution_count": 28,
   "metadata": {},
   "outputs": [
    {
     "data": {
      "text/html": [
       "<div>\n",
       "<style scoped>\n",
       "    .dataframe tbody tr th:only-of-type {\n",
       "        vertical-align: middle;\n",
       "    }\n",
       "\n",
       "    .dataframe tbody tr th {\n",
       "        vertical-align: top;\n",
       "    }\n",
       "\n",
       "    .dataframe thead th {\n",
       "        text-align: right;\n",
       "    }\n",
       "</style>\n",
       "<table border=\"1\" class=\"dataframe\">\n",
       "  <thead>\n",
       "    <tr style=\"text-align: right;\">\n",
       "      <th></th>\n",
       "      <th>aaa</th>\n",
       "      <th>aaron</th>\n",
       "      <th>aback</th>\n",
       "      <th>abandoned</th>\n",
       "      <th>abc</th>\n",
       "      <th>abend</th>\n",
       "      <th>aber</th>\n",
       "      <th>abercrombie</th>\n",
       "      <th>abilities</th>\n",
       "      <th>ability</th>\n",
       "      <th>...</th>\n",
       "      <th>zwar</th>\n",
       "      <th>zwei</th>\n",
       "      <th>zwischen</th>\n",
       "      <th>également</th>\n",
       "      <th>était</th>\n",
       "      <th>été</th>\n",
       "      <th>êtes</th>\n",
       "      <th>être</th>\n",
       "      <th>über</th>\n",
       "      <th>übersichtlich</th>\n",
       "    </tr>\n",
       "  </thead>\n",
       "  <tbody>\n",
       "    <tr>\n",
       "      <th>0</th>\n",
       "      <td>False</td>\n",
       "      <td>False</td>\n",
       "      <td>False</td>\n",
       "      <td>False</td>\n",
       "      <td>False</td>\n",
       "      <td>False</td>\n",
       "      <td>False</td>\n",
       "      <td>False</td>\n",
       "      <td>False</td>\n",
       "      <td>False</td>\n",
       "      <td>...</td>\n",
       "      <td>False</td>\n",
       "      <td>False</td>\n",
       "      <td>False</td>\n",
       "      <td>False</td>\n",
       "      <td>False</td>\n",
       "      <td>False</td>\n",
       "      <td>False</td>\n",
       "      <td>False</td>\n",
       "      <td>False</td>\n",
       "      <td>False</td>\n",
       "    </tr>\n",
       "    <tr>\n",
       "      <th>1</th>\n",
       "      <td>False</td>\n",
       "      <td>False</td>\n",
       "      <td>False</td>\n",
       "      <td>False</td>\n",
       "      <td>False</td>\n",
       "      <td>False</td>\n",
       "      <td>False</td>\n",
       "      <td>False</td>\n",
       "      <td>False</td>\n",
       "      <td>False</td>\n",
       "      <td>...</td>\n",
       "      <td>False</td>\n",
       "      <td>False</td>\n",
       "      <td>False</td>\n",
       "      <td>False</td>\n",
       "      <td>False</td>\n",
       "      <td>False</td>\n",
       "      <td>False</td>\n",
       "      <td>False</td>\n",
       "      <td>False</td>\n",
       "      <td>False</td>\n",
       "    </tr>\n",
       "    <tr>\n",
       "      <th>2</th>\n",
       "      <td>False</td>\n",
       "      <td>False</td>\n",
       "      <td>False</td>\n",
       "      <td>False</td>\n",
       "      <td>False</td>\n",
       "      <td>False</td>\n",
       "      <td>False</td>\n",
       "      <td>False</td>\n",
       "      <td>False</td>\n",
       "      <td>False</td>\n",
       "      <td>...</td>\n",
       "      <td>False</td>\n",
       "      <td>False</td>\n",
       "      <td>False</td>\n",
       "      <td>False</td>\n",
       "      <td>False</td>\n",
       "      <td>False</td>\n",
       "      <td>False</td>\n",
       "      <td>False</td>\n",
       "      <td>False</td>\n",
       "      <td>False</td>\n",
       "    </tr>\n",
       "    <tr>\n",
       "      <th>3</th>\n",
       "      <td>False</td>\n",
       "      <td>False</td>\n",
       "      <td>False</td>\n",
       "      <td>False</td>\n",
       "      <td>False</td>\n",
       "      <td>False</td>\n",
       "      <td>False</td>\n",
       "      <td>False</td>\n",
       "      <td>False</td>\n",
       "      <td>False</td>\n",
       "      <td>...</td>\n",
       "      <td>False</td>\n",
       "      <td>False</td>\n",
       "      <td>False</td>\n",
       "      <td>False</td>\n",
       "      <td>False</td>\n",
       "      <td>False</td>\n",
       "      <td>False</td>\n",
       "      <td>False</td>\n",
       "      <td>False</td>\n",
       "      <td>False</td>\n",
       "    </tr>\n",
       "    <tr>\n",
       "      <th>4</th>\n",
       "      <td>False</td>\n",
       "      <td>False</td>\n",
       "      <td>False</td>\n",
       "      <td>False</td>\n",
       "      <td>False</td>\n",
       "      <td>False</td>\n",
       "      <td>False</td>\n",
       "      <td>False</td>\n",
       "      <td>False</td>\n",
       "      <td>False</td>\n",
       "      <td>...</td>\n",
       "      <td>False</td>\n",
       "      <td>False</td>\n",
       "      <td>False</td>\n",
       "      <td>False</td>\n",
       "      <td>False</td>\n",
       "      <td>False</td>\n",
       "      <td>False</td>\n",
       "      <td>False</td>\n",
       "      <td>False</td>\n",
       "      <td>False</td>\n",
       "    </tr>\n",
       "  </tbody>\n",
       "</table>\n",
       "<p>5 rows × 9669 columns</p>\n",
       "</div>"
      ],
      "text/plain": [
       "     aaa  aaron  aback  abandoned    abc  abend   aber  abercrombie  \\\n",
       "0  False  False  False      False  False  False  False        False   \n",
       "1  False  False  False      False  False  False  False        False   \n",
       "2  False  False  False      False  False  False  False        False   \n",
       "3  False  False  False      False  False  False  False        False   \n",
       "4  False  False  False      False  False  False  False        False   \n",
       "\n",
       "   abilities  ability  ...   zwar   zwei  zwischen  également  était    été  \\\n",
       "0      False    False  ...  False  False     False      False  False  False   \n",
       "1      False    False  ...  False  False     False      False  False  False   \n",
       "2      False    False  ...  False  False     False      False  False  False   \n",
       "3      False    False  ...  False  False     False      False  False  False   \n",
       "4      False    False  ...  False  False     False      False  False  False   \n",
       "\n",
       "    êtes   être   über  übersichtlich  \n",
       "0  False  False  False          False  \n",
       "1  False  False  False          False  \n",
       "2  False  False  False          False  \n",
       "3  False  False  False          False  \n",
       "4  False  False  False          False  \n",
       "\n",
       "[5 rows x 9669 columns]"
      ]
     },
     "execution_count": 28,
     "metadata": {},
     "output_type": "execute_result"
    }
   ],
   "source": [
    "def tfidf2000_features(df, stemmed_tokens):\n",
    "    tfidf_features_list = []\n",
    "    for index, row in df.iterrows():\n",
    "        features = []\n",
    "        for word in row:\n",
    "            if word>0.10:\n",
    "            # get tfidf value: true if it's more than 0.100, false if it's not\n",
    "                features.append(True)\n",
    "            else:\n",
    "                features.append(False)\n",
    "        tfidf_features_list.append(features)\n",
    "    return tfidf_features_list\n",
    "\n",
    "x_train_goodtfidf = pd.DataFrame(tfidf2000_features(x_train_goodtfidf, 'text'), columns=x_train_goodtfidf.columns,index = x_train_goodtfidf.index)\n",
    "x_test_goodtfidf = pd.DataFrame(tfidf2000_features(x_test_goodtfidf, 'text'), columns=x_test_goodtfidf.columns,index = x_test_goodtfidf.index)\n",
    "x_train_goodtfidf.head()"
   ]
  },
  {
   "cell_type": "markdown",
   "metadata": {},
   "source": [
    "## Fit and predict models\n",
    "- done on top 2 performing models"
   ]
  },
  {
   "cell_type": "code",
   "execution_count": 29,
   "metadata": {},
   "outputs": [],
   "source": [
    "from sklearn.svm import SVC\n",
    "from sklearn.linear_model import LogisticRegression\n",
    "from sklearn.naive_bayes import GaussianNB\n",
    "from sklearn.ensemble import RandomForestClassifier\n",
    "from sklearn.ensemble import GradientBoostingClassifier\n",
    "\n",
    "from sklearn.metrics import classification_report\n",
    "from sklearn.metrics import accuracy_score, confusion_matrix"
   ]
  },
  {
   "cell_type": "code",
   "execution_count": 30,
   "metadata": {},
   "outputs": [],
   "source": [
    "# We will iterate through all the models to see which model gives us the highest accuracy after testing.\n",
    "\n",
    "models = []\n",
    "models.append(('SVM', SVC(gamma='auto')))\n",
    "models.append(('LR', LogisticRegression(solver='liblinear')))\n",
    "models.append(('RF', RandomForestClassifier(n_estimators=10)))\n",
    "models.append(('GB', GradientBoostingClassifier()))"
   ]
  },
  {
   "cell_type": "code",
   "execution_count": 31,
   "metadata": {},
   "outputs": [
    {
     "name": "stdout",
     "output_type": "stream",
     "text": [
      "pred\n",
      "pred\n",
      "pred\n",
      "pred\n"
     ]
    },
    {
     "data": {
      "text/html": [
       "<div>\n",
       "<style scoped>\n",
       "    .dataframe tbody tr th:only-of-type {\n",
       "        vertical-align: middle;\n",
       "    }\n",
       "\n",
       "    .dataframe tbody tr th {\n",
       "        vertical-align: top;\n",
       "    }\n",
       "\n",
       "    .dataframe thead th {\n",
       "        text-align: right;\n",
       "    }\n",
       "</style>\n",
       "<table border=\"1\" class=\"dataframe\">\n",
       "  <thead>\n",
       "    <tr style=\"text-align: right;\">\n",
       "      <th></th>\n",
       "      <th>Name</th>\n",
       "      <th>Score</th>\n",
       "    </tr>\n",
       "  </thead>\n",
       "  <tbody>\n",
       "    <tr>\n",
       "      <th>1</th>\n",
       "      <td>LR</td>\n",
       "      <td>0.894403</td>\n",
       "    </tr>\n",
       "    <tr>\n",
       "      <th>3</th>\n",
       "      <td>GB</td>\n",
       "      <td>0.864790</td>\n",
       "    </tr>\n",
       "    <tr>\n",
       "      <th>0</th>\n",
       "      <td>SVM</td>\n",
       "      <td>0.849170</td>\n",
       "    </tr>\n",
       "    <tr>\n",
       "      <th>2</th>\n",
       "      <td>RF</td>\n",
       "      <td>0.838432</td>\n",
       "    </tr>\n",
       "  </tbody>\n",
       "</table>\n",
       "</div>"
      ],
      "text/plain": [
       "  Name     Score\n",
       "1   LR  0.894403\n",
       "3   GB  0.864790\n",
       "0  SVM  0.849170\n",
       "2   RF  0.838432"
      ]
     },
     "execution_count": 31,
     "metadata": {},
     "output_type": "execute_result"
    }
   ],
   "source": [
    "\n",
    "names=[]\n",
    "scores=[]\n",
    "for name, model in models:\n",
    "    model.fit(X1_train, y1_train)\n",
    "    y_pred = model.predict(X1_test)\n",
    "    print('pred')\n",
    "    \n",
    "    scores.append(accuracy_score(y1_test, y_pred))\n",
    "    names.append(name)\n",
    "    \n",
    "models_comparison = pd.DataFrame({'Name': names, 'Score':scores})\n",
    "\n",
    "# sort models by descending to see the model with highest score\n",
    "models_comparison.sort_values(by='Score', ascending=False)"
   ]
  },
  {
   "cell_type": "markdown",
   "metadata": {},
   "source": [
    "Best performing models on the term occurence feature set are the logistic regression model and the Gradient boosting classifier.\n",
    "Hence, the following models will be evaluated to find the best performing model and feature set.\n",
    "- Gradient boosting classifier with term occurence\n",
    "- Logistic regression with term occurence\n",
    "- Gradient boosting classifier with TF-IDF\n",
    "- Logistic regression with TF-IDF"
   ]
  },
  {
   "cell_type": "markdown",
   "metadata": {},
   "source": [
    "####  Gradient boosting classifier with term occurence"
   ]
  },
  {
   "cell_type": "code",
   "execution_count": 32,
   "metadata": {},
   "outputs": [
    {
     "name": "stdout",
     "output_type": "stream",
     "text": [
      "['negative', 'positive', 'positive', 'positive', 'negative', 'positive', 'negative', 'positive', 'positive', 'positive']\n",
      "['positive', 'positive', 'positive', 'positive', 'negative', 'positive', 'positive', 'positive', 'positive', 'positive']\n"
     ]
    },
    {
     "name": "stderr",
     "output_type": "stream",
     "text": [
      "C:\\Users\\zoe\\AppData\\Local\\Temp/ipykernel_1820/3538761616.py:12: FutureWarning: The behavior of `series[i:j]` with an integer-dtype index is deprecated. In a future version, this will be treated as *label-based* indexing, consistent with e.g. `series[i]` lookups. To retain the old behavior, use `series.iloc[i:j]`. To get the future behavior, use `series.loc[i:j]`.\n",
      "  print(list(y1_test[:10]))\n"
     ]
    }
   ],
   "source": [
    "# import model that is used\n",
    "from sklearn.metrics import classification_report\n",
    "from sklearn.metrics import accuracy_score, precision_score, recall_score, f1_score, confusion_matrix\n",
    "\n",
    "\n",
    "classifier = GradientBoostingClassifier(random_state=42)\n",
    "classifier.fit(X1_train, y1_train)\n",
    "\n",
    "\n",
    "y1_pred_gb = classifier.predict(X1_test)\n",
    "\n",
    "print(list(y1_test[:10]))\n",
    "print(list(y1_pred_gb[:10]))\n"
   ]
  },
  {
   "cell_type": "markdown",
   "metadata": {},
   "source": [
    "#### logistic regression with term occurence"
   ]
  },
  {
   "cell_type": "code",
   "execution_count": 33,
   "metadata": {},
   "outputs": [
    {
     "name": "stdout",
     "output_type": "stream",
     "text": [
      "['negative', 'positive', 'positive', 'positive', 'negative', 'positive', 'negative', 'positive', 'positive', 'positive']\n",
      "['negative', 'positive', 'positive', 'positive', 'negative', 'positive', 'negative', 'positive', 'positive', 'positive']\n"
     ]
    },
    {
     "name": "stderr",
     "output_type": "stream",
     "text": [
      "C:\\Users\\zoe\\anaconda3\\lib\\site-packages\\sklearn\\linear_model\\_logistic.py:763: ConvergenceWarning: lbfgs failed to converge (status=1):\n",
      "STOP: TOTAL NO. of ITERATIONS REACHED LIMIT.\n",
      "\n",
      "Increase the number of iterations (max_iter) or scale the data as shown in:\n",
      "    https://scikit-learn.org/stable/modules/preprocessing.html\n",
      "Please also refer to the documentation for alternative solver options:\n",
      "    https://scikit-learn.org/stable/modules/linear_model.html#logistic-regression\n",
      "  n_iter_i = _check_optimize_result(\n",
      "C:\\Users\\zoe\\AppData\\Local\\Temp/ipykernel_1820/1460050658.py:10: FutureWarning: The behavior of `series[i:j]` with an integer-dtype index is deprecated. In a future version, this will be treated as *label-based* indexing, consistent with e.g. `series[i]` lookups. To retain the old behavior, use `series.iloc[i:j]`. To get the future behavior, use `series.loc[i:j]`.\n",
      "  print(list(y1_test[:10]))\n"
     ]
    }
   ],
   "source": [
    "# import model that is used\n",
    "\n",
    "from sklearn.linear_model import LogisticRegression\n",
    "\n",
    "lr = LogisticRegression(solver='lbfgs')\n",
    "\n",
    "lr.fit(X1_train, y1_train)\n",
    "y1_pred_lr = lr.predict(X1_test)\n",
    "\n",
    "print(list(y1_test[:10]))\n",
    "print(list(y1_pred_lr[:10]))\n",
    "\n",
    "\n"
   ]
  },
  {
   "cell_type": "markdown",
   "metadata": {},
   "source": [
    "#### Gradient boosting classifier with TF-IDF"
   ]
  },
  {
   "cell_type": "code",
   "execution_count": 34,
   "metadata": {},
   "outputs": [
    {
     "name": "stdout",
     "output_type": "stream",
     "text": [
      "['negative', 'positive', 'positive', 'positive', 'negative', 'positive', 'negative', 'positive', 'positive', 'positive']\n",
      "['positive', 'positive', 'positive', 'positive', 'positive', 'positive', 'positive', 'positive', 'positive', 'positive']\n"
     ]
    },
    {
     "name": "stderr",
     "output_type": "stream",
     "text": [
      "C:\\Users\\zoe\\AppData\\Local\\Temp/ipykernel_1820/485465682.py:5: FutureWarning: The behavior of `series[i:j]` with an integer-dtype index is deprecated. In a future version, this will be treated as *label-based* indexing, consistent with e.g. `series[i]` lookups. To retain the old behavior, use `series.iloc[i:j]`. To get the future behavior, use `series.loc[i:j]`.\n",
      "  print(list(y2_test[:10]))\n"
     ]
    }
   ],
   "source": [
    "\n",
    "classifier.fit(x_train_goodtfidf, y2_train)\n",
    "\n",
    "y2_pred_gb = classifier.predict(x_test_goodtfidf)\n",
    "\n",
    "print(list(y2_test[:10]))\n",
    "print(list(y2_pred_gb[:10]))"
   ]
  },
  {
   "cell_type": "markdown",
   "metadata": {},
   "source": [
    "#### logistic regression model with TF-IDF"
   ]
  },
  {
   "cell_type": "code",
   "execution_count": 35,
   "metadata": {},
   "outputs": [
    {
     "name": "stdout",
     "output_type": "stream",
     "text": [
      "['negative', 'positive', 'positive', 'positive', 'negative', 'positive', 'negative', 'positive', 'positive', 'positive']\n",
      "['positive', 'positive', 'positive', 'positive', 'negative', 'positive', 'negative', 'positive', 'positive', 'positive']\n"
     ]
    },
    {
     "name": "stderr",
     "output_type": "stream",
     "text": [
      "C:\\Users\\zoe\\AppData\\Local\\Temp/ipykernel_1820/3067983572.py:5: FutureWarning: The behavior of `series[i:j]` with an integer-dtype index is deprecated. In a future version, this will be treated as *label-based* indexing, consistent with e.g. `series[i]` lookups. To retain the old behavior, use `series.iloc[i:j]`. To get the future behavior, use `series.loc[i:j]`.\n",
      "  print(list(y2_test[:10]))\n"
     ]
    }
   ],
   "source": [
    "\n",
    "lr.fit(x_train_goodtfidf, y2_train)\n",
    "\n",
    "y2_pred_lr = lr.predict(x_test_goodtfidf)\n",
    "\n",
    "print(list(y2_test[:10]))\n",
    "print(list(y2_pred_lr[:10]))"
   ]
  },
  {
   "cell_type": "markdown",
   "metadata": {},
   "source": [
    "## Evaluation\n",
    "The accuracy score and confusion matrix for each model will be displayed.\n",
    "- This allows for a summarized metric to measure the model's performance, and a better visualization of the predictions made  by the model.\n",
    "\n"
   ]
  },
  {
   "cell_type": "markdown",
   "metadata": {},
   "source": [
    "#### create a function to display confusion matrix"
   ]
  },
  {
   "cell_type": "code",
   "execution_count": 36,
   "metadata": {},
   "outputs": [],
   "source": [
    "allmodels = []\n",
    "\n",
    "# Function to create a confusion matrix \n",
    "def conf_matrix(y_test, pred_test):    \n",
    "\n",
    "    # Creating a confusion matrix\n",
    "    con_mat = confusion_matrix(y_test, pred_test)\n",
    "    con_mat = pd.DataFrame(con_mat, range(2), range(2))\n",
    "\n",
    "    #Ploting the confusion matrix\n",
    "    plt.figure(figsize=(6,6))\n",
    "    sns.set(font_scale=1.5) \n",
    "    sns.heatmap(con_mat, annot=True, annot_kws={\"size\": 16}, fmt='g', cmap='Blues', cbar=False)"
   ]
  },
  {
   "cell_type": "markdown",
   "metadata": {},
   "source": [
    "#### evaluate Gradient boosting classifier with term occurence"
   ]
  },
  {
   "cell_type": "code",
   "execution_count": 37,
   "metadata": {},
   "outputs": [
    {
     "name": "stdout",
     "output_type": "stream",
     "text": [
      "              precision    recall  f1-score   support\n",
      "\n",
      "    negative       0.87      0.38      0.53      1227\n",
      "    positive       0.86      0.99      0.92      4919\n",
      "\n",
      "    accuracy                           0.86      6146\n",
      "   macro avg       0.87      0.68      0.72      6146\n",
      "weighted avg       0.87      0.86      0.84      6146\n",
      "\n",
      "Accuracy Score: 0.8647901073869183\n"
     ]
    },
    {
     "data": {
      "image/png": "[encoded data removed]",
      "text/plain": [
       "<Figure size 432x432 with 1 Axes>"
      ]
     },
     "metadata": {
      "needs_background": "light"
     },
     "output_type": "display_data"
    }
   ],
   "source": [
    "# classification report\n",
    "print(classification_report(y1_test, y1_pred_gb))\n",
    "\n",
    "thisscore = []\n",
    "\n",
    "# f1_score\n",
    "f1score = f1_score(y1_test, y1_pred_gb, average=None)\n",
    "thisscore.extend(f1score)\n",
    "\n",
    "# accuracy score\n",
    "accuracy = accuracy_score(y1_test, y1_pred_gb)\n",
    "thisscore.append(accuracy)\n",
    "print(\"Accuracy Score: \" + str(accuracy))\n",
    "\n",
    "allmodels.append(thisscore)\n",
    "\n",
    "#Ploting the confusion matrix\n",
    "conf_matrix(y1_test, y1_pred_gb)"
   ]
  },
  {
   "cell_type": "markdown",
   "metadata": {},
   "source": [
    "#### ! evaluate logistic regression model with term occurence !"
   ]
  },
  {
   "cell_type": "code",
   "execution_count": 38,
   "metadata": {},
   "outputs": [
    {
     "name": "stdout",
     "output_type": "stream",
     "text": [
      "              precision    recall  f1-score   support\n",
      "\n",
      "    negative       0.77      0.67      0.72      1227\n",
      "    positive       0.92      0.95      0.94      4919\n",
      "\n",
      "    accuracy                           0.89      6146\n",
      "   macro avg       0.85      0.81      0.83      6146\n",
      "weighted avg       0.89      0.89      0.89      6146\n",
      "\n",
      "Accuracy Score: 0.8948909860071591\n"
     ]
    },
    {
     "data": {
      "image/png": "[encoded data removed]",
      "text/plain": [
       "<Figure size 432x432 with 1 Axes>"
      ]
     },
     "metadata": {},
     "output_type": "display_data"
    }
   ],
   "source": [
    "# classification report\n",
    "print(classification_report(y1_test, y1_pred_lr))\n",
    "\n",
    "thisscore = []\n",
    "\n",
    "# f1_score\n",
    "f1score = f1_score(y1_test, y1_pred_lr, average=None)\n",
    "thisscore.extend(f1score)\n",
    "\n",
    "# accuracy score\n",
    "accuracy = accuracy_score(y1_test, y1_pred_lr)\n",
    "thisscore.append(accuracy)\n",
    "print(\"Accuracy Score: \" + str(accuracy))\n",
    "\n",
    "allmodels.append(thisscore)\n",
    "\n",
    "#Ploting the confusion matrix\n",
    "conf_matrix(y1_test, y1_pred_lr)"
   ]
  },
  {
   "cell_type": "markdown",
   "metadata": {},
   "source": [
    "#### evaluate Gradient boosting classifier with TF-IDF"
   ]
  },
  {
   "cell_type": "code",
   "execution_count": 39,
   "metadata": {},
   "outputs": [
    {
     "name": "stdout",
     "output_type": "stream",
     "text": [
      "              precision    recall  f1-score   support\n",
      "\n",
      "    negative       0.88      0.24      0.37      1227\n",
      "    positive       0.84      0.99      0.91      4919\n",
      "\n",
      "    accuracy                           0.84      6146\n",
      "   macro avg       0.86      0.61      0.64      6146\n",
      "weighted avg       0.85      0.84      0.80      6146\n",
      "\n",
      "Accuracy Score: 0.8408721119427269\n"
     ]
    },
    {
     "data": {
      "image/png": "[encoded data removed]",
      "text/plain": [
       "<Figure size 432x432 with 1 Axes>"
      ]
     },
     "metadata": {},
     "output_type": "display_data"
    }
   ],
   "source": [
    "# classification report\n",
    "print(classification_report(y2_test, y2_pred_gb))\n",
    "\n",
    "thisscore = []\n",
    "\n",
    "# f1_score\n",
    "f1score = f1_score(y2_test, y2_pred_gb, average=None)\n",
    "thisscore.extend(f1score)\n",
    "\n",
    "# accuracy score\n",
    "accuracy = accuracy_score(y2_test, y2_pred_gb)\n",
    "thisscore.append(accuracy)\n",
    "print(\"Accuracy Score: \" + str(accuracy))\n",
    "\n",
    "allmodels.append(thisscore)\n",
    "\n",
    "#Ploting the confusion matrix\n",
    "conf_matrix(y2_test, y2_pred_gb)"
   ]
  },
  {
   "cell_type": "markdown",
   "metadata": {},
   "source": [
    "#### evaluate logistic regression model with TF-IDF"
   ]
  },
  {
   "cell_type": "code",
   "execution_count": 40,
   "metadata": {},
   "outputs": [
    {
     "name": "stdout",
     "output_type": "stream",
     "text": [
      "              precision    recall  f1-score   support\n",
      "\n",
      "    negative       0.77      0.66      0.71      1227\n",
      "    positive       0.92      0.95      0.93      4919\n",
      "\n",
      "    accuracy                           0.89      6146\n",
      "   macro avg       0.84      0.80      0.82      6146\n",
      "weighted avg       0.89      0.89      0.89      6146\n",
      "\n",
      "Accuracy Score: 0.8914741295151318\n"
     ]
    },
    {
     "data": {
      "image/png": "[encoded data removed]",
      "text/plain": [
       "<Figure size 432x432 with 1 Axes>"
      ]
     },
     "metadata": {},
     "output_type": "display_data"
    }
   ],
   "source": [
    "# classification report\n",
    "print(classification_report(y2_test, y2_pred_lr))\n",
    "\n",
    "thisscore = []\n",
    "\n",
    "# f1_score\n",
    "f1score = f1_score(y2_test, y2_pred_lr, average=None)\n",
    "thisscore.extend(f1score)\n",
    "\n",
    "# accuracy score\n",
    "accuracy = accuracy_score(y2_test, y2_pred_lr)\n",
    "thisscore.append(accuracy)\n",
    "print(\"Accuracy Score: \" + str(accuracy))\n",
    "\n",
    "allmodels.append(thisscore)\n",
    "\n",
    "#Ploting the confusion matrix\n",
    "conf_matrix(y2_test, y2_pred_lr)"
   ]
  },
  {
   "cell_type": "code",
   "execution_count": 41,
   "metadata": {},
   "outputs": [
    {
     "data": {
      "text/html": [
       "<div>\n",
       "<style scoped>\n",
       "    .dataframe tbody tr th:only-of-type {\n",
       "        vertical-align: middle;\n",
       "    }\n",
       "\n",
       "    .dataframe tbody tr th {\n",
       "        vertical-align: top;\n",
       "    }\n",
       "\n",
       "    .dataframe thead th {\n",
       "        text-align: right;\n",
       "    }\n",
       "</style>\n",
       "<table border=\"1\" class=\"dataframe\">\n",
       "  <thead>\n",
       "    <tr style=\"text-align: right;\">\n",
       "      <th></th>\n",
       "      <th>Negative f1 score</th>\n",
       "      <th>Positive f1 score</th>\n",
       "      <th>Accuracy</th>\n",
       "    </tr>\n",
       "  </thead>\n",
       "  <tbody>\n",
       "    <tr>\n",
       "      <th>Logistic regression with term occurence</th>\n",
       "      <td>0.719374</td>\n",
       "      <td>0.935335</td>\n",
       "      <td>0.894891</td>\n",
       "    </tr>\n",
       "    <tr>\n",
       "      <th>Logistic regression with TF-IDF</th>\n",
       "      <td>0.707328</td>\n",
       "      <td>0.933387</td>\n",
       "      <td>0.891474</td>\n",
       "    </tr>\n",
       "    <tr>\n",
       "      <th>GB with term occurence</th>\n",
       "      <td>0.527572</td>\n",
       "      <td>0.921105</td>\n",
       "      <td>0.864790</td>\n",
       "    </tr>\n",
       "    <tr>\n",
       "      <th>GB with TF-IDF</th>\n",
       "      <td>0.372272</td>\n",
       "      <td>0.908888</td>\n",
       "      <td>0.840872</td>\n",
       "    </tr>\n",
       "  </tbody>\n",
       "</table>\n",
       "</div>"
      ],
      "text/plain": [
       "                                         Negative f1 score  Positive f1 score  \\\n",
       "Logistic regression with term occurence           0.719374           0.935335   \n",
       "Logistic regression with TF-IDF                   0.707328           0.933387   \n",
       "GB with term occurence                            0.527572           0.921105   \n",
       "GB with TF-IDF                                    0.372272           0.908888   \n",
       "\n",
       "                                         Accuracy  \n",
       "Logistic regression with term occurence  0.894891  \n",
       "Logistic regression with TF-IDF          0.891474  \n",
       "GB with term occurence                   0.864790  \n",
       "GB with TF-IDF                           0.840872  "
      ]
     },
     "execution_count": 41,
     "metadata": {},
     "output_type": "execute_result"
    }
   ],
   "source": [
    "modelnames = ['GB with term occurence', 'Logistic regression with term occurence', \n",
    "              'GB with TF-IDF', 'Logistic regression with TF-IDF']\n",
    "modelscores = ['Negative f1 score' ,'Positive f1 score' , 'Accuracy']\n",
    "\n",
    "\n",
    "modeldf = pd.DataFrame(allmodels, index=modelnames, columns=modelscores)\n",
    "modeldf.sort_values(by='Accuracy', ascending=False)"
   ]
  },
  {
   "cell_type": "markdown",
   "metadata": {},
   "source": [
    "# sample data for a balanced dataset"
   ]
  },
  {
   "cell_type": "code",
   "execution_count": 42,
   "metadata": {},
   "outputs": [
    {
     "name": "stdout",
     "output_type": "stream",
     "text": [
      "(24595, 6)\n",
      "(6135, 6)\n"
     ]
    }
   ],
   "source": [
    "dfpos = df[df['sentiment']=='positive']\n",
    "print(dfpos.shape)\n",
    "dfneg = df[df['sentiment']=='negative']\n",
    "print(dfneg.shape)"
   ]
  },
  {
   "cell_type": "markdown",
   "metadata": {},
   "source": [
    "Create a subset at 9000 positive rows, so that the ratio of negative to positive data will be about 40:60."
   ]
  },
  {
   "cell_type": "code",
   "execution_count": 43,
   "metadata": {},
   "outputs": [
    {
     "data": {
      "text/plain": [
       "positive    9000\n",
       "negative    6135\n",
       "Name: sentiment, dtype: int64"
      ]
     },
     "execution_count": 43,
     "metadata": {},
     "output_type": "execute_result"
    }
   ],
   "source": [
    "dfpos = dfpos.iloc[:9000]\n",
    "dfbalance = pd.concat([dfpos, dfneg])\n",
    "dfbalance['sentiment'].value_counts()"
   ]
  },
  {
   "cell_type": "code",
   "execution_count": 44,
   "metadata": {},
   "outputs": [
    {
     "data": {
      "text/html": [
       "<div>\n",
       "<style scoped>\n",
       "    .dataframe tbody tr th:only-of-type {\n",
       "        vertical-align: middle;\n",
       "    }\n",
       "\n",
       "    .dataframe tbody tr th {\n",
       "        vertical-align: top;\n",
       "    }\n",
       "\n",
       "    .dataframe thead th {\n",
       "        text-align: right;\n",
       "    }\n",
       "</style>\n",
       "<table border=\"1\" class=\"dataframe\">\n",
       "  <thead>\n",
       "    <tr style=\"text-align: right;\">\n",
       "      <th></th>\n",
       "      <th>nt</th>\n",
       "      <th>store</th>\n",
       "      <th>like</th>\n",
       "      <th>place</th>\n",
       "      <th>get</th>\n",
       "      <th>on</th>\n",
       "      <th>shop</th>\n",
       "      <th>time</th>\n",
       "      <th>great</th>\n",
       "      <th>look</th>\n",
       "      <th>...</th>\n",
       "      <th>gucci</th>\n",
       "      <th>lobbi</th>\n",
       "      <th>action</th>\n",
       "      <th>fiction</th>\n",
       "      <th>ti</th>\n",
       "      <th>obsess</th>\n",
       "      <th>speed</th>\n",
       "      <th>resid</th>\n",
       "      <th>bob</th>\n",
       "      <th>omg</th>\n",
       "    </tr>\n",
       "  </thead>\n",
       "  <tbody>\n",
       "    <tr>\n",
       "      <th>0</th>\n",
       "      <td>True</td>\n",
       "      <td>False</td>\n",
       "      <td>False</td>\n",
       "      <td>True</td>\n",
       "      <td>False</td>\n",
       "      <td>True</td>\n",
       "      <td>False</td>\n",
       "      <td>False</td>\n",
       "      <td>False</td>\n",
       "      <td>False</td>\n",
       "      <td>...</td>\n",
       "      <td>False</td>\n",
       "      <td>False</td>\n",
       "      <td>False</td>\n",
       "      <td>False</td>\n",
       "      <td>False</td>\n",
       "      <td>False</td>\n",
       "      <td>False</td>\n",
       "      <td>False</td>\n",
       "      <td>False</td>\n",
       "      <td>False</td>\n",
       "    </tr>\n",
       "    <tr>\n",
       "      <th>1</th>\n",
       "      <td>True</td>\n",
       "      <td>False</td>\n",
       "      <td>False</td>\n",
       "      <td>False</td>\n",
       "      <td>False</td>\n",
       "      <td>True</td>\n",
       "      <td>False</td>\n",
       "      <td>True</td>\n",
       "      <td>False</td>\n",
       "      <td>True</td>\n",
       "      <td>...</td>\n",
       "      <td>False</td>\n",
       "      <td>False</td>\n",
       "      <td>False</td>\n",
       "      <td>False</td>\n",
       "      <td>True</td>\n",
       "      <td>False</td>\n",
       "      <td>False</td>\n",
       "      <td>False</td>\n",
       "      <td>False</td>\n",
       "      <td>False</td>\n",
       "    </tr>\n",
       "    <tr>\n",
       "      <th>2</th>\n",
       "      <td>True</td>\n",
       "      <td>True</td>\n",
       "      <td>True</td>\n",
       "      <td>False</td>\n",
       "      <td>False</td>\n",
       "      <td>True</td>\n",
       "      <td>False</td>\n",
       "      <td>False</td>\n",
       "      <td>True</td>\n",
       "      <td>False</td>\n",
       "      <td>...</td>\n",
       "      <td>False</td>\n",
       "      <td>False</td>\n",
       "      <td>False</td>\n",
       "      <td>False</td>\n",
       "      <td>True</td>\n",
       "      <td>False</td>\n",
       "      <td>False</td>\n",
       "      <td>False</td>\n",
       "      <td>False</td>\n",
       "      <td>False</td>\n",
       "    </tr>\n",
       "    <tr>\n",
       "      <th>3</th>\n",
       "      <td>False</td>\n",
       "      <td>True</td>\n",
       "      <td>False</td>\n",
       "      <td>False</td>\n",
       "      <td>False</td>\n",
       "      <td>False</td>\n",
       "      <td>False</td>\n",
       "      <td>False</td>\n",
       "      <td>False</td>\n",
       "      <td>False</td>\n",
       "      <td>...</td>\n",
       "      <td>False</td>\n",
       "      <td>False</td>\n",
       "      <td>False</td>\n",
       "      <td>False</td>\n",
       "      <td>True</td>\n",
       "      <td>False</td>\n",
       "      <td>False</td>\n",
       "      <td>False</td>\n",
       "      <td>False</td>\n",
       "      <td>False</td>\n",
       "    </tr>\n",
       "    <tr>\n",
       "      <th>4</th>\n",
       "      <td>True</td>\n",
       "      <td>False</td>\n",
       "      <td>False</td>\n",
       "      <td>False</td>\n",
       "      <td>True</td>\n",
       "      <td>True</td>\n",
       "      <td>False</td>\n",
       "      <td>False</td>\n",
       "      <td>False</td>\n",
       "      <td>False</td>\n",
       "      <td>...</td>\n",
       "      <td>False</td>\n",
       "      <td>False</td>\n",
       "      <td>False</td>\n",
       "      <td>False</td>\n",
       "      <td>True</td>\n",
       "      <td>False</td>\n",
       "      <td>False</td>\n",
       "      <td>False</td>\n",
       "      <td>False</td>\n",
       "      <td>False</td>\n",
       "    </tr>\n",
       "  </tbody>\n",
       "</table>\n",
       "<p>5 rows × 2000 columns</p>\n",
       "</div>"
      ],
      "text/plain": [
       "      nt  store   like  place    get     on   shop   time  great   look  ...  \\\n",
       "0   True  False  False   True  False   True  False  False  False  False  ...   \n",
       "1   True  False  False  False  False   True  False   True  False   True  ...   \n",
       "2   True   True   True  False  False   True  False  False   True  False  ...   \n",
       "3  False   True  False  False  False  False  False  False  False  False  ...   \n",
       "4   True  False  False  False   True   True  False  False  False  False  ...   \n",
       "\n",
       "   gucci  lobbi  action  fiction     ti  obsess  speed  resid    bob    omg  \n",
       "0  False  False   False    False  False   False  False  False  False  False  \n",
       "1  False  False   False    False   True   False  False  False  False  False  \n",
       "2  False  False   False    False   True   False  False  False  False  False  \n",
       "3  False  False   False    False   True   False  False  False  False  False  \n",
       "4  False  False   False    False   True   False  False  False  False  False  \n",
       "\n",
       "[5 rows x 2000 columns]"
      ]
     },
     "execution_count": 44,
     "metadata": {},
     "output_type": "execute_result"
    }
   ],
   "source": [
    "feature_set = pd.DataFrame(document_features(dfbalance, 'text'), index = dfbalance.index)\n",
    "feature_set.head()"
   ]
  },
  {
   "cell_type": "code",
   "execution_count": 47,
   "metadata": {},
   "outputs": [
    {
     "name": "stdout",
     "output_type": "stream",
     "text": [
      "positive    7200\n",
      "negative    4908\n",
      "Name: sentiment, dtype: int64\n"
     ]
    },
    {
     "data": {
      "image/png": "[encoded data removed]",
      "text/plain": [
       "<Figure size 432x288 with 1 Axes>"
      ]
     },
     "metadata": {},
     "output_type": "display_data"
    }
   ],
   "source": [
    "# split dataset into training and test dataset\n",
    "from sklearn.model_selection import train_test_split\n",
    "\n",
    "# use x to predict y\n",
    "X = feature_set\n",
    "y = dfbalance['sentiment']\n",
    "\n",
    "# test_size=0.2 means split testing 20:training 80 \n",
    "X1_train, X1_test, y1_train, y1_test = train_test_split(X, y, test_size=0.2, random_state=42, stratify=y)\n",
    "\n",
    "print(y1_train.value_counts())\n",
    "\n",
    "# Plotting the Sentiment distribution\n",
    "\n",
    "color = sns.color_palette(\"deep\")\n",
    "sns.countplot(x=y1_train, palette=color, order = ['positive', 'negative'])\n",
    "plt.show()\n"
   ]
  },
  {
   "cell_type": "code",
   "execution_count": 94,
   "metadata": {},
   "outputs": [
    {
     "name": "stderr",
     "output_type": "stream",
     "text": [
      "C:\\Users\\zoe\\anaconda3\\lib\\site-packages\\sklearn\\linear_model\\_logistic.py:763: ConvergenceWarning: lbfgs failed to converge (status=1):\n",
      "STOP: TOTAL NO. of ITERATIONS REACHED LIMIT.\n",
      "\n",
      "Increase the number of iterations (max_iter) or scale the data as shown in:\n",
      "    https://scikit-learn.org/stable/modules/preprocessing.html\n",
      "Please also refer to the documentation for alternative solver options:\n",
      "    https://scikit-learn.org/stable/modules/linear_model.html#logistic-regression\n",
      "  n_iter_i = _check_optimize_result(\n"
     ]
    },
    {
     "name": "stdout",
     "output_type": "stream",
     "text": [
      "              precision    recall  f1-score   support\n",
      "\n",
      "    negative       0.81      0.81      0.81      1227\n",
      "    positive       0.87      0.87      0.87      1800\n",
      "\n",
      "    accuracy                           0.84      3027\n",
      "   macro avg       0.84      0.84      0.84      3027\n",
      "weighted avg       0.84      0.84      0.84      3027\n",
      "\n",
      "Accuracy Score: 0.8440700363396102\n"
     ]
    },
    {
     "data": {
      "image/png": "[encoded data removed]",
      "text/plain": [
       "<Figure size 432x432 with 1 Axes>"
      ]
     },
     "metadata": {},
     "output_type": "display_data"
    }
   ],
   "source": [
    "lr.fit(X1_train, y1_train)\n",
    "y1_pred_lr = lr.predict(X1_test)\n",
    "\n",
    "# classification report\n",
    "print(classification_report(y1_test, y1_pred_lr))\n",
    "\n",
    "thisscore = []\n",
    "\n",
    "# f1_score\n",
    "f1score = f1_score(y1_test, y1_pred_lr, average=None)\n",
    "thisscore.extend(f1score)\n",
    "\n",
    "# accuracy score\n",
    "accuracy = accuracy_score(y1_test, y1_pred_lr)\n",
    "thisscore.append(accuracy)\n",
    "print(\"Accuracy Score: \" + str(accuracy))\n",
    "\n",
    "#Ploting the confusion matrix\n",
    "conf_matrix(y1_test, y1_pred_lr)"
   ]
  },
  {
   "cell_type": "code",
   "execution_count": 96,
   "metadata": {},
   "outputs": [
    {
     "name": "stderr",
     "output_type": "stream",
     "text": [
      "C:\\Users\\zoe\\AppData\\Local\\Temp/ipykernel_20976/3588491777.py:8: FutureWarning: The frame.append method is deprecated and will be removed from pandas in a future version. Use pandas.concat instead.\n",
      "  modeldf = modeldf.append(balancemodeldf)\n"
     ]
    },
    {
     "data": {
      "text/html": [
       "<div>\n",
       "<style scoped>\n",
       "    .dataframe tbody tr th:only-of-type {\n",
       "        vertical-align: middle;\n",
       "    }\n",
       "\n",
       "    .dataframe tbody tr th {\n",
       "        vertical-align: top;\n",
       "    }\n",
       "\n",
       "    .dataframe thead th {\n",
       "        text-align: right;\n",
       "    }\n",
       "</style>\n",
       "<table border=\"1\" class=\"dataframe\">\n",
       "  <thead>\n",
       "    <tr style=\"text-align: right;\">\n",
       "      <th></th>\n",
       "      <th>Negative f1 score</th>\n",
       "      <th>Positive f1 score</th>\n",
       "      <th>Accuracy</th>\n",
       "    </tr>\n",
       "  </thead>\n",
       "  <tbody>\n",
       "    <tr>\n",
       "      <th>Logistic regression with term occurence</th>\n",
       "      <td>0.719374</td>\n",
       "      <td>0.935335</td>\n",
       "      <td>0.894891</td>\n",
       "    </tr>\n",
       "    <tr>\n",
       "      <th>Logistic regression with TF-IDF</th>\n",
       "      <td>0.707328</td>\n",
       "      <td>0.933387</td>\n",
       "      <td>0.891474</td>\n",
       "    </tr>\n",
       "    <tr>\n",
       "      <th>GB with term occurence</th>\n",
       "      <td>0.527572</td>\n",
       "      <td>0.921105</td>\n",
       "      <td>0.864790</td>\n",
       "    </tr>\n",
       "    <tr>\n",
       "      <th>Balanced dataset, logistic regression with term occurence</th>\n",
       "      <td>0.807347</td>\n",
       "      <td>0.869034</td>\n",
       "      <td>0.844070</td>\n",
       "    </tr>\n",
       "    <tr>\n",
       "      <th>GB with TF-IDF</th>\n",
       "      <td>0.372272</td>\n",
       "      <td>0.908888</td>\n",
       "      <td>0.840872</td>\n",
       "    </tr>\n",
       "  </tbody>\n",
       "</table>\n",
       "</div>"
      ],
      "text/plain": [
       "                                                    Negative f1 score  \\\n",
       "Logistic regression with term occurence                      0.719374   \n",
       "Logistic regression with TF-IDF                              0.707328   \n",
       "GB with term occurence                                       0.527572   \n",
       "Balanced dataset, logistic regression with term...           0.807347   \n",
       "GB with TF-IDF                                               0.372272   \n",
       "\n",
       "                                                    Positive f1 score  \\\n",
       "Logistic regression with term occurence                      0.935335   \n",
       "Logistic regression with TF-IDF                              0.933387   \n",
       "GB with term occurence                                       0.921105   \n",
       "Balanced dataset, logistic regression with term...           0.869034   \n",
       "GB with TF-IDF                                               0.908888   \n",
       "\n",
       "                                                    Accuracy  \n",
       "Logistic regression with term occurence             0.894891  \n",
       "Logistic regression with TF-IDF                     0.891474  \n",
       "GB with term occurence                              0.864790  \n",
       "Balanced dataset, logistic regression with term...  0.844070  \n",
       "GB with TF-IDF                                      0.840872  "
      ]
     },
     "execution_count": 96,
     "metadata": {},
     "output_type": "execute_result"
    }
   ],
   "source": [
    "\n",
    "modelscores = ['Negative f1 score' ,'Positive f1 score' , 'Accuracy']\n",
    "\n",
    "\n",
    "# balancemodeldf = pd.DataFrame(thisscore, index=['Balanced dataset, logistic regression with term occurence'], columns=modelscores)\n",
    "d = {'Negative f1 score': thisscore[0], 'Positive f1 score': thisscore[1], 'Accuracy': thisscore[2]}\n",
    "balancemodeldf = pd.DataFrame(data=d, index=['Balanced dataset, logistic regression with term occurence'])\n",
    "\n",
    "modeldf = modeldf.append(balancemodeldf)\n",
    "modeldf.sort_values(by='Accuracy', ascending=False)"
   ]
  },
  {
   "cell_type": "markdown",
   "metadata": {},
   "source": [
    "After balancing the dataset where the ratio of negative to positive rows is 40:60, the model's accuracy score did not improve. \n",
    "\n",
    "However, the model has the highest negative f1 score. And although the positive f1-score is still higher, the model has the smallest difference between the negative and positive f1-score.\n",
    "This proves that a more balanced dataset can produce a more balanced model. If there were more data for negative reviews, I believe that the model can be the best performing model."
   ]
  },
  {
   "cell_type": "markdown",
   "metadata": {},
   "source": [
    "### Conclusion\n",
    "\n",
    "It is evident that the best model is logistic regression with term occurence as the feature set.\n",
    "The model has the highest accuracy of 0.890 (3.s.f), and it has the highest precision, recall and f1-score out of the four models created.\n",
    "\n",
    "                precision    recall  f1-score   support\n",
    "\n",
    "    negative       0.77      0.67      0.72      1227\n",
    "    positive       0.92      0.95      0.94      4919\n",
    "\n",
    "All the models are better at predicting positives where the f1-score for positives is higher than the f1-score for negatives. \n",
    "\n",
    "In the models that uses the unbalanced dataset, both logistic regression models performed better than Gradient boosting classifiers. There is a large difference of 0.329 (3.s.f) , but only a small difference of 0.0241 (3.s.f) between the best and worst negative f1 score and positive f1-score respectively. \n",
    "\n",
    "Both of these points could be due to the fact that there are much more positive data than negative data. This leads to the models becoming more well-trained / bias in predicting positives. This also causes there to be a larger fluctuation in negative f1-score in different models, as there is not as much data as compared to positive data."
   ]
  },
  {
   "cell_type": "markdown",
   "metadata": {},
   "source": [
    "## Submission\n",
    "Export your completed work as HTML. Select **File** > **Download as** > **HTML (.html)**."
   ]
  }
 ],
 "metadata": {
  "kernelspec": {
   "display_name": "Python 3 (ipykernel)",
   "language": "python",
   "name": "python3"
  },
  "language_info": {
   "codemirror_mode": {
    "name": "ipython",
    "version": 3
   },
   "file_extension": ".py",
   "mimetype": "text/x-python",
   "name": "python",
   "nbconvert_exporter": "python",
   "pygments_lexer": "ipython3",
   "version": "3.9.7"
  }
 },
 "nbformat": 4,
 "nbformat_minor": 4
}
