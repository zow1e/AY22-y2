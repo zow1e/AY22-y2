{
 "cells": [
  {
   "cell_type": "markdown",
   "id": "ee7a05a8",
   "metadata": {},
   "source": [
    "# Beer reviews\n",
    "\n",
    "Background of columns:\n",
    "\n",
    "- Reviews of beers tasted at an beer convention.\n",
    "- Review time is automatically generated whereas reviewer has to fill in all other values.\n",
    "- beer_abv = alchohol by volume. How much of the total volume of the beverage is alcohol. If a beer has an ABV of 4 % and another 7% it means the latter has more alcoholic content in the same amount of liquid, which also means you will feel the effects of it quicker.\n",
    "\n",
    "\n",
    "Business goal: Increase customer satisfaction by improving on various aspects of beers.\n",
    "\n",
    "Objective: Identify the aspects that affect the overall rating of each beer.\n"
   ]
  },
  {
   "cell_type": "markdown",
   "id": "73d34c55",
   "metadata": {},
   "source": [
    "# Read the data"
   ]
  },
  {
   "cell_type": "code",
   "execution_count": 1,
   "id": "972b0470",
   "metadata": {},
   "outputs": [
    {
     "name": "stdout",
     "output_type": "stream",
     "text": [
      "25000 rows\n"
     ]
    }
   ],
   "source": [
    "import matplotlib.pyplot as plt\n",
    "import seaborn as sns\n",
    "import pandas as pd\n",
    "\n",
    "df = pd.read_csv('beer_reviews.csv')\n",
    "df = df.iloc[:25000]\n",
    "print(len(df.index), 'rows')\n"
   ]
  },
  {
   "cell_type": "code",
   "execution_count": 2,
   "id": "42605ca0",
   "metadata": {
    "scrolled": true
   },
   "outputs": [
    {
     "data": {
      "text/plain": [
       "Index(['brewery_id', 'brewery_name', 'review_time', 'review_overall',\n",
       "       'review_aroma', 'review_appearance', 'review_profilename', 'beer_style',\n",
       "       'review_palate', 'review_taste', 'beer_name', 'beer_abv',\n",
       "       'beer_beerid'],\n",
       "      dtype='object')"
      ]
     },
     "execution_count": 2,
     "metadata": {},
     "output_type": "execute_result"
    }
   ],
   "source": [
    "df.columns"
   ]
  },
  {
   "cell_type": "code",
   "execution_count": 3,
   "id": "744d29bd",
   "metadata": {
    "scrolled": true
   },
   "outputs": [
    {
     "name": "stdout",
     "output_type": "stream",
     "text": [
      "25000 rows and 13 columns\n"
     ]
    },
    {
     "data": {
      "text/html": [
       "<div>\n",
       "<style scoped>\n",
       "    .dataframe tbody tr th:only-of-type {\n",
       "        vertical-align: middle;\n",
       "    }\n",
       "\n",
       "    .dataframe tbody tr th {\n",
       "        vertical-align: top;\n",
       "    }\n",
       "\n",
       "    .dataframe thead th {\n",
       "        text-align: right;\n",
       "    }\n",
       "</style>\n",
       "<table border=\"1\" class=\"dataframe\">\n",
       "  <thead>\n",
       "    <tr style=\"text-align: right;\">\n",
       "      <th></th>\n",
       "      <th>brewery_id</th>\n",
       "      <th>brewery_name</th>\n",
       "      <th>review_time</th>\n",
       "      <th>review_overall</th>\n",
       "      <th>review_aroma</th>\n",
       "      <th>review_appearance</th>\n",
       "      <th>review_profilename</th>\n",
       "      <th>beer_style</th>\n",
       "      <th>review_palate</th>\n",
       "      <th>review_taste</th>\n",
       "      <th>beer_name</th>\n",
       "      <th>beer_abv</th>\n",
       "      <th>beer_beerid</th>\n",
       "    </tr>\n",
       "  </thead>\n",
       "  <tbody>\n",
       "    <tr>\n",
       "      <th>0</th>\n",
       "      <td>10325</td>\n",
       "      <td>Vecchio Birraio</td>\n",
       "      <td>1234817823</td>\n",
       "      <td>1.5</td>\n",
       "      <td>2.0</td>\n",
       "      <td>2.5</td>\n",
       "      <td>stcules</td>\n",
       "      <td>Hefeweizen</td>\n",
       "      <td>1.5</td>\n",
       "      <td>1.5</td>\n",
       "      <td>Sausa Weizen</td>\n",
       "      <td>5.0</td>\n",
       "      <td>47986</td>\n",
       "    </tr>\n",
       "    <tr>\n",
       "      <th>1</th>\n",
       "      <td>10325</td>\n",
       "      <td>Vecchio Birraio</td>\n",
       "      <td>1235915097</td>\n",
       "      <td>3.0</td>\n",
       "      <td>2.5</td>\n",
       "      <td>3.0</td>\n",
       "      <td>stcules</td>\n",
       "      <td>English Strong Ale</td>\n",
       "      <td>3.0</td>\n",
       "      <td>3.0</td>\n",
       "      <td>Red Moon</td>\n",
       "      <td>6.2</td>\n",
       "      <td>48213</td>\n",
       "    </tr>\n",
       "    <tr>\n",
       "      <th>2</th>\n",
       "      <td>10325</td>\n",
       "      <td>Vecchio Birraio</td>\n",
       "      <td>1235916604</td>\n",
       "      <td>3.0</td>\n",
       "      <td>2.5</td>\n",
       "      <td>3.0</td>\n",
       "      <td>stcules</td>\n",
       "      <td>Foreign / Export Stout</td>\n",
       "      <td>3.0</td>\n",
       "      <td>3.0</td>\n",
       "      <td>Black Horse Black Beer</td>\n",
       "      <td>6.5</td>\n",
       "      <td>48215</td>\n",
       "    </tr>\n",
       "    <tr>\n",
       "      <th>3</th>\n",
       "      <td>10325</td>\n",
       "      <td>Vecchio Birraio</td>\n",
       "      <td>1234725145</td>\n",
       "      <td>3.0</td>\n",
       "      <td>3.0</td>\n",
       "      <td>3.5</td>\n",
       "      <td>stcules</td>\n",
       "      <td>German Pilsener</td>\n",
       "      <td>2.5</td>\n",
       "      <td>3.0</td>\n",
       "      <td>Sausa Pils</td>\n",
       "      <td>5.0</td>\n",
       "      <td>47969</td>\n",
       "    </tr>\n",
       "    <tr>\n",
       "      <th>4</th>\n",
       "      <td>1075</td>\n",
       "      <td>Caldera Brewing Company</td>\n",
       "      <td>1293735206</td>\n",
       "      <td>4.0</td>\n",
       "      <td>4.5</td>\n",
       "      <td>4.0</td>\n",
       "      <td>johnmichaelsen</td>\n",
       "      <td>American Double / Imperial IPA</td>\n",
       "      <td>4.0</td>\n",
       "      <td>4.5</td>\n",
       "      <td>Cauldron DIPA</td>\n",
       "      <td>7.7</td>\n",
       "      <td>64883</td>\n",
       "    </tr>\n",
       "  </tbody>\n",
       "</table>\n",
       "</div>"
      ],
      "text/plain": [
       "   brewery_id             brewery_name  review_time  review_overall  \\\n",
       "0       10325          Vecchio Birraio   1234817823             1.5   \n",
       "1       10325          Vecchio Birraio   1235915097             3.0   \n",
       "2       10325          Vecchio Birraio   1235916604             3.0   \n",
       "3       10325          Vecchio Birraio   1234725145             3.0   \n",
       "4        1075  Caldera Brewing Company   1293735206             4.0   \n",
       "\n",
       "   review_aroma  review_appearance review_profilename  \\\n",
       "0           2.0                2.5            stcules   \n",
       "1           2.5                3.0            stcules   \n",
       "2           2.5                3.0            stcules   \n",
       "3           3.0                3.5            stcules   \n",
       "4           4.5                4.0     johnmichaelsen   \n",
       "\n",
       "                       beer_style  review_palate  review_taste  \\\n",
       "0                      Hefeweizen            1.5           1.5   \n",
       "1              English Strong Ale            3.0           3.0   \n",
       "2          Foreign / Export Stout            3.0           3.0   \n",
       "3                 German Pilsener            2.5           3.0   \n",
       "4  American Double / Imperial IPA            4.0           4.5   \n",
       "\n",
       "                beer_name  beer_abv  beer_beerid  \n",
       "0            Sausa Weizen       5.0        47986  \n",
       "1                Red Moon       6.2        48213  \n",
       "2  Black Horse Black Beer       6.5        48215  \n",
       "3              Sausa Pils       5.0        47969  \n",
       "4           Cauldron DIPA       7.7        64883  "
      ]
     },
     "execution_count": 3,
     "metadata": {},
     "output_type": "execute_result"
    }
   ],
   "source": [
    "print(df.shape[0], 'rows and', df.shape[1],'columns')\n",
    "df.head()"
   ]
  },
  {
   "cell_type": "code",
   "execution_count": 4,
   "id": "07c6f237",
   "metadata": {
    "scrolled": true
   },
   "outputs": [
    {
     "data": {
      "text/html": [
       "<div>\n",
       "<style scoped>\n",
       "    .dataframe tbody tr th:only-of-type {\n",
       "        vertical-align: middle;\n",
       "    }\n",
       "\n",
       "    .dataframe tbody tr th {\n",
       "        vertical-align: top;\n",
       "    }\n",
       "\n",
       "    .dataframe thead th {\n",
       "        text-align: right;\n",
       "    }\n",
       "</style>\n",
       "<table border=\"1\" class=\"dataframe\">\n",
       "  <thead>\n",
       "    <tr style=\"text-align: right;\">\n",
       "      <th></th>\n",
       "      <th>review_overall</th>\n",
       "      <th>review_aroma</th>\n",
       "      <th>review_appearance</th>\n",
       "      <th>review_palate</th>\n",
       "      <th>review_taste</th>\n",
       "    </tr>\n",
       "  </thead>\n",
       "  <tbody>\n",
       "    <tr>\n",
       "      <th>count</th>\n",
       "      <td>25000.000000</td>\n",
       "      <td>25000.000000</td>\n",
       "      <td>25000.000000</td>\n",
       "      <td>25000.000000</td>\n",
       "      <td>25000.000000</td>\n",
       "    </tr>\n",
       "    <tr>\n",
       "      <th>mean</th>\n",
       "      <td>3.852380</td>\n",
       "      <td>3.837280</td>\n",
       "      <td>3.874580</td>\n",
       "      <td>3.825800</td>\n",
       "      <td>3.885820</td>\n",
       "    </tr>\n",
       "    <tr>\n",
       "      <th>std</th>\n",
       "      <td>0.735908</td>\n",
       "      <td>0.711128</td>\n",
       "      <td>0.628216</td>\n",
       "      <td>0.712822</td>\n",
       "      <td>0.756833</td>\n",
       "    </tr>\n",
       "    <tr>\n",
       "      <th>min</th>\n",
       "      <td>1.000000</td>\n",
       "      <td>1.000000</td>\n",
       "      <td>1.000000</td>\n",
       "      <td>1.000000</td>\n",
       "      <td>1.000000</td>\n",
       "    </tr>\n",
       "    <tr>\n",
       "      <th>25%</th>\n",
       "      <td>3.500000</td>\n",
       "      <td>3.500000</td>\n",
       "      <td>3.500000</td>\n",
       "      <td>3.500000</td>\n",
       "      <td>3.500000</td>\n",
       "    </tr>\n",
       "    <tr>\n",
       "      <th>50%</th>\n",
       "      <td>4.000000</td>\n",
       "      <td>4.000000</td>\n",
       "      <td>4.000000</td>\n",
       "      <td>4.000000</td>\n",
       "      <td>4.000000</td>\n",
       "    </tr>\n",
       "    <tr>\n",
       "      <th>75%</th>\n",
       "      <td>4.500000</td>\n",
       "      <td>4.500000</td>\n",
       "      <td>4.500000</td>\n",
       "      <td>4.500000</td>\n",
       "      <td>4.500000</td>\n",
       "    </tr>\n",
       "    <tr>\n",
       "      <th>max</th>\n",
       "      <td>5.000000</td>\n",
       "      <td>5.000000</td>\n",
       "      <td>5.000000</td>\n",
       "      <td>5.000000</td>\n",
       "      <td>5.000000</td>\n",
       "    </tr>\n",
       "  </tbody>\n",
       "</table>\n",
       "</div>"
      ],
      "text/plain": [
       "       review_overall  review_aroma  review_appearance  review_palate  \\\n",
       "count    25000.000000  25000.000000       25000.000000   25000.000000   \n",
       "mean         3.852380      3.837280           3.874580       3.825800   \n",
       "std          0.735908      0.711128           0.628216       0.712822   \n",
       "min          1.000000      1.000000           1.000000       1.000000   \n",
       "25%          3.500000      3.500000           3.500000       3.500000   \n",
       "50%          4.000000      4.000000           4.000000       4.000000   \n",
       "75%          4.500000      4.500000           4.500000       4.500000   \n",
       "max          5.000000      5.000000           5.000000       5.000000   \n",
       "\n",
       "       review_taste  \n",
       "count  25000.000000  \n",
       "mean       3.885820  \n",
       "std        0.756833  \n",
       "min        1.000000  \n",
       "25%        3.500000  \n",
       "50%        4.000000  \n",
       "75%        4.500000  \n",
       "max        5.000000  "
      ]
     },
     "execution_count": 4,
     "metadata": {},
     "output_type": "execute_result"
    }
   ],
   "source": [
    "# dataframe containing only review ratings (numeric values)\n",
    "\n",
    "reviewsdf = df[['brewery_name', 'review_overall', 'review_aroma', 'review_appearance', 'review_palate', 'review_taste']]\n",
    "reviewsdf.describe()"
   ]
  },
  {
   "cell_type": "markdown",
   "id": "a144851e",
   "metadata": {},
   "source": [
    "In the dataset, there is an average of 3.60 to 3.70 for every aspect review."
   ]
  },
  {
   "cell_type": "markdown",
   "id": "107abbcf",
   "metadata": {},
   "source": [
    "# Data Cleaning"
   ]
  },
  {
   "cell_type": "code",
   "execution_count": 5,
   "id": "34339293",
   "metadata": {},
   "outputs": [
    {
     "data": {
      "text/plain": [
       "brewery_id              int64\n",
       "brewery_name           object\n",
       "review_time             int64\n",
       "review_overall        float64\n",
       "review_aroma          float64\n",
       "review_appearance     float64\n",
       "review_profilename     object\n",
       "beer_style             object\n",
       "review_palate         float64\n",
       "review_taste          float64\n",
       "beer_name              object\n",
       "beer_abv              float64\n",
       "beer_beerid             int64\n",
       "dtype: object"
      ]
     },
     "execution_count": 5,
     "metadata": {},
     "output_type": "execute_result"
    }
   ],
   "source": [
    "df.dtypes"
   ]
  },
  {
   "cell_type": "markdown",
   "id": "56a92a79",
   "metadata": {},
   "source": [
    "Drop columns that are not needed for data understanding\n",
    "\n",
    "- dropped review_time as it is too unique and would not provide meaningful insights to the data"
   ]
  },
  {
   "cell_type": "code",
   "execution_count": 6,
   "id": "f7d741a7",
   "metadata": {},
   "outputs": [],
   "source": [
    "df.drop(columns=['review_time'], inplace=True)"
   ]
  },
  {
   "cell_type": "markdown",
   "id": "64adac7d",
   "metadata": {},
   "source": [
    "Remove duplicates, if any"
   ]
  },
  {
   "cell_type": "code",
   "execution_count": 7,
   "id": "6d30f985",
   "metadata": {},
   "outputs": [
    {
     "name": "stdout",
     "output_type": "stream",
     "text": [
      "Before removing duplicates: (25000, 12)\n",
      "After removing duplicates: (24991, 12)\n"
     ]
    }
   ],
   "source": [
    "print('Before removing duplicates:' , df.shape)\n",
    "df.drop_duplicates(inplace=True)\n",
    "print('After removing duplicates:' , df.shape)"
   ]
  },
  {
   "cell_type": "markdown",
   "id": "326f5109",
   "metadata": {},
   "source": [
    "Check for uncomplete data"
   ]
  },
  {
   "cell_type": "code",
   "execution_count": 8,
   "id": "8354c514",
   "metadata": {},
   "outputs": [
    {
     "data": {
      "text/plain": [
       "brewery_id               0\n",
       "brewery_name             0\n",
       "review_overall           0\n",
       "review_aroma             0\n",
       "review_appearance        0\n",
       "review_profilename       2\n",
       "beer_style               0\n",
       "review_palate            0\n",
       "review_taste             0\n",
       "beer_name                0\n",
       "beer_abv              1331\n",
       "beer_beerid              0\n",
       "dtype: int64"
      ]
     },
     "execution_count": 8,
     "metadata": {},
     "output_type": "execute_result"
    }
   ],
   "source": [
    "df.isnull().sum()"
   ]
  },
  {
   "cell_type": "markdown",
   "id": "9f22c7cf",
   "metadata": {},
   "source": [
    "review_profilename and beer_abv are the only columns that contain null values.\n",
    "\n",
    "Hence, replace null values with 0 in the columnns\n",
    "- so that the remaining data in the columns and the rows containing null values can still be used."
   ]
  },
  {
   "cell_type": "code",
   "execution_count": 9,
   "id": "c95eb4d6",
   "metadata": {
    "scrolled": true
   },
   "outputs": [
    {
     "name": "stdout",
     "output_type": "stream",
     "text": [
      "<class 'pandas.core.frame.DataFrame'>\n",
      "Int64Index: 24991 entries, 0 to 24999\n",
      "Data columns (total 12 columns):\n",
      " #   Column              Non-Null Count  Dtype  \n",
      "---  ------              --------------  -----  \n",
      " 0   brewery_id          24991 non-null  int64  \n",
      " 1   brewery_name        24991 non-null  object \n",
      " 2   review_overall      24991 non-null  float64\n",
      " 3   review_aroma        24991 non-null  float64\n",
      " 4   review_appearance   24991 non-null  float64\n",
      " 5   review_profilename  24991 non-null  object \n",
      " 6   beer_style          24991 non-null  object \n",
      " 7   review_palate       24991 non-null  float64\n",
      " 8   review_taste        24991 non-null  float64\n",
      " 9   beer_name           24991 non-null  object \n",
      " 10  beer_abv            24991 non-null  float64\n",
      " 11  beer_beerid         24991 non-null  int64  \n",
      "dtypes: float64(6), int64(2), object(4)\n",
      "memory usage: 2.5+ MB\n"
     ]
    }
   ],
   "source": [
    "df = df.fillna(0)\n",
    "df.info()"
   ]
  },
  {
   "cell_type": "markdown",
   "id": "fc096a54",
   "metadata": {},
   "source": [
    "# Data understanding"
   ]
  },
  {
   "cell_type": "code",
   "execution_count": 10,
   "id": "bcd260e2",
   "metadata": {},
   "outputs": [
    {
     "name": "stdout",
     "output_type": "stream",
     "text": [
      "No.of.unique values in each column :\n",
      " brewery_id             163\n",
      "brewery_name           163\n",
      "review_overall           9\n",
      "review_aroma             9\n",
      "review_appearance        9\n",
      "review_profilename    5801\n",
      "beer_style              97\n",
      "review_palate            9\n",
      "review_taste             9\n",
      "beer_name             1746\n",
      "beer_abv               115\n",
      "beer_beerid           1807\n",
      "dtype: int64\n"
     ]
    }
   ],
   "source": [
    "n = df.nunique(axis=0) \n",
    "print(\"No.of.unique values in each column :\\n\",n)"
   ]
  },
  {
   "cell_type": "markdown",
   "id": "bdd4af5f",
   "metadata": {},
   "source": [
    "There are 161 distinct brewery names and brewery IDs, meaning that each brewery has it's own unique brewer name and id.\n",
    "There are 1636 beer ids but 1582 beer names. This indicates that multiple beers with different id have the same name."
   ]
  },
  {
   "cell_type": "code",
   "execution_count": 11,
   "id": "bfebbb8a",
   "metadata": {},
   "outputs": [
    {
     "data": {
      "text/plain": [
       "FreqDist({'Founders Brewing Company': 8872, \"Hoppin' Frog Brewery\": 3139, \"Bluegrass Brewing Co. - East St. Matthew's\": 1686, 'Pike Pub & Brewery': 1408, 'Cambridge Brewing Company': 1202, 'Caldera Brewing Company': 889, 'Yazoo Brewing Company': 873, 'Cooperstown Brewing Company': 628, 'Amstel Brouwerij B. V.': 570, 'Trafalgar Ales & Meads': 434, ...})"
      ]
     },
     "execution_count": 11,
     "metadata": {},
     "output_type": "execute_result"
    }
   ],
   "source": [
    "# How many reviews made for each brewery?\n",
    "\n",
    "import nltk\n",
    "from nltk.probability import FreqDist\n",
    "\n",
    "wt_words = list(df['brewery_name'])\n",
    "\n",
    "final_freq = nltk.FreqDist(wt_words)\n",
    "\n",
    "final_freq"
   ]
  },
  {
   "cell_type": "code",
   "execution_count": 12,
   "id": "243cc24f",
   "metadata": {},
   "outputs": [
    {
     "data": {
      "image/png": "[encoded data removed]",
      "text/plain": [
       "<Figure size 432x288 with 1 Axes>"
      ]
     },
     "metadata": {
      "needs_background": "light"
     },
     "output_type": "display_data"
    },
    {
     "data": {
      "text/plain": [
       "<AxesSubplot:xlabel='Samples', ylabel='Counts'>"
      ]
     },
     "execution_count": 12,
     "metadata": {},
     "output_type": "execute_result"
    }
   ],
   "source": [
    "# plot the frequency distribution of the top 25 breweries with most number of reviews\n",
    "\n",
    "sorted_freqdist = FreqDist(final_freq)\n",
    "sorted_freqdist.plot(25, cumulative=False)"
   ]
  },
  {
   "cell_type": "code",
   "execution_count": 13,
   "id": "4065fe75",
   "metadata": {},
   "outputs": [
    {
     "data": {
      "text/plain": [
       "Founders Brewing Company                      8872\n",
       "Hoppin' Frog Brewery                          3139\n",
       "Bluegrass Brewing Co. - East St. Matthew's    1686\n",
       "Pike Pub & Brewery                            1408\n",
       "Cambridge Brewing Company                     1202\n",
       "                                              ... \n",
       "Raw Microbrewery                                 1\n",
       "Mt Tabor Brewing                                 1\n",
       "Richmodis-Bräu                                   1\n",
       "Ram Restaurant & Brewery                         1\n",
       "Asmara Breweries                                 1\n",
       "Name: brewery_name, Length: 163, dtype: int64"
      ]
     },
     "execution_count": 13,
     "metadata": {},
     "output_type": "execute_result"
    }
   ],
   "source": [
    "df['brewery_name'].value_counts()"
   ]
  },
  {
   "cell_type": "code",
   "execution_count": 14,
   "id": "2ad71658",
   "metadata": {},
   "outputs": [
    {
     "data": {
      "text/plain": [
       "18"
      ]
     },
     "execution_count": 14,
     "metadata": {},
     "output_type": "execute_result"
    }
   ],
   "source": [
    "# count number of breweries with only 1 review\n",
    "reviewcount = df.groupby('brewery_name').count()\n",
    "len(reviewcount[reviewcount['review_overall']==1])"
   ]
  },
  {
   "cell_type": "markdown",
   "id": "f2cad3d7",
   "metadata": {},
   "source": [
    "This tells us that Hoppin' Frog Brewery has the highest number of reviews of 3139 while 18 breweries only have 1 review."
   ]
  },
  {
   "cell_type": "markdown",
   "id": "db6151fb",
   "metadata": {},
   "source": [
    "#### Analysis of review columns "
   ]
  },
  {
   "cell_type": "code",
   "execution_count": 15,
   "id": "924d07cf",
   "metadata": {
    "scrolled": true
   },
   "outputs": [
    {
     "data": {
      "image/png": "[encoded data removed]",
      "text/plain": [
       "<Figure size 648x648 with 6 Axes>"
      ]
     },
     "metadata": {
      "needs_background": "light"
     },
     "output_type": "display_data"
    }
   ],
   "source": [
    "# Histogram of all numeric columns\n",
    "reviewsdf.hist(figsize=(9,9))\n",
    "plt.show()"
   ]
  },
  {
   "cell_type": "markdown",
   "id": "efce5504",
   "metadata": {},
   "source": [
    "In all review columns,\n",
    "- 4.0 has the highest number of ratings\n",
    "- There are no ratings lesser than 1.0"
   ]
  },
  {
   "cell_type": "markdown",
   "id": "41db126a",
   "metadata": {},
   "source": [
    "#### Analysis of breweries sorted by review columns "
   ]
  },
  {
   "cell_type": "code",
   "execution_count": 16,
   "id": "35f7a884",
   "metadata": {
    "scrolled": true
   },
   "outputs": [
    {
     "data": {
      "text/html": [
       "<div>\n",
       "<style scoped>\n",
       "    .dataframe tbody tr th:only-of-type {\n",
       "        vertical-align: middle;\n",
       "    }\n",
       "\n",
       "    .dataframe tbody tr th {\n",
       "        vertical-align: top;\n",
       "    }\n",
       "\n",
       "    .dataframe thead th {\n",
       "        text-align: right;\n",
       "    }\n",
       "</style>\n",
       "<table border=\"1\" class=\"dataframe\">\n",
       "  <thead>\n",
       "    <tr style=\"text-align: right;\">\n",
       "      <th></th>\n",
       "      <th>review_overall</th>\n",
       "      <th>review_aroma</th>\n",
       "      <th>review_appearance</th>\n",
       "      <th>review_palate</th>\n",
       "      <th>review_taste</th>\n",
       "    </tr>\n",
       "    <tr>\n",
       "      <th>brewery_name</th>\n",
       "      <th></th>\n",
       "      <th></th>\n",
       "      <th></th>\n",
       "      <th></th>\n",
       "      <th></th>\n",
       "    </tr>\n",
       "  </thead>\n",
       "  <tbody>\n",
       "    <tr>\n",
       "      <th>Zak&amp;#322;ady Piwowarskie w Le&amp;#380;ajsku S.A.</th>\n",
       "      <td>3.250000</td>\n",
       "      <td>2.500000</td>\n",
       "      <td>3.000000</td>\n",
       "      <td>3.000000</td>\n",
       "      <td>3.250000</td>\n",
       "    </tr>\n",
       "    <tr>\n",
       "      <th>Yeastie Boys</th>\n",
       "      <td>3.859649</td>\n",
       "      <td>3.798246</td>\n",
       "      <td>3.877193</td>\n",
       "      <td>3.745614</td>\n",
       "      <td>3.833333</td>\n",
       "    </tr>\n",
       "    <tr>\n",
       "      <th>Yazoo Brewing Company</th>\n",
       "      <td>3.857961</td>\n",
       "      <td>3.727950</td>\n",
       "      <td>3.812142</td>\n",
       "      <td>3.728522</td>\n",
       "      <td>3.772623</td>\n",
       "    </tr>\n",
       "    <tr>\n",
       "      <th>Wm. Kuether Brewing</th>\n",
       "      <td>2.125000</td>\n",
       "      <td>3.125000</td>\n",
       "      <td>3.000000</td>\n",
       "      <td>2.250000</td>\n",
       "      <td>2.250000</td>\n",
       "    </tr>\n",
       "    <tr>\n",
       "      <th>William K Busch Brewing Company</th>\n",
       "      <td>3.250000</td>\n",
       "      <td>3.166667</td>\n",
       "      <td>3.750000</td>\n",
       "      <td>3.250000</td>\n",
       "      <td>3.250000</td>\n",
       "    </tr>\n",
       "  </tbody>\n",
       "</table>\n",
       "</div>"
      ],
      "text/plain": [
       "                                               review_overall  review_aroma  \\\n",
       "brewery_name                                                                  \n",
       "Zak&#322;ady Piwowarskie w Le&#380;ajsku S.A.        3.250000      2.500000   \n",
       "Yeastie Boys                                         3.859649      3.798246   \n",
       "Yazoo Brewing Company                                3.857961      3.727950   \n",
       "Wm. Kuether Brewing                                  2.125000      3.125000   \n",
       "William K Busch Brewing Company                      3.250000      3.166667   \n",
       "\n",
       "                                               review_appearance  \\\n",
       "brewery_name                                                       \n",
       "Zak&#322;ady Piwowarskie w Le&#380;ajsku S.A.           3.000000   \n",
       "Yeastie Boys                                            3.877193   \n",
       "Yazoo Brewing Company                                   3.812142   \n",
       "Wm. Kuether Brewing                                     3.000000   \n",
       "William K Busch Brewing Company                         3.750000   \n",
       "\n",
       "                                               review_palate  review_taste  \n",
       "brewery_name                                                                \n",
       "Zak&#322;ady Piwowarskie w Le&#380;ajsku S.A.       3.000000      3.250000  \n",
       "Yeastie Boys                                        3.745614      3.833333  \n",
       "Yazoo Brewing Company                               3.728522      3.772623  \n",
       "Wm. Kuether Brewing                                 2.250000      2.250000  \n",
       "William K Busch Brewing Company                     3.250000      3.250000  "
      ]
     },
     "execution_count": 16,
     "metadata": {},
     "output_type": "execute_result"
    }
   ],
   "source": [
    "# average rating for all 5 review portions for each brewery, sort by all review columns\n",
    "\n",
    "reviewscolsort = reviewsdf.groupby('brewery_name').mean().sort_values(by=list(reviewsdf.columns), ascending=False)\n",
    "reviewscolsort.head()"
   ]
  },
  {
   "cell_type": "code",
   "execution_count": 17,
   "id": "0bcec504",
   "metadata": {},
   "outputs": [
    {
     "name": "stdout",
     "output_type": "stream",
     "text": [
      "Yeastie Boys has 57 reviews.\n"
     ]
    }
   ],
   "source": [
    "print('Yeastie Boys has' , dict(final_freq).get('Yeastie Boys'), 'reviews.')"
   ]
  },
  {
   "cell_type": "code",
   "execution_count": 18,
   "id": "2c32d748",
   "metadata": {},
   "outputs": [
    {
     "data": {
      "image/png": "[encoded data removed]",
      "text/plain": [
       "<Figure size 432x288 with 1 Axes>"
      ]
     },
     "metadata": {
      "needs_background": "light"
     },
     "output_type": "display_data"
    }
   ],
   "source": [
    "sns.lineplot(x='brewery_name', y='review_overall', data=reviewscolsort[:10])\n",
    "plt.xticks(rotation='90')\n",
    "plt.show()"
   ]
  },
  {
   "cell_type": "markdown",
   "id": "c9550e7a",
   "metadata": {},
   "source": [
    "Although Yeastie Boys do not have the highest overall reviews, they have the best ratings when sorted by the various rating columns.\n"
   ]
  },
  {
   "cell_type": "code",
   "execution_count": 19,
   "id": "18f44f82",
   "metadata": {
    "scrolled": true
   },
   "outputs": [
    {
     "data": {
      "text/html": [
       "<div>\n",
       "<style scoped>\n",
       "    .dataframe tbody tr th:only-of-type {\n",
       "        vertical-align: middle;\n",
       "    }\n",
       "\n",
       "    .dataframe tbody tr th {\n",
       "        vertical-align: top;\n",
       "    }\n",
       "\n",
       "    .dataframe thead th {\n",
       "        text-align: right;\n",
       "    }\n",
       "</style>\n",
       "<table border=\"1\" class=\"dataframe\">\n",
       "  <thead>\n",
       "    <tr style=\"text-align: right;\">\n",
       "      <th></th>\n",
       "      <th>review_overall</th>\n",
       "      <th>review_aroma</th>\n",
       "      <th>review_appearance</th>\n",
       "      <th>review_palate</th>\n",
       "      <th>review_taste</th>\n",
       "    </tr>\n",
       "    <tr>\n",
       "      <th>brewery_name</th>\n",
       "      <th></th>\n",
       "      <th></th>\n",
       "      <th></th>\n",
       "      <th></th>\n",
       "      <th></th>\n",
       "    </tr>\n",
       "  </thead>\n",
       "  <tbody>\n",
       "    <tr>\n",
       "      <th>Pivovar Groll</th>\n",
       "      <td>4.5</td>\n",
       "      <td>5.000000</td>\n",
       "      <td>4.000000</td>\n",
       "      <td>3.000000</td>\n",
       "      <td>4.500000</td>\n",
       "    </tr>\n",
       "    <tr>\n",
       "      <th>Mt Tabor Brewing</th>\n",
       "      <td>4.5</td>\n",
       "      <td>3.500000</td>\n",
       "      <td>3.500000</td>\n",
       "      <td>4.000000</td>\n",
       "      <td>4.000000</td>\n",
       "    </tr>\n",
       "    <tr>\n",
       "      <th>Cornelius Pass Roadhouse &amp; Imbrie Hall (McMenamins)</th>\n",
       "      <td>4.5</td>\n",
       "      <td>4.142857</td>\n",
       "      <td>3.571429</td>\n",
       "      <td>4.071429</td>\n",
       "      <td>4.285714</td>\n",
       "    </tr>\n",
       "    <tr>\n",
       "      <th>Why Not Brewery, The</th>\n",
       "      <td>4.5</td>\n",
       "      <td>3.750000</td>\n",
       "      <td>4.000000</td>\n",
       "      <td>4.250000</td>\n",
       "      <td>3.750000</td>\n",
       "    </tr>\n",
       "    <tr>\n",
       "      <th>Brauhaus Lemke</th>\n",
       "      <td>4.5</td>\n",
       "      <td>4.000000</td>\n",
       "      <td>3.500000</td>\n",
       "      <td>5.000000</td>\n",
       "      <td>4.000000</td>\n",
       "    </tr>\n",
       "  </tbody>\n",
       "</table>\n",
       "</div>"
      ],
      "text/plain": [
       "                                                    review_overall  \\\n",
       "brewery_name                                                         \n",
       "Pivovar Groll                                                  4.5   \n",
       "Mt Tabor Brewing                                               4.5   \n",
       "Cornelius Pass Roadhouse & Imbrie Hall (McMenam...             4.5   \n",
       "Why Not Brewery, The                                           4.5   \n",
       "Brauhaus Lemke                                                 4.5   \n",
       "\n",
       "                                                    review_aroma  \\\n",
       "brewery_name                                                       \n",
       "Pivovar Groll                                           5.000000   \n",
       "Mt Tabor Brewing                                        3.500000   \n",
       "Cornelius Pass Roadhouse & Imbrie Hall (McMenam...      4.142857   \n",
       "Why Not Brewery, The                                    3.750000   \n",
       "Brauhaus Lemke                                          4.000000   \n",
       "\n",
       "                                                    review_appearance  \\\n",
       "brewery_name                                                            \n",
       "Pivovar Groll                                                4.000000   \n",
       "Mt Tabor Brewing                                             3.500000   \n",
       "Cornelius Pass Roadhouse & Imbrie Hall (McMenam...           3.571429   \n",
       "Why Not Brewery, The                                         4.000000   \n",
       "Brauhaus Lemke                                               3.500000   \n",
       "\n",
       "                                                    review_palate  \\\n",
       "brewery_name                                                        \n",
       "Pivovar Groll                                            3.000000   \n",
       "Mt Tabor Brewing                                         4.000000   \n",
       "Cornelius Pass Roadhouse & Imbrie Hall (McMenam...       4.071429   \n",
       "Why Not Brewery, The                                     4.250000   \n",
       "Brauhaus Lemke                                           5.000000   \n",
       "\n",
       "                                                    review_taste  \n",
       "brewery_name                                                      \n",
       "Pivovar Groll                                           4.500000  \n",
       "Mt Tabor Brewing                                        4.000000  \n",
       "Cornelius Pass Roadhouse & Imbrie Hall (McMenam...      4.285714  \n",
       "Why Not Brewery, The                                    3.750000  \n",
       "Brauhaus Lemke                                          4.000000  "
      ]
     },
     "execution_count": 19,
     "metadata": {},
     "output_type": "execute_result"
    }
   ],
   "source": [
    "# average rating for all 5 review portions for each brewery, sort by overall_review column\n",
    "overallreviewsort = reviewsdf.groupby('brewery_name').mean().sort_values(by='review_overall', ascending=False)\n",
    "overallreviewsort.head()"
   ]
  },
  {
   "cell_type": "code",
   "execution_count": 20,
   "id": "1ddac25e",
   "metadata": {},
   "outputs": [
    {
     "data": {
      "image/png": "[encoded data removed]",
      "text/plain": [
       "<Figure size 432x288 with 1 Axes>"
      ]
     },
     "metadata": {
      "needs_background": "light"
     },
     "output_type": "display_data"
    }
   ],
   "source": [
    "sns.lineplot(x='brewery_name', y='review_overall', data=overallreviewsort[:10])\n",
    "plt.xticks(rotation='90')\n",
    "plt.show()"
   ]
  },
  {
   "cell_type": "code",
   "execution_count": 21,
   "id": "54e820ef",
   "metadata": {
    "scrolled": false
   },
   "outputs": [
    {
     "data": {
      "text/plain": [
       "1"
      ]
     },
     "execution_count": 21,
     "metadata": {},
     "output_type": "execute_result"
    }
   ],
   "source": [
    "dict(final_freq).get('Pivovar Groll')"
   ]
  },
  {
   "cell_type": "code",
   "execution_count": 22,
   "id": "4383608e",
   "metadata": {
    "scrolled": true
   },
   "outputs": [
    {
     "name": "stdout",
     "output_type": "stream",
     "text": [
      "brewery_name\n",
      "Pivovar Groll                                          True\n",
      "Mt Tabor Brewing                                       True\n",
      "Cornelius Pass Roadhouse & Imbrie Hall (McMenamins)    True\n",
      "Why Not Brewery, The                                   True\n",
      "Brauhaus Lemke                                         True\n",
      "Name: review_overall, dtype: bool\n"
     ]
    }
   ],
   "source": [
    "# breweries that have 4.5 rating or higher\n",
    "\n",
    "overallmeancount = overallreviewsort['review_overall']>=4.5\n",
    "print(overallmeancount[overallmeancount])"
   ]
  },
  {
   "cell_type": "markdown",
   "id": "f9fb9cd3",
   "metadata": {},
   "source": [
    "Pivovar Groll has the highest ratings when sorted by overall reviews.\n",
    "\n",
    "5 breweries have an average 4.5 rating or higher for overall review. However, this may not be a good representation as many breweries such as Pivovar Groll, has the highest ratings but only has one review.\n",
    "This makes the rankings biased as compared to breweries with more than 100 reviews."
   ]
  },
  {
   "cell_type": "markdown",
   "id": "132fce0a",
   "metadata": {},
   "source": [
    "#### Analysis of beer style, sorted by overall review"
   ]
  },
  {
   "cell_type": "code",
   "execution_count": 23,
   "id": "1d4b26b9",
   "metadata": {},
   "outputs": [
    {
     "name": "stderr",
     "output_type": "stream",
     "text": [
      "C:\\Users\\zoe\\AppData\\Local\\Temp/ipykernel_30528/3796902740.py:3: FutureWarning: The default value of numeric_only in DataFrameGroupBy.mean is deprecated. In a future version, numeric_only will default to False. Either specify numeric_only or select only columns which should be valid for the function.\n",
      "  df.groupby('beer_style').mean().sort_values(by='review_overall', ascending=False).head()\n"
     ]
    },
    {
     "data": {
      "text/html": [
       "<div>\n",
       "<style scoped>\n",
       "    .dataframe tbody tr th:only-of-type {\n",
       "        vertical-align: middle;\n",
       "    }\n",
       "\n",
       "    .dataframe tbody tr th {\n",
       "        vertical-align: top;\n",
       "    }\n",
       "\n",
       "    .dataframe thead th {\n",
       "        text-align: right;\n",
       "    }\n",
       "</style>\n",
       "<table border=\"1\" class=\"dataframe\">\n",
       "  <thead>\n",
       "    <tr style=\"text-align: right;\">\n",
       "      <th></th>\n",
       "      <th>brewery_id</th>\n",
       "      <th>review_overall</th>\n",
       "      <th>review_aroma</th>\n",
       "      <th>review_appearance</th>\n",
       "      <th>review_palate</th>\n",
       "      <th>review_taste</th>\n",
       "      <th>beer_abv</th>\n",
       "      <th>beer_beerid</th>\n",
       "    </tr>\n",
       "    <tr>\n",
       "      <th>beer_style</th>\n",
       "      <th></th>\n",
       "      <th></th>\n",
       "      <th></th>\n",
       "      <th></th>\n",
       "      <th></th>\n",
       "      <th></th>\n",
       "      <th></th>\n",
       "      <th></th>\n",
       "    </tr>\n",
       "  </thead>\n",
       "  <tbody>\n",
       "    <tr>\n",
       "      <th>American Double / Imperial Stout</th>\n",
       "      <td>1333.231285</td>\n",
       "      <td>4.327793</td>\n",
       "      <td>4.368436</td>\n",
       "      <td>4.318715</td>\n",
       "      <td>4.322486</td>\n",
       "      <td>4.447765</td>\n",
       "      <td>8.754972</td>\n",
       "      <td>21079.603631</td>\n",
       "    </tr>\n",
       "    <tr>\n",
       "      <th>English Dark Mild Ale</th>\n",
       "      <td>4595.947368</td>\n",
       "      <td>4.236842</td>\n",
       "      <td>3.736842</td>\n",
       "      <td>3.947368</td>\n",
       "      <td>3.684211</td>\n",
       "      <td>3.973684</td>\n",
       "      <td>1.589474</td>\n",
       "      <td>23210.578947</td>\n",
       "    </tr>\n",
       "    <tr>\n",
       "      <th>English Barleywine</th>\n",
       "      <td>8431.239583</td>\n",
       "      <td>4.218750</td>\n",
       "      <td>4.270833</td>\n",
       "      <td>3.906250</td>\n",
       "      <td>4.072917</td>\n",
       "      <td>4.343750</td>\n",
       "      <td>10.443750</td>\n",
       "      <td>54370.729167</td>\n",
       "    </tr>\n",
       "    <tr>\n",
       "      <th>Keller Bier / Zwickel Bier</th>\n",
       "      <td>17532.409091</td>\n",
       "      <td>4.181818</td>\n",
       "      <td>3.727273</td>\n",
       "      <td>3.750000</td>\n",
       "      <td>3.863636</td>\n",
       "      <td>3.954545</td>\n",
       "      <td>3.527273</td>\n",
       "      <td>50764.227273</td>\n",
       "    </tr>\n",
       "    <tr>\n",
       "      <th>Russian Imperial Stout</th>\n",
       "      <td>8956.744065</td>\n",
       "      <td>4.161536</td>\n",
       "      <td>4.176187</td>\n",
       "      <td>4.210312</td>\n",
       "      <td>4.293027</td>\n",
       "      <td>4.303412</td>\n",
       "      <td>9.892248</td>\n",
       "      <td>33463.252226</td>\n",
       "    </tr>\n",
       "  </tbody>\n",
       "</table>\n",
       "</div>"
      ],
      "text/plain": [
       "                                    brewery_id  review_overall  review_aroma  \\\n",
       "beer_style                                                                     \n",
       "American Double / Imperial Stout   1333.231285        4.327793      4.368436   \n",
       "English Dark Mild Ale              4595.947368        4.236842      3.736842   \n",
       "English Barleywine                 8431.239583        4.218750      4.270833   \n",
       "Keller Bier / Zwickel Bier        17532.409091        4.181818      3.727273   \n",
       "Russian Imperial Stout             8956.744065        4.161536      4.176187   \n",
       "\n",
       "                                  review_appearance  review_palate  \\\n",
       "beer_style                                                           \n",
       "American Double / Imperial Stout           4.318715       4.322486   \n",
       "English Dark Mild Ale                      3.947368       3.684211   \n",
       "English Barleywine                         3.906250       4.072917   \n",
       "Keller Bier / Zwickel Bier                 3.750000       3.863636   \n",
       "Russian Imperial Stout                     4.210312       4.293027   \n",
       "\n",
       "                                  review_taste   beer_abv   beer_beerid  \n",
       "beer_style                                                               \n",
       "American Double / Imperial Stout      4.447765   8.754972  21079.603631  \n",
       "English Dark Mild Ale                 3.973684   1.589474  23210.578947  \n",
       "English Barleywine                    4.343750  10.443750  54370.729167  \n",
       "Keller Bier / Zwickel Bier            3.954545   3.527273  50764.227273  \n",
       "Russian Imperial Stout                4.303412   9.892248  33463.252226  "
      ]
     },
     "execution_count": 23,
     "metadata": {},
     "output_type": "execute_result"
    }
   ],
   "source": [
    "# average of all 5 review portions for each beer style, sort by overall review\n",
    "\n",
    "df.groupby('beer_style').mean().sort_values(by='review_overall', ascending=False).head()"
   ]
  },
  {
   "cell_type": "code",
   "execution_count": 24,
   "id": "6c6ece98",
   "metadata": {
    "scrolled": true
   },
   "outputs": [
    {
     "data": {
      "text/plain": [
       "Hoppin' Frog Brewery                                   49\n",
       "Cambridge Brewing Company                              32\n",
       "Broad Ripple Brew Pub                                   6\n",
       "Birrificio B.O.A. (Birrificio Ostiense Artigianale)     4\n",
       "Bluegrass Brewing Co. - East St. Matthew's              3\n",
       "San Francisco Brewing Company                           1\n",
       "Fernandes Brewery Tap                                   1\n",
       "Name: brewery_name, dtype: int64"
      ]
     },
     "execution_count": 24,
     "metadata": {},
     "output_type": "execute_result"
    }
   ],
   "source": [
    "# breweries that uses 'English Barleywine', the highest rated beer style for overall reviews.\n",
    "\n",
    "df[df['beer_style']=='English Barleywine']['brewery_name'].value_counts()"
   ]
  },
  {
   "cell_type": "code",
   "execution_count": 25,
   "id": "521bf947",
   "metadata": {},
   "outputs": [
    {
     "data": {
      "image/png": "[encoded data removed]",
      "text/plain": [
       "<Figure size 432x288 with 1 Axes>"
      ]
     },
     "metadata": {
      "needs_background": "light"
     },
     "output_type": "display_data"
    }
   ],
   "source": [
    "sns.countplot(x=df[df['beer_style']=='English Barleywine']['brewery_name'])\n",
    "plt.xticks(rotation='90')\n",
    "plt.show()"
   ]
  },
  {
   "cell_type": "markdown",
   "id": "fe492af7",
   "metadata": {},
   "source": [
    "English Barleywine is the highest rated beer style and it is used in 6 different breweries.\n",
    "\n",
    "\n",
    "This beer style has the most number of reviews, 49 reviews, for Hoppin' Frog Brewery.\n",
    "Whereas San Francisco Brewing Company and Fernandes Brewery Tap only has 1 review mentioning English Barleywine as the beer style."
   ]
  },
  {
   "cell_type": "markdown",
   "id": "6ed88d5d",
   "metadata": {},
   "source": [
    "#### Analysis of beers (beer_name), sorted by overall review"
   ]
  },
  {
   "cell_type": "code",
   "execution_count": 26,
   "id": "0eebf3aa",
   "metadata": {
    "scrolled": true
   },
   "outputs": [
    {
     "name": "stderr",
     "output_type": "stream",
     "text": [
      "C:\\Users\\zoe\\AppData\\Local\\Temp/ipykernel_30528/1384339577.py:3: FutureWarning: The default value of numeric_only in DataFrameGroupBy.mean is deprecated. In a future version, numeric_only will default to False. Either specify numeric_only or select only columns which should be valid for the function.\n",
      "  df.groupby('beer_name').mean().sort_values(by='review_overall', ascending=False).head()\n"
     ]
    },
    {
     "data": {
      "text/html": [
       "<div>\n",
       "<style scoped>\n",
       "    .dataframe tbody tr th:only-of-type {\n",
       "        vertical-align: middle;\n",
       "    }\n",
       "\n",
       "    .dataframe tbody tr th {\n",
       "        vertical-align: top;\n",
       "    }\n",
       "\n",
       "    .dataframe thead th {\n",
       "        text-align: right;\n",
       "    }\n",
       "</style>\n",
       "<table border=\"1\" class=\"dataframe\">\n",
       "  <thead>\n",
       "    <tr style=\"text-align: right;\">\n",
       "      <th></th>\n",
       "      <th>brewery_id</th>\n",
       "      <th>review_overall</th>\n",
       "      <th>review_aroma</th>\n",
       "      <th>review_appearance</th>\n",
       "      <th>review_palate</th>\n",
       "      <th>review_taste</th>\n",
       "      <th>beer_abv</th>\n",
       "      <th>beer_beerid</th>\n",
       "    </tr>\n",
       "    <tr>\n",
       "      <th>beer_name</th>\n",
       "      <th></th>\n",
       "      <th></th>\n",
       "      <th></th>\n",
       "      <th></th>\n",
       "      <th></th>\n",
       "      <th></th>\n",
       "      <th></th>\n",
       "      <th></th>\n",
       "    </tr>\n",
       "  </thead>\n",
       "  <tbody>\n",
       "    <tr>\n",
       "      <th>Farmhouse Ale</th>\n",
       "      <td>2742.333333</td>\n",
       "      <td>5.0</td>\n",
       "      <td>4.166667</td>\n",
       "      <td>4.0</td>\n",
       "      <td>4.5</td>\n",
       "      <td>4.666667</td>\n",
       "      <td>3.933333</td>\n",
       "      <td>35704.333333</td>\n",
       "    </tr>\n",
       "    <tr>\n",
       "      <th>Schwindel Alt</th>\n",
       "      <td>18816.000000</td>\n",
       "      <td>5.0</td>\n",
       "      <td>4.500000</td>\n",
       "      <td>4.5</td>\n",
       "      <td>4.5</td>\n",
       "      <td>5.000000</td>\n",
       "      <td>5.100000</td>\n",
       "      <td>47170.000000</td>\n",
       "    </tr>\n",
       "    <tr>\n",
       "      <th>Founders Nutty Professor Nut Stout</th>\n",
       "      <td>1199.000000</td>\n",
       "      <td>5.0</td>\n",
       "      <td>4.000000</td>\n",
       "      <td>4.5</td>\n",
       "      <td>4.5</td>\n",
       "      <td>4.500000</td>\n",
       "      <td>4.200000</td>\n",
       "      <td>20480.000000</td>\n",
       "    </tr>\n",
       "    <tr>\n",
       "      <th>Triple OOO</th>\n",
       "      <td>2600.000000</td>\n",
       "      <td>5.0</td>\n",
       "      <td>4.000000</td>\n",
       "      <td>4.0</td>\n",
       "      <td>4.0</td>\n",
       "      <td>4.000000</td>\n",
       "      <td>3.900000</td>\n",
       "      <td>23793.000000</td>\n",
       "    </tr>\n",
       "    <tr>\n",
       "      <th>Replic Ale (2010)</th>\n",
       "      <td>1454.000000</td>\n",
       "      <td>5.0</td>\n",
       "      <td>4.000000</td>\n",
       "      <td>3.5</td>\n",
       "      <td>4.0</td>\n",
       "      <td>4.000000</td>\n",
       "      <td>0.000000</td>\n",
       "      <td>63467.000000</td>\n",
       "    </tr>\n",
       "  </tbody>\n",
       "</table>\n",
       "</div>"
      ],
      "text/plain": [
       "                                      brewery_id  review_overall  \\\n",
       "beer_name                                                          \n",
       "Farmhouse Ale                        2742.333333             5.0   \n",
       "Schwindel Alt                       18816.000000             5.0   \n",
       "Founders Nutty Professor Nut Stout   1199.000000             5.0   \n",
       "Triple OOO                           2600.000000             5.0   \n",
       "Replic Ale (2010)                    1454.000000             5.0   \n",
       "\n",
       "                                    review_aroma  review_appearance  \\\n",
       "beer_name                                                             \n",
       "Farmhouse Ale                           4.166667                4.0   \n",
       "Schwindel Alt                           4.500000                4.5   \n",
       "Founders Nutty Professor Nut Stout      4.000000                4.5   \n",
       "Triple OOO                              4.000000                4.0   \n",
       "Replic Ale (2010)                       4.000000                3.5   \n",
       "\n",
       "                                    review_palate  review_taste  beer_abv  \\\n",
       "beer_name                                                                   \n",
       "Farmhouse Ale                                 4.5      4.666667  3.933333   \n",
       "Schwindel Alt                                 4.5      5.000000  5.100000   \n",
       "Founders Nutty Professor Nut Stout            4.5      4.500000  4.200000   \n",
       "Triple OOO                                    4.0      4.000000  3.900000   \n",
       "Replic Ale (2010)                             4.0      4.000000  0.000000   \n",
       "\n",
       "                                     beer_beerid  \n",
       "beer_name                                         \n",
       "Farmhouse Ale                       35704.333333  \n",
       "Schwindel Alt                       47170.000000  \n",
       "Founders Nutty Professor Nut Stout  20480.000000  \n",
       "Triple OOO                          23793.000000  \n",
       "Replic Ale (2010)                   63467.000000  "
      ]
     },
     "execution_count": 26,
     "metadata": {},
     "output_type": "execute_result"
    }
   ],
   "source": [
    "# average of all 5 review portions for each beer name, sort by overall review\n",
    "\n",
    "df.groupby('beer_name').mean().sort_values(by='review_overall', ascending=False).head()"
   ]
  },
  {
   "cell_type": "code",
   "execution_count": 27,
   "id": "6b65af32",
   "metadata": {},
   "outputs": [
    {
     "name": "stdout",
     "output_type": "stream",
     "text": [
      "(2, 12)\n"
     ]
    },
    {
     "data": {
      "text/html": [
       "<div>\n",
       "<style scoped>\n",
       "    .dataframe tbody tr th:only-of-type {\n",
       "        vertical-align: middle;\n",
       "    }\n",
       "\n",
       "    .dataframe tbody tr th {\n",
       "        vertical-align: top;\n",
       "    }\n",
       "\n",
       "    .dataframe thead th {\n",
       "        text-align: right;\n",
       "    }\n",
       "</style>\n",
       "<table border=\"1\" class=\"dataframe\">\n",
       "  <thead>\n",
       "    <tr style=\"text-align: right;\">\n",
       "      <th></th>\n",
       "      <th>brewery_id</th>\n",
       "      <th>brewery_name</th>\n",
       "      <th>review_overall</th>\n",
       "      <th>review_aroma</th>\n",
       "      <th>review_appearance</th>\n",
       "      <th>review_profilename</th>\n",
       "      <th>beer_style</th>\n",
       "      <th>review_palate</th>\n",
       "      <th>review_taste</th>\n",
       "      <th>beer_name</th>\n",
       "      <th>beer_abv</th>\n",
       "      <th>beer_beerid</th>\n",
       "    </tr>\n",
       "  </thead>\n",
       "  <tbody>\n",
       "    <tr>\n",
       "      <th>13971</th>\n",
       "      <td>860</td>\n",
       "      <td>The Vermont Pub &amp; Brewery</td>\n",
       "      <td>5.0</td>\n",
       "      <td>4.0</td>\n",
       "      <td>5.0</td>\n",
       "      <td>scottum</td>\n",
       "      <td>Scotch Ale / Wee Heavy</td>\n",
       "      <td>5.0</td>\n",
       "      <td>4.5</td>\n",
       "      <td>'99 Wee Heavy Scotch Ale</td>\n",
       "      <td>0.0</td>\n",
       "      <td>3676</td>\n",
       "    </tr>\n",
       "    <tr>\n",
       "      <th>14161</th>\n",
       "      <td>860</td>\n",
       "      <td>The Vermont Pub &amp; Brewery</td>\n",
       "      <td>5.0</td>\n",
       "      <td>5.0</td>\n",
       "      <td>5.0</td>\n",
       "      <td>Andy</td>\n",
       "      <td>Scotch Ale / Wee Heavy</td>\n",
       "      <td>5.0</td>\n",
       "      <td>5.0</td>\n",
       "      <td>'99 Wee Heavy Scotch Ale</td>\n",
       "      <td>0.0</td>\n",
       "      <td>3676</td>\n",
       "    </tr>\n",
       "  </tbody>\n",
       "</table>\n",
       "</div>"
      ],
      "text/plain": [
       "       brewery_id               brewery_name  review_overall  review_aroma  \\\n",
       "13971         860  The Vermont Pub & Brewery             5.0           4.0   \n",
       "14161         860  The Vermont Pub & Brewery             5.0           5.0   \n",
       "\n",
       "       review_appearance review_profilename              beer_style  \\\n",
       "13971                5.0            scottum  Scotch Ale / Wee Heavy   \n",
       "14161                5.0               Andy  Scotch Ale / Wee Heavy   \n",
       "\n",
       "       review_palate  review_taste                 beer_name  beer_abv  \\\n",
       "13971            5.0           4.5  '99 Wee Heavy Scotch Ale       0.0   \n",
       "14161            5.0           5.0  '99 Wee Heavy Scotch Ale       0.0   \n",
       "\n",
       "       beer_beerid  \n",
       "13971         3676  \n",
       "14161         3676  "
      ]
     },
     "execution_count": 27,
     "metadata": {},
     "output_type": "execute_result"
    }
   ],
   "source": [
    "# what are the breweries that use '99 Wee Heavy Scotch Ale, the highest rated beer name for overall reviews.\n",
    "\n",
    "print(df[df['beer_name'] == \"'99 Wee Heavy Scotch Ale\"].shape)\n",
    "df[df['beer_name'] == \"'99 Wee Heavy Scotch Ale\"]"
   ]
  },
  {
   "cell_type": "code",
   "execution_count": 28,
   "id": "d814271b",
   "metadata": {},
   "outputs": [
    {
     "data": {
      "text/plain": [
       "64"
      ]
     },
     "execution_count": 28,
     "metadata": {},
     "output_type": "execute_result"
    }
   ],
   "source": [
    "# all beer names used by the brewery, 'The Vermont Pub & Brewery'\n",
    "\n",
    "len(df[df['brewery_name']=='The Vermont Pub & Brewery']['beer_name'].value_counts())"
   ]
  },
  {
   "cell_type": "markdown",
   "id": "29749376",
   "metadata": {},
   "source": [
    "'99 Wee Heavy Scotch Ale is the highest rated beer and it is one of the 64 beers produced by The Vermont Pub & Brewery.\n",
    "However, the beer name only has 2 reviews which may render the ranking biased."
   ]
  },
  {
   "cell_type": "markdown",
   "id": "06edbb60",
   "metadata": {},
   "source": [
    "### Categorise overall rating"
   ]
  },
  {
   "cell_type": "code",
   "execution_count": 29,
   "id": "a24e8f39",
   "metadata": {},
   "outputs": [],
   "source": [
    "# assign categorical ranges according to overall review\n",
    "\n",
    "conds = [\n",
    "\n",
    "    (df['review_overall']<1),\n",
    "\n",
    "    (df['review_overall']>=1)&(df['review_overall']<2),\n",
    "\n",
    "    (df['review_overall']>=2)&(df['review_overall']<3),\n",
    "\n",
    "    (df['review_overall']>=3)&(df['review_overall']<4),\n",
    "\n",
    "    (df['review_overall']>=4),\n",
    "\n",
    "]\n",
    "rangename = ['Below 1', '1 to 2', '2 to 3', '3 to 4', '4 and above']"
   ]
  },
  {
   "cell_type": "code",
   "execution_count": 30,
   "id": "d29949c6",
   "metadata": {},
   "outputs": [],
   "source": [
    "import numpy as np\n",
    "df['rating_range'] = np.select(conds,rangename)"
   ]
  },
  {
   "cell_type": "code",
   "execution_count": 31,
   "id": "09e8c3f8",
   "metadata": {
    "scrolled": false
   },
   "outputs": [
    {
     "data": {
      "text/html": [
       "<div>\n",
       "<style scoped>\n",
       "    .dataframe tbody tr th:only-of-type {\n",
       "        vertical-align: middle;\n",
       "    }\n",
       "\n",
       "    .dataframe tbody tr th {\n",
       "        vertical-align: top;\n",
       "    }\n",
       "\n",
       "    .dataframe thead th {\n",
       "        text-align: right;\n",
       "    }\n",
       "</style>\n",
       "<table border=\"1\" class=\"dataframe\">\n",
       "  <thead>\n",
       "    <tr style=\"text-align: right;\">\n",
       "      <th></th>\n",
       "      <th>brewery_name</th>\n",
       "      <th>review_overall</th>\n",
       "      <th>rating_range</th>\n",
       "    </tr>\n",
       "  </thead>\n",
       "  <tbody>\n",
       "    <tr>\n",
       "      <th>0</th>\n",
       "      <td>Vecchio Birraio</td>\n",
       "      <td>1.5</td>\n",
       "      <td>1 to 2</td>\n",
       "    </tr>\n",
       "    <tr>\n",
       "      <th>1</th>\n",
       "      <td>Vecchio Birraio</td>\n",
       "      <td>3.0</td>\n",
       "      <td>3 to 4</td>\n",
       "    </tr>\n",
       "    <tr>\n",
       "      <th>2</th>\n",
       "      <td>Vecchio Birraio</td>\n",
       "      <td>3.0</td>\n",
       "      <td>3 to 4</td>\n",
       "    </tr>\n",
       "    <tr>\n",
       "      <th>3</th>\n",
       "      <td>Vecchio Birraio</td>\n",
       "      <td>3.0</td>\n",
       "      <td>3 to 4</td>\n",
       "    </tr>\n",
       "    <tr>\n",
       "      <th>4</th>\n",
       "      <td>Caldera Brewing Company</td>\n",
       "      <td>4.0</td>\n",
       "      <td>4 and above</td>\n",
       "    </tr>\n",
       "  </tbody>\n",
       "</table>\n",
       "</div>"
      ],
      "text/plain": [
       "              brewery_name  review_overall rating_range\n",
       "0          Vecchio Birraio             1.5       1 to 2\n",
       "1          Vecchio Birraio             3.0       3 to 4\n",
       "2          Vecchio Birraio             3.0       3 to 4\n",
       "3          Vecchio Birraio             3.0       3 to 4\n",
       "4  Caldera Brewing Company             4.0  4 and above"
      ]
     },
     "execution_count": 31,
     "metadata": {},
     "output_type": "execute_result"
    }
   ],
   "source": [
    "df[['brewery_name','review_overall', 'rating_range']].head()"
   ]
  },
  {
   "cell_type": "code",
   "execution_count": 32,
   "id": "7eec058e",
   "metadata": {},
   "outputs": [],
   "source": [
    "# put all ratings into a list\n",
    "ratinglist = sorted(list(df['rating_range'].unique()), reverse=True)  # rating range names in df['rating_range']\n",
    "sort_rating_freq = list(df['rating_range'].value_counts()) # count of each rating range\n",
    "\n",
    "# calculate pecentage of each rating range\n",
    "def percentage(s):\n",
    "    return s/len(df['rating_range'])*100\n",
    "\n",
    "# print statements\n",
    "def statements(allstars):\n",
    "    print(len(df['rating_range']), 'reviews in total \\n')\n",
    "\n",
    "    for i, s in enumerate(sort_rating_freq):\n",
    "        print(s, \", {:.2f}%\".format(percentage(s)), 'of reviews are', ratinglist[i], '\\n')\n"
   ]
  },
  {
   "cell_type": "code",
   "execution_count": 33,
   "id": "999000b3",
   "metadata": {
    "scrolled": false
   },
   "outputs": [
    {
     "name": "stdout",
     "output_type": "stream",
     "text": [
      "24991 reviews in total \n",
      "\n",
      "16277 , 65.13% of reviews are 4 and above \n",
      "\n",
      "6779 , 27.13% of reviews are 3 to 4 \n",
      "\n",
      "1565 , 6.26% of reviews are 2 to 3 \n",
      "\n",
      "370 , 1.48% of reviews are 1 to 2 \n",
      "\n"
     ]
    },
    {
     "data": {
      "image/png": "[encoded data removed]",
      "text/plain": [
       "<Figure size 432x288 with 1 Axes>"
      ]
     },
     "metadata": {
      "needs_background": "light"
     },
     "output_type": "display_data"
    }
   ],
   "source": [
    "# print results\n",
    "statements(ratinglist)\n",
    "\n",
    "# plot the distribution of rating ranges\n",
    "sns.countplot(x='rating_range', data=df, order=ratinglist)\n",
    "plt.show()"
   ]
  },
  {
   "cell_type": "markdown",
   "id": "eb99c072",
   "metadata": {},
   "source": [
    "It is evident that overall, reviewers were satisfied with the beers at the event, with no reviews below 1, and the number of reviews that are 4 and above at 8283 which is 55.20%, more than half of the number of all reviews.\n"
   ]
  },
  {
   "cell_type": "markdown",
   "id": "e18a4588",
   "metadata": {},
   "source": [
    "# Pre-processing for Machine Learning"
   ]
  },
  {
   "cell_type": "code",
   "execution_count": 34,
   "id": "122d577b",
   "metadata": {},
   "outputs": [
    {
     "data": {
      "text/plain": [
       "Index(['brewery_id', 'brewery_name', 'review_overall', 'review_aroma',\n",
       "       'review_appearance', 'review_profilename', 'beer_style',\n",
       "       'review_palate', 'review_taste', 'beer_name', 'beer_abv', 'beer_beerid',\n",
       "       'rating_range'],\n",
       "      dtype='object')"
      ]
     },
     "execution_count": 34,
     "metadata": {},
     "output_type": "execute_result"
    }
   ],
   "source": [
    "df.columns"
   ]
  },
  {
   "cell_type": "code",
   "execution_count": 35,
   "id": "fb7ad06e",
   "metadata": {},
   "outputs": [],
   "source": [
    "from sklearn.neighbors import KNeighborsClassifier\n",
    "from sklearn.svm import SVC\n",
    "from sklearn.linear_model import LogisticRegression\n",
    "from sklearn.tree import DecisionTreeClassifier\n",
    "from sklearn.naive_bayes import GaussianNB\n",
    "from sklearn.ensemble import RandomForestClassifier\n",
    "from sklearn.ensemble import GradientBoostingClassifier"
   ]
  },
  {
   "cell_type": "code",
   "execution_count": 36,
   "id": "2720d54c",
   "metadata": {},
   "outputs": [],
   "source": [
    "from sklearn.model_selection import train_test_split\n",
    "from sklearn.model_selection import cross_val_score\n",
    "from sklearn.metrics import accuracy_score"
   ]
  },
  {
   "cell_type": "code",
   "execution_count": 37,
   "id": "bcb76e19",
   "metadata": {},
   "outputs": [],
   "source": [
    "int_mod = df[['review_aroma', \n",
    "              'review_appearance', 'review_palate', 'review_taste', \n",
    "              'beer_abv']]\n",
    "x = int_mod\n",
    "y = df['rating_range']"
   ]
  },
  {
   "cell_type": "markdown",
   "id": "9dd0d3ec",
   "metadata": {},
   "source": [
    "x is used as features for the model, which contains the columns with integer values and are not unique to the row.\n",
    "\n",
    "y is used as predicted value, which is the categorical rating range for each overall review."
   ]
  },
  {
   "cell_type": "code",
   "execution_count": 38,
   "id": "5e46a644",
   "metadata": {
    "scrolled": false
   },
   "outputs": [],
   "source": [
    "# simple validation; split data\n",
    "x_train, x_test, y_train, y_test = train_test_split(\n",
    "x,y,test_size = 0.3,\n",
    "    \n",
    "stratify = df.rating_range, random_state=123)"
   ]
  },
  {
   "cell_type": "code",
   "execution_count": 39,
   "id": "738df59b",
   "metadata": {},
   "outputs": [
    {
     "name": "stdout",
     "output_type": "stream",
     "text": [
      "17493\n",
      "7498\n"
     ]
    }
   ],
   "source": [
    "print(y_train.count())\n",
    "print(y_test.count())"
   ]
  },
  {
   "cell_type": "markdown",
   "id": "adfd3e8e",
   "metadata": {},
   "source": [
    "# Modelling"
   ]
  },
  {
   "cell_type": "markdown",
   "id": "bdb38a0a",
   "metadata": {},
   "source": [
    "Iterate through the different models and in each iteration:\n",
    "- Fit the training and test data into the model to train the model\n",
    "- Use the x_test data to retrieve the prediction provided by the trained model.\n",
    "- Use the y_test data and the predicted y values and obtain the accuracy score,\n",
    "- Append the score value and the name of the model into their respective list"
   ]
  },
  {
   "cell_type": "code",
   "execution_count": 40,
   "id": "dea3b802",
   "metadata": {},
   "outputs": [],
   "source": [
    "# We will iterate through all the models to see which model gives us the highest accuracy after testing.\n",
    "\n",
    "models = []\n",
    "models.append(('KNN', KNeighborsClassifier()))\n",
    "models.append(('SVM', SVC(gamma='auto')))\n",
    "models.append(('LR', LogisticRegression(solver='liblinear')))\n",
    "models.append(('DT', DecisionTreeClassifier()))\n",
    "models.append(('GNB', GaussianNB()))\n",
    "models.append(('RF', RandomForestClassifier(n_estimators=10)))\n",
    "models.append(('GB', GradientBoostingClassifier()))"
   ]
  },
  {
   "cell_type": "markdown",
   "id": "8b948422",
   "metadata": {},
   "source": [
    "fit and predict each model to get accuracy score"
   ]
  },
  {
   "cell_type": "code",
   "execution_count": 41,
   "id": "0ca9f681",
   "metadata": {},
   "outputs": [
    {
     "name": "stderr",
     "output_type": "stream",
     "text": [
      "C:\\Users\\zoe\\anaconda3\\lib\\site-packages\\sklearn\\neighbors\\_classification.py:211: FutureWarning: Unlike other reduction functions (e.g. `skew`, `kurtosis`), the default behavior of `mode` typically preserves the axis it acts along. In SciPy 1.11.0, this behavior will change: the default value of `keepdims` will become False, the `axis` over which the statistic is taken will be eliminated, and the value None will no longer be accepted. Set `keepdims` to True or False to avoid this warning.\n",
      "  mode, _ = stats.mode(_y[neigh_ind, k], axis=1)\n"
     ]
    },
    {
     "data": {
      "text/html": [
       "<div>\n",
       "<style scoped>\n",
       "    .dataframe tbody tr th:only-of-type {\n",
       "        vertical-align: middle;\n",
       "    }\n",
       "\n",
       "    .dataframe tbody tr th {\n",
       "        vertical-align: top;\n",
       "    }\n",
       "\n",
       "    .dataframe thead th {\n",
       "        text-align: right;\n",
       "    }\n",
       "</style>\n",
       "<table border=\"1\" class=\"dataframe\">\n",
       "  <thead>\n",
       "    <tr style=\"text-align: right;\">\n",
       "      <th></th>\n",
       "      <th>Name</th>\n",
       "      <th>Score</th>\n",
       "    </tr>\n",
       "  </thead>\n",
       "  <tbody>\n",
       "    <tr>\n",
       "      <th>6</th>\n",
       "      <td>GB</td>\n",
       "      <td>0.815017</td>\n",
       "    </tr>\n",
       "    <tr>\n",
       "      <th>1</th>\n",
       "      <td>SVM</td>\n",
       "      <td>0.814751</td>\n",
       "    </tr>\n",
       "    <tr>\n",
       "      <th>4</th>\n",
       "      <td>GNB</td>\n",
       "      <td>0.795412</td>\n",
       "    </tr>\n",
       "    <tr>\n",
       "      <th>0</th>\n",
       "      <td>KNN</td>\n",
       "      <td>0.791811</td>\n",
       "    </tr>\n",
       "    <tr>\n",
       "      <th>5</th>\n",
       "      <td>RF</td>\n",
       "      <td>0.778341</td>\n",
       "    </tr>\n",
       "    <tr>\n",
       "      <th>2</th>\n",
       "      <td>LR</td>\n",
       "      <td>0.763137</td>\n",
       "    </tr>\n",
       "    <tr>\n",
       "      <th>3</th>\n",
       "      <td>DT</td>\n",
       "      <td>0.759669</td>\n",
       "    </tr>\n",
       "  </tbody>\n",
       "</table>\n",
       "</div>"
      ],
      "text/plain": [
       "  Name     Score\n",
       "6   GB  0.815017\n",
       "1  SVM  0.814751\n",
       "4  GNB  0.795412\n",
       "0  KNN  0.791811\n",
       "5   RF  0.778341\n",
       "2   LR  0.763137\n",
       "3   DT  0.759669"
      ]
     },
     "execution_count": 41,
     "metadata": {},
     "output_type": "execute_result"
    }
   ],
   "source": [
    "\n",
    "names=[]\n",
    "scores=[]\n",
    "for name, model in models:\n",
    "    model.fit(x_train, y_train)\n",
    "    y_pred = model.predict(x_test)\n",
    "    \n",
    "    scores.append(accuracy_score(y_test, y_pred))\n",
    "    names.append(name)\n",
    "    \n",
    "models_comparison = pd.DataFrame({'Name': names, 'Score':scores})\n",
    "\n",
    "# sort models by descending to see the model with highest score\n",
    "models_comparison.sort_values(by='Score', ascending=False)"
   ]
  },
  {
   "cell_type": "markdown",
   "id": "1f8dd257",
   "metadata": {},
   "source": [
    "k-fold cross validation  \n",
    "\n",
    "Iterate through the different models and in each iteration:\n",
    "- Making use of Kfold to set the number of splits and the random state. \n",
    "- use the cross_val_score to cross validate the x and y data and obtain the average score.\n",
    "- Append the score value and the name of the model into their respective list"
   ]
  },
  {
   "cell_type": "code",
   "execution_count": 42,
   "id": "caad6cc2",
   "metadata": {},
   "outputs": [
    {
     "name": "stderr",
     "output_type": "stream",
     "text": [
      "C:\\Users\\zoe\\anaconda3\\lib\\site-packages\\sklearn\\neighbors\\_classification.py:211: FutureWarning: Unlike other reduction functions (e.g. `skew`, `kurtosis`), the default behavior of `mode` typically preserves the axis it acts along. In SciPy 1.11.0, this behavior will change: the default value of `keepdims` will become False, the `axis` over which the statistic is taken will be eliminated, and the value None will no longer be accepted. Set `keepdims` to True or False to avoid this warning.\n",
      "  mode, _ = stats.mode(_y[neigh_ind, k], axis=1)\n",
      "C:\\Users\\zoe\\anaconda3\\lib\\site-packages\\sklearn\\neighbors\\_classification.py:211: FutureWarning: Unlike other reduction functions (e.g. `skew`, `kurtosis`), the default behavior of `mode` typically preserves the axis it acts along. In SciPy 1.11.0, this behavior will change: the default value of `keepdims` will become False, the `axis` over which the statistic is taken will be eliminated, and the value None will no longer be accepted. Set `keepdims` to True or False to avoid this warning.\n",
      "  mode, _ = stats.mode(_y[neigh_ind, k], axis=1)\n",
      "C:\\Users\\zoe\\anaconda3\\lib\\site-packages\\sklearn\\neighbors\\_classification.py:211: FutureWarning: Unlike other reduction functions (e.g. `skew`, `kurtosis`), the default behavior of `mode` typically preserves the axis it acts along. In SciPy 1.11.0, this behavior will change: the default value of `keepdims` will become False, the `axis` over which the statistic is taken will be eliminated, and the value None will no longer be accepted. Set `keepdims` to True or False to avoid this warning.\n",
      "  mode, _ = stats.mode(_y[neigh_ind, k], axis=1)\n",
      "C:\\Users\\zoe\\anaconda3\\lib\\site-packages\\sklearn\\neighbors\\_classification.py:211: FutureWarning: Unlike other reduction functions (e.g. `skew`, `kurtosis`), the default behavior of `mode` typically preserves the axis it acts along. In SciPy 1.11.0, this behavior will change: the default value of `keepdims` will become False, the `axis` over which the statistic is taken will be eliminated, and the value None will no longer be accepted. Set `keepdims` to True or False to avoid this warning.\n",
      "  mode, _ = stats.mode(_y[neigh_ind, k], axis=1)\n",
      "C:\\Users\\zoe\\anaconda3\\lib\\site-packages\\sklearn\\neighbors\\_classification.py:211: FutureWarning: Unlike other reduction functions (e.g. `skew`, `kurtosis`), the default behavior of `mode` typically preserves the axis it acts along. In SciPy 1.11.0, this behavior will change: the default value of `keepdims` will become False, the `axis` over which the statistic is taken will be eliminated, and the value None will no longer be accepted. Set `keepdims` to True or False to avoid this warning.\n",
      "  mode, _ = stats.mode(_y[neigh_ind, k], axis=1)\n",
      "C:\\Users\\zoe\\anaconda3\\lib\\site-packages\\sklearn\\neighbors\\_classification.py:211: FutureWarning: Unlike other reduction functions (e.g. `skew`, `kurtosis`), the default behavior of `mode` typically preserves the axis it acts along. In SciPy 1.11.0, this behavior will change: the default value of `keepdims` will become False, the `axis` over which the statistic is taken will be eliminated, and the value None will no longer be accepted. Set `keepdims` to True or False to avoid this warning.\n",
      "  mode, _ = stats.mode(_y[neigh_ind, k], axis=1)\n",
      "C:\\Users\\zoe\\anaconda3\\lib\\site-packages\\sklearn\\neighbors\\_classification.py:211: FutureWarning: Unlike other reduction functions (e.g. `skew`, `kurtosis`), the default behavior of `mode` typically preserves the axis it acts along. In SciPy 1.11.0, this behavior will change: the default value of `keepdims` will become False, the `axis` over which the statistic is taken will be eliminated, and the value None will no longer be accepted. Set `keepdims` to True or False to avoid this warning.\n",
      "  mode, _ = stats.mode(_y[neigh_ind, k], axis=1)\n",
      "C:\\Users\\zoe\\anaconda3\\lib\\site-packages\\sklearn\\neighbors\\_classification.py:211: FutureWarning: Unlike other reduction functions (e.g. `skew`, `kurtosis`), the default behavior of `mode` typically preserves the axis it acts along. In SciPy 1.11.0, this behavior will change: the default value of `keepdims` will become False, the `axis` over which the statistic is taken will be eliminated, and the value None will no longer be accepted. Set `keepdims` to True or False to avoid this warning.\n",
      "  mode, _ = stats.mode(_y[neigh_ind, k], axis=1)\n",
      "C:\\Users\\zoe\\anaconda3\\lib\\site-packages\\sklearn\\neighbors\\_classification.py:211: FutureWarning: Unlike other reduction functions (e.g. `skew`, `kurtosis`), the default behavior of `mode` typically preserves the axis it acts along. In SciPy 1.11.0, this behavior will change: the default value of `keepdims` will become False, the `axis` over which the statistic is taken will be eliminated, and the value None will no longer be accepted. Set `keepdims` to True or False to avoid this warning.\n",
      "  mode, _ = stats.mode(_y[neigh_ind, k], axis=1)\n",
      "C:\\Users\\zoe\\anaconda3\\lib\\site-packages\\sklearn\\neighbors\\_classification.py:211: FutureWarning: Unlike other reduction functions (e.g. `skew`, `kurtosis`), the default behavior of `mode` typically preserves the axis it acts along. In SciPy 1.11.0, this behavior will change: the default value of `keepdims` will become False, the `axis` over which the statistic is taken will be eliminated, and the value None will no longer be accepted. Set `keepdims` to True or False to avoid this warning.\n",
      "  mode, _ = stats.mode(_y[neigh_ind, k], axis=1)\n"
     ]
    },
    {
     "data": {
      "text/html": [
       "<div>\n",
       "<style scoped>\n",
       "    .dataframe tbody tr th:only-of-type {\n",
       "        vertical-align: middle;\n",
       "    }\n",
       "\n",
       "    .dataframe tbody tr th {\n",
       "        vertical-align: top;\n",
       "    }\n",
       "\n",
       "    .dataframe thead th {\n",
       "        text-align: right;\n",
       "    }\n",
       "</style>\n",
       "<table border=\"1\" class=\"dataframe\">\n",
       "  <thead>\n",
       "    <tr style=\"text-align: right;\">\n",
       "      <th></th>\n",
       "      <th>Name</th>\n",
       "      <th>Score</th>\n",
       "    </tr>\n",
       "  </thead>\n",
       "  <tbody>\n",
       "    <tr>\n",
       "      <th>6</th>\n",
       "      <td>GB</td>\n",
       "      <td>0.811212</td>\n",
       "    </tr>\n",
       "    <tr>\n",
       "      <th>1</th>\n",
       "      <td>SVM</td>\n",
       "      <td>0.807051</td>\n",
       "    </tr>\n",
       "    <tr>\n",
       "      <th>0</th>\n",
       "      <td>KNN</td>\n",
       "      <td>0.787163</td>\n",
       "    </tr>\n",
       "    <tr>\n",
       "      <th>4</th>\n",
       "      <td>GNB</td>\n",
       "      <td>0.787163</td>\n",
       "    </tr>\n",
       "    <tr>\n",
       "      <th>5</th>\n",
       "      <td>RF</td>\n",
       "      <td>0.773959</td>\n",
       "    </tr>\n",
       "    <tr>\n",
       "      <th>2</th>\n",
       "      <td>LR</td>\n",
       "      <td>0.760034</td>\n",
       "    </tr>\n",
       "    <tr>\n",
       "      <th>3</th>\n",
       "      <td>DT</td>\n",
       "      <td>0.757993</td>\n",
       "    </tr>\n",
       "  </tbody>\n",
       "</table>\n",
       "</div>"
      ],
      "text/plain": [
       "  Name     Score\n",
       "6   GB  0.811212\n",
       "1  SVM  0.807051\n",
       "0  KNN  0.787163\n",
       "4  GNB  0.787163\n",
       "5   RF  0.773959\n",
       "2   LR  0.760034\n",
       "3   DT  0.757993"
      ]
     },
     "execution_count": 42,
     "metadata": {},
     "output_type": "execute_result"
    }
   ],
   "source": [
    "# k fold cross validation  \n",
    "\n",
    "from sklearn.model_selection import KFold\n",
    "\n",
    "names=[]\n",
    "scores=[]\n",
    "\n",
    "for name, model in models:\n",
    "    kfold = KFold(n_splits=10, random_state=123, shuffle=True)\n",
    "    score = cross_val_score(model, x, y, cv=kfold, scoring='accuracy').mean()\n",
    "    names.append(name)\n",
    "    scores.append(score)\n",
    "\n",
    "kf_cross_val = pd.DataFrame({'Name': names, 'Score':scores})\n",
    "kf_cross_val.sort_values(by='Score', ascending=False)"
   ]
  },
  {
   "cell_type": "markdown",
   "id": "27075ad0",
   "metadata": {},
   "source": [
    "Accuracy scores of the models either remained the same or improved slightly after performing k-fold cross validation."
   ]
  },
  {
   "cell_type": "markdown",
   "id": "244ca048",
   "metadata": {},
   "source": [
    "# Feature Selection on best model"
   ]
  },
  {
   "cell_type": "markdown",
   "id": "9f8ece99",
   "metadata": {},
   "source": [
    "RFECV (Recursive feature elimination with cross-validation to select features).\n",
    "using GB model as highest accuracy"
   ]
  },
  {
   "cell_type": "code",
   "execution_count": 43,
   "id": "bec73f58",
   "metadata": {},
   "outputs": [
    {
     "data": {
      "text/plain": [
       "RFECV(cv=10, estimator=GradientBoostingClassifier(), scoring='accuracy')"
      ]
     },
     "execution_count": 43,
     "metadata": {},
     "output_type": "execute_result"
    }
   ],
   "source": [
    "# feature selction\n",
    "\n",
    "from sklearn.feature_selection import RFECV\n",
    "\n",
    "gb_model = GradientBoostingClassifier()\n",
    "rfecv = RFECV(estimator=gb_model, step=1, cv=10, scoring='accuracy')\n",
    "rfecv.fit(x, y)\n"
   ]
  },
  {
   "cell_type": "code",
   "execution_count": 44,
   "id": "a7286b72",
   "metadata": {
    "scrolled": true
   },
   "outputs": [
    {
     "data": {
      "image/png": "[encoded data removed]",
      "text/plain": [
       "<Figure size 432x288 with 1 Axes>"
      ]
     },
     "metadata": {
      "needs_background": "light"
     },
     "output_type": "display_data"
    }
   ],
   "source": [
    "import matplotlib.pyplot as plt\n",
    "\n",
    "plt.figure()\n",
    "plt.title('Gradient Boosting CV score vs No. of Features')\n",
    "plt.xlabel('number of features selcted')\n",
    "plt.ylabel('cross validation score (no. of correct classifications)')\n",
    "plt.plot(range(1, len(rfecv.grid_scores_)+1), rfecv.grid_scores_)\n",
    "plt.show()"
   ]
  },
  {
   "cell_type": "code",
   "execution_count": 45,
   "id": "485a277a",
   "metadata": {
    "scrolled": true
   },
   "outputs": [
    {
     "name": "stdout",
     "output_type": "stream",
     "text": [
      "[0.02389808 0.01302184 0.10708151 0.81630494 0.03969363]\n"
     ]
    },
    {
     "data": {
      "image/png": "[encoded data removed]",
      "text/plain": [
       "<Figure size 432x288 with 1 Axes>"
      ]
     },
     "metadata": {
      "needs_background": "light"
     },
     "output_type": "display_data"
    }
   ],
   "source": [
    "bestmodel = models[-1][1]\n",
    "featureimpt = bestmodel.feature_importances_\n",
    "print(featureimpt)\n",
    "\n",
    "# plot line chart\n",
    "sns.lineplot(x=x.columns, y=featureimpt)\n",
    "plt.xticks(rotation='90')\n",
    "plt.show()"
   ]
  },
  {
   "cell_type": "markdown",
   "id": "c42815d5",
   "metadata": {},
   "source": [
    "It is determined with RFECV that using 2 features generate the highest accuracy score.\n",
    "\n",
    "'review_taste' and 'review_palate' have the highest feature importance weight with Gradient Boosting model. \n",
    "\n",
    "Hence, after feature selection, I have determined that these two columns are able to generate the highest accuracy score with the Gradient Boosting model."
   ]
  },
  {
   "cell_type": "markdown",
   "id": "4a0d7ac8",
   "metadata": {},
   "source": [
    "# Evaluate model"
   ]
  },
  {
   "cell_type": "code",
   "execution_count": 46,
   "id": "d340f522",
   "metadata": {},
   "outputs": [
    {
     "name": "stdout",
     "output_type": "stream",
     "text": [
      "initial accuracy: 0.7526304281712685\n",
      "Accuracy after Feature Selection 0.7894864025610244\n"
     ]
    }
   ],
   "source": [
    "# caluculate accuracy score with new set of features\n",
    "\n",
    "x_new= df[['review_taste', 'review_palate']]\n",
    "\n",
    "initial_score = cross_val_score(gb_model, x, y, cv=10, scoring='accuracy').mean()\n",
    "print('initial accuracy:', initial_score)\n",
    "\n",
    "fe_score = cross_val_score(gb_model, x_new, y, cv=10, scoring='accuracy').mean()\n",
    "print('Accuracy after Feature Selection', fe_score)"
   ]
  },
  {
   "cell_type": "code",
   "execution_count": 47,
   "id": "cf1e322e",
   "metadata": {},
   "outputs": [
    {
     "name": "stdout",
     "output_type": "stream",
     "text": [
      "After feature selection, the accuracy score improved by 0.03685597438975596\n"
     ]
    }
   ],
   "source": [
    "improved = fe_score-initial_score\n",
    "print('After feature selection, the accuracy score improved by', improved)"
   ]
  },
  {
   "cell_type": "markdown",
   "id": "e0c3d2a1",
   "metadata": {},
   "source": [
    "The best performing model is the gradient boosting classifier using 'review_taste', 'review_palate' as features.\n",
    "\n",
    "After feature selection and cross validation, this model yields an average accuracy score of 0.771(3.s.f) in predicting rating range of the overall review."
   ]
  },
  {
   "cell_type": "markdown",
   "id": "a4571cd9",
   "metadata": {},
   "source": [
    "# Conclusion"
   ]
  },
  {
   "cell_type": "markdown",
   "id": "361c871a",
   "metadata": {},
   "source": [
    "The taste and palate of the beer has the heaviest impact on the overall review of the beer. Other aspects such as appearance, aroma and beer abv has a significantly lower impact in comparison.\n",
    "\n",
    "However, ratings for beer taste and palate can be subjective and dependent on the what the customer likes.\n",
    "\n",
    "\n",
    "Hence, a suggestion to the breweries is to give an overall description of the taste or the beer to customers, so that customers can choose which flavour they like the most.\n",
    "For example, a beer has a malty and sweet taste, and another beer has a dark and roasty taste. This brief description allows customers to choose a beer more suited for their tastes. \n",
    "\n",
    "Not only can this increase customer satisfaction as they taste beers of their liking, this can also improve the reviews of the various beers and breweries."
   ]
  }
 ],
 "metadata": {
  "kernelspec": {
   "display_name": "Python 3 (ipykernel)",
   "language": "python",
   "name": "python3"
  },
  "language_info": {
   "codemirror_mode": {
    "name": "ipython",
    "version": 3
   },
   "file_extension": ".py",
   "mimetype": "text/x-python",
   "name": "python",
   "nbconvert_exporter": "python",
   "pygments_lexer": "ipython3",
   "version": "3.9.7"
  }
 },
 "nbformat": 4,
 "nbformat_minor": 5
}
