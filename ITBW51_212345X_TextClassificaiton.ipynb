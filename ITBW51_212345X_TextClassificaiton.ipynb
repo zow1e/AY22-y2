{
 "cells": [
  {
   "cell_type": "code",
   "execution_count": 1,
   "id": "b7139140",
   "metadata": {},
   "outputs": [],
   "source": [
    "import pandas as pd\n",
    "\n",
    "df = pd.read_csv('processed_disney.csv', index_col=0)"
   ]
  },
  {
   "cell_type": "markdown",
   "id": "643303d6",
   "metadata": {},
   "source": [
    "# Topic modelling\n",
    "\n",
    "This well help identify strengths and pain points mentioned in visitors' reviews."
   ]
  },
  {
   "cell_type": "code",
   "execution_count": 2,
   "id": "64ce2279",
   "metadata": {},
   "outputs": [
    {
     "name": "stderr",
     "output_type": "stream",
     "text": [
      "[nltk_data] Downloading package averaged_perceptron_tagger to\n",
      "[nltk_data]     C:\\Users\\zoe\\AppData\\Roaming\\nltk_data...\n",
      "[nltk_data]   Package averaged_perceptron_tagger is already up-to-\n",
      "[nltk_data]       date!\n",
      "[nltk_data] Downloading package words to\n",
      "[nltk_data]     C:\\Users\\zoe\\AppData\\Roaming\\nltk_data...\n",
      "[nltk_data]   Package words is already up-to-date!\n",
      "[nltk_data] Downloading package maxent_ne_chunker to\n",
      "[nltk_data]     C:\\Users\\zoe\\AppData\\Roaming\\nltk_data...\n",
      "[nltk_data]   Package maxent_ne_chunker is already up-to-date!\n"
     ]
    },
    {
     "data": {
      "text/plain": [
       "True"
      ]
     },
     "execution_count": 2,
     "metadata": {},
     "output_type": "execute_result"
    }
   ],
   "source": [
    "import nltk\n",
    "from nltk import ne_chunk\n",
    "nltk.download('averaged_perceptron_tagger')\n",
    "nltk.download('words')\n",
    "nltk.download('maxent_ne_chunker')"
   ]
  },
  {
   "cell_type": "markdown",
   "id": "7c011315",
   "metadata": {},
   "source": [
    "Get most frequently occuring words and remove before performing topic modelling"
   ]
  },
  {
   "cell_type": "code",
   "execution_count": 3,
   "id": "32adfbdb",
   "metadata": {},
   "outputs": [],
   "source": [
    "from nltk import FreqDist\n",
    "from nltk.tokenize import word_tokenize\n",
    "all_words = ' '.join(df['words_review'])\n",
    "\n",
    "all_words_frequency = FreqDist(word_tokenize(all_words))\n"
   ]
  },
  {
   "cell_type": "code",
   "execution_count": 4,
   "id": "864ac995",
   "metadata": {
    "scrolled": true
   },
   "outputs": [
    {
     "data": {
      "text/plain": [
       "['ride',\n",
       " 'park',\n",
       " 'disneyland',\n",
       " 'time',\n",
       " 'not',\n",
       " 'get',\n",
       " 'disney',\n",
       " 'day',\n",
       " 'line',\n",
       " 'place',\n",
       " 'one',\n",
       " 'pas',\n",
       " 'people',\n",
       " 'like',\n",
       " 'wait',\n",
       " 'year',\n",
       " 'food',\n",
       " 'would',\n",
       " 'kid',\n",
       " 'experience',\n",
       " 'even',\n",
       " 'hour',\n",
       " 'ticket',\n",
       " 'back',\n",
       " 'fast',\n",
       " 'make',\n",
       " 'long',\n",
       " 'love',\n",
       " 'really',\n",
       " 'great',\n",
       " 'much',\n",
       " 'family',\n",
       " 'many',\n",
       " 'fun',\n",
       " 'went',\n",
       " 'also',\n",
       " 'going',\n",
       " 'got',\n",
       " 'money',\n",
       " 'see',\n",
       " 'way',\n",
       " 'first',\n",
       " 'good',\n",
       " 'minute',\n",
       " 'visit',\n",
       " 'lot',\n",
       " 'always',\n",
       " 'take',\n",
       " 'come',\n",
       " 'star']"
      ]
     },
     "execution_count": 4,
     "metadata": {},
     "output_type": "execute_result"
    }
   ],
   "source": [
    "# most frequently occurring words\n",
    "frequent_dict_keys = dict(all_words_frequency.most_common(50)).keys()\n",
    "list_freq_keys = list(frequent_dict_keys)\n",
    "list_freq_keys"
   ]
  },
  {
   "cell_type": "markdown",
   "id": "6fd7c491",
   "metadata": {},
   "source": [
    "Create part-of-speech tagging function"
   ]
  },
  {
   "cell_type": "code",
   "execution_count": 5,
   "id": "a90a3fcd",
   "metadata": {},
   "outputs": [],
   "source": [
    "def tagPOS(text):\n",
    "    tagged_text = []\n",
    "    \n",
    "#     remove top 25 occuring words\n",
    "    for i in text:\n",
    "        if i not in list_freq_keys:\n",
    "            tagged_text.append(i)\n",
    "\n",
    "        #  Using a Tagger. Which is part-of-speech tagger or POS-tagger.  \n",
    "    tagged_text = nltk.pos_tag(tagged_text) \n",
    "\n",
    "    return tagged_text"
   ]
  },
  {
   "cell_type": "markdown",
   "id": "22fa3a0f",
   "metadata": {},
   "source": [
    "### Perform topic modelling seperately on positive and negative reviews "
   ]
  },
  {
   "cell_type": "code",
   "execution_count": 6,
   "id": "1580024a",
   "metadata": {},
   "outputs": [
    {
     "name": "stderr",
     "output_type": "stream",
     "text": [
      "C:\\Users\\zoe\\AppData\\Local\\Temp/ipykernel_35656/1455964061.py:3: SettingWithCopyWarning: \n",
      "A value is trying to be set on a copy of a slice from a DataFrame.\n",
      "Try using .loc[row_indexer,col_indexer] = value instead\n",
      "\n",
      "See the caveats in the documentation: https://pandas.pydata.org/pandas-docs/stable/user_guide/indexing.html#returning-a-view-versus-a-copy\n",
      "  dfpos['list_words'] = dfpos['words_review'].apply(lambda x: x.split())\n",
      "C:\\Users\\zoe\\AppData\\Local\\Temp/ipykernel_35656/1455964061.py:4: SettingWithCopyWarning: \n",
      "A value is trying to be set on a copy of a slice from a DataFrame.\n",
      "Try using .loc[row_indexer,col_indexer] = value instead\n",
      "\n",
      "See the caveats in the documentation: https://pandas.pydata.org/pandas-docs/stable/user_guide/indexing.html#returning-a-view-versus-a-copy\n",
      "  dfpos['POS_txt'] = dfpos['list_words'].apply(lambda x: tagPOS(x))\n"
     ]
    },
    {
     "data": {
      "text/html": [
       "<div>\n",
       "<style scoped>\n",
       "    .dataframe tbody tr th:only-of-type {\n",
       "        vertical-align: middle;\n",
       "    }\n",
       "\n",
       "    .dataframe tbody tr th {\n",
       "        vertical-align: top;\n",
       "    }\n",
       "\n",
       "    .dataframe thead th {\n",
       "        text-align: right;\n",
       "    }\n",
       "</style>\n",
       "<table border=\"1\" class=\"dataframe\">\n",
       "  <thead>\n",
       "    <tr style=\"text-align: right;\">\n",
       "      <th></th>\n",
       "      <th>review</th>\n",
       "      <th>rating</th>\n",
       "      <th>date_posted</th>\n",
       "      <th>year</th>\n",
       "      <th>month</th>\n",
       "      <th>sentiment</th>\n",
       "      <th>words_review</th>\n",
       "      <th>list_words</th>\n",
       "      <th>POS_txt</th>\n",
       "    </tr>\n",
       "  </thead>\n",
       "  <tbody>\n",
       "    <tr>\n",
       "      <th>0</th>\n",
       "      <td>the happiest place on earth   how can anyone r...</td>\n",
       "      <td>5</td>\n",
       "      <td>2006-05</td>\n",
       "      <td>2006</td>\n",
       "      <td>May</td>\n",
       "      <td>positive</td>\n",
       "      <td>happiest place earth anyone resist place child...</td>\n",
       "      <td>[happiest, place, earth, anyone, resist, place...</td>\n",
       "      <td>[(happiest, JJS), (earth, NN), (anyone, NN), (...</td>\n",
       "    </tr>\n",
       "    <tr>\n",
       "      <th>1</th>\n",
       "      <td>its walt disneyland s 50th anniversary  and it...</td>\n",
       "      <td>5</td>\n",
       "      <td>2006-07</td>\n",
       "      <td>2006</td>\n",
       "      <td>July</td>\n",
       "      <td>positive</td>\n",
       "      <td>walt disneyland anniversary still happiest pla...</td>\n",
       "      <td>[walt, disneyland, anniversary, still, happies...</td>\n",
       "      <td>[(walt, NN), (anniversary, NN), (still, RB), (...</td>\n",
       "    </tr>\n",
       "    <tr>\n",
       "      <th>2</th>\n",
       "      <td>some info and advice for disney goers  new and...</td>\n",
       "      <td>4</td>\n",
       "      <td>2006-10</td>\n",
       "      <td>2006</td>\n",
       "      <td>October</td>\n",
       "      <td>positive</td>\n",
       "      <td>info advice disney goer new old mediocre meal ...</td>\n",
       "      <td>[info, advice, disney, goer, new, old, mediocr...</td>\n",
       "      <td>[(info, JJ), (advice, NN), (goer, VBD), (new, ...</td>\n",
       "    </tr>\n",
       "    <tr>\n",
       "      <th>3</th>\n",
       "      <td>you got to hate and love this place at the sam...</td>\n",
       "      <td>5</td>\n",
       "      <td>2007-05</td>\n",
       "      <td>2007</td>\n",
       "      <td>May</td>\n",
       "      <td>positive</td>\n",
       "      <td>got hate love place time hate people one crowd...</td>\n",
       "      <td>[got, hate, love, place, time, hate, people, o...</td>\n",
       "      <td>[(hate, NN), (hate, NN), (crowd, NN), (blame, ...</td>\n",
       "    </tr>\n",
       "    <tr>\n",
       "      <th>4</th>\n",
       "      <td>announcer dude  hey ian  this is your 300th re...</td>\n",
       "      <td>5</td>\n",
       "      <td>2007-06</td>\n",
       "      <td>2007</td>\n",
       "      <td>June</td>\n",
       "      <td>positive</td>\n",
       "      <td>announcer dude hey ian review gon ian going re...</td>\n",
       "      <td>[announcer, dude, hey, ian, review, gon, ian, ...</td>\n",
       "      <td>[(announcer, NN), (dude, NN), (hey, NN), (ian,...</td>\n",
       "    </tr>\n",
       "  </tbody>\n",
       "</table>\n",
       "</div>"
      ],
      "text/plain": [
       "                                              review  rating date_posted  \\\n",
       "0  the happiest place on earth   how can anyone r...       5     2006-05   \n",
       "1  its walt disneyland s 50th anniversary  and it...       5     2006-07   \n",
       "2  some info and advice for disney goers  new and...       4     2006-10   \n",
       "3  you got to hate and love this place at the sam...       5     2007-05   \n",
       "4  announcer dude  hey ian  this is your 300th re...       5     2007-06   \n",
       "\n",
       "   year    month sentiment                                       words_review  \\\n",
       "0  2006      May  positive  happiest place earth anyone resist place child...   \n",
       "1  2006     July  positive  walt disneyland anniversary still happiest pla...   \n",
       "2  2006  October  positive  info advice disney goer new old mediocre meal ...   \n",
       "3  2007      May  positive  got hate love place time hate people one crowd...   \n",
       "4  2007     June  positive  announcer dude hey ian review gon ian going re...   \n",
       "\n",
       "                                          list_words  \\\n",
       "0  [happiest, place, earth, anyone, resist, place...   \n",
       "1  [walt, disneyland, anniversary, still, happies...   \n",
       "2  [info, advice, disney, goer, new, old, mediocr...   \n",
       "3  [got, hate, love, place, time, hate, people, o...   \n",
       "4  [announcer, dude, hey, ian, review, gon, ian, ...   \n",
       "\n",
       "                                             POS_txt  \n",
       "0  [(happiest, JJS), (earth, NN), (anyone, NN), (...  \n",
       "1  [(walt, NN), (anniversary, NN), (still, RB), (...  \n",
       "2  [(info, JJ), (advice, NN), (goer, VBD), (new, ...  \n",
       "3  [(hate, NN), (hate, NN), (crowd, NN), (blame, ...  \n",
       "4  [(announcer, NN), (dude, NN), (hey, NN), (ian,...  "
      ]
     },
     "execution_count": 6,
     "metadata": {},
     "output_type": "execute_result"
    }
   ],
   "source": [
    "# dataframe of positive reviews\n",
    "dfpos = df[df['sentiment']=='positive']\n",
    "dfpos['list_words'] = dfpos['words_review'].apply(lambda x: x.split())\n",
    "dfpos['POS_txt'] = dfpos['list_words'].apply(lambda x: tagPOS(x))\n",
    "dfpos.head()"
   ]
  },
  {
   "cell_type": "code",
   "execution_count": 7,
   "id": "cd87b27a",
   "metadata": {},
   "outputs": [
    {
     "name": "stderr",
     "output_type": "stream",
     "text": [
      "C:\\Users\\zoe\\AppData\\Local\\Temp/ipykernel_35656/1405629338.py:3: SettingWithCopyWarning: \n",
      "A value is trying to be set on a copy of a slice from a DataFrame.\n",
      "Try using .loc[row_indexer,col_indexer] = value instead\n",
      "\n",
      "See the caveats in the documentation: https://pandas.pydata.org/pandas-docs/stable/user_guide/indexing.html#returning-a-view-versus-a-copy\n",
      "  dfneg['list_words'] = dfneg['words_review'].apply(lambda x: x.split())\n",
      "C:\\Users\\zoe\\AppData\\Local\\Temp/ipykernel_35656/1405629338.py:4: SettingWithCopyWarning: \n",
      "A value is trying to be set on a copy of a slice from a DataFrame.\n",
      "Try using .loc[row_indexer,col_indexer] = value instead\n",
      "\n",
      "See the caveats in the documentation: https://pandas.pydata.org/pandas-docs/stable/user_guide/indexing.html#returning-a-view-versus-a-copy\n",
      "  dfneg['POS_txt'] = dfneg['list_words'].apply(lambda x: tagPOS(x))\n"
     ]
    },
    {
     "data": {
      "text/html": [
       "<div>\n",
       "<style scoped>\n",
       "    .dataframe tbody tr th:only-of-type {\n",
       "        vertical-align: middle;\n",
       "    }\n",
       "\n",
       "    .dataframe tbody tr th {\n",
       "        vertical-align: top;\n",
       "    }\n",
       "\n",
       "    .dataframe thead th {\n",
       "        text-align: right;\n",
       "    }\n",
       "</style>\n",
       "<table border=\"1\" class=\"dataframe\">\n",
       "  <thead>\n",
       "    <tr style=\"text-align: right;\">\n",
       "      <th></th>\n",
       "      <th>review</th>\n",
       "      <th>rating</th>\n",
       "      <th>date_posted</th>\n",
       "      <th>year</th>\n",
       "      <th>month</th>\n",
       "      <th>sentiment</th>\n",
       "      <th>words_review</th>\n",
       "      <th>list_words</th>\n",
       "      <th>POS_txt</th>\n",
       "    </tr>\n",
       "  </thead>\n",
       "  <tbody>\n",
       "    <tr>\n",
       "      <th>49</th>\n",
       "      <td>i feel like a total a hole because everyone el...</td>\n",
       "      <td>2</td>\n",
       "      <td>2010-03</td>\n",
       "      <td>2010</td>\n",
       "      <td>March</td>\n",
       "      <td>negative</td>\n",
       "      <td>feel like total hole everyone else putting sta...</td>\n",
       "      <td>[feel, like, total, hole, everyone, else, putt...</td>\n",
       "      <td>[(feel, VB), (total, JJ), (hole, NN), (everyon...</td>\n",
       "    </tr>\n",
       "    <tr>\n",
       "      <th>111</th>\n",
       "      <td>yes  i am the soulless biz natch that two star...</td>\n",
       "      <td>2</td>\n",
       "      <td>2011-10</td>\n",
       "      <td>2011</td>\n",
       "      <td>October</td>\n",
       "      <td>negative</td>\n",
       "      <td>yes soulless biz natch two star disneyland not...</td>\n",
       "      <td>[yes, soulless, biz, natch, two, star, disneyl...</td>\n",
       "      <td>[(yes, RB), (soulless, JJ), (biz, NN), (natch,...</td>\n",
       "    </tr>\n",
       "    <tr>\n",
       "      <th>121</th>\n",
       "      <td>i know  i know    a review on disneyland  what...</td>\n",
       "      <td>2</td>\n",
       "      <td>2011-11</td>\n",
       "      <td>2011</td>\n",
       "      <td>November</td>\n",
       "      <td>negative</td>\n",
       "      <td>know know review disneyland cliche right situa...</td>\n",
       "      <td>[know, know, review, disneyland, cliche, right...</td>\n",
       "      <td>[(know, NNS), (know, VBP), (review, VBP), (cli...</td>\n",
       "    </tr>\n",
       "    <tr>\n",
       "      <th>129</th>\n",
       "      <td>combine one part waking up the wrong side of t...</td>\n",
       "      <td>2</td>\n",
       "      <td>2012-02</td>\n",
       "      <td>2012</td>\n",
       "      <td>February</td>\n",
       "      <td>negative</td>\n",
       "      <td>combine one part waking wrong side bed one par...</td>\n",
       "      <td>[combine, one, part, waking, wrong, side, bed,...</td>\n",
       "      <td>[(combine, JJ), (part, NN), (waking, VBG), (wr...</td>\n",
       "    </tr>\n",
       "    <tr>\n",
       "      <th>170</th>\n",
       "      <td>don t get me wrong    i love disneyland  the r...</td>\n",
       "      <td>2</td>\n",
       "      <td>2012-10</td>\n",
       "      <td>2012</td>\n",
       "      <td>October</td>\n",
       "      <td>negative</td>\n",
       "      <td>get wrong love disneyland ride cute take back ...</td>\n",
       "      <td>[get, wrong, love, disneyland, ride, cute, tak...</td>\n",
       "      <td>[(wrong, JJ), (cute, JJ), (thing, NN), (simple...</td>\n",
       "    </tr>\n",
       "  </tbody>\n",
       "</table>\n",
       "</div>"
      ],
      "text/plain": [
       "                                                review  rating date_posted  \\\n",
       "49   i feel like a total a hole because everyone el...       2     2010-03   \n",
       "111  yes  i am the soulless biz natch that two star...       2     2011-10   \n",
       "121  i know  i know    a review on disneyland  what...       2     2011-11   \n",
       "129  combine one part waking up the wrong side of t...       2     2012-02   \n",
       "170  don t get me wrong    i love disneyland  the r...       2     2012-10   \n",
       "\n",
       "     year     month sentiment  \\\n",
       "49   2010     March  negative   \n",
       "111  2011   October  negative   \n",
       "121  2011  November  negative   \n",
       "129  2012  February  negative   \n",
       "170  2012   October  negative   \n",
       "\n",
       "                                          words_review  \\\n",
       "49   feel like total hole everyone else putting sta...   \n",
       "111  yes soulless biz natch two star disneyland not...   \n",
       "121  know know review disneyland cliche right situa...   \n",
       "129  combine one part waking wrong side bed one par...   \n",
       "170  get wrong love disneyland ride cute take back ...   \n",
       "\n",
       "                                            list_words  \\\n",
       "49   [feel, like, total, hole, everyone, else, putt...   \n",
       "111  [yes, soulless, biz, natch, two, star, disneyl...   \n",
       "121  [know, know, review, disneyland, cliche, right...   \n",
       "129  [combine, one, part, waking, wrong, side, bed,...   \n",
       "170  [get, wrong, love, disneyland, ride, cute, tak...   \n",
       "\n",
       "                                               POS_txt  \n",
       "49   [(feel, VB), (total, JJ), (hole, NN), (everyon...  \n",
       "111  [(yes, RB), (soulless, JJ), (biz, NN), (natch,...  \n",
       "121  [(know, NNS), (know, VBP), (review, VBP), (cli...  \n",
       "129  [(combine, JJ), (part, NN), (waking, VBG), (wr...  \n",
       "170  [(wrong, JJ), (cute, JJ), (thing, NN), (simple...  "
      ]
     },
     "execution_count": 7,
     "metadata": {},
     "output_type": "execute_result"
    }
   ],
   "source": [
    "# dataframe of negative reviews\n",
    "dfneg = df[df['sentiment']=='negative']\n",
    "dfneg['list_words'] = dfneg['words_review'].apply(lambda x: x.split())\n",
    "dfneg['POS_txt'] = dfneg['list_words'].apply(lambda x: tagPOS(x))\n",
    "dfneg.head()"
   ]
  },
  {
   "cell_type": "markdown",
   "id": "bd05adc7",
   "metadata": {},
   "source": [
    "Function to identify named entities from POS tagged words"
   ]
  },
  {
   "cell_type": "code",
   "execution_count": 8,
   "id": "d397475a",
   "metadata": {},
   "outputs": [],
   "source": [
    "import re\n",
    "\n",
    "exclude = ['DATE','TIME','PERCENT','MONEY','QUANTITY','ORDINAL','CARDINAL']\n",
    "\n",
    "def NERchunk(tagged):\n",
    "    allner = []\n",
    "    for text in tagged:\n",
    "        nerlist = []\n",
    "        res_chunk = ne_chunk(text)\n",
    "        \n",
    "        for x in str(res_chunk).split('\\n'):\n",
    "\n",
    "            if '(S' not in x and re.search('[A-Z]+', x) != None:\n",
    "                entity = re.search('[A-Z]+', x).group()\n",
    "\n",
    "                if entity not in exclude:\n",
    "                    nerlist.append(x)\n",
    "    #                   only excluded named entities in 'exclude'. include other named entities and 'NNP' terms.\n",
    "\n",
    "        allner.append(nerlist)\n",
    "    return allner"
   ]
  },
  {
   "cell_type": "code",
   "execution_count": 9,
   "id": "dd039fd8",
   "metadata": {},
   "outputs": [
    {
     "data": {
      "text/html": [
       "<div>\n",
       "<style scoped>\n",
       "    .dataframe tbody tr th:only-of-type {\n",
       "        vertical-align: middle;\n",
       "    }\n",
       "\n",
       "    .dataframe tbody tr th {\n",
       "        vertical-align: top;\n",
       "    }\n",
       "\n",
       "    .dataframe thead th {\n",
       "        text-align: right;\n",
       "    }\n",
       "</style>\n",
       "<table border=\"1\" class=\"dataframe\">\n",
       "  <thead>\n",
       "    <tr style=\"text-align: right;\">\n",
       "      <th></th>\n",
       "      <th>review</th>\n",
       "      <th>rating</th>\n",
       "      <th>date_posted</th>\n",
       "      <th>year</th>\n",
       "      <th>month</th>\n",
       "      <th>sentiment</th>\n",
       "      <th>words_review</th>\n",
       "      <th>list_words</th>\n",
       "      <th>POS_txt</th>\n",
       "    </tr>\n",
       "  </thead>\n",
       "  <tbody>\n",
       "    <tr>\n",
       "      <th>0</th>\n",
       "      <td>the happiest place on earth   how can anyone r...</td>\n",
       "      <td>5</td>\n",
       "      <td>2006-05</td>\n",
       "      <td>2006</td>\n",
       "      <td>May</td>\n",
       "      <td>positive</td>\n",
       "      <td>happiest place earth anyone resist place child...</td>\n",
       "      <td>[happiest, place, earth, anyone, resist, place...</td>\n",
       "      <td>[(happiest, JJS), (earth, NN), (anyone, NN), (...</td>\n",
       "    </tr>\n",
       "    <tr>\n",
       "      <th>1</th>\n",
       "      <td>its walt disneyland s 50th anniversary  and it...</td>\n",
       "      <td>5</td>\n",
       "      <td>2006-07</td>\n",
       "      <td>2006</td>\n",
       "      <td>July</td>\n",
       "      <td>positive</td>\n",
       "      <td>walt disneyland anniversary still happiest pla...</td>\n",
       "      <td>[walt, disneyland, anniversary, still, happies...</td>\n",
       "      <td>[(walt, NN), (anniversary, NN), (still, RB), (...</td>\n",
       "    </tr>\n",
       "    <tr>\n",
       "      <th>2</th>\n",
       "      <td>some info and advice for disney goers  new and...</td>\n",
       "      <td>4</td>\n",
       "      <td>2006-10</td>\n",
       "      <td>2006</td>\n",
       "      <td>October</td>\n",
       "      <td>positive</td>\n",
       "      <td>info advice disney goer new old mediocre meal ...</td>\n",
       "      <td>[info, advice, disney, goer, new, old, mediocr...</td>\n",
       "      <td>[(info, JJ), (advice, NN), (goer, VBD), (new, ...</td>\n",
       "    </tr>\n",
       "    <tr>\n",
       "      <th>3</th>\n",
       "      <td>you got to hate and love this place at the sam...</td>\n",
       "      <td>5</td>\n",
       "      <td>2007-05</td>\n",
       "      <td>2007</td>\n",
       "      <td>May</td>\n",
       "      <td>positive</td>\n",
       "      <td>got hate love place time hate people one crowd...</td>\n",
       "      <td>[got, hate, love, place, time, hate, people, o...</td>\n",
       "      <td>[(hate, NN), (hate, NN), (crowd, NN), (blame, ...</td>\n",
       "    </tr>\n",
       "    <tr>\n",
       "      <th>4</th>\n",
       "      <td>announcer dude  hey ian  this is your 300th re...</td>\n",
       "      <td>5</td>\n",
       "      <td>2007-06</td>\n",
       "      <td>2007</td>\n",
       "      <td>June</td>\n",
       "      <td>positive</td>\n",
       "      <td>announcer dude hey ian review gon ian going re...</td>\n",
       "      <td>[announcer, dude, hey, ian, review, gon, ian, ...</td>\n",
       "      <td>[(announcer, NN), (dude, NN), (hey, NN), (ian,...</td>\n",
       "    </tr>\n",
       "  </tbody>\n",
       "</table>\n",
       "</div>"
      ],
      "text/plain": [
       "                                              review  rating date_posted  \\\n",
       "0  the happiest place on earth   how can anyone r...       5     2006-05   \n",
       "1  its walt disneyland s 50th anniversary  and it...       5     2006-07   \n",
       "2  some info and advice for disney goers  new and...       4     2006-10   \n",
       "3  you got to hate and love this place at the sam...       5     2007-05   \n",
       "4  announcer dude  hey ian  this is your 300th re...       5     2007-06   \n",
       "\n",
       "   year    month sentiment                                       words_review  \\\n",
       "0  2006      May  positive  happiest place earth anyone resist place child...   \n",
       "1  2006     July  positive  walt disneyland anniversary still happiest pla...   \n",
       "2  2006  October  positive  info advice disney goer new old mediocre meal ...   \n",
       "3  2007      May  positive  got hate love place time hate people one crowd...   \n",
       "4  2007     June  positive  announcer dude hey ian review gon ian going re...   \n",
       "\n",
       "                                          list_words  \\\n",
       "0  [happiest, place, earth, anyone, resist, place...   \n",
       "1  [walt, disneyland, anniversary, still, happies...   \n",
       "2  [info, advice, disney, goer, new, old, mediocr...   \n",
       "3  [got, hate, love, place, time, hate, people, o...   \n",
       "4  [announcer, dude, hey, ian, review, gon, ian, ...   \n",
       "\n",
       "                                             POS_txt  \n",
       "0  [(happiest, JJS), (earth, NN), (anyone, NN), (...  \n",
       "1  [(walt, NN), (anniversary, NN), (still, RB), (...  \n",
       "2  [(info, JJ), (advice, NN), (goer, VBD), (new, ...  \n",
       "3  [(hate, NN), (hate, NN), (crowd, NN), (blame, ...  \n",
       "4  [(announcer, NN), (dude, NN), (hey, NN), (ian,...  "
      ]
     },
     "execution_count": 9,
     "metadata": {},
     "output_type": "execute_result"
    }
   ],
   "source": [
    "# Perform NER on positive dataset\n",
    "postagged = NERchunk(dfpos['POS_txt'])\n",
    "dfpos.head()"
   ]
  },
  {
   "cell_type": "code",
   "execution_count": 10,
   "id": "e71a8f75",
   "metadata": {},
   "outputs": [
    {
     "data": {
      "text/plain": [
       "['  hate/NN',\n",
       " '  hate/NN',\n",
       " '  crowd/NN',\n",
       " '  blame/VBP',\n",
       " '  everyone/NN',\n",
       " '  else/RB',\n",
       " '  around/IN',\n",
       " '  seem/VBP',\n",
       " '  every/DT',\n",
       " '  stroller/NN',\n",
       " '  magenetically/RB',\n",
       " '  pulled/VBD',\n",
       " '  towards/NNS',\n",
       " '  shin/JJ',\n",
       " '  every/DT',\n",
       " '  person/NN',\n",
       " '  walk/VBP',\n",
       " '  head/NN',\n",
       " '  side/NN',\n",
       " '  walk/VBP',\n",
       " '  look/NN',\n",
       " '  everything/NN',\n",
       " '  entry/NN',\n",
       " '  drink/NN',\n",
       " '  bathroom/NN',\n",
       " '  character/NN',\n",
       " '  photo/NN',\n",
       " '  return/NN',\n",
       " '  hand/NN',\n",
       " '  stamp/VBD',\n",
       " '  trying/VBG',\n",
       " '  exit/NN',\n",
       " '  firework/NN',\n",
       " '  show/NN',\n",
       " '  hurdled/VBD',\n",
       " '  cattle/NNS',\n",
       " '  want/VBP',\n",
       " '  seen/VBN',\n",
       " '  done/VBN',\n",
       " '  want/VBP',\n",
       " '  hope/NN',\n",
       " '  something/NN',\n",
       " '  may/MD',\n",
       " '  missed/VBN',\n",
       " '  though/IN',\n",
       " '  getting/VBG',\n",
       " '  break/JJ',\n",
       " '  wallet/NN',\n",
       " '  still/RB',\n",
       " '  need/VB',\n",
       " '  dole/JJ',\n",
       " '  pineapple/JJ',\n",
       " '  whip/NN',\n",
       " '  walk/NN',\n",
       " '  past/IN',\n",
       " '  booth/CC',\n",
       " '  everyone/NN',\n",
       " '  cup/NN',\n",
       " '  hand/NN',\n",
       " '  front/NN',\n",
       " '  tiki/NN',\n",
       " '  tiki/JJ',\n",
       " '  room/NN',\n",
       " '  soft/JJ',\n",
       " '  frozen/JJ',\n",
       " '  lemonade/NN',\n",
       " '  sweet/NN',\n",
       " '  gibson/NN',\n",
       " '  girl/NN',\n",
       " '  ice/NN',\n",
       " '  cream/NN',\n",
       " '  skewer/NN',\n",
       " '  bengal/NN',\n",
       " '  cafe/JJ',\n",
       " '  pickle/NN',\n",
       " '  fruit/NN',\n",
       " '  veggie/NN',\n",
       " '  stand/VBP',\n",
       " '  tigertails/NNS',\n",
       " '  main/JJ',\n",
       " '  street/NN',\n",
       " '  bakery/NN',\n",
       " '  coke/VBD',\n",
       " '  coke/JJ',\n",
       " '  corner/NN',\n",
       " '  mickey/NN',\n",
       " '  shaped/VBD',\n",
       " '  ice/JJ',\n",
       " '  cream/NN',\n",
       " '  sandwich/NN',\n",
       " '  something/NN',\n",
       " '  resist/VB',\n",
       " '  small/JJ',\n",
       " '  world/NN',\n",
       " '  drive/NN',\n",
       " '  nut/NN',\n",
       " '  seem/VBP',\n",
       " '  walk/NN',\n",
       " '  ticking/VBG',\n",
       " '  clock/NN',\n",
       " '  walk/NN',\n",
       " '  pirate/NN',\n",
       " '  every/DT',\n",
       " '  boat/NN',\n",
       " '  water/NN',\n",
       " '  jam/NN',\n",
       " '  play/VBP',\n",
       " '  bumper/IN',\n",
       " '  boat/NN',\n",
       " '  try/NN',\n",
       " '  scream/NN',\n",
       " '  head/NN',\n",
       " '  drop/NN',\n",
       " '  though/IN',\n",
       " '  silly/RB',\n",
       " '  know/VBP',\n",
       " '  indiana/JJ',\n",
       " '  jones/NNS',\n",
       " '  hand/NN',\n",
       " '  still/RB',\n",
       " '  duck/VBD',\n",
       " '  snake/JJ',\n",
       " '  lunge/NN',\n",
       " '  cover/NN',\n",
       " '  ear/NN',\n",
       " '  pressured/VBD',\n",
       " '  air/NN',\n",
       " '  simulated/VBN',\n",
       " '  arrow/NN',\n",
       " '  shoot/NN',\n",
       " '  past/IN',\n",
       " '  head/NN',\n",
       " '  yell/NN',\n",
       " '  indie/NN',\n",
       " '  giant/NN',\n",
       " '  ball/NN',\n",
       " '  roll/NN',\n",
       " '  towards/NNS',\n",
       " '  end/VBP',\n",
       " '  seems/VBZ',\n",
       " '  silly/JJ',\n",
       " '  shoot/JJ',\n",
       " '  wrist/NN',\n",
       " '  hurt/VBD',\n",
       " '  buzz/JJ',\n",
       " '  lightyear/JJ',\n",
       " '  glowing/VBG',\n",
       " '  check/NN',\n",
       " '  score/NN',\n",
       " '  hope/VBP',\n",
       " '  beat/NN',\n",
       " '  partner/NN',\n",
       " '  damnit/VBZ',\n",
       " '  hopefully/RB',\n",
       " '  next/JJ',\n",
       " '  autopia/NN',\n",
       " '  license/NN',\n",
       " '  sign/NN',\n",
       " '  say/VBP',\n",
       " '  bump/NN',\n",
       " '  car/NN',\n",
       " '  ahead/RB',\n",
       " '  bump/NN',\n",
       " '  car/NN',\n",
       " '  ahead/RB',\n",
       " '  find/RB',\n",
       " '  frustrated/JJ',\n",
       " '  point/NN',\n",
       " '  mickey/NN',\n",
       " '  point/NN',\n",
       " '  smile/NN',\n",
       " '  happy/JJ',\n",
       " '  fantasmic/JJ',\n",
       " '  awesome/JJ',\n",
       " '  enough/RB',\n",
       " '  mickey/NN',\n",
       " '  save/VBP',\n",
       " '  cheer/NN',\n",
       " '  eye/NN',\n",
       " '  light/VBD',\n",
       " '  obnoxious/JJ',\n",
       " '  child/NN',\n",
       " '  firework/NN',\n",
       " '  think/VBP',\n",
       " '  wow/IN',\n",
       " '  call/NN',\n",
       " '  happiest/JJS',\n",
       " '  earth/NN',\n",
       " '  hell/NN',\n",
       " '  truly/RB',\n",
       " '  try/VB',\n",
       " '  best/JJS',\n",
       " '  happiest/JJS',\n",
       " '  earth/NN',\n",
       " '  charge/NN',\n",
       " '  arm/NN',\n",
       " '  leg/NN',\n",
       " '  toss/IN',\n",
       " '  arond/NN',\n",
       " '  bit/NN',\n",
       " '  still/RB',\n",
       " '  admit/VBP',\n",
       " '  evil/JJ',\n",
       " '  must/MD',\n",
       " '  brainwashed/VB',\n",
       " '  soo/NN)']"
      ]
     },
     "execution_count": 10,
     "metadata": {},
     "output_type": "execute_result"
    }
   ],
   "source": [
    "postagged[3]"
   ]
  },
  {
   "cell_type": "code",
   "execution_count": 11,
   "id": "97d98d0e",
   "metadata": {},
   "outputs": [
    {
     "data": {
      "text/html": [
       "<div>\n",
       "<style scoped>\n",
       "    .dataframe tbody tr th:only-of-type {\n",
       "        vertical-align: middle;\n",
       "    }\n",
       "\n",
       "    .dataframe tbody tr th {\n",
       "        vertical-align: top;\n",
       "    }\n",
       "\n",
       "    .dataframe thead th {\n",
       "        text-align: right;\n",
       "    }\n",
       "</style>\n",
       "<table border=\"1\" class=\"dataframe\">\n",
       "  <thead>\n",
       "    <tr style=\"text-align: right;\">\n",
       "      <th></th>\n",
       "      <th>review</th>\n",
       "      <th>rating</th>\n",
       "      <th>date_posted</th>\n",
       "      <th>year</th>\n",
       "      <th>month</th>\n",
       "      <th>sentiment</th>\n",
       "      <th>words_review</th>\n",
       "      <th>list_words</th>\n",
       "      <th>POS_txt</th>\n",
       "    </tr>\n",
       "  </thead>\n",
       "  <tbody>\n",
       "    <tr>\n",
       "      <th>49</th>\n",
       "      <td>i feel like a total a hole because everyone el...</td>\n",
       "      <td>2</td>\n",
       "      <td>2010-03</td>\n",
       "      <td>2010</td>\n",
       "      <td>March</td>\n",
       "      <td>negative</td>\n",
       "      <td>feel like total hole everyone else putting sta...</td>\n",
       "      <td>[feel, like, total, hole, everyone, else, putt...</td>\n",
       "      <td>[(feel, VB), (total, JJ), (hole, NN), (everyon...</td>\n",
       "    </tr>\n",
       "    <tr>\n",
       "      <th>111</th>\n",
       "      <td>yes  i am the soulless biz natch that two star...</td>\n",
       "      <td>2</td>\n",
       "      <td>2011-10</td>\n",
       "      <td>2011</td>\n",
       "      <td>October</td>\n",
       "      <td>negative</td>\n",
       "      <td>yes soulless biz natch two star disneyland not...</td>\n",
       "      <td>[yes, soulless, biz, natch, two, star, disneyl...</td>\n",
       "      <td>[(yes, RB), (soulless, JJ), (biz, NN), (natch,...</td>\n",
       "    </tr>\n",
       "    <tr>\n",
       "      <th>121</th>\n",
       "      <td>i know  i know    a review on disneyland  what...</td>\n",
       "      <td>2</td>\n",
       "      <td>2011-11</td>\n",
       "      <td>2011</td>\n",
       "      <td>November</td>\n",
       "      <td>negative</td>\n",
       "      <td>know know review disneyland cliche right situa...</td>\n",
       "      <td>[know, know, review, disneyland, cliche, right...</td>\n",
       "      <td>[(know, NNS), (know, VBP), (review, VBP), (cli...</td>\n",
       "    </tr>\n",
       "    <tr>\n",
       "      <th>129</th>\n",
       "      <td>combine one part waking up the wrong side of t...</td>\n",
       "      <td>2</td>\n",
       "      <td>2012-02</td>\n",
       "      <td>2012</td>\n",
       "      <td>February</td>\n",
       "      <td>negative</td>\n",
       "      <td>combine one part waking wrong side bed one par...</td>\n",
       "      <td>[combine, one, part, waking, wrong, side, bed,...</td>\n",
       "      <td>[(combine, JJ), (part, NN), (waking, VBG), (wr...</td>\n",
       "    </tr>\n",
       "    <tr>\n",
       "      <th>170</th>\n",
       "      <td>don t get me wrong    i love disneyland  the r...</td>\n",
       "      <td>2</td>\n",
       "      <td>2012-10</td>\n",
       "      <td>2012</td>\n",
       "      <td>October</td>\n",
       "      <td>negative</td>\n",
       "      <td>get wrong love disneyland ride cute take back ...</td>\n",
       "      <td>[get, wrong, love, disneyland, ride, cute, tak...</td>\n",
       "      <td>[(wrong, JJ), (cute, JJ), (thing, NN), (simple...</td>\n",
       "    </tr>\n",
       "  </tbody>\n",
       "</table>\n",
       "</div>"
      ],
      "text/plain": [
       "                                                review  rating date_posted  \\\n",
       "49   i feel like a total a hole because everyone el...       2     2010-03   \n",
       "111  yes  i am the soulless biz natch that two star...       2     2011-10   \n",
       "121  i know  i know    a review on disneyland  what...       2     2011-11   \n",
       "129  combine one part waking up the wrong side of t...       2     2012-02   \n",
       "170  don t get me wrong    i love disneyland  the r...       2     2012-10   \n",
       "\n",
       "     year     month sentiment  \\\n",
       "49   2010     March  negative   \n",
       "111  2011   October  negative   \n",
       "121  2011  November  negative   \n",
       "129  2012  February  negative   \n",
       "170  2012   October  negative   \n",
       "\n",
       "                                          words_review  \\\n",
       "49   feel like total hole everyone else putting sta...   \n",
       "111  yes soulless biz natch two star disneyland not...   \n",
       "121  know know review disneyland cliche right situa...   \n",
       "129  combine one part waking wrong side bed one par...   \n",
       "170  get wrong love disneyland ride cute take back ...   \n",
       "\n",
       "                                            list_words  \\\n",
       "49   [feel, like, total, hole, everyone, else, putt...   \n",
       "111  [yes, soulless, biz, natch, two, star, disneyl...   \n",
       "121  [know, know, review, disneyland, cliche, right...   \n",
       "129  [combine, one, part, waking, wrong, side, bed,...   \n",
       "170  [get, wrong, love, disneyland, ride, cute, tak...   \n",
       "\n",
       "                                               POS_txt  \n",
       "49   [(feel, VB), (total, JJ), (hole, NN), (everyon...  \n",
       "111  [(yes, RB), (soulless, JJ), (biz, NN), (natch,...  \n",
       "121  [(know, NNS), (know, VBP), (review, VBP), (cli...  \n",
       "129  [(combine, JJ), (part, NN), (waking, VBG), (wr...  \n",
       "170  [(wrong, JJ), (cute, JJ), (thing, NN), (simple...  "
      ]
     },
     "execution_count": 11,
     "metadata": {},
     "output_type": "execute_result"
    }
   ],
   "source": [
    "# Perform NER on negative dataset\n",
    "negtagged = NERchunk(dfneg['POS_txt'])\n",
    "dfneg.head()"
   ]
  },
  {
   "cell_type": "markdown",
   "id": "0b506b87",
   "metadata": {},
   "source": [
    "### Using LDA model, identify topics in each sentiment dataset"
   ]
  },
  {
   "cell_type": "code",
   "execution_count": 12,
   "id": "b9b89fe0",
   "metadata": {},
   "outputs": [
    {
     "name": "stderr",
     "output_type": "stream",
     "text": [
      "C:\\Users\\zoe\\AppData\\Roaming\\Python\\Python39\\site-packages\\spacy\\language.py:1895: UserWarning: [W123] Argument disable with value [] is used instead of ['senter'] as specified in the config. Be aware that this might affect other components in your pipeline.\n",
      "  warnings.warn(\n"
     ]
    }
   ],
   "source": [
    "import gensim\n",
    "from gensim import corpora\n",
    "\n",
    "from spacy import displacy\n",
    "from collections import Counter\n",
    "import en_core_web_sm\n",
    "nlp = en_core_web_sm.load()\n",
    "\n",
    "# plotting tools\n",
    "import pyLDAvis\n",
    "import pyLDAvis.gensim_models\n",
    "import matplotlib.pyplot as plt\n",
    "%matplotlib inline"
   ]
  },
  {
   "cell_type": "code",
   "execution_count": 13,
   "id": "7b93be04",
   "metadata": {},
   "outputs": [],
   "source": [
    "seed = 40\n",
    "Lda = gensim.models.ldamodel.LdaModel"
   ]
  },
  {
   "cell_type": "markdown",
   "id": "01e2302b",
   "metadata": {},
   "source": [
    "#### Positive dataset"
   ]
  },
  {
   "cell_type": "code",
   "execution_count": 14,
   "id": "70049af8",
   "metadata": {},
   "outputs": [],
   "source": [
    "\n",
    "dictionary = corpora.Dictionary(postagged)\n",
    "doc_term_matrix = [dictionary.doc2bow(doc) for doc in postagged]"
   ]
  },
  {
   "cell_type": "code",
   "execution_count": 15,
   "id": "3b5d20f4",
   "metadata": {},
   "outputs": [
    {
     "name": "stdout",
     "output_type": "stream",
     "text": [
      "Perplexity:  -8.40714076912292\n"
     ]
    }
   ],
   "source": [
    "topic_num = 4\n",
    "\n",
    "ldamodel = Lda(doc_term_matrix, num_topics = topic_num, id2word = dictionary, passes=25, random_state=seed)\n",
    "print('Perplexity: ', ldamodel.log_perplexity(doc_term_matrix))"
   ]
  },
  {
   "cell_type": "markdown",
   "id": "ce031d96",
   "metadata": {},
   "source": [
    "perplexity improved after removing top most occuring words in overall dataset"
   ]
  },
  {
   "cell_type": "code",
   "execution_count": 16,
   "id": "e44158b4",
   "metadata": {},
   "outputs": [
    {
     "name": "stderr",
     "output_type": "stream",
     "text": [
      "C:\\Users\\zoe\\anaconda3\\lib\\site-packages\\pyLDAvis\\_prepare.py:246: FutureWarning: In a future version of pandas all arguments of DataFrame.drop except for the argument 'labels' will be keyword-only.\n",
      "  default_term_info = default_term_info.sort_values(\n"
     ]
    },
    {
     "data": {
      "text/html": [
       "\n",
       "<link rel=\"stylesheet\" type=\"text/css\" href=\"https://cdn.jsdelivr.net/gh/bmabey/pyLDAvis@3.3.1/pyLDAvis/js/ldavis.v1.0.0.css\">\n",
       "\n",
       "\n",
       "<div id=\"ldavis_el356561288375897104484682964\"></div>\n",
       "<script type=\"text/javascript\">\n",
       "\n",
       "var ldavis_el356561288375897104484682964_data = {\"mdsDat\": {\"x\": [0.13638567190061082, 0.1002550832394905, -0.140429065980292, -0.09621168915980922], \"y\": [-3.158009576215631e-05, -0.027592925929869467, -0.12276708696378605, 0.15039159298941765], \"topics\": [1, 2, 3, 4], \"cluster\": [1, 1, 1, 1], \"Freq\": [54.14811309665173, 28.6398743773361, 10.884705802140875, 6.327306723871301]}, \"tinfo\": {\"Term\": [\"  mountain/NN\", \"  world/NN\", \"  war/NN\", \"  space/NN\", \"  jones/NNS\", \"  resistance/NN\", \"  haunted/VBN\", \"  mansion/NN\", \"  small/JJ\", \"  rise/NN\", \"  favorite/JJ\", \"  show/NN\", \"  new/JJ\", \"  galaxy/NN\", \"  indiana/NN\", \"  app/NN\", \"  staff/NN\", \"  edge/NN\", \"  pirate/NN\", \"  genie/NN\", \"  mask/NN\", \"  firework/NN\", \"  land/NN\", \"  thunder/NN\", \"  order/NN\", \"  splash/NN\", \"  magical/JJ\", \"  water/NN\", \"  still/RB\", \"  main/JJ\", \"  child/JJ\", \"  smile/JJ\", \"  spend/JJ\", \"  complaint/NN\", \"  passholder/NN\", \"  child/NN\", \"  organized/VBN\", \"  soon/RB)\", \"  afford/NN\", \"  lady/NN\", \"  cry/NN\", \"  earth/JJ\", \"  girl/JJ\", \"  happiness/NN\", \"  growing/VBG\", \"  brings/NNS\", \"  maintenance/NN\", \"  majority/NN\", \"  willing/JJ\", \"  smiling/VBG\", \"  attitude/NN\", \"  pricing/NN\", \"  starwars/NNS\", \"  positive/JJ\", \"  believe/VB\", \"  rude/NN\", \"  changing/VBG\", \"  impressive/JJ\", \"  created/VBD\", \"  complain/NN\", \"  happy/JJ\", \"  clean/JJ\", \"  pricey/JJ\", \"  member/NN\", \"  friendly/RB\", \"  staff/NN\", \"  cast/JJ\", \"  happiest/JJS\", \"  making/VBG\", \"  earth/NN\", \"  southern/JJ\", \"  friendly/JJ\", \"  daughter/NN\", \"  memory/NN\", \"  event/NN\", \"  every/DT\", \"  price/NN\", \"  cast/NN\", \"  age/NN\", \"  coming/VBG\", \"  son/NN\", \"  job/NN\", \"  truly/RB\", \"  parent/NN\", \"  employee/NN\", \"  expensive/JJ\", \"  annual/JJ\", \"  magical/JJ\", \"  never/RB\", \"  weekend/NN\", \"  everyone/NN\", \"  everything/NN\", \"  old/JJ\", \"  still/RB\", \"  since/IN\", \"  definitely/RB\", \"  well/RB\", \"  something/NN\", \"  little/JJ\", \"  thing/NN\", \"  trip/NN\", \"  amazing/VBG\", \"  best/JJS\", \"  say/VBP\", \"  worth/JJ\", \"  could/MD\", \"  new/JJ\", \"  character/NN\", \"  world/NN\", \"  able/JJ\", \"  sure/JJ\", \"  dole/JJ\", \"  charger/NN\", \"  pretzel/NN\", \"  soft/JJ\", \"  chowder/NN\", \"  cheese/JJ\", \"  bowl/NN\", \"  bread/NN\", \"  portable/JJ\", \"  refreshing/VBG\", \"  sandwich/JJ\", \"  pineapple/JJ\", \"  pizza/NN\", \"  checked/VBD\", \"  cheese/NN\", \"  bottle/NN\", \"  link/NN\", \"  downloading/VBG\", \"  cream/NN\", \"  milk/NN\", \"  pickup/NN\", \"  code/NN\", \"  detector/NN\", \"  mobile/NN\", \"  pretzel/JJ\", \"  plate/NN\", \"  metal/NN\", \"  add/VBP\", \"  harbor/NN\", \"  cristo/NN\", \"  ice/NN\", \"  whip/NN\", \"  chip/NN\", \"  menu/NN\", \"  download/NN\", \"  dinner/NN\", \"  bag/NN\", \"  scan/JJ\", \"  bar/NN\", \"  app/NN\", \"  phone/NN\", \"  entrance/NN\", \"  cafe/JJ\", \"  app/JJ\", \"  order/NN\", \"  dole/NN\", \"  book/NN\", \"  snack/NN\", \"  mobile/JJ\", \"  tip/NN\", \"  water/NN\", \"  fastpass/NN\", \"  beignet/NN\", \"  photo/NN\", \"  use/NN\", \"  reservation/NN\", \"  dog/NN\", \"  restaurant/NN\", \"  check/NN\", \"  mountain/NN\", \"  morning/NN\", \"  min/NN\", \"  jones/NNS\", \"  early/JJ\", \"  open/JJ\", \"  space/NN\", \"  parking/VBG\", \"  indiana/NN\", \"  want/VBP\", \"  eat/NN\", \"  must/MD\", \"  adventure/NN\", \"  pass/NN\", \"  show/NN\", \"  two/CD\", \"  free/JJ\", \"  around/IN\", \"  thing/NN\", \"  best/JJS\", \"  able/JJ\", \"  california/NN\", \"  sure/JJ\", \"  winnie/NN\", \"  roger/NN\", \"  rabbit/NN\", \"  submarine/JJ\", \"  critter/NN\", \"  lifetime/NN\", \"  animation/NN\", \"  element/NN\", \"  spin/NN\", \"  critter/JJ\", \"  storm/NN\", \"  honeymoon/NN\", \"  tomorrowland/VBP\", \"  another/DT)\", \"  silhouette/NN\", \"  chapter/NN\", \"  sparrow/NN\", \"  dans/NNS\", \"  song/JJ\", \"  astro/NN\", \"  waving/VBG\", \"  iger/NN\", \"  push/NN\", \"  enjoys/VBZ\", \"  character/NN)\", \"  captain/VBP\", \"  dapper/NN\", \"  trooper/IN\", \"  potential/JJ\", \"  tarzan/NN\", \"  toad/NN\", \"  nemo/JJ\", \"  boat/NN\", \"  frontierland/NN\", \"  jungle/NN\", \"  cruise/NN\", \"  alice/NN\", \"  mansion/NN\", \"  haunted/VBN\", \"  fantasyland/NN\", \"  storybook/NN\", \"  country/NN\", \"  wild/JJ\", \"  autopia/NN\", \"  mountain/NN\", \"  tomorrowland/NN\", \"  railroad/NN\", \"  song/NN\", \"  pirate/JJ\", \"  splash/NN\", \"  pirate/NN\", \"  matterhorn/NN\", \"  caribbean/JJ\", \"  caribbean/NN\", \"  lightyear/JJ\", \"  space/NN\", \"  jones/NNS\", \"  pan/NN\", \"  world/NN\", \"  indiana/NN\", \"  small/JJ\", \"  peter/NN\", \"  thunder/NN\", \"  white/JJ\", \"  favorite/JJ\", \"  orleans/NNS\", \"  castle/NN\", \"  land/NN\", \"  main/JJ\", \"  street/NN\", \"  classic/JJ\", \"  war/NN\", \"  big/JJ\", \"  firework/NN\", \"  new/JJ\", \"  show/NN\", \"  attraction/NN\", \"  mickey/NN\", \"  parade/NN\", \"  different/JJ\", \"  age/NN)\", \"  squeeze/NN\", \"  boarding/NN\", \"  canister/NN\", \"  vaccinated/VBN\", \"  miss/VB\", \"  establishment/NN\", \"  surprising/JJ\", \"  cargo/NN\", \"  slinger/NN\", \"  web/NN\", \"  carmen/NNS\", \"  spiderman/NN\", \"  seen/VBN)\", \"  brought/NN\", \"  craziness/NN\", \"  refused/VBD\", \"  effective/JJ\", \"  lineup/NN\", \"  lesser/JJR\", \"  lightsaber/NN\", \"  covering/VBG\", \"  reduce/VB\", \"  character/RB\", \"  feel/NN)\", \"  luggage/NN\", \"  gunner/NN\", \"  week/NN)\", \"  whilst/NN\", \"  event/NN)\", \"  millennium/NN\", \"  covid/JJ\", \"  engineer/NN\", \"  campus/NN\", \"  smuggler/NN\", \"  falcon/NN\", \"  disappoint/NN\", \"  resistance/NN\", \"  millenium/NN\", \"  mask/NN\", \"  rise/NN\", \"  edge/NN\", \"  mask/JJ\", \"  galaxy/NN\", \"  screen/NN\", \"  pilot/NN\", \"  lightening/VBG\", \"  queue/NN\", \"  lane/NN\", \"  lightning/VBG\", \"  senior/JJ\", \"  virtual/JJ\", \"  disneyworld/NN\", \"  war/NN\", \"  lighting/VBG\", \"  genie/NN\", \"  boarding/VBG\", \"  christmas/NN\", \"  show/NN\", \"  enjoyed/VBN\", \"  new/JJ\", \"  weather/NN\", \"  excellent/JJ\", \"  firework/NN\", \"  still/RB\", \"  service/NN\", \"  hotel/NN\", \"  sure/JJ\", \"  capacity/NN\", \"  light/JJ\", \"  halloween/JJ\", \"  walking/VBG\", \"  small/JJ\", \"  loved/VBD\", \"  magical/JJ\", \"  night/NN\", \"  took/VBD\", \"  amazing/VBG\"], \"Freq\": [861.0, 949.0, 692.0, 552.0, 374.0, 225.0, 325.0, 308.0, 489.0, 205.0, 645.0, 768.0, 810.0, 218.0, 293.0, 396.0, 474.0, 160.0, 227.0, 251.0, 136.0, 558.0, 495.0, 203.0, 373.0, 173.0, 703.0, 500.0, 1077.0, 403.0, 109.17128123495604, 79.79417991378047, 70.88360999395087, 87.8162806385956, 63.375015767491675, 382.25104475055923, 53.44099272166742, 49.769360697917335, 48.59067857464986, 45.92872216198116, 51.83393431264831, 80.7256858882619, 46.75857965788032, 54.874972312739956, 45.505380938737986, 38.40909117167346, 37.82434455605264, 37.409555563114864, 34.54492720875101, 36.27580079405732, 32.94853676563261, 33.12495029344407, 34.070462825774776, 38.72897098326461, 32.42292398937953, 30.7036947140147, 48.39339496507631, 30.503501482737157, 30.860472662668307, 37.78211524998717, 479.43205251232945, 305.19913767831196, 65.7659056885239, 569.6854664525283, 148.22582704654263, 449.89256363160996, 166.57746138265875, 765.0806131366305, 163.67133355395774, 741.4158659319222, 85.70857319230612, 201.95628733640012, 247.26197389161104, 312.17213635038354, 107.7069825704903, 915.0201627228647, 684.4876246320724, 246.58183283418595, 281.12792078595163, 372.20042332197374, 172.10037758063154, 160.95472904959172, 312.1514215519679, 140.93038250557993, 245.44703766670722, 542.0704351409596, 484.11810017131114, 615.5973481355876, 583.9214709744905, 231.38642568455367, 535.3636231813625, 695.5711287678653, 452.1426814349233, 824.4039447720338, 605.7017616000919, 560.9381070939787, 630.3019356837794, 371.65891923625395, 558.8746398730912, 713.9864292760235, 523.3645684349353, 450.7489823439184, 578.2876669388219, 422.6128511783526, 421.38825565162534, 449.691595924642, 516.0365299195539, 428.7016975324409, 509.7330198673414, 438.6419746150432, 431.78609064285973, 168.4807595527363, 45.62060036894589, 45.29744771141558, 40.2242372183842, 38.15315027165691, 35.206010026259825, 35.78729961049964, 34.01956123073398, 33.54919098008878, 32.31298453534045, 31.87146522057711, 28.517305228040833, 64.13075798149761, 27.315312942042727, 25.09280324123791, 105.42216156581655, 24.09185789395848, 29.780746660586253, 130.79523221465035, 36.147103695365445, 21.709786152916024, 20.485026862643632, 19.954759761197092, 27.98121496424564, 19.42229152080917, 19.15116746368527, 18.7331071157179, 18.183261786840323, 17.755247034406707, 17.566314573070635, 134.23136615304182, 216.97258961981913, 29.94276239581918, 53.20582782600877, 134.70381434455334, 101.36944590127813, 82.50700749964531, 46.746339206374884, 109.71364331305983, 311.45041733332215, 248.59360958017405, 158.25967231997168, 60.522072819152854, 194.06024446975962, 277.20926999145286, 61.115891647628025, 175.3182527195274, 210.03617661194593, 112.66529671460725, 175.65090394864617, 318.52977296110504, 161.69568306028808, 61.00998647568906, 220.65849533562235, 242.19345315349742, 223.90279344470844, 119.94175283610386, 208.42014639513172, 158.9362925747063, 427.72689602459576, 136.39189900887774, 108.20698834729927, 213.65701731769832, 203.58355423169635, 216.90716322874806, 265.98990054313174, 237.65076231796647, 170.86152128758042, 256.47381840159954, 153.5765356788526, 195.02744791757664, 238.25911441269827, 236.6218119949207, 253.25496480161945, 215.26752826074906, 180.6373542506056, 212.23769336075756, 234.25642537984623, 219.6531497637614, 197.8352963126888, 193.92209836157295, 191.53029807920188, 20.334142902953875, 19.461636130463685, 20.041923983585598, 17.799292983385463, 15.27819154944299, 14.849012179669634, 12.503868418983009, 12.52704840632736, 12.96333846976762, 11.42581250003141, 11.077168447182098, 10.997207479527024, 10.402136375656005, 9.80434491641593, 10.000317413109967, 9.179581672144115, 9.259427926018567, 8.233917161519049, 8.484006469496284, 12.823739602408217, 8.046931358006319, 7.873413108411877, 8.875789927152463, 8.254422054713912, 8.608854861472476, 7.6111961346886625, 7.523500180683022, 7.624224342630823, 7.346968158158203, 7.170738137219106, 44.4408989791279, 32.883022044063026, 54.63217737941381, 30.880284871950078, 69.99274903066106, 75.46298881270828, 29.224164362196255, 191.1313504063893, 197.747104833687, 52.36933178211672, 17.533651764292365, 36.46689905315863, 30.433494205570632, 20.890729484340582, 387.4157624539647, 58.31024766862026, 64.1928514970064, 31.911132558529047, 65.52279468686417, 94.5229316195285, 116.99066344109077, 38.97302838781519, 85.1834319139035, 53.028219644843325, 32.747403822927815, 213.10113389760946, 158.73177125216347, 55.37229508467504, 283.1800353186158, 121.41949562581487, 173.32820865860904, 58.59483148846736, 89.39404883398058, 38.55427470585898, 173.08426004954148, 62.30007099526676, 70.21573389141128, 116.5580535830207, 98.3603276445322, 94.64463747820831, 59.11225775053968, 109.40218609752641, 92.40650450679396, 92.29516190666293, 95.14500806416301, 80.42741417659926, 74.47596335105892, 65.97374002105339, 65.02466531164383, 64.27769911564283, 12.08089598975823, 9.4535044011175, 9.653049282138591, 6.834820213919873, 6.8220659915195485, 7.025235818877279, 6.685647616224974, 6.18689564542795, 6.027895183587972, 7.95619153403185, 7.95619153403185, 5.50831576176427, 5.5006938936190775, 5.514696501993426, 5.608413453998425, 5.443884166485694, 6.107653982823802, 5.626472409531108, 5.481310796132115, 5.526012721654776, 5.236645290368151, 5.232759507572547, 5.5047407145763, 5.376541636325099, 4.858026880882587, 4.706738559284035, 4.718650393329066, 4.758296627834101, 4.8618405367269295, 4.747359641702651, 31.92035475983619, 25.473918218796808, 5.079381318901927, 12.869664534403228, 39.435681871815696, 48.575180910175916, 17.911067157622984, 115.66754032802352, 9.61632895226018, 74.53887651106695, 103.87379125743604, 83.8470092687324, 14.439062618916346, 99.50708228145574, 14.733414067897963, 11.867436504315902, 15.029601805550673, 48.81377505043249, 43.445552055819476, 39.922193127815085, 10.939454778422126, 33.989438382855106, 27.39992918823155, 118.44446605637269, 15.828216813114343, 51.6648345830764, 23.721300440193275, 43.183006324200804, 77.64907774613292, 35.527290225578376, 66.32570889766536, 24.251624963240353, 20.164178840940785, 45.828521283638864, 56.24202361169474, 35.984199492071596, 34.6557317352301, 43.00637785402121, 24.37209602424828, 27.595831431399652, 27.532016771050102, 33.90045096288688, 34.7460002024333, 30.678294183348005, 32.959672373502094, 31.474720886428138, 28.619689381550014, 28.765396710184017], \"Total\": [861.0, 949.0, 692.0, 552.0, 374.0, 225.0, 325.0, 308.0, 489.0, 205.0, 645.0, 768.0, 810.0, 218.0, 293.0, 396.0, 474.0, 160.0, 227.0, 251.0, 136.0, 558.0, 495.0, 203.0, 373.0, 173.0, 703.0, 500.0, 1077.0, 403.0, 109.90918773546207, 80.45180333559226, 71.54462149016014, 88.64702521544314, 64.01792102081701, 386.22778560413497, 54.08423052827452, 50.40381446065713, 49.22982971553185, 46.57366129497825, 52.570848054910314, 81.89652832096587, 47.43756412945851, 55.674704763022405, 46.19225270052846, 39.05585671758062, 38.48301189531139, 38.06195682683726, 35.187033262584606, 36.96252068939446, 33.590692637526075, 33.77284717998223, 34.744860112157845, 39.50188102898187, 33.07952417494453, 31.34926183235128, 49.4212550633069, 31.155276279642415, 31.529444735214362, 38.6029842367337, 494.09809839706713, 314.8937382725253, 67.46467090186306, 597.5800121623455, 153.47972786398793, 474.19737232488137, 173.36087066432495, 821.6138510557793, 170.38634227961668, 798.8593421063006, 88.39145858754816, 212.92636109826367, 263.3525897739519, 335.2948097533155, 112.34249767461871, 1025.6544296688398, 759.4519377002194, 264.57836033480487, 303.61621363087806, 406.71449133541006, 182.52869474688669, 170.38327263379446, 339.7027368626644, 148.56063470367033, 265.20892734034896, 610.8647933741236, 542.8901741527984, 703.9318717083472, 670.6694531490149, 253.22259186479133, 630.6447690428031, 846.7856937501097, 541.7725562185049, 1077.1607976601108, 761.043144088193, 702.4330148445692, 822.5897477349454, 442.3930551539745, 718.0228694844755, 973.4220247576936, 675.9693119720963, 564.8675928430163, 851.6399190508167, 552.124676800072, 554.5158890896954, 632.440395222093, 810.0841450181857, 611.2356695282483, 949.6620558539507, 672.6237312564621, 686.1978452184966, 169.15511307129387, 46.29286142202138, 45.96797394146944, 40.89407220102728, 38.815810518719275, 35.87124876056777, 36.471778180400456, 34.69518150725545, 34.22164239246783, 32.97840335603043, 32.572608736349366, 29.18650961475158, 65.67442257372737, 27.996656555369967, 25.75260802104088, 108.2424418903096, 24.760246544645952, 30.62270880840473, 134.5425935650531, 37.230218746356016, 22.372959594671176, 21.135945178090957, 20.62890066831564, 28.93356348229744, 20.089726506859424, 19.810408653528846, 19.409816820996916, 18.852826892370853, 18.418143116231402, 18.235289612643456, 139.6101714354558, 227.7200969184882, 31.249978523632272, 56.366103742279485, 148.40082171651028, 111.9071033883038, 91.36283274948894, 50.56370929276809, 126.94460604041704, 396.385300379073, 323.1498675957059, 196.86171601037657, 67.78597597628409, 248.07626567989442, 373.09866378504273, 68.8109203065107, 228.60969739452173, 282.3863260167817, 138.78778168111177, 233.9099908353999, 500.16429059305773, 223.58644901264663, 69.43959923726183, 328.7991286531268, 375.2793162788042, 350.2616485326411, 161.7041355148263, 333.7728452210915, 237.02064188916285, 861.7772450912382, 198.4130990198347, 146.06248986823923, 374.73764713328836, 352.66335231549465, 402.2055170559984, 552.5118157540198, 476.57891611764467, 293.23359326936986, 614.8685464662044, 242.836682419004, 406.47771273709947, 639.4506481407471, 639.3402120605256, 768.7112647816705, 538.07179055104, 360.8794182732437, 648.9219022159297, 973.4220247576936, 851.6399190508167, 672.6237312564621, 585.9896921160082, 686.1978452184966, 21.058668837402116, 20.17003553564681, 20.77160905300526, 18.48545563277753, 15.969318527209575, 15.559419896089437, 13.169364461777198, 13.194512486491684, 13.660054008657639, 12.084682580642816, 11.747556583309567, 11.67018329074601, 11.067215141932751, 10.47079774344958, 10.68180102195369, 9.831847414503532, 9.918542573111656, 8.890356950827416, 9.161076677981553, 13.878938691639771, 8.71190571648887, 8.528556037978852, 9.632802464756963, 8.963087365992587, 9.348167426907093, 8.276299125996237, 8.184008871802362, 8.30123858405424, 8.01425445618346, 7.826036100266498, 49.696657987896785, 37.072894867886646, 63.75362709445429, 36.732797234573546, 95.60402674464648, 105.16098719309818, 36.90411121151019, 308.4243410225564, 325.6134877479944, 72.88116844442852, 21.01881982636541, 49.05753294898693, 40.53235790254579, 25.94099016858974, 861.7772450912382, 89.05357715416366, 100.21290616650654, 43.82369340638307, 108.33323425296719, 173.17955901082797, 227.09560896955915, 56.71549147231341, 152.96787010747775, 86.14895664862601, 46.38666127007186, 552.5118157540198, 374.73764713328836, 93.7607979535179, 949.6620558539507, 293.23359326936986, 489.30234121884615, 105.8376509759168, 203.2690880761214, 57.86017205674445, 645.3660846306288, 125.30077246451796, 165.34695518376364, 495.5734545454342, 403.87613159273945, 372.93129804455896, 144.03792005656103, 692.8340505820133, 462.6116441200269, 558.7993622674047, 810.0841450181857, 768.7112647816705, 545.848730567401, 289.03534233416616, 375.10623804119507, 353.1900241418509, 12.80966661424777, 10.209732664796334, 10.549269236983285, 7.557194514231739, 7.5553734381532625, 7.7979534397883, 7.472145649008272, 6.929370191607117, 6.7595270540174095, 8.962721755888996, 8.962721755888996, 6.221298329447621, 6.219938822669792, 6.23687345078044, 6.355255843447105, 6.181413377326348, 6.9390539146007155, 6.393898090475808, 6.234864479091807, 6.286091773047255, 5.958776484937558, 5.958725200579463, 6.269012812035542, 6.131538999313831, 5.592068048194095, 5.4222291800826925, 5.439486212880011, 5.489358109871173, 5.610686754797578, 5.48800162299284, 37.3043078671657, 31.9181675572211, 5.881895363884518, 16.369355478180044, 56.457962729638865, 74.3328805221972, 24.458004712080015, 225.2674135018642, 12.100394020742215, 136.09967145073495, 205.96737957150097, 160.56449479943922, 19.928623467802804, 218.30565550788327, 21.684769493096532, 16.700420656080247, 23.005440891972242, 109.03235799402779, 94.94913728679376, 91.93638333601236, 15.97045145194117, 84.61401243886473, 67.8020306647649, 692.8340505820133, 29.10195412134491, 251.62178378080603, 68.87081000009796, 232.86653026709632, 768.7112647816705, 173.43300902427836, 810.0841450181857, 97.49466970536224, 63.61334476471941, 558.7993622674047, 1077.1607976601108, 352.6866570007567, 327.6541702661794, 686.1978452184966, 110.25983106224076, 169.39963578321834, 169.8582334978622, 366.3304555265264, 489.30234121884615, 281.3594349045154, 703.9318717083472, 493.77965398599673, 320.50100657750426, 564.8675928430163], \"Category\": [\"Default\", \"Default\", \"Default\", \"Default\", \"Default\", \"Default\", \"Default\", \"Default\", \"Default\", \"Default\", \"Default\", \"Default\", \"Default\", \"Default\", \"Default\", \"Default\", \"Default\", \"Default\", \"Default\", \"Default\", \"Default\", \"Default\", \"Default\", \"Default\", \"Default\", \"Default\", \"Default\", \"Default\", \"Default\", \"Default\", \"Topic1\", \"Topic1\", \"Topic1\", \"Topic1\", \"Topic1\", \"Topic1\", \"Topic1\", \"Topic1\", \"Topic1\", \"Topic1\", \"Topic1\", \"Topic1\", \"Topic1\", \"Topic1\", \"Topic1\", \"Topic1\", \"Topic1\", \"Topic1\", \"Topic1\", \"Topic1\", \"Topic1\", \"Topic1\", \"Topic1\", \"Topic1\", \"Topic1\", \"Topic1\", \"Topic1\", \"Topic1\", \"Topic1\", \"Topic1\", \"Topic1\", \"Topic1\", \"Topic1\", \"Topic1\", \"Topic1\", \"Topic1\", \"Topic1\", \"Topic1\", \"Topic1\", \"Topic1\", \"Topic1\", \"Topic1\", \"Topic1\", \"Topic1\", \"Topic1\", \"Topic1\", \"Topic1\", \"Topic1\", \"Topic1\", \"Topic1\", \"Topic1\", \"Topic1\", \"Topic1\", \"Topic1\", \"Topic1\", \"Topic1\", \"Topic1\", \"Topic1\", \"Topic1\", \"Topic1\", \"Topic1\", \"Topic1\", \"Topic1\", \"Topic1\", \"Topic1\", \"Topic1\", \"Topic1\", \"Topic1\", \"Topic1\", \"Topic1\", \"Topic1\", \"Topic1\", \"Topic1\", \"Topic1\", \"Topic1\", \"Topic1\", \"Topic1\", \"Topic1\", \"Topic1\", \"Topic1\", \"Topic1\", \"Topic2\", \"Topic2\", \"Topic2\", \"Topic2\", \"Topic2\", \"Topic2\", \"Topic2\", \"Topic2\", \"Topic2\", \"Topic2\", \"Topic2\", \"Topic2\", \"Topic2\", \"Topic2\", \"Topic2\", \"Topic2\", \"Topic2\", \"Topic2\", \"Topic2\", \"Topic2\", \"Topic2\", \"Topic2\", \"Topic2\", \"Topic2\", \"Topic2\", \"Topic2\", \"Topic2\", \"Topic2\", \"Topic2\", \"Topic2\", \"Topic2\", \"Topic2\", \"Topic2\", \"Topic2\", \"Topic2\", \"Topic2\", \"Topic2\", \"Topic2\", \"Topic2\", \"Topic2\", \"Topic2\", \"Topic2\", \"Topic2\", \"Topic2\", \"Topic2\", \"Topic2\", \"Topic2\", \"Topic2\", \"Topic2\", \"Topic2\", \"Topic2\", \"Topic2\", \"Topic2\", \"Topic2\", \"Topic2\", \"Topic2\", \"Topic2\", \"Topic2\", \"Topic2\", \"Topic2\", \"Topic2\", \"Topic2\", \"Topic2\", \"Topic2\", \"Topic2\", \"Topic2\", \"Topic2\", \"Topic2\", \"Topic2\", \"Topic2\", \"Topic2\", \"Topic2\", \"Topic2\", \"Topic2\", \"Topic2\", \"Topic2\", \"Topic2\", \"Topic2\", \"Topic2\", \"Topic2\", \"Topic2\", \"Topic2\", \"Topic3\", \"Topic3\", \"Topic3\", \"Topic3\", \"Topic3\", \"Topic3\", \"Topic3\", \"Topic3\", \"Topic3\", \"Topic3\", \"Topic3\", \"Topic3\", \"Topic3\", \"Topic3\", \"Topic3\", \"Topic3\", \"Topic3\", \"Topic3\", \"Topic3\", \"Topic3\", \"Topic3\", \"Topic3\", \"Topic3\", \"Topic3\", \"Topic3\", \"Topic3\", \"Topic3\", \"Topic3\", \"Topic3\", \"Topic3\", \"Topic3\", \"Topic3\", \"Topic3\", \"Topic3\", \"Topic3\", \"Topic3\", \"Topic3\", \"Topic3\", \"Topic3\", \"Topic3\", \"Topic3\", \"Topic3\", \"Topic3\", \"Topic3\", \"Topic3\", \"Topic3\", \"Topic3\", \"Topic3\", \"Topic3\", \"Topic3\", \"Topic3\", \"Topic3\", \"Topic3\", \"Topic3\", \"Topic3\", \"Topic3\", \"Topic3\", \"Topic3\", \"Topic3\", \"Topic3\", \"Topic3\", \"Topic3\", \"Topic3\", \"Topic3\", \"Topic3\", \"Topic3\", \"Topic3\", \"Topic3\", \"Topic3\", \"Topic3\", \"Topic3\", \"Topic3\", \"Topic3\", \"Topic3\", \"Topic3\", \"Topic3\", \"Topic3\", \"Topic3\", \"Topic3\", \"Topic3\", \"Topic4\", \"Topic4\", \"Topic4\", \"Topic4\", \"Topic4\", \"Topic4\", \"Topic4\", \"Topic4\", \"Topic4\", \"Topic4\", \"Topic4\", \"Topic4\", \"Topic4\", \"Topic4\", \"Topic4\", \"Topic4\", \"Topic4\", \"Topic4\", \"Topic4\", \"Topic4\", \"Topic4\", \"Topic4\", \"Topic4\", \"Topic4\", \"Topic4\", \"Topic4\", \"Topic4\", \"Topic4\", \"Topic4\", \"Topic4\", \"Topic4\", \"Topic4\", \"Topic4\", \"Topic4\", \"Topic4\", \"Topic4\", \"Topic4\", \"Topic4\", \"Topic4\", \"Topic4\", \"Topic4\", \"Topic4\", \"Topic4\", \"Topic4\", \"Topic4\", \"Topic4\", \"Topic4\", \"Topic4\", \"Topic4\", \"Topic4\", \"Topic4\", \"Topic4\", \"Topic4\", \"Topic4\", \"Topic4\", \"Topic4\", \"Topic4\", \"Topic4\", \"Topic4\", \"Topic4\", \"Topic4\", \"Topic4\", \"Topic4\", \"Topic4\", \"Topic4\", \"Topic4\", \"Topic4\", \"Topic4\", \"Topic4\", \"Topic4\", \"Topic4\", \"Topic4\", \"Topic4\", \"Topic4\", \"Topic4\", \"Topic4\", \"Topic4\", \"Topic4\"], \"logprob\": [30.0, 29.0, 28.0, 27.0, 26.0, 25.0, 24.0, 23.0, 22.0, 21.0, 20.0, 19.0, 18.0, 17.0, 16.0, 15.0, 14.0, 13.0, 12.0, 11.0, 10.0, 9.0, 8.0, 7.0, 6.0, 5.0, 4.0, 3.0, 2.0, 1.0, -7.1081, -7.4216, -7.54, -7.3258, -7.6519, -5.8549, -7.8224, -7.8936, -7.9176, -7.9739, -7.853, -7.41, -7.956, -7.796, -7.9832, -8.1527, -8.1681, -8.1791, -8.2588, -8.2099, -8.3061, -8.3007, -8.2726, -8.1444, -8.3221, -8.3766, -7.9216, -8.3832, -8.3715, -8.1692, -5.6284, -6.08, -7.6149, -5.4559, -6.8023, -5.692, -6.6856, -5.161, -6.7032, -5.1925, -7.3501, -6.493, -6.2906, -6.0575, -7.1216, -4.9821, -5.2723, -6.2933, -6.1622, -5.8816, -6.6529, -6.7199, -6.0575, -6.8527, -6.2979, -5.5056, -5.6187, -5.3784, -5.4312, -6.3569, -5.5181, -5.2563, -5.687, -5.0864, -5.3946, -5.4714, -5.3548, -5.883, -5.4751, -5.2301, -5.5407, -5.6901, -5.4409, -5.7546, -5.7575, -5.6925, -5.5548, -5.7403, -5.5671, -5.7173, -5.7331, -6.0373, -7.3437, -7.3508, -7.4696, -7.5225, -7.6029, -7.5865, -7.6372, -7.6511, -7.6886, -7.7024, -7.8136, -7.0032, -7.8566, -7.9415, -6.5061, -7.9822, -7.7702, -6.2905, -7.5765, -8.0863, -8.1444, -8.1706, -7.8326, -8.1977, -8.2117, -8.2338, -8.2636, -8.2874, -8.2981, -6.2645, -5.7843, -7.7648, -7.1899, -6.261, -6.5453, -6.7512, -7.3194, -6.4662, -5.4228, -5.6483, -6.0999, -7.0611, -5.8959, -5.5393, -7.0513, -5.9975, -5.8168, -6.4397, -5.9956, -5.4004, -6.0784, -7.0531, -5.7675, -5.6744, -5.7529, -6.3771, -5.8245, -6.0956, -5.1056, -6.2486, -6.48, -5.7997, -5.848, -5.7846, -5.5806, -5.6933, -6.0232, -5.6171, -6.1299, -5.8909, -5.6907, -5.6976, -5.6297, -5.7922, -5.9676, -5.8064, -5.7077, -5.772, -5.8767, -5.8966, -5.909, -7.1843, -7.2282, -7.1988, -7.3175, -7.4702, -7.4987, -7.6706, -7.6688, -7.6345, -7.7608, -7.7918, -7.799, -7.8546, -7.9138, -7.894, -7.9797, -7.971, -8.0884, -8.0585, -7.6454, -8.1114, -8.1332, -8.0133, -8.0859, -8.0439, -8.167, -8.1786, -8.1653, -8.2024, -8.2266, -6.4025, -6.7037, -6.196, -6.7665, -5.9483, -5.873, -6.8217, -4.9437, -4.9097, -6.2383, -7.3325, -6.6002, -6.7811, -7.1573, -4.2371, -6.1309, -6.0348, -6.7337, -6.0143, -5.6478, -5.4346, -6.5338, -5.7518, -6.2258, -6.7078, -4.8349, -5.1294, -6.1826, -4.5506, -5.3974, -5.0415, -6.126, -5.7036, -6.5446, -5.0429, -6.0647, -5.9451, -5.4383, -5.608, -5.6465, -6.1172, -5.5016, -5.6705, -5.6717, -5.6412, -5.8093, -5.8862, -6.0074, -6.0219, -6.0334, -7.1625, -7.4078, -7.3869, -7.7321, -7.734, -7.7047, -7.7542, -7.8317, -7.8578, -7.5802, -7.5802, -7.9479, -7.9493, -7.9467, -7.9299, -7.9597, -7.8446, -7.9267, -7.9528, -7.9447, -7.9985, -7.9992, -7.9486, -7.9721, -8.0735, -8.1052, -8.1026, -8.0943, -8.0727, -8.0966, -6.1909, -6.4165, -8.029, -7.0993, -5.9795, -5.7711, -6.7687, -4.9034, -7.3907, -5.3428, -5.011, -5.2252, -6.9842, -5.0539, -6.964, -7.1804, -6.9441, -5.7662, -5.8827, -5.9672, -7.2618, -6.1281, -6.3436, -4.8797, -6.8924, -5.7094, -6.4878, -5.8887, -5.302, -6.0839, -5.4596, -6.4657, -6.6503, -5.8293, -5.6245, -6.0711, -6.1087, -5.8928, -6.4607, -6.3365, -6.3388, -6.1307, -6.1061, -6.2306, -6.1589, -6.205, -6.3001, -6.295], \"loglift\": [30.0, 29.0, 28.0, 27.0, 26.0, 25.0, 24.0, 23.0, 22.0, 21.0, 20.0, 19.0, 18.0, 17.0, 16.0, 15.0, 14.0, 13.0, 12.0, 11.0, 10.0, 9.0, 8.0, 7.0, 6.0, 5.0, 4.0, 3.0, 2.0, 1.0, 0.6067, 0.6052, 0.6042, 0.604, 0.6034, 0.6031, 0.6015, 0.6008, 0.6004, 0.5995, 0.5993, 0.599, 0.599, 0.599, 0.5985, 0.5967, 0.5962, 0.5962, 0.595, 0.5947, 0.5941, 0.5941, 0.5938, 0.5937, 0.5934, 0.5926, 0.5924, 0.5923, 0.592, 0.592, 0.5833, 0.5822, 0.5879, 0.5656, 0.5786, 0.5608, 0.5735, 0.5422, 0.5732, 0.5388, 0.5826, 0.5606, 0.5504, 0.542, 0.5713, 0.4993, 0.5095, 0.543, 0.5365, 0.5248, 0.5546, 0.5565, 0.5289, 0.5607, 0.536, 0.494, 0.4989, 0.4794, 0.4749, 0.5233, 0.4497, 0.4167, 0.4326, 0.346, 0.3851, 0.3885, 0.3472, 0.4392, 0.3629, 0.3035, 0.3576, 0.3878, 0.2264, 0.3461, 0.3389, 0.2724, 0.1625, 0.2587, -0.0088, 0.1859, 0.1502, 1.2464, 1.2357, 1.2357, 1.2339, 1.2332, 1.2317, 1.2314, 1.2307, 1.2305, 1.23, 1.2286, 1.2272, 1.2266, 1.2257, 1.2244, 1.224, 1.223, 1.2225, 1.2221, 1.2208, 1.2203, 1.2191, 1.2171, 1.2169, 1.2166, 1.2165, 1.2149, 1.2142, 1.2137, 1.213, 1.2111, 1.202, 1.2076, 1.1927, 1.1535, 1.1515, 1.1484, 1.1719, 1.1045, 1.0092, 0.9881, 1.0321, 1.137, 1.0048, 0.9533, 1.1318, 0.985, 0.9544, 1.0418, 0.9639, 0.7991, 0.9263, 1.121, 0.8515, 0.8124, 0.8029, 0.9516, 0.7795, 0.8507, 0.5499, 0.8756, 0.9504, 0.6885, 0.7009, 0.6329, 0.5194, 0.5545, 0.7103, 0.376, 0.7922, 0.516, 0.2631, 0.2564, 0.1401, 0.3343, 0.5583, 0.1328, -0.174, -0.1047, 0.0266, 0.1445, -0.0257, 2.1828, 2.1821, 2.1821, 2.18, 2.1736, 2.1711, 2.166, 2.1659, 2.1655, 2.1617, 2.1591, 2.1584, 2.1558, 2.152, 2.1519, 2.1492, 2.149, 2.1411, 2.141, 2.1387, 2.1384, 2.1379, 2.136, 2.1354, 2.1354, 2.134, 2.1337, 2.1327, 2.1309, 2.1304, 2.106, 2.0979, 2.0634, 2.0443, 1.906, 1.886, 1.9845, 1.7393, 1.7191, 1.8873, 2.0365, 1.9212, 1.9313, 2.0013, 1.4183, 1.7944, 1.7724, 1.9006, 1.715, 1.6123, 1.5545, 1.8426, 1.6324, 1.7326, 1.8696, 1.2651, 1.3588, 1.6911, 1.0078, 1.3361, 1.18, 1.6266, 1.3963, 1.8118, 0.9018, 1.5191, 1.3613, 0.7705, 0.8053, 0.8465, 1.3272, 0.3721, 0.6071, 0.417, 0.0761, -0.0395, 0.2259, 0.7405, 0.4654, 0.514, 2.7017, 2.6833, 2.6715, 2.6598, 2.6582, 2.6559, 2.6491, 2.647, 2.6457, 2.6412, 2.6412, 2.6386, 2.6374, 2.6372, 2.6353, 2.6332, 2.6327, 2.6324, 2.6315, 2.6314, 2.6311, 2.6304, 2.6303, 2.6289, 2.6196, 2.6188, 2.6181, 2.6174, 2.617, 2.6153, 2.6044, 2.5348, 2.6136, 2.5198, 2.4015, 2.3349, 2.4488, 2.0937, 2.5305, 2.1582, 2.0758, 2.1106, 2.4381, 1.9746, 2.3738, 2.4187, 2.3346, 1.9567, 1.9785, 1.9261, 2.3819, 1.8482, 1.8542, 0.9939, 2.1513, 1.1771, 1.6944, 1.0753, 0.4678, 1.1748, 0.2577, 1.369, 1.6114, 0.2594, -0.1921, 0.4778, 0.5138, -0.0095, 1.2509, 0.9457, 0.9407, 0.3802, 0.1154, 0.5442, -0.3011, 0.0074, 0.3445, -0.2171]}, \"token.table\": {\"Topic\": [1, 2, 3, 4, 2, 1, 2, 3, 4, 1, 1, 2, 3, 4, 4, 2, 3, 4, 1, 2, 3, 4, 3, 1, 2, 3, 3, 1, 2, 4, 1, 2, 4, 1, 2, 3, 4, 3, 4, 1, 1, 2, 3, 4, 2, 3, 4, 1, 2, 3, 2, 3, 2, 3, 1, 1, 2, 3, 4, 1, 2, 3, 4, 4, 1, 2, 4, 2, 3, 1, 2, 4, 2, 4, 2, 2, 1, 4, 1, 2, 3, 1, 2, 3, 4, 2, 4, 4, 1, 2, 4, 3, 4, 1, 2, 3, 1, 2, 3, 4, 1, 2, 3, 1, 2, 3, 4, 1, 2, 3, 4, 1, 3, 3, 1, 2, 3, 4, 3, 4, 2, 1, 2, 3, 2, 2, 2, 1, 1, 2, 3, 2, 4, 2, 1, 2, 3, 4, 1, 2, 3, 4, 1, 2, 4, 2, 1, 2, 3, 4, 1, 1, 1, 2, 3, 4, 1, 3, 4, 4, 2, 4, 4, 2, 3, 1, 2, 3, 3, 2, 3, 1, 3, 3, 1, 3, 4, 1, 2, 3, 4, 2, 1, 2, 3, 4, 1, 2, 3, 4, 3, 4, 1, 2, 3, 4, 1, 2, 3, 2, 1, 2, 3, 1, 2, 4, 2, 1, 2, 3, 4, 1, 3, 1, 2, 3, 1, 2, 1, 2, 3, 4, 4, 3, 1, 2, 3, 4, 1, 2, 3, 4, 3, 1, 2, 3, 4, 4, 1, 3, 4, 4, 1, 2, 3, 4, 1, 2, 3, 4, 1, 2, 3, 4, 1, 2, 3, 4, 1, 2, 1, 2, 3, 4, 1, 2, 3, 1, 2, 4, 1, 2, 3, 4, 4, 1, 2, 3, 4, 1, 2, 3, 4, 1, 3, 4, 1, 3, 2, 3, 1, 2, 3, 4, 1, 2, 4, 1, 1, 4, 1, 2, 3, 4, 1, 2, 3, 4, 1, 1, 2, 3, 2, 1, 2, 3, 4, 3, 1, 2, 3, 4, 1, 2, 3, 3, 1, 1, 2, 3, 1, 3, 4, 1, 2, 3, 2, 3, 1, 1, 2, 3, 4, 1, 2, 3, 4, 4, 3, 1, 2, 3, 4, 2, 4, 2, 3, 4, 1, 2, 4, 4, 2, 3, 4, 2, 1, 2, 3, 4, 1, 2, 3, 4, 4, 1, 2, 3, 4, 1, 2, 3, 4, 1, 1, 1, 3, 1, 2, 3, 4, 1, 4, 1, 2, 4, 2, 3, 1, 2, 3, 1, 3, 1, 2, 3, 2, 1, 2, 3, 4, 2, 4, 2, 4, 3, 4, 1, 2, 4, 4, 1, 2, 4, 1, 2, 1, 2, 4, 1, 2, 3, 1, 2, 3, 4, 3, 4, 1, 2, 3, 4, 1, 2, 3, 4, 1, 2, 3, 4, 1, 2, 3, 4, 1, 2, 4, 1, 2, 4, 1, 1, 2, 3, 1, 2, 3, 4, 1, 2, 3, 4, 1, 2, 4, 1, 2, 4, 1, 2, 1, 1, 2, 3, 4, 1, 2, 3, 4, 1, 2, 3, 4, 2, 1, 2, 4, 2, 2, 3, 1, 2, 3, 2, 4, 2, 2, 1, 3, 2, 2, 1, 2, 3, 1, 2, 1, 3, 1, 2, 4, 3, 1, 2, 3, 4, 2, 4, 1, 2, 3, 4, 1, 2, 4, 1, 2, 3, 1, 2, 3, 4, 3, 1, 2, 1, 2, 3, 4, 1, 2, 2, 4, 4, 3, 4, 1, 2, 3, 4, 1, 2, 3, 4, 3, 1, 2, 3, 4, 4, 1, 2, 3, 4, 1, 1, 2, 3, 4, 1, 2, 2, 1, 2, 3, 4, 1, 2, 4, 3, 1, 3, 4, 1, 1, 2, 1, 2, 3, 4, 3, 1, 4, 3, 1, 2, 3, 4, 1, 3, 4, 1, 1, 2, 3, 4, 3, 2, 3, 1, 2, 3, 4, 3, 1, 2, 3, 4, 4, 3, 1, 2, 3, 4, 2, 3, 1, 2, 4, 1, 3, 1, 2, 3, 3, 1, 2, 3, 4, 1, 2, 3, 4, 3, 1, 2, 3, 4, 1, 2, 3, 4, 1, 2, 4, 4, 1, 2, 4, 1, 2, 4, 1, 2, 3, 4, 1, 2, 3, 4, 1, 2, 4, 3, 1, 2, 4, 4, 4, 1, 2, 4, 1, 2, 3, 4, 4, 2, 3, 1, 2, 3, 1, 2, 3, 1, 3, 1, 2, 3, 4, 1, 2, 3, 4], \"Freq\": [0.6526680216589257, 0.29436963163659974, 0.01932729904684746, 0.03419445215980704, 0.9547639779838022, 0.5098126039091062, 0.37219447770051317, 0.09695822528332695, 0.018766108119353603, 0.9953314948099579, 0.9255105207972398, 0.04940447619914092, 0.013174526986437578, 0.013174526986437578, 0.9367925303108822, 0.16258351178306207, 0.7858203069514667, 0.027097251963843678, 0.7984171967276206, 0.11330088822742287, 0.03717685394962313, 0.05133946497805099, 0.9871395113812241, 0.8915247006547893, 0.10683560462392103, 0.0018419931831710522, 0.9550370702419396, 0.18945786639922466, 0.782017576201055, 0.0282171290381824, 0.15136787348728756, 0.7845901442424406, 0.060547149394915026, 0.5902096981040967, 0.3266957075667585, 0.06318171702942027, 0.020033227350791792, 0.9366710444387786, 0.07205161880298297, 0.982414990845822, 0.5990670705784893, 0.21434509864734935, 0.1355686948709731, 0.049464253534003695, 0.1156470890472217, 0.8095296233305519, 0.07709805936481447, 0.08756295923896634, 0.9084657021042758, 0.010945369904870793, 0.8665196846959992, 0.13391667854392714, 0.8784612911081855, 0.11520803817812268, 0.9673657889020606, 0.6786905910237295, 0.2583251384519386, 0.030529334544320014, 0.03170353971910155, 0.45178283481721854, 0.34370081691836246, 0.19887091293389525, 0.004323280715954244, 0.9479329587060235, 0.20327915411449476, 0.45011812696780984, 0.34847854991056243, 0.14116843872531418, 0.8626960144324756, 0.22746191693811366, 0.765496835849421, 0.004374267633425263, 0.9700446346767063, 0.018477040660508693, 0.987064568717574, 0.9799631684558251, 0.9729654703207334, 0.9441004654732494, 0.07376156982307554, 0.8998911518415216, 0.044256941893845325, 0.6433560266882057, 0.3310638439721801, 0.01706514659650413, 0.008532573298252065, 0.18326928045511184, 0.7941668819721514, 0.9262696608930169, 0.3537099560581117, 0.4262658444802885, 0.21766766526653028, 0.9666156186732825, 0.8876360656673461, 0.02614928218056206, 0.418388514888993, 0.5556722463369438, 0.011607801636863457, 0.3714496523796306, 0.6152134867537632, 0.964428915359976, 0.9633084983944192, 0.011536628723286459, 0.023073257446572917, 0.9335608539089867, 0.034016387389396274, 0.030236788790574468, 0.0037795985988218084, 0.24796344120418387, 0.2358676635844676, 0.42335221669007, 0.09071833214787214, 0.971242028121578, 0.020234208919199543, 0.9153925626147915, 0.7018569455069633, 0.1979596512968358, 0.05889708633624867, 0.04253678457617959, 0.9627555422354811, 0.8154559565811358, 0.9936737239171379, 0.30377101093865533, 0.6708276491561972, 0.025314250911554613, 0.964400872175617, 0.9757117805855283, 0.970775463967534, 0.9917278277258279, 0.9890536471954707, 0.0077674370198597175, 0.0025891456732865725, 0.96000065975447, 0.03200002199181567, 0.978982520065481, 0.49384512178755696, 0.1588893000533879, 0.16318360546023622, 0.18465513249447782, 0.30547511365564023, 0.25687680011951564, 0.4096143569473357, 0.027770464877785474, 0.9685807081245841, 0.025405395622939912, 0.006351348905734978, 0.9462552931264956, 0.914646534424116, 0.07376181729226743, 0.009834908972302324, 0.002458727243075581, 0.9843798543388282, 0.9927011062822397, 0.7115295028584856, 0.21978355754962112, 0.05059765353660342, 0.02055529674924514, 0.12230537573585636, 0.7338322544151381, 0.12230537573585636, 0.8391056529194818, 0.18798071628778615, 0.7832529845324423, 0.8088764971357819, 0.9736693527961447, 0.02229777143807965, 0.9832079270770335, 0.9870970180544696, 0.9102431881512341, 0.9393011965064141, 0.2757676660713518, 0.7131922398397029, 0.9891413573105371, 0.8998513832738121, 0.9775160468805995, 0.9379060984819322, 0.003797190682113086, 0.056957860231696286, 0.7986526660113423, 0.1608694318347267, 0.01708347948687363, 0.022777972649164844, 0.9695136120713606, 0.6285568244442788, 0.17271155986982437, 0.18120557101096327, 0.016988022282277807, 0.05361589942312011, 0.9025343069558552, 0.01787196647437337, 0.026807949711560055, 0.24531845792950352, 0.7359553737885105, 0.41296698233775664, 0.17698584957332428, 0.014748820797777023, 0.39821816153997963, 0.19789227961375166, 0.7420960485515687, 0.055657203641367656, 0.99317127900942, 0.014532577032040986, 0.8864871989545001, 0.08719546219224591, 0.06064656445900736, 0.9096984668851104, 0.03369253581055964, 0.9796651298126239, 0.37996576372393476, 0.5784553417886767, 0.014177827004624432, 0.028355654009248863, 0.9890529142157012, 0.012210529805132113, 0.9275725536941878, 0.05883388667156117, 0.012517848227991738, 0.3665014655670284, 0.6341710752508132, 0.13701659278709252, 0.06850829639354626, 0.2678051586293172, 0.5231542633688988, 0.9383946874188456, 0.9852580770459823, 0.9237999733153237, 0.06410040631167552, 0.007541224271961826, 0.8500661250624327, 0.6861438930771336, 0.02306366027150029, 0.08648872601812609, 0.2075729424435026, 0.8925495951711129, 0.13207240354762295, 0.8025938369432472, 0.035557954801283105, 0.030478246972528374, 0.9368125741672424, 0.9613459041368652, 0.008901350964230233, 0.03560540385692093, 0.9110784477635209, 0.8921133410357642, 0.09652373853829581, 0.009749872579625838, 0.0009749872579625839, 0.8483381235557168, 0.13161133505630748, 0.009514072413708973, 0.011099751149327135, 0.8219316943318515, 0.14997891548871428, 0.008266554397015749, 0.02007591782132396, 0.42443924462488675, 0.015719972023143954, 0.2357995803471593, 0.3143994404628791, 0.8872667174126249, 0.11131759554254335, 0.06726498374439971, 0.24215394147983893, 0.040358990246639824, 0.6591968406951171, 0.0411628965895008, 0.23325641400717118, 0.7134902075513472, 0.26388003504032936, 0.7245519606192093, 0.013417628900355728, 0.4896445715471097, 0.22467867998205984, 0.2680649078406645, 0.01859409765368771, 0.8941235973719422, 0.4563355243737263, 0.29527592753594056, 0.16463869898973657, 0.08231934949486829, 0.49046853613021113, 0.5015525708450181, 0.0027710086787017577, 0.005542017357403515, 0.9486847892299195, 0.03287521546836355, 0.018785837410493455, 0.9642967319511798, 0.03257759229564797, 0.1361181390045056, 0.8439324618279346, 0.13742200095643728, 0.20155226806944132, 0.2061330014346559, 0.45807333652145754, 0.28216952814327817, 0.5086999943991494, 0.20665937272465443, 0.9907759992004568, 0.9958379882060555, 0.9192044623921716, 0.5357408830060941, 0.20016692332095823, 0.10008346166047911, 0.16484334861725972, 0.9310943322303658, 0.053553138062923, 0.01460540128988809, 0.001217116774157341, 0.987881305057759, 0.969443115757685, 0.014167227161385793, 0.01619111675586948, 0.9772972164678803, 0.018426755112317846, 0.3347527178737742, 0.6080829187064889, 0.03992463607668867, 0.9425730278566028, 0.35403181319427135, 0.5218917246225897, 0.02136398872724051, 0.10681994363620256, 0.02148840567384413, 0.9598154534317044, 0.014325603782562752, 0.9380251433390226, 0.9950160519120841, 0.003410250472500882, 0.5831528307976508, 0.4126403071726067, 0.944928439929887, 0.02347648297962452, 0.02934560372453065, 0.005337067186336448, 0.571066188938, 0.4242968413137476, 0.26149526177149146, 0.7321867329601761, 0.9876827099474761, 0.5730734715411656, 0.1573934182401793, 0.23609012736026894, 0.034303693719013435, 0.1474473639261515, 0.36861840981537874, 0.021063909132307358, 0.45287404634460815, 0.9544881329486907, 0.964046224099265, 0.407320828530586, 0.2066120144720364, 0.22432161571249665, 0.16528961157762911, 0.30427584643433864, 0.6520196709307257, 0.3779814906632685, 0.06872390739332154, 0.5497912591465723, 0.010877086564795186, 0.5547314148045545, 0.4350834625918074, 0.8390984311357997, 0.28025297885337247, 0.7114114078585608, 0.8019420497056767, 0.9692956795371512, 0.7785267346726013, 0.14344946989495158, 0.04874496549828451, 0.030639692598921693, 0.7925804943263383, 0.07819179764654458, 0.021325035721784884, 0.1101793512292219, 0.9221299642527737, 0.8750846846940621, 0.029832432432752118, 0.04830012870064628, 0.04687953668003904, 0.3070248284071392, 0.41101710899665406, 0.24264865470886807, 0.03714010021054103, 0.9874486982301341, 0.9720992582785843, 0.9625184613146034, 0.035214090048095247, 0.012969144999186244, 0.3307131974792492, 0.6192766737111431, 0.03566514874776217, 0.25089540218761863, 0.7025071261253322, 0.24981691460076186, 0.19838402041825207, 0.5510667233840335, 0.29974173825680106, 0.6876428112950143, 0.9538471642273524, 0.01338732862073477, 0.03179490547424508, 0.9305243950228336, 0.0685963496330935, 0.01774115884561155, 0.9402814188174122, 0.0354823176912231, 0.9788861056868096, 0.4220937101143519, 0.34597845091340323, 0.2283457776028461, 0.0034597845091340323, 0.9669564459253567, 0.02685990127570435, 0.16528387394424068, 0.8264193697212034, 0.13403277760316987, 0.8578097766602871, 0.2190843113031054, 0.7394095506479808, 0.04107830836933226, 0.8976714280292032, 0.0432314712961261, 0.814192709410375, 0.14410490432042036, 0.034561937060114796, 0.9677342376832143, 0.24695950137395734, 0.6854386160583306, 0.06551986771145807, 0.053378062906650404, 0.49664806356622554, 0.44907196401899363, 0.3764044010426641, 0.4797310993681013, 0.09348606038968128, 0.04920318967877962, 0.8901382025223319, 0.1078955396996766, 0.8707717300347091, 0.0551687568686374, 0.06262399428331812, 0.01043733238055302, 0.6369708667590528, 0.16418047534681013, 0.11727176810486438, 0.0814730178412742, 0.5022483166287631, 0.3523838995701806, 0.08100779300463921, 0.06278103957859539, 0.8342984427910035, 0.07198592758594942, 0.04983641140565729, 0.04245323934555991, 0.4351009436194159, 0.5395251700880758, 0.024862911063966625, 0.21174023835559783, 0.7424309623354506, 0.04288409890746285, 0.9799529268016913, 0.007980796768696497, 0.49480939965918286, 0.49480939965918286, 0.07465806768699072, 0.2986322707479629, 0.5865991032549271, 0.03199631472299602, 0.5278504592031209, 0.24526384973074306, 0.1732842416575902, 0.055984139612452216, 0.9491074151725906, 0.026925033054541577, 0.020193774790906182, 0.49099948001526056, 0.4993926335197949, 0.01049144188066796, 0.628773214036384, 0.37069465603637564, 0.9840994364611433, 0.10393276776808882, 0.3212467367377291, 0.5574575725742946, 0.00944843343346262, 0.19805052211895272, 0.7705403126190504, 0.018567236448651818, 0.015472697040543182, 0.3193439119808978, 0.6721429004550324, 0.0060827411805885285, 0.0060827411805885285, 0.9833298945947229, 0.1796361937091547, 0.0598787312363849, 0.7185447748366188, 0.9936097321257862, 0.38769266227136245, 0.6092313264264266, 0.16733040401980506, 0.31704708130068326, 0.5152015071136103, 0.9745041903969901, 0.01522662797495297, 0.959091775051067, 0.9935233268489588, 0.9872947562012643, 0.8734436918956442, 0.9457570262846859, 0.978942427553976, 0.9006494895138409, 0.09612194844226665, 0.002633478039514155, 0.9782898088394497, 0.014822572861203785, 0.9771163154867112, 0.9343075426832259, 0.1467454276360454, 0.4035499259991248, 0.449407872135389, 0.9628527067384978, 0.009978754616081805, 0.3492564115628632, 0.6386402954292355, 0.9570884890330613, 0.970331997414559, 0.8646711891624277, 0.2683708033517123, 0.6395219143700378, 0.03140509400924293, 0.05995517947219105, 0.10654004335075028, 0.37732932020057386, 0.5149435428619596, 0.3415496545996313, 0.6231783171642397, 0.03295654561926267, 0.11166816826941092, 0.37870074456582836, 0.004855137750843953, 0.5049343260877711, 0.941991399391489, 0.9888590093693735, 0.9824205441761144, 0.7661313065222243, 0.18292969730199682, 0.03441251731423702, 0.016300666096217536, 0.05933109026139182, 0.9295204140951385, 0.27669189667476674, 0.6917297416869169, 0.9620204814720429, 0.31307818786752345, 0.6887720133085515, 0.6578077037927245, 0.14176890167946649, 0.10207360920921586, 0.10207360920921586, 0.464413644440862, 0.3291222746317593, 0.1040702844685405, 0.10146852735682699, 0.9361717166840663, 0.7962754867544988, 0.18921397705057397, 0.01313985951740097, 0.0013139859517400968, 0.8925860043288262, 0.38013306769936206, 0.1941539861905344, 0.35356462748381523, 0.07153041596493372, 0.9943841739170516, 0.9739595495263225, 0.2833966942204318, 0.017712293388776987, 0.6907794421623025, 0.2549698528806284, 0.7436620709018328, 0.9781368752754142, 0.8408811930163003, 0.12432383230079708, 0.027125199774719364, 0.006781299943679841, 0.9423175914259022, 0.04382872518260011, 0.010957181295650027, 0.8732598013536798, 0.13691223933047322, 0.7301986097625238, 0.11409353277539434, 0.991988414667062, 0.9729446868989099, 0.022626620625556045, 0.13031395518979208, 0.48143766778450964, 0.38551211743646824, 0.0018099160443026678, 0.9073913766724409, 0.9923876669019062, 0.9646397128749592, 0.951679985434955, 0.005774353542137589, 0.4446252227445943, 0.5485635865030709, 0.8815118177415602, 0.9489719392449453, 0.002108826531655434, 0.05061183675973041, 0.9785620057253531, 0.7649739962593833, 0.1420400745481622, 0.040848126013850565, 0.051988524017628, 0.9363649301871281, 0.14272923145936509, 0.8563753887561905, 0.29227903523124615, 0.423670528133366, 0.2547386086877833, 0.02949604942700649, 0.973738508672908, 0.6295560427801171, 0.27980268568005207, 0.029146113091672088, 0.062664143147095, 0.8658795581836897, 0.8944502568499052, 0.7334948068159136, 0.24038905433462715, 0.014382251114037523, 0.011300340161029482, 0.5559133514569766, 0.437843259112132, 0.24368347754803824, 0.7524261762886795, 0.004275148728912951, 0.10061038714550401, 0.8853714068804354, 0.011229195187396753, 0.32564666043450585, 0.6512933208690117, 0.9035696759983312, 0.5210592059704364, 0.3556931106624536, 0.03432126506392096, 0.0904833351685189, 0.7737037624891309, 0.201192565389143, 0.01775228518139497, 0.007396785492247905, 0.9637116098996498, 0.9184500627857347, 0.011775000804945316, 0.05593125382349025, 0.011775000804945316, 0.5203766577564894, 0.3995749336344473, 0.03159429707807258, 0.04832068964881688, 0.3117677818222144, 0.6448530188117596, 0.042634910334661796, 0.9264929202111006, 0.0827286143067336, 0.5081900593127922, 0.4018246980612775, 0.6087399959129315, 0.3002753343068272, 0.09281237605847385, 0.567600997002995, 0.4163491553947471, 0.013010911106085847, 0.0016263638882607308, 0.46620110505346085, 0.2049552845745865, 0.15732483111711218, 0.17031495478733244, 0.3318909468790135, 0.6377904340626825, 0.029990145802320498, 0.9182835834481704, 0.5743903761019663, 0.17436850703095405, 0.24616730404369985, 0.8925860043288262, 0.9108533092437182, 0.9122408798474936, 0.07108370492318132, 0.01579637887181807, 0.7658738778774549, 0.17140986790590657, 0.03160749337272036, 0.030391820550692655, 0.8911565051683927, 0.9529242387318787, 0.04391355938856584, 0.0864152286843602, 0.24196264031620857, 0.6740387837380096, 0.14802987811432375, 0.09868658540954917, 0.7401493905716187, 0.9946845969880762, 0.9497276468148915, 0.537033144428836, 0.14636785701099647, 0.2980007448497266, 0.017901104814294532, 0.7592208055410679, 0.20378135635662867, 0.02885399736023061, 0.005410124505043239], \"Term\": [\"  able/JJ\", \"  able/JJ\", \"  able/JJ\", \"  able/JJ\", \"  add/VBP\", \"  adventure/NN\", \"  adventure/NN\", \"  adventure/NN\", \"  adventure/NN\", \"  afford/NN\", \"  age/NN\", \"  age/NN\", \"  age/NN\", \"  age/NN\", \"  age/NN)\", \"  alice/NN\", \"  alice/NN\", \"  alice/NN\", \"  amazing/VBG\", \"  amazing/VBG\", \"  amazing/VBG\", \"  amazing/VBG\", \"  animation/NN\", \"  annual/JJ\", \"  annual/JJ\", \"  annual/JJ\", \"  another/DT)\", \"  app/JJ\", \"  app/JJ\", \"  app/JJ\", \"  app/NN\", \"  app/NN\", \"  app/NN\", \"  around/IN\", \"  around/IN\", \"  around/IN\", \"  around/IN\", \"  astro/NN\", \"  astro/NN\", \"  attitude/NN\", \"  attraction/NN\", \"  attraction/NN\", \"  attraction/NN\", \"  attraction/NN\", \"  autopia/NN\", \"  autopia/NN\", \"  autopia/NN\", \"  bag/NN\", \"  bag/NN\", \"  bag/NN\", \"  bar/NN\", \"  bar/NN\", \"  beignet/NN\", \"  beignet/NN\", \"  believe/VB\", \"  best/JJS\", \"  best/JJS\", \"  best/JJS\", \"  best/JJS\", \"  big/JJ\", \"  big/JJ\", \"  big/JJ\", \"  big/JJ\", \"  boarding/NN\", \"  boarding/VBG\", \"  boarding/VBG\", \"  boarding/VBG\", \"  boat/NN\", \"  boat/NN\", \"  book/NN\", \"  book/NN\", \"  book/NN\", \"  bottle/NN\", \"  bottle/NN\", \"  bowl/NN\", \"  bread/NN\", \"  brings/NNS\", \"  brought/NN\", \"  cafe/JJ\", \"  cafe/JJ\", \"  cafe/JJ\", \"  california/NN\", \"  california/NN\", \"  california/NN\", \"  california/NN\", \"  campus/NN\", \"  campus/NN\", \"  canister/NN\", \"  capacity/NN\", \"  capacity/NN\", \"  capacity/NN\", \"  captain/VBP\", \"  cargo/NN\", \"  caribbean/JJ\", \"  caribbean/JJ\", \"  caribbean/JJ\", \"  caribbean/NN\", \"  caribbean/NN\", \"  caribbean/NN\", \"  carmen/NNS\", \"  cast/JJ\", \"  cast/JJ\", \"  cast/JJ\", \"  cast/NN\", \"  cast/NN\", \"  cast/NN\", \"  cast/NN\", \"  castle/NN\", \"  castle/NN\", \"  castle/NN\", \"  castle/NN\", \"  changing/VBG\", \"  changing/VBG\", \"  chapter/NN\", \"  character/NN\", \"  character/NN\", \"  character/NN\", \"  character/NN\", \"  character/NN)\", \"  character/RB\", \"  charger/NN\", \"  check/NN\", \"  check/NN\", \"  check/NN\", \"  checked/VBD\", \"  cheese/JJ\", \"  cheese/NN\", \"  child/JJ\", \"  child/NN\", \"  child/NN\", \"  child/NN\", \"  chip/NN\", \"  chip/NN\", \"  chowder/NN\", \"  christmas/NN\", \"  christmas/NN\", \"  christmas/NN\", \"  christmas/NN\", \"  classic/JJ\", \"  classic/JJ\", \"  classic/JJ\", \"  classic/JJ\", \"  clean/JJ\", \"  clean/JJ\", \"  clean/JJ\", \"  code/NN\", \"  coming/VBG\", \"  coming/VBG\", \"  coming/VBG\", \"  coming/VBG\", \"  complain/NN\", \"  complaint/NN\", \"  could/MD\", \"  could/MD\", \"  could/MD\", \"  could/MD\", \"  country/NN\", \"  country/NN\", \"  country/NN\", \"  covering/VBG\", \"  covid/JJ\", \"  covid/JJ\", \"  craziness/NN\", \"  cream/NN\", \"  cream/NN\", \"  created/VBD\", \"  cristo/NN\", \"  critter/JJ\", \"  critter/NN\", \"  cruise/NN\", \"  cruise/NN\", \"  cry/NN\", \"  dans/NNS\", \"  dapper/NN\", \"  daughter/NN\", \"  daughter/NN\", \"  daughter/NN\", \"  definitely/RB\", \"  definitely/RB\", \"  definitely/RB\", \"  definitely/RB\", \"  detector/NN\", \"  different/JJ\", \"  different/JJ\", \"  different/JJ\", \"  different/JJ\", \"  dinner/NN\", \"  dinner/NN\", \"  dinner/NN\", \"  dinner/NN\", \"  disappoint/NN\", \"  disappoint/NN\", \"  disneyworld/NN\", \"  disneyworld/NN\", \"  disneyworld/NN\", \"  disneyworld/NN\", \"  dog/NN\", \"  dog/NN\", \"  dog/NN\", \"  dole/JJ\", \"  dole/NN\", \"  dole/NN\", \"  dole/NN\", \"  download/NN\", \"  download/NN\", \"  download/NN\", \"  downloading/VBG\", \"  early/JJ\", \"  early/JJ\", \"  early/JJ\", \"  early/JJ\", \"  earth/JJ\", \"  earth/JJ\", \"  earth/NN\", \"  earth/NN\", \"  earth/NN\", \"  eat/NN\", \"  eat/NN\", \"  edge/NN\", \"  edge/NN\", \"  edge/NN\", \"  edge/NN\", \"  effective/JJ\", \"  element/NN\", \"  employee/NN\", \"  employee/NN\", \"  employee/NN\", \"  engineer/NN\", \"  enjoyed/VBN\", \"  enjoyed/VBN\", \"  enjoyed/VBN\", \"  enjoyed/VBN\", \"  enjoys/VBZ\", \"  entrance/NN\", \"  entrance/NN\", \"  entrance/NN\", \"  entrance/NN\", \"  establishment/NN\", \"  event/NN\", \"  event/NN\", \"  event/NN\", \"  event/NN)\", \"  every/DT\", \"  every/DT\", \"  every/DT\", \"  every/DT\", \"  everyone/NN\", \"  everyone/NN\", \"  everyone/NN\", \"  everyone/NN\", \"  everything/NN\", \"  everything/NN\", \"  everything/NN\", \"  everything/NN\", \"  excellent/JJ\", \"  excellent/JJ\", \"  excellent/JJ\", \"  excellent/JJ\", \"  expensive/JJ\", \"  expensive/JJ\", \"  falcon/NN\", \"  falcon/NN\", \"  falcon/NN\", \"  falcon/NN\", \"  fantasyland/NN\", \"  fantasyland/NN\", \"  fantasyland/NN\", \"  fastpass/NN\", \"  fastpass/NN\", \"  fastpass/NN\", \"  favorite/JJ\", \"  favorite/JJ\", \"  favorite/JJ\", \"  favorite/JJ\", \"  feel/NN)\", \"  firework/NN\", \"  firework/NN\", \"  firework/NN\", \"  firework/NN\", \"  free/JJ\", \"  free/JJ\", \"  free/JJ\", \"  free/JJ\", \"  friendly/JJ\", \"  friendly/JJ\", \"  friendly/JJ\", \"  friendly/RB\", \"  friendly/RB\", \"  frontierland/NN\", \"  frontierland/NN\", \"  galaxy/NN\", \"  galaxy/NN\", \"  galaxy/NN\", \"  galaxy/NN\", \"  genie/NN\", \"  genie/NN\", \"  genie/NN\", \"  girl/JJ\", \"  growing/VBG\", \"  gunner/NN\", \"  halloween/JJ\", \"  halloween/JJ\", \"  halloween/JJ\", \"  halloween/JJ\", \"  happiest/JJS\", \"  happiest/JJS\", \"  happiest/JJS\", \"  happiest/JJS\", \"  happiness/NN\", \"  happy/JJ\", \"  happy/JJ\", \"  happy/JJ\", \"  harbor/NN\", \"  haunted/VBN\", \"  haunted/VBN\", \"  haunted/VBN\", \"  haunted/VBN\", \"  honeymoon/NN\", \"  hotel/NN\", \"  hotel/NN\", \"  hotel/NN\", \"  hotel/NN\", \"  ice/NN\", \"  ice/NN\", \"  ice/NN\", \"  iger/NN\", \"  impressive/JJ\", \"  indiana/NN\", \"  indiana/NN\", \"  indiana/NN\", \"  job/NN\", \"  job/NN\", \"  job/NN\", \"  jones/NNS\", \"  jones/NNS\", \"  jones/NNS\", \"  jungle/NN\", \"  jungle/NN\", \"  lady/NN\", \"  land/NN\", \"  land/NN\", \"  land/NN\", \"  land/NN\", \"  lane/NN\", \"  lane/NN\", \"  lane/NN\", \"  lane/NN\", \"  lesser/JJR\", \"  lifetime/NN\", \"  light/JJ\", \"  light/JJ\", \"  light/JJ\", \"  light/JJ\", \"  lightening/VBG\", \"  lightening/VBG\", \"  lighting/VBG\", \"  lighting/VBG\", \"  lighting/VBG\", \"  lightning/VBG\", \"  lightning/VBG\", \"  lightning/VBG\", \"  lightsaber/NN\", \"  lightyear/JJ\", \"  lightyear/JJ\", \"  lineup/NN\", \"  link/NN\", \"  little/JJ\", \"  little/JJ\", \"  little/JJ\", \"  little/JJ\", \"  loved/VBD\", \"  loved/VBD\", \"  loved/VBD\", \"  loved/VBD\", \"  luggage/NN\", \"  magical/JJ\", \"  magical/JJ\", \"  magical/JJ\", \"  magical/JJ\", \"  main/JJ\", \"  main/JJ\", \"  main/JJ\", \"  main/JJ\", \"  maintenance/NN\", \"  majority/NN\", \"  making/VBG\", \"  making/VBG\", \"  mansion/NN\", \"  mansion/NN\", \"  mansion/NN\", \"  mansion/NN\", \"  mask/JJ\", \"  mask/JJ\", \"  mask/NN\", \"  mask/NN\", \"  mask/NN\", \"  matterhorn/NN\", \"  matterhorn/NN\", \"  member/NN\", \"  member/NN\", \"  member/NN\", \"  memory/NN\", \"  memory/NN\", \"  menu/NN\", \"  menu/NN\", \"  menu/NN\", \"  metal/NN\", \"  mickey/NN\", \"  mickey/NN\", \"  mickey/NN\", \"  mickey/NN\", \"  milk/NN\", \"  milk/NN\", \"  millenium/NN\", \"  millenium/NN\", \"  millennium/NN\", \"  millennium/NN\", \"  min/NN\", \"  min/NN\", \"  min/NN\", \"  miss/VB\", \"  mobile/JJ\", \"  mobile/JJ\", \"  mobile/JJ\", \"  mobile/NN\", \"  mobile/NN\", \"  morning/NN\", \"  morning/NN\", \"  morning/NN\", \"  mountain/NN\", \"  mountain/NN\", \"  mountain/NN\", \"  must/MD\", \"  must/MD\", \"  must/MD\", \"  must/MD\", \"  nemo/JJ\", \"  nemo/JJ\", \"  never/RB\", \"  never/RB\", \"  never/RB\", \"  never/RB\", \"  new/JJ\", \"  new/JJ\", \"  new/JJ\", \"  new/JJ\", \"  night/NN\", \"  night/NN\", \"  night/NN\", \"  night/NN\", \"  old/JJ\", \"  old/JJ\", \"  old/JJ\", \"  old/JJ\", \"  open/JJ\", \"  open/JJ\", \"  open/JJ\", \"  order/NN\", \"  order/NN\", \"  order/NN\", \"  organized/VBN\", \"  orleans/NNS\", \"  orleans/NNS\", \"  orleans/NNS\", \"  pan/NN\", \"  pan/NN\", \"  pan/NN\", \"  pan/NN\", \"  parade/NN\", \"  parade/NN\", \"  parade/NN\", \"  parade/NN\", \"  parent/NN\", \"  parent/NN\", \"  parent/NN\", \"  parking/VBG\", \"  parking/VBG\", \"  parking/VBG\", \"  pass/NN\", \"  pass/NN\", \"  passholder/NN\", \"  peter/NN\", \"  peter/NN\", \"  peter/NN\", \"  peter/NN\", \"  phone/NN\", \"  phone/NN\", \"  phone/NN\", \"  phone/NN\", \"  photo/NN\", \"  photo/NN\", \"  photo/NN\", \"  photo/NN\", \"  pickup/NN\", \"  pilot/NN\", \"  pilot/NN\", \"  pilot/NN\", \"  pineapple/JJ\", \"  pirate/JJ\", \"  pirate/JJ\", \"  pirate/NN\", \"  pirate/NN\", \"  pirate/NN\", \"  pizza/NN\", \"  pizza/NN\", \"  plate/NN\", \"  portable/JJ\", \"  positive/JJ\", \"  potential/JJ\", \"  pretzel/JJ\", \"  pretzel/NN\", \"  price/NN\", \"  price/NN\", \"  price/NN\", \"  pricey/JJ\", \"  pricey/JJ\", \"  pricing/NN\", \"  push/NN\", \"  queue/NN\", \"  queue/NN\", \"  queue/NN\", \"  rabbit/NN\", \"  railroad/NN\", \"  railroad/NN\", \"  railroad/NN\", \"  reduce/VB\", \"  refreshing/VBG\", \"  refused/VBD\", \"  reservation/NN\", \"  reservation/NN\", \"  reservation/NN\", \"  reservation/NN\", \"  resistance/NN\", \"  resistance/NN\", \"  resistance/NN\", \"  restaurant/NN\", \"  restaurant/NN\", \"  restaurant/NN\", \"  rise/NN\", \"  rise/NN\", \"  rise/NN\", \"  rise/NN\", \"  roger/NN\", \"  rude/NN\", \"  sandwich/JJ\", \"  say/VBP\", \"  say/VBP\", \"  say/VBP\", \"  say/VBP\", \"  scan/JJ\", \"  scan/JJ\", \"  screen/NN\", \"  screen/NN\", \"  seen/VBN)\", \"  senior/JJ\", \"  senior/JJ\", \"  service/NN\", \"  service/NN\", \"  service/NN\", \"  service/NN\", \"  show/NN\", \"  show/NN\", \"  show/NN\", \"  show/NN\", \"  silhouette/NN\", \"  since/IN\", \"  since/IN\", \"  since/IN\", \"  since/IN\", \"  slinger/NN\", \"  small/JJ\", \"  small/JJ\", \"  small/JJ\", \"  small/JJ\", \"  smile/JJ\", \"  smiling/VBG\", \"  smuggler/NN\", \"  smuggler/NN\", \"  smuggler/NN\", \"  snack/NN\", \"  snack/NN\", \"  soft/JJ\", \"  something/NN\", \"  something/NN\", \"  something/NN\", \"  something/NN\", \"  son/NN\", \"  son/NN\", \"  son/NN\", \"  song/JJ\", \"  song/NN\", \"  song/NN\", \"  song/NN\", \"  soon/RB)\", \"  southern/JJ\", \"  southern/JJ\", \"  space/NN\", \"  space/NN\", \"  space/NN\", \"  space/NN\", \"  sparrow/NN\", \"  spend/JJ\", \"  spiderman/NN\", \"  spin/NN\", \"  splash/NN\", \"  splash/NN\", \"  splash/NN\", \"  squeeze/NN\", \"  staff/NN\", \"  staff/NN\", \"  staff/NN\", \"  starwars/NNS\", \"  still/RB\", \"  still/RB\", \"  still/RB\", \"  still/RB\", \"  storm/NN\", \"  storybook/NN\", \"  storybook/NN\", \"  street/NN\", \"  street/NN\", \"  street/NN\", \"  street/NN\", \"  submarine/JJ\", \"  sure/JJ\", \"  sure/JJ\", \"  sure/JJ\", \"  sure/JJ\", \"  surprising/JJ\", \"  tarzan/NN\", \"  thing/NN\", \"  thing/NN\", \"  thing/NN\", \"  thing/NN\", \"  thunder/NN\", \"  thunder/NN\", \"  tip/NN\", \"  tip/NN\", \"  tip/NN\", \"  toad/NN\", \"  toad/NN\", \"  tomorrowland/NN\", \"  tomorrowland/NN\", \"  tomorrowland/NN\", \"  tomorrowland/VBP\", \"  took/VBD\", \"  took/VBD\", \"  took/VBD\", \"  took/VBD\", \"  trip/NN\", \"  trip/NN\", \"  trip/NN\", \"  trip/NN\", \"  trooper/IN\", \"  truly/RB\", \"  truly/RB\", \"  truly/RB\", \"  truly/RB\", \"  two/CD\", \"  two/CD\", \"  two/CD\", \"  two/CD\", \"  use/NN\", \"  use/NN\", \"  use/NN\", \"  vaccinated/VBN\", \"  virtual/JJ\", \"  virtual/JJ\", \"  virtual/JJ\", \"  walking/VBG\", \"  walking/VBG\", \"  walking/VBG\", \"  want/VBP\", \"  want/VBP\", \"  want/VBP\", \"  want/VBP\", \"  war/NN\", \"  war/NN\", \"  war/NN\", \"  war/NN\", \"  water/NN\", \"  water/NN\", \"  water/NN\", \"  waving/VBG\", \"  weather/NN\", \"  weather/NN\", \"  weather/NN\", \"  web/NN\", \"  week/NN)\", \"  weekend/NN\", \"  weekend/NN\", \"  weekend/NN\", \"  well/RB\", \"  well/RB\", \"  well/RB\", \"  well/RB\", \"  whilst/NN\", \"  whip/NN\", \"  whip/NN\", \"  white/JJ\", \"  white/JJ\", \"  white/JJ\", \"  wild/JJ\", \"  wild/JJ\", \"  wild/JJ\", \"  willing/JJ\", \"  winnie/NN\", \"  world/NN\", \"  world/NN\", \"  world/NN\", \"  world/NN\", \"  worth/JJ\", \"  worth/JJ\", \"  worth/JJ\", \"  worth/JJ\"]}, \"R\": 30, \"lambda.step\": 0.01, \"plot.opts\": {\"xlab\": \"PC1\", \"ylab\": \"PC2\"}, \"topic.order\": [4, 1, 2, 3]};\n",
       "\n",
       "function LDAvis_load_lib(url, callback){\n",
       "  var s = document.createElement('script');\n",
       "  s.src = url;\n",
       "  s.async = true;\n",
       "  s.onreadystatechange = s.onload = callback;\n",
       "  s.onerror = function(){console.warn(\"failed to load library \" + url);};\n",
       "  document.getElementsByTagName(\"head\")[0].appendChild(s);\n",
       "}\n",
       "\n",
       "if(typeof(LDAvis) !== \"undefined\"){\n",
       "   // already loaded: just create the visualization\n",
       "   !function(LDAvis){\n",
       "       new LDAvis(\"#\" + \"ldavis_el356561288375897104484682964\", ldavis_el356561288375897104484682964_data);\n",
       "   }(LDAvis);\n",
       "}else if(typeof define === \"function\" && define.amd){\n",
       "   // require.js is available: use it to load d3/LDAvis\n",
       "   require.config({paths: {d3: \"https://d3js.org/d3.v5\"}});\n",
       "   require([\"d3\"], function(d3){\n",
       "      window.d3 = d3;\n",
       "      LDAvis_load_lib(\"https://cdn.jsdelivr.net/gh/bmabey/pyLDAvis@3.3.1/pyLDAvis/js/ldavis.v3.0.0.js\", function(){\n",
       "        new LDAvis(\"#\" + \"ldavis_el356561288375897104484682964\", ldavis_el356561288375897104484682964_data);\n",
       "      });\n",
       "    });\n",
       "}else{\n",
       "    // require.js not available: dynamically load d3 & LDAvis\n",
       "    LDAvis_load_lib(\"https://d3js.org/d3.v5.js\", function(){\n",
       "         LDAvis_load_lib(\"https://cdn.jsdelivr.net/gh/bmabey/pyLDAvis@3.3.1/pyLDAvis/js/ldavis.v3.0.0.js\", function(){\n",
       "                 new LDAvis(\"#\" + \"ldavis_el356561288375897104484682964\", ldavis_el356561288375897104484682964_data);\n",
       "            })\n",
       "         });\n",
       "}\n",
       "</script>"
      ],
      "text/plain": [
       "PreparedData(topic_coordinates=              x         y  topics  cluster       Freq\n",
       "topic                                                \n",
       "3      0.136386 -0.000032       1        1  54.148113\n",
       "0      0.100255 -0.027593       2        1  28.639874\n",
       "1     -0.140429 -0.122767       3        1  10.884706\n",
       "2     -0.096212  0.150392       4        1   6.327307, topic_info=               Term        Freq       Total Category  logprob  loglift\n",
       "22      mountain/NN  861.000000  861.000000  Default  30.0000  30.0000\n",
       "34         world/NN  949.000000  949.000000  Default  29.0000  29.0000\n",
       "1771         war/NN  692.000000  692.000000  Default  28.0000  28.0000\n",
       "27         space/NN  552.000000  552.000000  Default  27.0000  27.0000\n",
       "51        jones/NNS  374.000000  374.000000  Default  26.0000  26.0000\n",
       "...             ...         ...         ...      ...      ...      ...\n",
       "929       loved/VBD   30.678294  281.359435   Topic4  -6.2306   0.5442\n",
       "600      magical/JJ   32.959672  703.931872   Topic4  -6.1589  -0.3011\n",
       "765        night/NN   31.474721  493.779654   Topic4  -6.2050   0.0074\n",
       "162        took/VBD   28.619689  320.501007   Topic4  -6.3001   0.3445\n",
       "468     amazing/VBG   28.765397  564.867593   Topic4  -6.2950  -0.2171\n",
       "\n",
       "[351 rows x 6 columns], token_table=      Topic      Freq        Term\n",
       "term                             \n",
       "467       1  0.652668     able/JJ\n",
       "467       2  0.294370     able/JJ\n",
       "467       3  0.019327     able/JJ\n",
       "467       4  0.034194     able/JJ\n",
       "1980      2  0.954764     add/VBP\n",
       "...     ...       ...         ...\n",
       "34        4  0.017901    world/NN\n",
       "70        1  0.759221    worth/JJ\n",
       "70        2  0.203781    worth/JJ\n",
       "70        3  0.028854    worth/JJ\n",
       "70        4  0.005410    worth/JJ\n",
       "\n",
       "[715 rows x 3 columns], R=30, lambda_step=0.01, plot_opts={'xlab': 'PC1', 'ylab': 'PC2'}, topic_order=[4, 1, 2, 3])"
      ]
     },
     "execution_count": 16,
     "metadata": {},
     "output_type": "execute_result"
    }
   ],
   "source": [
    "# visualize the topics and keywords\n",
    "pyLDAvis.enable_notebook()\n",
    "vis = pyLDAvis.gensim_models.prepare(ldamodel, doc_term_matrix, dictionary)\n",
    "vis"
   ]
  },
  {
   "cell_type": "markdown",
   "id": "cced1f5d",
   "metadata": {},
   "source": [
    "From the visualization, the strengths are:\n",
    "\n",
    "#### 1. Reputation of Disneyland\n",
    "- There are mentions of 'still the happiest place on earth', which is Disneyland's tagline that has been used for decades.\n",
    "- magical place (Disneyland's nickname) but a little expensive compared to the past\n",
    "- amazing staff\n",
    "\n",
    "#### 2. Amenities\n",
    "- ordering / making reservation on the mobile app is convenient for visitors and reduces the load on staff.\n",
    "- parking voucher is available for visitors of the park\n",
    "- restaurant is good for having a snack in between rides.\n",
    "\n",
    "#### 3. Rides and shows\n",
    "- space mountain\n",
    "- haunted mansion\n",
    "- indiana jones\n",
    "- Pirates of the Caribbean\n",
    "- jungle cruise\n",
    "- parade that is hosted by different charcters every season\n",
    "- The mentioned rides are well-recieved by visitors and should be continued to maintain a good returning customer rate.\n",
    "\n",
    "\n",
    "#### 4. Attactions and seasonal events\n",
    "- Star Wars: Rise of the Resistance\n",
    "- Disney Genie+ is helpful to skip queues\n",
    "- christmas lights and fireworks\n",
    "- Millennium Falcon: Smugglers Run - an interactive smuggling mission located in Star Wars: Galaxy's Edge\n",
    "- multiple disneyland hotels and resort surrounding disneyland park\n",
    "- The above attractions and services are favoured by visitors. The park can further promote them using positive reviews from other visitors.\n",
    "\n",
    "\n"
   ]
  },
  {
   "cell_type": "code",
   "execution_count": 17,
   "id": "98a9a92d",
   "metadata": {},
   "outputs": [],
   "source": [
    "\n",
    "filenames = df['date_posted']\n",
    "\n",
    "# print('\\nFile name and its corresponding topic id with probability:')\n",
    "dic_topic_doc = {}\n",
    "for index, doc in enumerate(postagged):\n",
    "    #for doc in doc_clean:\n",
    "    bow = dictionary.doc2bow(doc)\n",
    "\n",
    "    #get topic distribution of the ldamodel\n",
    "    t = ldamodel.get_document_topics(bow)\n",
    "\n",
    "    #sort the probability value in descending order to extract the top contributing topic id\n",
    "    sorted_t = sorted(t, key=lambda x: x[1], reverse=True)\n",
    "\n",
    "    #print only the filename \n",
    "#     print(filenames[index],sorted_t)\n",
    "\n",
    "    #get the top scoring item\n",
    "    top_item = sorted_t.pop(0)\n",
    "\n",
    "    #create dictionary and keep key as topic id and filename and probability in tuple as value\n",
    "    dic_topic_doc.setdefault(top_item[0],[]).append((filenames[index],top_item[1]))"
   ]
  },
  {
   "cell_type": "code",
   "execution_count": 18,
   "id": "0d6cbf3e",
   "metadata": {},
   "outputs": [
    {
     "name": "stdout",
     "output_type": "stream",
     "text": [
      "\n",
      "Topic id, number of documents, list of documents with probability and represented topic words:\n",
      "0.007*\"  every/DT\" + 0.006*\"  still/RB\" + 0.006*\"  happiest/JJS\" + 0.006*\"  earth/NN\" + 0.005*\"  thing/NN\" \n",
      "\n",
      "0.006*\"  mountain/NN\" + 0.005*\"  water/NN\" + 0.004*\"  app/NN\" + 0.004*\"  order/NN\" + 0.004*\"  space/NN\" \n",
      "\n",
      "0.008*\"  war/NN\" + 0.007*\"  resistance/NN\" + 0.007*\"  rise/NN\" + 0.006*\"  galaxy/NN\" + 0.005*\"  edge/NN\" \n",
      "\n",
      "0.014*\"  mountain/NN\" + 0.011*\"  world/NN\" + 0.008*\"  space/NN\" + 0.007*\"  haunted/VBN\" + 0.007*\"  mansion/NN\" \n",
      "\n"
     ]
    }
   ],
   "source": [
    "print('\\nTopic id, number of documents, list of documents with probability and represented topic words:')\n",
    "\n",
    "word_num = 5 # display top 5 words with highest term weight in each topic\n",
    "\n",
    "for key,value in dic_topic_doc.items():\n",
    "    sorted_value = sorted(value, key=lambda x: x[1], reverse=True)\n",
    "\n",
    "    #print the topic word and most represented doc\n",
    "    print(ldamodel.print_topic(key,word_num), '\\n')"
   ]
  },
  {
   "cell_type": "markdown",
   "id": "9ce7bdf5",
   "metadata": {},
   "source": [
    "#### Negative dataset"
   ]
  },
  {
   "cell_type": "code",
   "execution_count": 19,
   "id": "0f8ee918",
   "metadata": {},
   "outputs": [],
   "source": [
    "dictionary = corpora.Dictionary(negtagged)\n",
    "doc_term_matrix = [dictionary.doc2bow(doc) for doc in negtagged]"
   ]
  },
  {
   "cell_type": "code",
   "execution_count": 20,
   "id": "fde0292a",
   "metadata": {},
   "outputs": [
    {
     "name": "stdout",
     "output_type": "stream",
     "text": [
      "Perplexity:  -8.610169593006757\n"
     ]
    }
   ],
   "source": [
    "topic_num = 5\n",
    "\n",
    "ldamodel = Lda(doc_term_matrix, num_topics = topic_num, id2word = dictionary, passes=25, random_state=seed)\n",
    "print('Perplexity: ', ldamodel.log_perplexity(doc_term_matrix))"
   ]
  },
  {
   "cell_type": "code",
   "execution_count": 21,
   "id": "f099450c",
   "metadata": {},
   "outputs": [
    {
     "name": "stderr",
     "output_type": "stream",
     "text": [
      "C:\\Users\\zoe\\anaconda3\\lib\\site-packages\\pyLDAvis\\_prepare.py:246: FutureWarning: In a future version of pandas all arguments of DataFrame.drop except for the argument 'labels' will be keyword-only.\n",
      "  default_term_info = default_term_info.sort_values(\n"
     ]
    },
    {
     "data": {
      "text/html": [
       "\n",
       "<link rel=\"stylesheet\" type=\"text/css\" href=\"https://cdn.jsdelivr.net/gh/bmabey/pyLDAvis@3.3.1/pyLDAvis/js/ldavis.v1.0.0.css\">\n",
       "\n",
       "\n",
       "<div id=\"ldavis_el3565612883480632161310228189\"></div>\n",
       "<script type=\"text/javascript\">\n",
       "\n",
       "var ldavis_el3565612883480632161310228189_data = {\"mdsDat\": {\"x\": [0.11150243164138891, 0.03426469070227837, -0.15585660228188558, -0.11354358197934929, 0.12363306191756765], \"y\": [-0.034702539498059466, -0.118136769731381, -0.06179736810924653, 0.11911113828462096, 0.09552553905406606], \"topics\": [1, 2, 3, 4, 5], \"cluster\": [1, 1, 1, 1, 1], \"Freq\": [40.26250628551661, 21.2359427853935, 13.427273135912564, 13.276846648591912, 11.797431144585412]}, \"tinfo\": {\"Term\": [\"  customer/NN\", \"  service/NN\", \"  member/NN\", \"  security/NN\", \"  said/VBD\", \"  pass/NN\", \"  per/IN\", \"  told/VBD\", \"  reservation/NN\", \"  mountain/NN\", \"  pay/NN\", \"  employee/NN\", \"  attraction/NN\", \"  plus/CC\", \"  space/NN\", \"  could/MD\", \"  dollar/NN\", \"  genie/NN\", \"  lightning/VBG\", \"  another/DT\", \"  staff/NN\", \"  character/NN\", \"  refund/NN\", \"  jones/NNS\", \"  war/NN\", \"  price/NN\", \"  cast/NN\", \"  broke/VBD\", \"  phone/NN\", \"  daughter/NN\", \"  lane/JJ\", \"  amusement/NN\", \"  snack/NN\", \"  worth/IN\", \"  sometimes/RB\", \"  slow/JJ\", \"  rain/NN\", \"  built/VBN\", \"  pre/NN\", \"  spend/VB\", \"  slot/NN\", \"  farm/NN\", \"  considering/VBG\", \"  offer/VBP\", \"  weekday/JJ\", \"  closing/NN\", \"  crowd/VBP\", \"  announced/VBD\", \"  sell/VB\", \"  organized/VBN\", \"  worth/NN)\", \"  newer/JJR\", \"  force/NN\", \"  affordable/JJ\", \"  tour/VBP\", \"  overrated/VBN\", \"  enjoy/NN)\", \"  overpriced/JJ\", \"  joke/VBD\", \"  nowhere/RB\", \"  save/VBP\", \"  original/JJ\", \"  chip/NN\", \"  middle/JJ\", \"  recommend/VBP\", \"  bit/NN\", \"  ridiculously/RB\", \"  max/NN\", \"  lane/NN\", \"  book/NN\", \"  halloween/JJ\", \"  crowded/VBN\", \"  sun/NN\", \"  lightening/VBG\", \"  fee/NN\", \"  water/NN\", \"  vacation/NN\", \"  firework/NN\", \"  price/NN\", \"  everything/NN\", \"  lightning/VBG\", \"  expensive/JJ\", \"  parking/VBG\", \"  waste/NN\", \"  every/DT\", \"  reservation/NN\", \"  plus/CC\", \"  local/JJ\", \"  ridiculous/JJ\", \"  cost/NN\", \"  universal/JJ\", \"  restaurant/NN\", \"  disappointed/JJ\", \"  better/RBR\", \"  attraction/NN\", \"  world/NN\", \"  pay/NN\", \"  two/CD\", \"  worth/JJ\", \"  amount/NN\", \"  say/VBP\", \"  able/JJ\", \"  used/VBN\", \"  california/NN\", \"  want/VBP\", \"  waiting/VBG\", \"  pass/NN\", \"  closed/VBD\", \"  last/JJ\", \"  could/MD\", \"  still/RB\", \"  thing/NN\", \"  new/JJ\", \"  genie/NN\", \"  never/RB\", \"  since/IN\", \"  trip/NN\", \"  well/RB\", \"  minnie/NN\", \"  pushing/VBG\", \"  ppl/NN\", \"  wagon/NN\", \"  providing/VBG\", \"  culture/NN\", \"  fear/NN\", \"  uncomfortable/JJ\", \"  smile/NN\", \"  thinking/NN\", \"  interest/NN\", \"  elevator/NN\", \"  color/NN\", \"  quaility/NN\", \"  french/JJ\", \"  vip/FW\", \"  vegetarian/JJ\", \"  wanting/VBG\", \"  prefer/VBP\", \"  exhausting/VBG\", \"  handle/JJ\", \"  vip/NNS\", \"  nostalgia/JJ\", \"  grown/JJ\", \"  stale/JJ\", \"  par/NN\", \"  inappropriate/JJ\", \"  harbor/NN\", \"  cinderella/NN\", \"  character/RBR\", \"  floor/NN\", \"  occasion/NN\", \"  photo/JJ\", \"  low/JJ\", \"  smile/JJ\", \"  along/IN\", \"  visited/JJ\", \"  move/NN\", \"  seen/VBN\", \"  employee/NN\", \"  wearing/VBG\", \"  mouse/NN\", \"  share/NN\", \"  character/NN\", \"  bathroom/NN\", \"  queue/NN\", \"  old/JJ\", \"  child/NN\", \"  disgusting/VBG\", \"  happened/VBD\", \"  around/IN\", \"  happy/JJ\", \"  member/NN\", \"  earth/NN\", \"  walking/VBG\", \"  never/RB\", \"  staff/NN\", \"  daughter/NN\", \"  review/NN\", \"  trip/NN\", \"  thing/NN\", \"  happiest/JJS\", \"  working/VBG\", \"  crowd/NN\", \"  photo/NN\", \"  whole/JJ\", \"  stroller/NN\", \"  show/NN\", \"  last/JJ\", \"  waiting/VBG\", \"  ever/RB\", \"  service/NN\", \"  every/DT\", \"  away/RB\", \"  customer/NN\", \"  price/NN\", \"  could/MD\", \"  world/NN\", \"  lady/JJ\", \"  autistic/JJ\", \"  guard/NN\", \"  stolen/VBN\", \"  friend/JJ\", \"  cousin/NN\", \"  throwing/VBG\", \"  selfie/NN\", \"  fucking/VBG\", \"  nicole/JJ\", \"  tag/NN\", \"  legal/JJ\", \"  proceeded/VBD\", \"  welcoming/VBG\", \"  skateboard/NN\", \"  doctor/NN\", \"  info/NN\", \"  selfie/JJ\", \"  initial/JJ\", \"  slammed/VBD\", \"  officer/NN\", \"  horrible/JJ)\", \"  reply/NN\", \"  trained/VBD\", \"  poisoning/VBG\", \"  heartless/JJ\", \"  coca/NN\", \"  neck/NN\", \"  gift/JJ\", \"  virus/NN\", \"  security/NN\", \"  gentleman/NN\", \"  owner/NN\", \"  stick/NN\", \"  named/VBN\", \"  purse/NN\", \"  handicap/NN\", \"  lady/NN\", \"  disabled/JJ\", \"  disability/NN\", \"  address/NN\", \"  hand/NN\", \"  manager/NN\", \"  guy/NN\", \"  bag/NN\", \"  bus/NN\", \"  said/VBD\", \"  wheelchair/NN\", \"  name/NN\", \"  mom/NN\", \"  wife/NN\", \"  told/VBD\", \"  card/NN\", \"  daughter/NN\", \"  rude/NN\", \"  telling/VBG\", \"  worker/NN\", \"  took/VBD\", \"  girl/NN\", \"  staff/NN\", \"  came/VBD\", \"  husband/NN\", \"  employee/NN\", \"  asked/VBD\", \"  picture/NN\", \"  son/NN\", \"  reason/NN\", \"  rude/JJ\", \"  member/NN\", \"  never/RB\", \"  guest/JJS\", \"  know/VBP\", \"  earth/NN\", \"  happiest/JJS\", \"  away/RB\", \"  could/MD\", \"  ever/RB\", \"  another/DT\", \"  getting/VBG\", \"  help/NN\", \"  car/NN\", \"  since/IN\", \"  booth/DT\", \"  purchasing/VBG\", \"  upgrade/JJ\", \"  attempted/VBD\", \"  renew/NN\", \"  cafe/JJ\", \"  passport/NN\", \"  ticketing/VBG\", \"  contacted/VBD\", \"  refundable/JJ\", \"  told/RB\", \"  agent/NN\", \"  error/NN\", \"  transfer/NN\", \"  hung/NN\", \"  neither/CC\", \"  racism/NN\", \"  rep/NN\", \"  customer/NN)\", \"  perfectly/RB\", \"  reschedule/NN\", \"  unwilling/JJ\", \"  refunded/VBD\", \"  passive/JJ\", \"  upgrade/VB\", \"  aggressively/RB\", \"  supervisor/JJ\", \"  kindly/RB\", \"  handling/VBG\", \"  mobile/IN\", \"  stated/VBN\", \"  cancelled/VBN\", \"  refund/NN\", \"  information/NN\", \"  customer/NN\", \"  service/NN\", \"  supervisor/NN\", \"  sent/VBD\", \"  called/VBN\", \"  online/NN\", \"  policy/NN\", \"  member/NN\", \"  situation/NN\", \"  email/NN\", \"  told/VBD\", \"  simple/JJ\", \"  complaint/NN\", \"  care/NN\", \"  month/NN\", \"  said/VBD\", \"  explained/VBD\", \"  could/MD\", \"  cast/NN\", \"  cast/VBD\", \"  phone/NN\", \"  issue/NN\", \"  asked/VBD\", \"  question/NN\", \"  reservation/NN\", \"  guest/JJS\", \"  help/NN\", \"  told/VBN\", \"  since/IN\", \"  employee/NN\", \"  staff/NN\", \"  cast/JJ\", \"  annual/JJ\", \"  another/DT\", \"  trying/VBG\", \"  still/RB\", \"  never/RB\", \"  last/JJ\", \"  pass/NN\", \"  work/NN\", \"  delay/NN\", \"  indian/JJ\", \"  equal/JJ\", \"  grown/VBN\", \"  disappoint/NN\", \"  scam/JJ\", \"  stuck/VBD\", \"  unlimited/JJ\", \"  renewing/VBG\", \"  lightning/JJ\", \"  created/VBN\", \"  nemo/JJ\", \"  dis/NN\", \"  appointment/NN\", \"  dramatically/RB\", \"  point/NN)\", \"  hyperspace/NN\", \"  sanitizer/NN\", \"  passholders/NNS\", \"  disgrace/NN\", \"  bowl/NN\", \"  enjoy/VBN\", \"  break/RB\", \"  fyi/NN\", \"  trap/NN\", \"  incredicoaster/NN\", \"  beautifully/RB\", \"  easter/NN\", \"  submarine/NN\", \"  cashier/JJR\", \"  mean/VBP\", \"  boat/NN\", \"  closure/NN\", \"  figure/NN\", \"  priority/NN\", \"  matterhorn/JJ\", \"  jones/NNS\", \"  radiator/NN\", \"  mountain/NN\", \"  spring/NN\", \"  resistance/NN\", \"  indiana/JJ\", \"  technical/JJ\", \"  rise/NN\", \"  per/IN\", \"  space/NN\", \"  thunder/NN\", \"  racer/NN\", \"  longer/RBR\", \"  indiana/NN\", \"  broke/VBD\", \"  pass/NN\", \"  dollar/NN\", \"  war/NN\", \"  pay/NN\", \"  land/NN\", \"  holder/NN\", \"  attraction/NN\", \"  rich/JJ\", \"  person/NN\", \"  genie/NN\", \"  closed/VBD\", \"  pirate/NN\", \"  waited/VBD\", \"  car/NN\", \"  another/DT\", \"  new/JJ\", \"  three/CD\", \"  plus/CC\", \"  due/JJ\", \"  annual/JJ\", \"  price/NN\", \"  waiting/VBG\", \"  two/CD\", \"  still/RB\", \"  customer/NN\", \"  adventure/NN\", \"  thing/NN\", \"  service/NN\", \"  every/DT\", \"  lightning/VBG\"], \"Freq\": [690.0, 761.0, 829.0, 344.0, 652.0, 596.0, 438.0, 559.0, 509.0, 316.0, 671.0, 811.0, 401.0, 328.0, 254.0, 924.0, 304.0, 424.0, 381.0, 547.0, 682.0, 443.0, 170.0, 162.0, 270.0, 884.0, 327.0, 241.0, 291.0, 378.0, 122.26062074859227, 71.97563537161734, 73.17291908467232, 60.99692493809708, 60.37237863441429, 59.63047930922469, 55.9284910645521, 45.854833039998326, 45.69855023143948, 45.70010827372963, 45.25235457080071, 44.01871742390047, 58.0319704599264, 40.15923928671044, 38.41018792459469, 35.70830862123966, 66.97074090873822, 34.8870102910825, 33.477755722084105, 32.902992325979675, 32.439089222247986, 32.311834921750474, 31.220226889351856, 30.21850141268887, 30.27351678993793, 29.65350635681318, 29.200097438950525, 29.62427312305842, 30.87317163983154, 28.70683613902784, 57.15242634060458, 56.60118247026591, 35.64836121592192, 50.79406638957072, 38.885106334142286, 75.92588941302337, 66.74779196983224, 67.33219608495392, 328.4573081540856, 193.20779399974145, 102.06599977042929, 168.04061458315823, 66.79336337743173, 124.42785225665158, 97.29652921987838, 181.63061453008427, 150.03464420638136, 214.18663668735127, 622.2808995577993, 352.34833926646934, 296.2414603360199, 366.58976041719575, 294.1821431973683, 218.80854521212785, 449.2068831236475, 349.1822059010511, 242.26058062722055, 118.92892013147993, 213.46870356216763, 245.82855064718717, 157.892260927035, 130.93656594746093, 224.08787313764438, 284.5644385385811, 263.7361888805183, 287.6637409295874, 383.028265804367, 345.2447086632426, 196.52686011691725, 187.929678475734, 303.43978587816514, 284.214628797913, 259.84274223087255, 248.73765489268368, 291.206909894123, 368.1479728689691, 321.0666361760372, 268.7746317693653, 321.1289578676436, 381.095570177706, 305.9617299084336, 333.0549473784789, 270.3440323473451, 254.46799617957237, 335.60513823688837, 275.510755823932, 258.930697243027, 253.88415040725093, 75.26889134707683, 47.68130619793215, 38.507032990912826, 35.29246729913762, 31.162442045819738, 29.338388764270693, 29.063895336510146, 31.593641014494406, 25.344255567373104, 24.89335096036753, 23.484838153499215, 23.526540848680288, 22.197976671678408, 21.15830932489201, 20.678084657665647, 20.545997141296002, 20.53983807756491, 20.50244616606084, 20.11187850716411, 19.273323102045207, 19.066676136573832, 17.870782848098276, 18.11168609973157, 18.101380325742543, 17.2868189052409, 17.28991526514943, 17.00997656314757, 18.057829350507376, 15.604530667112565, 15.601137011778038, 38.320704485004256, 35.317992635666165, 22.78713487046929, 79.98253276369715, 31.652154924613626, 51.65766617676784, 28.22407502349383, 96.28077285830545, 111.81751035193162, 394.62433912471215, 43.31936527026981, 70.45336173955343, 39.077876669592584, 208.53575623426985, 82.16842823477413, 83.95738943735985, 235.28193362501034, 209.7579209025128, 41.78165235874003, 95.01804138778267, 196.2622118672867, 145.45074383182504, 283.35945048558557, 190.29339477144217, 111.07114177093717, 274.6642660528914, 228.75031945970483, 149.29999038332892, 111.00154098516722, 184.82042157138426, 210.44012976496785, 158.1167966919954, 97.64731091663117, 127.39548776955687, 81.6653426711579, 115.70320644453263, 103.1679411344116, 124.90890882649305, 149.4467309181244, 152.45197258325732, 127.71689217180115, 146.49008864112096, 140.41724058356706, 102.06515460307682, 117.03010885229011, 114.66279585918123, 115.16114152402444, 104.73877163452826, 45.976055670836544, 35.90618585051273, 31.434729459096236, 26.251649237513302, 25.408691615722233, 25.07577918957687, 23.818928334519917, 23.07849615634794, 21.437666997080534, 21.315641609191275, 19.09026633042094, 18.269427916058188, 17.251187146617795, 16.698343510173963, 16.035033292384426, 15.836368299954984, 15.252331136800322, 14.680772271013524, 14.706037431618933, 14.304868993743247, 14.259485870444774, 14.66777703714559, 14.390448141668836, 13.378305094888772, 12.879237041388604, 12.878805226507758, 12.733955717780997, 14.73680801028425, 12.443076524544297, 12.166331953516162, 263.43333733577606, 24.248999995539233, 22.26982304006571, 49.70033931585889, 27.819818227939166, 17.52489925996114, 29.974482268274738, 62.54357079900001, 22.585941680085345, 57.21848998288366, 19.86194346294869, 73.11334924881382, 71.72853399955979, 59.940260850984, 61.45597896366534, 37.73359805238121, 243.07252975653995, 50.584263490267745, 71.11617616434305, 48.30872143053535, 86.81681626908106, 173.433681854609, 61.299149473716575, 125.18083212689066, 105.61471289124538, 54.76599071699057, 82.56344501284616, 122.59757541366977, 45.89515111849991, 148.86725624752165, 96.56412126009621, 62.55248019514527, 147.2546413582923, 79.21249060279614, 74.85005727193271, 76.27810721028338, 64.11117763206559, 60.53472186575925, 103.17451015259576, 102.60646521365248, 77.65676532908033, 78.36065727883408, 82.70247699090919, 78.32427488008483, 70.3818603291856, 85.62736932287868, 73.39378242334158, 74.27490467778436, 71.35467984793557, 67.44001460805435, 66.69368243765003, 68.94595792146167, 41.36900889580761, 31.80546582876214, 24.713500211842828, 22.67470232774219, 19.81760038140087, 18.24693612906162, 21.575208769055735, 17.43764856349855, 15.912961079515352, 15.785374670577339, 16.130808897725974, 15.856771927524454, 14.21792721387307, 13.974893876062982, 13.97223118640819, 14.20135488596563, 13.959527079362438, 13.833202313629313, 13.82938845126568, 13.150692793533159, 12.930296263163667, 12.92204078545885, 12.381879513522884, 12.279497035933678, 14.586240231453651, 12.360290422294826, 11.73636095135408, 11.220148981561781, 11.086220163350546, 11.068858760471322, 31.1882093018328, 15.125071473687173, 128.0493329214615, 64.8730868843946, 420.0318319013204, 423.9934511836685, 65.79671141336944, 33.61606323102233, 107.94852125818717, 44.39002275578808, 51.60210487191251, 330.40304332209195, 72.67118867956528, 48.56015071568078, 232.08430183758188, 35.92351484051697, 51.21472867976355, 128.07008033271967, 85.5533461089502, 223.46530255376325, 43.0939478261306, 275.9248022620187, 127.18328631642792, 60.711337147202336, 115.67104019206039, 104.65817682183689, 101.7019582915396, 63.37707789188597, 149.7390049059245, 118.36510346773133, 96.59049194630545, 52.053960763755924, 126.16584954080746, 152.476765400033, 136.7960571407132, 78.47709009796917, 75.05932232817504, 108.12997343169916, 87.12793294064919, 101.68992226796995, 112.49715620754594, 89.0151407551701, 82.65551912656504, 73.23679761934133, 22.95615372510746, 20.957403285072274, 20.033847282302638, 19.098739447949676, 18.323233551089988, 18.05663772055711, 21.81698015262817, 17.224391670077445, 16.488212483382746, 14.814740991350487, 12.247411862598502, 11.751616412732025, 10.741239374153615, 10.714048007971195, 10.390862381485965, 10.357788368939522, 10.116209561323007, 10.637431817179282, 10.016868328226959, 9.817532234661082, 9.813660329955852, 9.811909792758136, 9.704342515037837, 9.75985565660334, 9.444394363146753, 9.351890119123762, 9.64956012731811, 9.232013768095088, 9.214860529101175, 9.519346491876219, 16.639498784895416, 43.652448844987624, 19.939221670772135, 34.26516624482592, 41.262263641303896, 14.624409997681541, 103.86222172470816, 37.9114471944236, 166.87648140212474, 51.50562515084716, 74.29726109969072, 27.0401764837619, 40.932639122989954, 68.27912144264388, 180.80834554082395, 116.73674581488116, 32.86015252542825, 22.995522504257174, 81.87290675521001, 56.79433223986072, 103.37213363376935, 190.82479006298257, 115.74309509300723, 105.64039357105726, 189.05127385094303, 82.00093358250147, 72.52461742955659, 119.8248585913709, 34.8431847462818, 115.72586862281769, 112.58552798084735, 116.2634790853901, 42.29804567232447, 85.88511619882863, 82.81718407012244, 119.4463499128067, 111.06029980043266, 68.57080596917821, 85.90921705274431, 77.10384199795972, 68.96505779669278, 122.45744216881799, 110.80589151058561, 92.97415769858853, 91.65762907706208, 94.13367863667973, 79.87944765858687, 92.7419244380231, 92.64292209397068, 81.0747864418949, 78.56322442672732], \"Total\": [690.0, 761.0, 829.0, 344.0, 652.0, 596.0, 438.0, 559.0, 509.0, 316.0, 671.0, 811.0, 401.0, 328.0, 254.0, 924.0, 304.0, 424.0, 381.0, 547.0, 682.0, 443.0, 170.0, 162.0, 270.0, 884.0, 327.0, 241.0, 291.0, 378.0, 123.05010681178736, 72.74957209263677, 74.03999961568427, 61.74941333925058, 61.128707576516184, 60.384853165886994, 56.72322466540739, 46.60684958828679, 46.44904760456878, 46.45074660476378, 46.000651893079535, 44.77048370891504, 59.090281149093165, 40.91667489640275, 39.16150071210827, 36.463522666179294, 68.39951049001277, 35.63428708147993, 34.2303975467761, 33.65048096034071, 33.187560775189034, 33.08461880103357, 31.975756311268494, 30.96692527639639, 31.025224161922353, 30.3997211734387, 29.947772618849836, 30.384576470467024, 31.680115518898486, 29.457181831056012, 58.65782506887269, 58.213522004516285, 36.59979290976482, 52.394740882794366, 40.051716270407496, 79.32358354536785, 69.84668538383964, 70.56007698747695, 367.8047898125329, 217.0783543611746, 111.08078565765452, 189.44277408628002, 71.24113245956478, 140.5741339848091, 108.21898298756652, 214.4305579772961, 175.76227059174778, 264.7317546144926, 884.9018722450758, 464.82715658624915, 381.93828120785327, 503.04150853530405, 398.29896675185256, 287.3111259422344, 685.1104467898645, 509.0205074513087, 328.80368545791634, 141.15320259623292, 292.78081419890594, 354.5145387590316, 203.99881802881617, 162.44233610130382, 325.3549506879897, 442.1394984235818, 401.94805247564824, 451.2231457784409, 671.8397349853127, 590.0829516562925, 277.66201226804264, 262.4596375554162, 503.29757702499177, 463.2277853707071, 413.75611990663344, 396.5444016302638, 502.3097963785791, 719.2907051746271, 596.2880247439475, 464.69688092843165, 632.190578596993, 924.3837995067322, 601.739693233676, 725.2267404321923, 478.58719271489235, 424.5586794044285, 884.8182275136462, 531.1291542704073, 568.7753846852964, 533.1386749725676, 76.02622125110334, 48.44373311246862, 39.26555906720887, 36.06192640401578, 31.922519762704237, 30.09372384541097, 29.82428696984978, 32.429879478549445, 26.10506397864318, 25.67401691850207, 24.249491242522673, 24.314484121236017, 22.96637071318707, 21.91096283917319, 21.438595011538588, 21.307537492665166, 21.305837127226855, 21.26947378643792, 20.881286356244008, 20.0322089426211, 19.858744813582234, 18.630632017245823, 18.883237729578074, 18.876391752110592, 18.04497153449364, 18.053871257113208, 17.769967643331864, 18.879588842417604, 16.363227033023424, 16.35989730138647, 41.155314946678445, 38.21406210948124, 24.23353903379756, 98.37288398559916, 36.314558840762885, 65.15153906492147, 32.16842258177432, 141.18788042926988, 169.700838854159, 811.8386243380862, 54.81116672743283, 103.2108105363488, 48.91959505546313, 443.7911575632732, 131.59901088723285, 137.607744897071, 547.62230194052, 479.69035480075866, 55.10430325329679, 173.0083515330799, 478.8628151832812, 319.8111761394711, 829.1757390632104, 492.9444983690619, 225.52772950268567, 884.8182275136462, 682.8947991404951, 378.6876481598795, 248.79561424002753, 568.7753846852964, 725.2267404321923, 470.127065430205, 218.6962483511031, 362.3255295088324, 163.05151848154526, 313.2325599525665, 253.38818457094064, 415.8657599345323, 632.190578596993, 719.2907051746271, 477.67887535139903, 761.5822241644539, 685.1104467898645, 302.76200120506564, 690.9910121618753, 884.9018722450758, 924.3837995067322, 451.2231457784409, 46.74284174237257, 36.66150419009953, 32.1902548742502, 27.01051543197328, 26.164822143915657, 25.8340082331829, 24.582909416498985, 23.834668380883755, 22.191662291207997, 22.066856010872897, 19.85123125011367, 19.029621483061355, 18.009254449419025, 17.458577024427676, 16.78624368357564, 16.59194317949974, 16.014961512637022, 15.437603397633136, 15.468533395252978, 15.060143951142269, 15.018579905840966, 15.44901326988025, 15.16148203651933, 14.13961480036013, 13.631439976843728, 13.631417794526113, 13.48865992000908, 15.620327436649845, 13.204740944436653, 12.920707506801191, 344.90875228561885, 26.99233088863913, 24.648764409268047, 59.71972677192926, 31.768080502428464, 19.13989532208094, 35.0300553489951, 81.01387010348027, 25.724480216465427, 81.64712026593642, 22.504895184471536, 115.02183366028693, 113.48027151709535, 92.43832466696496, 97.79360170389498, 52.78614579562722, 652.1161029572504, 78.19617389184354, 126.72119246392637, 78.95073395583664, 187.03371924827462, 559.1149906719336, 121.44038834295777, 378.6876481598795, 300.5563221356958, 107.69726053918953, 216.43387287781852, 460.0674155015974, 80.35350852501921, 682.8947991404951, 326.58674365476, 146.25352119719994, 811.8386243380862, 253.17351606119624, 225.59191999242424, 276.05098142809834, 186.0707697127055, 165.62880939027406, 829.1757390632104, 884.8182275136462, 368.7430832161293, 393.04431995008787, 492.9444983690619, 470.127065430205, 302.76200120506564, 924.3837995067322, 477.67887535139903, 547.9880001426574, 400.8977444206955, 273.57256707296074, 263.55854967812047, 531.1291542704073, 42.14956895227067, 32.57886311492762, 25.49259691219557, 23.458472987854954, 20.59295562222943, 19.02678212214195, 22.526011955418603, 18.216140905815198, 16.68581001998719, 16.557582203147827, 16.924741469512945, 16.665536102584987, 14.988288342928017, 14.7448841916066, 14.743164803046174, 14.986441662880393, 14.738714894338568, 14.605615159111272, 14.609377323739915, 13.93429899201714, 13.701336369306306, 13.697367575624604, 13.155520314192911, 13.052106516343638, 15.504843515886554, 13.154930306982857, 12.50906522775692, 11.99754793131384, 11.867448230917313, 11.860903789621544, 34.222395357543924, 16.368271434533398, 170.5858538158866, 81.05393856398712, 690.9910121618753, 761.5822241644539, 94.45527469216194, 42.75433485299721, 184.49898176247922, 63.2539680900348, 76.87489934808738, 829.1757390632104, 121.17680371680883, 72.62374538657737, 559.1149906719336, 51.6928467010994, 83.34666971403365, 289.5317898631771, 168.4324385422836, 652.1161029572504, 66.80492787676143, 924.3837995067322, 327.67421293988764, 112.5439401683544, 291.8251857925273, 257.1906763223095, 253.17351606119624, 126.38060163774793, 509.0205074513087, 368.7430832161293, 273.57256707296074, 94.81655257736574, 531.1291542704073, 811.8386243380862, 682.8947991404951, 230.17518617719801, 212.46310951695685, 547.9880001426574, 335.28574657071636, 601.739693233676, 884.8182275136462, 632.190578596993, 596.2880247439475, 346.06852561072793, 23.752530227442715, 21.756159842921676, 20.835828294119505, 19.89523993231243, 19.114753396245714, 18.85189690832508, 22.817724479875498, 18.0397795280765, 17.288454899609505, 15.607692571864197, 13.044551536900498, 12.561740359515337, 11.536364366484198, 11.512185742753159, 11.184311773375684, 11.176291837144852, 10.921924261019704, 11.487696052058423, 10.818824358595876, 10.608210104224712, 10.606467401896708, 10.605858280753923, 10.494583601877935, 10.57206490732603, 10.241000893700887, 10.142167600816556, 10.46996537897197, 10.024920878413372, 10.013866370202066, 10.352443478835506, 18.35439602025783, 52.12614415623864, 22.649011335452307, 41.0204759231979, 50.448192507671926, 16.442637308304533, 162.55942604263066, 52.71166894899985, 316.10961672184266, 76.7409927179371, 127.26976977937477, 37.12600788595718, 63.10381804635779, 122.82820419955499, 438.4889992785054, 254.552507759942, 49.14542434750579, 31.271943621909404, 171.00465760444195, 105.49827325142607, 241.26608419102936, 596.2880247439475, 304.34735146455034, 270.7623858292765, 671.8397349853127, 207.15512661228618, 173.15167809989913, 401.94805247564824, 55.964098360739435, 444.03304317358123, 424.5586794044285, 464.69688092843165, 79.02257189207225, 281.5689038459138, 263.55854967812047, 547.9880001426574, 478.58719271489235, 196.7299529315511, 328.80368545791634, 269.2582305744194, 212.46310951695685, 884.9018722450758, 719.2907051746271, 590.0829516562925, 601.739693233676, 690.9910121618753, 378.39080268493905, 725.2267404321923, 761.5822241644539, 685.1104467898645, 381.93828120785327], \"Category\": [\"Default\", \"Default\", \"Default\", \"Default\", \"Default\", \"Default\", \"Default\", \"Default\", \"Default\", \"Default\", \"Default\", \"Default\", \"Default\", \"Default\", \"Default\", \"Default\", \"Default\", \"Default\", \"Default\", \"Default\", \"Default\", \"Default\", \"Default\", \"Default\", \"Default\", \"Default\", \"Default\", \"Default\", \"Default\", \"Default\", \"Topic1\", \"Topic1\", \"Topic1\", \"Topic1\", \"Topic1\", \"Topic1\", \"Topic1\", \"Topic1\", \"Topic1\", \"Topic1\", \"Topic1\", \"Topic1\", \"Topic1\", \"Topic1\", \"Topic1\", \"Topic1\", \"Topic1\", \"Topic1\", \"Topic1\", \"Topic1\", \"Topic1\", \"Topic1\", \"Topic1\", \"Topic1\", \"Topic1\", \"Topic1\", \"Topic1\", \"Topic1\", \"Topic1\", \"Topic1\", \"Topic1\", \"Topic1\", \"Topic1\", \"Topic1\", \"Topic1\", \"Topic1\", \"Topic1\", \"Topic1\", \"Topic1\", \"Topic1\", \"Topic1\", \"Topic1\", \"Topic1\", \"Topic1\", \"Topic1\", \"Topic1\", \"Topic1\", \"Topic1\", \"Topic1\", \"Topic1\", \"Topic1\", \"Topic1\", \"Topic1\", \"Topic1\", \"Topic1\", \"Topic1\", \"Topic1\", \"Topic1\", \"Topic1\", \"Topic1\", \"Topic1\", \"Topic1\", \"Topic1\", \"Topic1\", \"Topic1\", \"Topic1\", \"Topic1\", \"Topic1\", \"Topic1\", \"Topic1\", \"Topic1\", \"Topic1\", \"Topic1\", \"Topic1\", \"Topic1\", \"Topic1\", \"Topic1\", \"Topic1\", \"Topic1\", \"Topic1\", \"Topic1\", \"Topic1\", \"Topic1\", \"Topic1\", \"Topic1\", \"Topic1\", \"Topic1\", \"Topic1\", \"Topic2\", \"Topic2\", \"Topic2\", \"Topic2\", \"Topic2\", \"Topic2\", \"Topic2\", \"Topic2\", \"Topic2\", \"Topic2\", \"Topic2\", \"Topic2\", \"Topic2\", \"Topic2\", \"Topic2\", \"Topic2\", \"Topic2\", \"Topic2\", \"Topic2\", \"Topic2\", \"Topic2\", \"Topic2\", \"Topic2\", \"Topic2\", \"Topic2\", \"Topic2\", \"Topic2\", \"Topic2\", \"Topic2\", \"Topic2\", \"Topic2\", \"Topic2\", \"Topic2\", \"Topic2\", \"Topic2\", \"Topic2\", \"Topic2\", \"Topic2\", \"Topic2\", \"Topic2\", \"Topic2\", \"Topic2\", \"Topic2\", \"Topic2\", \"Topic2\", \"Topic2\", \"Topic2\", \"Topic2\", \"Topic2\", \"Topic2\", \"Topic2\", \"Topic2\", \"Topic2\", \"Topic2\", \"Topic2\", \"Topic2\", \"Topic2\", \"Topic2\", \"Topic2\", \"Topic2\", \"Topic2\", \"Topic2\", \"Topic2\", \"Topic2\", \"Topic2\", \"Topic2\", \"Topic2\", \"Topic2\", \"Topic2\", \"Topic2\", \"Topic2\", \"Topic2\", \"Topic2\", \"Topic2\", \"Topic2\", \"Topic2\", \"Topic2\", \"Topic2\", \"Topic3\", \"Topic3\", \"Topic3\", \"Topic3\", \"Topic3\", \"Topic3\", \"Topic3\", \"Topic3\", \"Topic3\", \"Topic3\", \"Topic3\", \"Topic3\", \"Topic3\", \"Topic3\", \"Topic3\", \"Topic3\", \"Topic3\", \"Topic3\", \"Topic3\", \"Topic3\", \"Topic3\", \"Topic3\", \"Topic3\", \"Topic3\", \"Topic3\", \"Topic3\", \"Topic3\", \"Topic3\", \"Topic3\", \"Topic3\", \"Topic3\", \"Topic3\", \"Topic3\", \"Topic3\", \"Topic3\", \"Topic3\", \"Topic3\", \"Topic3\", \"Topic3\", \"Topic3\", \"Topic3\", \"Topic3\", \"Topic3\", \"Topic3\", \"Topic3\", \"Topic3\", \"Topic3\", \"Topic3\", \"Topic3\", \"Topic3\", \"Topic3\", \"Topic3\", \"Topic3\", \"Topic3\", \"Topic3\", \"Topic3\", \"Topic3\", \"Topic3\", \"Topic3\", \"Topic3\", \"Topic3\", \"Topic3\", \"Topic3\", \"Topic3\", \"Topic3\", \"Topic3\", \"Topic3\", \"Topic3\", \"Topic3\", \"Topic3\", \"Topic3\", \"Topic3\", \"Topic3\", \"Topic3\", \"Topic3\", \"Topic3\", \"Topic3\", \"Topic3\", \"Topic3\", \"Topic3\", \"Topic3\", \"Topic3\", \"Topic4\", \"Topic4\", \"Topic4\", \"Topic4\", \"Topic4\", \"Topic4\", \"Topic4\", \"Topic4\", \"Topic4\", \"Topic4\", \"Topic4\", \"Topic4\", \"Topic4\", \"Topic4\", \"Topic4\", \"Topic4\", \"Topic4\", \"Topic4\", \"Topic4\", \"Topic4\", \"Topic4\", \"Topic4\", \"Topic4\", \"Topic4\", \"Topic4\", \"Topic4\", \"Topic4\", \"Topic4\", \"Topic4\", \"Topic4\", \"Topic4\", \"Topic4\", \"Topic4\", \"Topic4\", \"Topic4\", \"Topic4\", \"Topic4\", \"Topic4\", \"Topic4\", \"Topic4\", \"Topic4\", \"Topic4\", \"Topic4\", \"Topic4\", \"Topic4\", \"Topic4\", \"Topic4\", \"Topic4\", \"Topic4\", \"Topic4\", \"Topic4\", \"Topic4\", \"Topic4\", \"Topic4\", \"Topic4\", \"Topic4\", \"Topic4\", \"Topic4\", \"Topic4\", \"Topic4\", \"Topic4\", \"Topic4\", \"Topic4\", \"Topic4\", \"Topic4\", \"Topic4\", \"Topic4\", \"Topic4\", \"Topic4\", \"Topic4\", \"Topic4\", \"Topic4\", \"Topic4\", \"Topic4\", \"Topic5\", \"Topic5\", \"Topic5\", \"Topic5\", \"Topic5\", \"Topic5\", \"Topic5\", \"Topic5\", \"Topic5\", \"Topic5\", \"Topic5\", \"Topic5\", \"Topic5\", \"Topic5\", \"Topic5\", \"Topic5\", \"Topic5\", \"Topic5\", \"Topic5\", \"Topic5\", \"Topic5\", \"Topic5\", \"Topic5\", \"Topic5\", \"Topic5\", \"Topic5\", \"Topic5\", \"Topic5\", \"Topic5\", \"Topic5\", \"Topic5\", \"Topic5\", \"Topic5\", \"Topic5\", \"Topic5\", \"Topic5\", \"Topic5\", \"Topic5\", \"Topic5\", \"Topic5\", \"Topic5\", \"Topic5\", \"Topic5\", \"Topic5\", \"Topic5\", \"Topic5\", \"Topic5\", \"Topic5\", \"Topic5\", \"Topic5\", \"Topic5\", \"Topic5\", \"Topic5\", \"Topic5\", \"Topic5\", \"Topic5\", \"Topic5\", \"Topic5\", \"Topic5\", \"Topic5\", \"Topic5\", \"Topic5\", \"Topic5\", \"Topic5\", \"Topic5\", \"Topic5\", \"Topic5\", \"Topic5\", \"Topic5\", \"Topic5\", \"Topic5\", \"Topic5\", \"Topic5\", \"Topic5\", \"Topic5\", \"Topic5\", \"Topic5\", \"Topic5\", \"Topic5\", \"Topic5\", \"Topic5\"], \"logprob\": [30.0, 29.0, 28.0, 27.0, 26.0, 25.0, 24.0, 23.0, 22.0, 21.0, 20.0, 19.0, 18.0, 17.0, 16.0, 15.0, 14.0, 13.0, 12.0, 11.0, 10.0, 9.0, 8.0, 7.0, 6.0, 5.0, 4.0, 3.0, 2.0, 1.0, -6.6164, -7.1462, -7.1297, -7.3117, -7.322, -7.3343, -7.3984, -7.597, -7.6004, -7.6004, -7.6103, -7.6379, -7.3615, -7.7297, -7.7742, -7.8471, -7.2183, -7.8704, -7.9116, -7.9289, -7.9431, -7.9471, -7.9814, -8.0141, -8.0122, -8.0329, -8.0483, -8.0339, -7.9926, -8.0654, -7.3768, -7.3865, -7.8488, -7.4947, -7.7619, -7.0927, -7.2216, -7.2129, -5.6281, -6.1587, -6.7969, -6.2983, -7.2209, -6.5988, -6.8447, -6.2205, -6.4116, -6.0557, -4.9891, -5.5579, -5.7313, -5.5183, -5.7383, -6.0343, -5.315, -5.5669, -5.9325, -6.644, -6.059, -5.9179, -6.3606, -6.5478, -6.0105, -5.7715, -5.8476, -5.7607, -5.4744, -5.5783, -6.1417, -6.1864, -5.7073, -5.7728, -5.8624, -5.9061, -5.7485, -5.514, -5.6509, -5.8286, -5.6507, -5.4795, -5.699, -5.6142, -5.8228, -5.8833, -5.6066, -5.8039, -5.8659, -5.8856, -6.4617, -6.9182, -7.1319, -7.2191, -7.3436, -7.4039, -7.4133, -7.3298, -7.5502, -7.5682, -7.6264, -7.6247, -7.6828, -7.7307, -7.7537, -7.7601, -7.7604, -7.7622, -7.7815, -7.8241, -7.8348, -7.8996, -7.8862, -7.8868, -7.9328, -7.9327, -7.949, -7.8892, -8.0352, -8.0354, -7.1368, -7.2184, -7.6566, -6.401, -7.328, -6.8381, -7.4426, -6.2155, -6.0659, -4.8048, -7.0142, -6.5278, -7.1172, -5.4427, -6.374, -6.3525, -5.322, -5.4368, -7.0503, -6.2287, -5.5033, -5.8029, -5.1361, -5.5342, -6.0726, -5.1672, -5.3501, -5.7768, -6.0732, -5.5634, -5.4336, -5.7194, -6.2014, -5.9355, -6.3802, -6.0318, -6.1464, -5.9552, -5.7758, -5.7559, -5.933, -5.7958, -5.8382, -6.1572, -6.0203, -6.0408, -6.0364, -6.1313, -6.4963, -6.7435, -6.8765, -7.0566, -7.0893, -7.1025, -7.1539, -7.1855, -7.2592, -7.2649, -7.3752, -7.4191, -7.4765, -7.5091, -7.5496, -7.5621, -7.5996, -7.6378, -7.6361, -7.6638, -7.667, -7.6387, -7.6578, -7.7307, -7.7688, -7.7688, -7.7801, -7.634, -7.8032, -7.8257, -4.7506, -7.136, -7.2211, -6.4184, -6.9986, -7.4608, -6.924, -6.1885, -7.207, -6.2775, -7.3356, -6.0324, -6.0515, -6.231, -6.2061, -6.6938, -4.831, -6.4007, -6.0601, -6.4468, -5.8606, -5.1686, -6.2086, -5.4946, -5.6646, -6.3213, -5.9108, -5.5155, -6.498, -5.3213, -5.7542, -6.1884, -5.3322, -5.9522, -6.0089, -5.99, -6.1638, -6.2212, -5.688, -5.6935, -5.9721, -5.9631, -5.9091, -5.9635, -6.0704, -5.8744, -6.0285, -6.0166, -6.0567, -6.1131, -6.1243, -6.0911, -6.5906, -6.8535, -7.1058, -7.1919, -7.3265, -7.4091, -7.2416, -7.4545, -7.546, -7.554, -7.5324, -7.5495, -7.6586, -7.6758, -7.676, -7.6598, -7.6769, -7.686, -7.6863, -7.7366, -7.7535, -7.7542, -7.7969, -7.8052, -7.633, -7.7986, -7.8504, -7.8954, -7.9074, -7.909, -6.8731, -7.5968, -5.4607, -6.1407, -4.2728, -4.2634, -6.1265, -6.7981, -5.6315, -6.5201, -6.3695, -4.5128, -6.0272, -6.4303, -4.866, -6.7317, -6.3771, -5.4605, -5.864, -4.9039, -6.5497, -4.693, -5.4675, -6.207, -5.5624, -5.6624, -5.6911, -6.164, -5.3042, -5.5393, -5.7426, -6.3608, -5.4755, -5.2861, -5.3946, -5.9503, -5.9948, -5.6298, -5.8457, -5.6912, -5.5902, -5.8243, -5.8984, -6.0194, -7.0614, -7.1525, -7.1975, -7.2453, -7.2868, -7.3015, -7.1123, -7.3486, -7.3923, -7.4993, -7.6897, -7.731, -7.8209, -7.8234, -7.854, -7.8572, -7.8808, -7.8306, -7.8907, -7.9108, -7.9112, -7.9114, -7.9224, -7.9167, -7.9495, -7.9594, -7.9281, -7.9723, -7.9742, -7.9416, -7.3832, -6.4187, -7.2023, -6.6608, -6.475, -7.5123, -5.5519, -6.5597, -5.0777, -6.2533, -5.8869, -6.8976, -6.483, -5.9714, -4.9975, -5.435, -6.7027, -7.0597, -5.7898, -6.1555, -5.5566, -4.9436, -5.4436, -5.5349, -4.9529, -5.7882, -5.911, -5.4089, -6.6441, -5.4437, -5.4713, -5.4391, -6.4502, -5.742, -5.7783, -5.4121, -5.4849, -5.9671, -5.7417, -5.8498, -5.9614, -5.3872, -5.4872, -5.6626, -5.6769, -5.6503, -5.8144, -5.6651, -5.6662, -5.7996, -5.8311], \"loglift\": [30.0, 29.0, 28.0, 27.0, 26.0, 25.0, 24.0, 23.0, 22.0, 21.0, 20.0, 19.0, 18.0, 17.0, 16.0, 15.0, 14.0, 13.0, 12.0, 11.0, 10.0, 9.0, 8.0, 7.0, 6.0, 5.0, 4.0, 3.0, 2.0, 1.0, 0.9033, 0.8991, 0.898, 0.8975, 0.8973, 0.8972, 0.8956, 0.8935, 0.8935, 0.8935, 0.8933, 0.8928, 0.8917, 0.8911, 0.8904, 0.8888, 0.8886, 0.8886, 0.8875, 0.8873, 0.8869, 0.8861, 0.8858, 0.8853, 0.8852, 0.8849, 0.8845, 0.8844, 0.8839, 0.8839, 0.8838, 0.8817, 0.8834, 0.8787, 0.8802, 0.866, 0.8644, 0.8629, 0.7966, 0.7933, 0.8251, 0.7899, 0.8453, 0.7877, 0.8034, 0.7437, 0.7515, 0.6979, 0.5577, 0.6327, 0.6557, 0.5933, 0.6067, 0.6374, 0.4877, 0.5329, 0.6043, 0.7384, 0.5938, 0.5436, 0.6535, 0.6941, 0.5369, 0.4691, 0.4884, 0.4596, 0.3478, 0.3737, 0.5641, 0.5757, 0.4038, 0.4213, 0.4445, 0.4434, 0.3646, 0.24, 0.2907, 0.3622, 0.2324, 0.0237, 0.2334, 0.1316, 0.3386, 0.3979, -0.0597, 0.2534, 0.1228, 0.1678, 1.5395, 1.5336, 1.53, 1.5279, 1.5254, 1.5241, 1.5236, 1.5234, 1.5199, 1.5186, 1.5174, 1.5165, 1.5154, 1.5145, 1.5134, 1.5131, 1.5129, 1.5127, 1.5119, 1.5109, 1.5088, 1.5078, 1.5078, 1.5076, 1.5066, 1.5062, 1.5058, 1.505, 1.502, 1.502, 1.4781, 1.4707, 1.4879, 1.3425, 1.4121, 1.3174, 1.4187, 1.1667, 1.1323, 0.8281, 1.3142, 1.1677, 1.3249, 0.7942, 1.0785, 1.0554, 0.7047, 0.7223, 1.2727, 0.9502, 0.6575, 0.7616, 0.4758, 0.5976, 0.8412, 0.3796, 0.4558, 0.6187, 0.7424, 0.4254, 0.3122, 0.4598, 0.7432, 0.5042, 0.858, 0.5536, 0.6509, 0.3467, 0.1072, -0.0019, 0.2304, -0.099, -0.0355, 0.4621, -0.2262, -0.494, -0.5333, 0.089, 1.9913, 1.9871, 1.9841, 1.9794, 1.9786, 1.9781, 1.9763, 1.9756, 1.9733, 1.9732, 1.9688, 1.9671, 1.9649, 1.9634, 1.9621, 1.9613, 1.9591, 1.9576, 1.9573, 1.9564, 1.956, 1.956, 1.9557, 1.9525, 1.9511, 1.9511, 1.9503, 1.9497, 1.9485, 1.9477, 1.7384, 1.9007, 1.9064, 1.8242, 1.8752, 1.9197, 1.852, 1.7491, 1.8778, 1.6524, 1.883, 1.5548, 1.5491, 1.5747, 1.5433, 1.6722, 1.021, 1.5723, 1.4302, 1.5167, 1.2404, 0.8373, 1.3242, 0.9009, 0.962, 1.3316, 1.0442, 0.6854, 1.4478, 0.4846, 0.7894, 1.1585, 0.3007, 0.8459, 0.9046, 0.7217, 0.9424, 1.0014, -0.0761, -0.1466, 0.4501, 0.3953, 0.2227, 0.2157, 0.5489, -0.3712, 0.1348, 0.0094, 0.2818, 0.6076, 0.6337, -0.0338, 2.0005, 1.9951, 1.9881, 1.9852, 1.9808, 1.9773, 1.976, 1.9755, 1.9717, 1.9714, 1.9711, 1.9694, 1.9664, 1.9655, 1.9654, 1.9653, 1.9648, 1.9648, 1.9643, 1.9613, 1.9612, 1.9609, 1.9585, 1.9581, 1.9581, 1.9568, 1.9554, 1.9522, 1.9511, 1.95, 1.9263, 1.9402, 1.7323, 1.7965, 1.5214, 1.4335, 1.6576, 1.7787, 1.4832, 1.665, 1.6205, 1.099, 1.5078, 1.6167, 1.1399, 1.6552, 1.5322, 1.2035, 1.3418, 0.9482, 1.5808, 0.8101, 1.0728, 1.4019, 1.0937, 1.12, 1.1071, 1.329, 0.7956, 0.8828, 0.9781, 1.4195, 0.5817, 0.3469, 0.4113, 0.9431, 0.9787, 0.3962, 0.6715, 0.2413, -0.0433, 0.0588, 0.0431, 0.4662, 2.1032, 2.0999, 2.098, 2.0964, 2.095, 2.0942, 2.0924, 2.091, 2.0899, 2.0851, 2.0742, 2.0706, 2.0659, 2.0654, 2.0637, 2.0612, 2.0607, 2.0604, 2.0603, 2.0598, 2.0596, 2.0595, 2.059, 2.0574, 2.0563, 2.0562, 2.0557, 2.0549, 2.0541, 2.0534, 2.0392, 1.9599, 2.0099, 1.9573, 1.9363, 2.0201, 1.6893, 1.8077, 1.4985, 1.7385, 1.5991, 1.8203, 1.7044, 1.5501, 1.2514, 1.3577, 1.7348, 1.8299, 1.4008, 1.518, 1.2897, 0.9979, 1.1705, 1.1961, 0.8693, 1.2106, 1.267, 0.927, 1.6634, 0.7926, 0.81, 0.7518, 1.5123, 0.9499, 0.9796, 0.6139, 0.6765, 1.0833, 0.7951, 0.8868, 1.0121, 0.1596, 0.2668, 0.2893, 0.2555, 0.1439, 0.5819, 0.0806, 0.0306, 0.0031, 0.5559]}, \"token.table\": {\"Topic\": [1, 2, 3, 4, 5, 1, 3, 1, 2, 3, 4, 5, 1, 4, 4, 1, 2, 3, 1, 2, 4, 5, 1, 1, 1, 3, 4, 5, 1, 2, 3, 4, 5, 5, 1, 2, 3, 4, 5, 1, 2, 3, 4, 5, 4, 1, 2, 5, 3, 1, 2, 3, 4, 1, 3, 1, 2, 5, 5, 1, 2, 3, 4, 5, 1, 4, 5, 2, 4, 5, 1, 2, 4, 4, 5, 5, 1, 2, 4, 5, 1, 1, 2, 3, 4, 1, 2, 3, 4, 5, 1, 2, 3, 4, 5, 1, 2, 3, 4, 5, 4, 5, 1, 2, 3, 5, 1, 3, 4, 5, 1, 2, 3, 4, 5, 5, 1, 2, 3, 4, 1, 2, 3, 4, 5, 1, 2, 3, 4, 1, 2, 4, 2, 1, 2, 3, 4, 5, 1, 2, 1, 2, 3, 4, 5, 1, 2, 5, 3, 2, 3, 4, 1, 2, 4, 1, 2, 3, 5, 1, 2, 3, 4, 5, 3, 5, 1, 2, 5, 1, 5, 1, 2, 5, 2, 1, 2, 3, 4, 5, 4, 1, 2, 3, 4, 5, 5, 5, 3, 4, 3, 4, 5, 1, 2, 3, 4, 5, 5, 1, 2, 3, 4, 3, 1, 4, 5, 5, 1, 2, 3, 4, 5, 1, 2, 3, 4, 5, 5, 2, 2, 3, 4, 1, 2, 3, 4, 5, 1, 5, 5, 4, 1, 2, 3, 4, 5, 1, 2, 3, 4, 5, 1, 2, 3, 4, 5, 2, 1, 2, 3, 4, 5, 2, 3, 4, 5, 1, 2, 1, 2, 3, 4, 5, 1, 2, 3, 5, 1, 2, 5, 1, 2, 3, 3, 5, 1, 2, 5, 2, 3, 1, 2, 3, 4, 5, 3, 2, 3, 4, 2, 5, 3, 1, 2, 3, 4, 5, 1, 2, 3, 4, 1, 4, 5, 1, 2, 3, 4, 5, 1, 3, 4, 2, 4, 1, 2, 3, 4, 1, 2, 3, 4, 5, 1, 2, 3, 4, 5, 2, 3, 1, 2, 3, 4, 5, 1, 3, 4, 5, 3, 4, 1, 2, 3, 5, 2, 5, 5, 1, 2, 5, 1, 2, 5, 3, 3, 4, 3, 2, 1, 2, 3, 4, 5, 1, 1, 2, 5, 4, 1, 2, 3, 4, 5, 3, 3, 4, 1, 2, 3, 5, 1, 1, 2, 4, 5, 1, 2, 3, 4, 5, 3, 1, 5, 5, 1, 4, 5, 1, 4, 5, 1, 2, 4, 5, 1, 2, 3, 4, 2, 5, 1, 2, 4, 5, 1, 2, 3, 4, 1, 5, 2, 4, 1, 3, 4, 5, 1, 2, 3, 4, 5, 1, 3, 5, 2, 3, 4, 5, 1, 2, 4, 5, 2, 3, 4, 5, 3, 4, 3, 4, 5, 1, 2, 3, 4, 5, 1, 2, 3, 4, 5, 1, 3, 2, 1, 1, 2, 1, 3, 1, 2, 3, 4, 5, 1, 4, 1, 1, 5, 1, 1, 3, 5, 2, 1, 2, 3, 4, 5, 1, 2, 4, 5, 5, 4, 4, 1, 2, 3, 4, 5, 1, 2, 5, 4, 1, 2, 3, 4, 5, 1, 2, 3, 4, 2, 5, 1, 2, 3, 1, 2, 3, 4, 5, 1, 2, 5, 1, 5, 5, 3, 1, 3, 4, 5, 2, 1, 2, 1, 2, 3, 4, 5, 4, 5, 3, 2, 4, 1, 3, 2, 2, 1, 2, 3, 4, 1, 2, 5, 3, 5, 4, 3, 5, 1, 1, 2, 3, 5, 1, 5, 1, 2, 3, 4, 4, 4, 4, 5, 4, 3, 4, 1, 2, 4, 1, 5, 1, 2, 4, 1, 2, 3, 4, 5, 1, 5, 1, 2, 3, 4, 5, 1, 2, 4, 1, 5, 1, 2, 3, 4, 5, 1, 2, 3, 4, 1, 2, 3, 4, 5, 5, 1, 5, 1, 2, 3, 4, 5, 5, 1, 2, 3, 1, 2, 3, 5, 3, 3, 1, 3, 4, 1, 2, 3, 4, 5, 2, 3, 1, 2, 4, 5, 2, 4, 1, 2, 3, 4, 5, 2, 3, 4, 5, 3, 3, 1, 1, 2, 4, 2, 1, 1, 1, 2, 3, 4, 5, 1, 4, 5, 1, 1, 3, 5, 1, 2, 3, 4, 5, 2, 1, 4, 1, 3, 4, 1, 2, 3, 4, 5, 3, 1, 2, 3, 5, 5, 1, 3, 5, 4, 3, 4, 5, 3, 1, 2, 5, 1, 2, 3, 4, 1, 2, 3, 4, 5, 2, 1, 2, 4, 5, 3, 1, 5, 4, 4, 1, 2, 3, 4, 5, 1, 2, 3, 4, 1, 2, 3, 4, 5, 1, 3, 4, 5, 1, 2, 3, 4, 5, 1, 2, 3, 4, 5, 1, 2, 3, 4, 5, 2, 1, 3, 4, 5, 4, 4, 4, 1, 2, 3, 4, 5, 1, 2, 3, 4, 2, 2, 2, 3, 2, 4, 2, 1, 2, 4, 5, 1, 2, 3, 4, 5, 1, 2, 1, 2, 3, 4, 5, 2, 1, 2, 3, 5, 1, 2, 3, 5, 1, 2, 3, 4, 1, 2, 3, 1, 3, 1, 2, 3, 4, 5, 1, 2, 3, 1, 2, 3, 4, 5, 1, 2, 3, 4, 5, 1, 2, 3, 4, 5, 1, 2, 3, 5, 1, 2, 3, 4, 5, 1, 2, 3, 4, 5, 1, 1, 2, 5, 1], \"Freq\": [0.6130893028636515, 0.05828665907506546, 0.08635060603713401, 0.08850937118806236, 0.15327232571591287, 0.08886955409505784, 0.8886955409505785, 0.5919805619231976, 0.10306804426341387, 0.0052855407314571215, 0.08985419243477107, 0.21142162925828487, 0.9687755478541682, 0.9600651249087777, 0.9122055168646693, 0.10744182102935004, 0.7981392419323147, 0.09209298945372861, 0.716300615786324, 0.16002460565439153, 0.04191120624281683, 0.08382241248563366, 0.9896965429338569, 0.9822000906029186, 0.18356127841990083, 0.1364942839532596, 0.3530024584998093, 0.32476226181982454, 0.44344036719187274, 0.005474572434467565, 0.13503945338353326, 0.19708460764083233, 0.21715803990054675, 0.9555092530473133, 0.43645067725713216, 0.40930302747558805, 0.06056014182036762, 0.08144294934463232, 0.012529684514558818, 0.08294706463263697, 0.16194426904467218, 0.3120389574275391, 0.4028857425013796, 0.039498602206017606, 0.9804559747732805, 0.656801291544992, 0.044781906241704, 0.29854604161136, 0.9819564361934127, 0.38974507874281317, 0.33689828840480457, 0.23120470772878746, 0.03963509275350642, 0.36812224289481477, 0.6237626893495473, 0.30395365231335963, 0.6231049872423872, 0.06838957177050592, 0.9551129958924357, 0.6445929418569208, 0.07689880709872038, 0.03844940354936019, 0.14475069571523835, 0.09951610330422637, 0.9581009405170534, 0.025213182645185614, 0.012606591322592807, 0.09592115589853355, 0.05755269353912013, 0.8441061719070952, 0.8890798926865224, 0.03224642097826765, 0.0737061050931832, 0.972726436335033, 0.9428209809245012, 0.952872489215348, 0.31914970667420056, 0.1948056651128237, 0.05802721939530919, 0.4269145426940605, 0.9869793905048818, 0.20838801231271625, 0.0757774590228059, 0.7198858607166562, 0.9460349040867475, 0.6279246383918603, 0.11095857063952551, 0.0025217856963528525, 0.08826249937234984, 0.17148142735199398, 0.08130126170187074, 0.10840168226916098, 0.2059631963114059, 0.5853690842534693, 0.0216803364538322, 0.33375512667845947, 0.07654934098129804, 0.2970114430074364, 0.2112761811083826, 0.08267328825980189, 0.9164070903878921, 0.061093806025859475, 0.3376858770421, 0.09485558343879213, 0.25421296361596296, 0.3149205370167899, 0.016468985543358388, 0.5023040590724308, 0.4117246385839597, 0.06587594217343355, 0.21068498222190568, 0.10706941719473896, 0.17614646054618344, 0.4420930774492447, 0.06216933901630004, 0.9659555273539006, 0.21722584797436859, 0.3996955602728382, 0.04344516959487372, 0.338872322840015, 0.18310870257894568, 0.30212935925526035, 0.12512428009561288, 0.387580087125435, 0.003051811709649095, 0.11551043957189797, 0.28433338971544114, 0.06219792900025275, 0.5420105241450597, 0.5024886057316407, 0.47094223586508027, 0.027039745599908915, 0.9780012493503873, 0.3523106068501103, 0.4377824108788353, 0.11465729808731401, 0.02918549405858902, 0.06670970070534633, 0.983612122854258, 0.9778022371571098, 0.5788719723329258, 0.07101403378061914, 0.06025433169264655, 0.03873492751670136, 0.2496250884409643, 0.9872880448106233, 0.08830407519243089, 0.8830407519243089, 0.9637725376051477, 0.9579223585103853, 0.3839385557910533, 0.6119020732919912, 0.9815488921715869, 0.016923256761579086, 0.9588986079090144, 0.6939066613773196, 0.1212926278017266, 0.02256607028869332, 0.16360400959302657, 0.41216646181305694, 0.12440719975984657, 0.0930349493856244, 0.29857727942363177, 0.07248071638182366, 0.967716653735844, 0.9199243044925183, 0.5823492489917315, 0.3505135290139806, 0.06623877713650027, 0.9795391738919371, 0.014619987670028912, 0.8868113382011915, 0.010557277835728471, 0.10029413943942048, 0.9636560815461277, 0.00289439365317167, 0.16932202871054267, 0.08249021911539259, 0.6078226671660506, 0.13603650169906847, 0.9582886176298773, 0.15844192513685681, 0.3934641140898611, 0.33008734403511836, 0.09770585383439503, 0.01848489126596663, 0.9683178920208984, 0.9535066378414278, 0.6981262757871043, 0.29394790559457024, 0.8940899799125359, 0.11662043216250469, 0.9416809951383072, 0.6884788429570033, 0.2059289396344608, 0.04302992768481271, 0.05532419273761634, 0.009220698789602723, 0.9426660955760583, 0.0544422090995319, 0.7621909273934466, 0.0725896121327092, 0.1088844181990638, 0.9643234566864285, 0.5520008608307808, 0.06571438819414058, 0.38114345152601536, 0.8941095529726787, 0.40481585193316444, 0.0037139068984693986, 0.07427813796938797, 0.2339761346035721, 0.28597083118214367, 0.26980725099892366, 0.3854389299984624, 0.16837595363090727, 0.03854389299984624, 0.135917938473142, 0.8977626964996471, 0.9870659759973542, 0.137696010399489, 0.19277441455928462, 0.6747104509574962, 0.0886875763748042, 0.48654989816732863, 0.18107046843189192, 0.18722932790236443, 0.055429735234252625, 0.9683524838086528, 0.9428751295071185, 0.959885045973651, 0.934062628078921, 0.5275510662149735, 0.26796244633141514, 0.15282233267338519, 0.023028022731605986, 0.02930839256749853, 0.6553687833893391, 0.20434661397440418, 0.010217330698720209, 0.011676949369965953, 0.11822911237090528, 0.757270729587173, 0.10971820229814154, 0.01936203569967204, 0.04732942059919831, 0.06669145629887036, 0.9484725351269204, 0.7295620615256713, 0.10734700632802793, 0.01789116772133799, 0.04572187306564152, 0.0993953762296555, 0.13472060050125007, 0.13472060050125007, 0.6436650912837504, 0.07484477805625003, 0.982790364430179, 0.9723618884608013, 0.8963307298049965, 0.09240522987680376, 0.09751227673440814, 0.04875613836720407, 0.8288543522424692, 0.8083654350859074, 0.16242856873221503, 0.02266445145100675, 0.0075548171503355835, 0.04859639642148859, 0.9233315320082831, 0.024298198210744294, 0.9694844962611681, 0.9795418024687471, 0.9554813658771029, 0.9463013506797949, 0.9458890091632325, 0.598268301466152, 0.13425705977783725, 0.2661587325420282, 0.07409512013806058, 0.889141441656727, 0.44400349584708493, 0.2095297396132311, 0.17710251800642152, 0.09478726315836644, 0.07483204986186824, 0.9087645149945764, 0.2737901605522301, 0.5724703357001175, 0.1493400875739437, 0.953572072267858, 0.9550023053072889, 0.9630243724723561, 0.14915534013627357, 0.20339364564037304, 0.21152939146598798, 0.3200060024741869, 0.11661235683381388, 0.2055424529647507, 0.09736221456225033, 0.6490814304150022, 0.04327209536100015, 0.918250617297207, 0.027007371096976675, 0.05401474219395335, 0.052164009293407684, 0.2260440402714333, 0.6346621130697935, 0.06955201239121024, 0.00869400154890128, 0.08564074393008518, 0.8564074393008518, 0.057093829286723456, 0.9567573468694304, 0.9269052441570867, 0.19652230484086813, 0.5491064399965433, 0.13294155915705785, 0.11560135578874596, 0.2977918318144233, 0.3360793530477063, 0.165912592010893, 0.0701937889276855, 0.12975215529057016, 0.2626549860264021, 0.4533925354027179, 0.04377583100440035, 0.12194695779797239, 0.11882011272622951, 0.9534105933259842, 0.9536792280858952, 0.35822305229114504, 0.014621349073107961, 0.24490759697455836, 0.35456771502286805, 0.029242698146215922, 0.33496643310922547, 0.04042698330628583, 0.20213491653142915, 0.42159568305126655, 0.9709357962197069, 0.9495925866003598, 0.3760593218527787, 0.19144838203414186, 0.4307588595768192, 0.9155895757023286, 0.9566702844492352, 0.8873842707228976, 0.9652438735336976, 0.1885470697927566, 0.08080588705403854, 0.7272529834863468, 0.31280132823931245, 0.15166125005542422, 0.5402932033224487, 0.9366241678547813, 0.18506195091504923, 0.80193512063188, 0.9697105482930423, 0.9484735069273689, 0.19829645743490004, 0.05443432164879609, 0.21384912076312748, 0.40825741236597063, 0.12442130662581963, 0.9785317853878163, 0.2522154574367646, 0.1045771408884146, 0.6397660383761834, 0.9168540157518171, 0.340928473453112, 0.24424726456342355, 0.19845090245778163, 0.11194666292490245, 0.10431393590729547, 0.9841079036985639, 0.7776446171443128, 0.2221841763269465, 0.22205581272479974, 0.16895550968191284, 0.2124012121715476, 0.3958386226833387, 0.991466022752881, 0.8917774022659655, 0.002718833543493797, 0.016313001260962783, 0.08700267339180151, 0.5077582787019516, 0.2356884222012174, 0.0205634193866834, 0.1407803327242171, 0.0949080894770003, 0.9458937486498172, 0.8820968444550393, 0.11381894767161797, 0.9610645475578063, 0.774994323857563, 0.01832756846960453, 0.20683970129982254, 0.843055614830066, 0.10626751447437806, 0.04959150675470976, 0.26899852111867345, 0.12865146662197427, 0.1228036726846118, 0.47951910286372224, 0.18297725217281446, 0.8132322318791755, 0.634471516832364, 0.36129628041842954, 0.060817494252879925, 0.9122624137931988, 0.9495454492189855, 0.0425169604127904, 0.054482860612590875, 0.9262086304140448, 0.1350738989620413, 0.3413027982701579, 0.12421974636687727, 0.39798559515601456, 0.9733801358820656, 0.019085885017295405, 0.9865017459211358, 0.9274166787884371, 0.22799028074987646, 0.6079740819996705, 0.0886628869582853, 0.07599676024995881, 0.4215340026807011, 0.00593709862930565, 0.0474967890344452, 0.5105904821202859, 0.0118741972586113, 0.4112497473127878, 0.060105732299561294, 0.5282977523171967, 0.6782235275184414, 0.2325337808634656, 0.06782235275184413, 0.01937781507195547, 0.19831730538675382, 0.6799450470402989, 0.00708276090666978, 0.1062414136000467, 0.27619689587409324, 0.5602851316303035, 0.00789133988211695, 0.15782679764233898, 0.881387844564911, 0.09443441191766903, 0.9602871681681668, 0.93417772643631, 0.9552816454218601, 0.3797390125474308, 0.3107982989599508, 0.11640809015590886, 0.12657967084914362, 0.06668036232231672, 0.5641605210293341, 0.15253228901904217, 0.025073800934637073, 0.025073800934637073, 0.23193265864539292, 0.9672168264184537, 0.9516534657067944, 0.9532263618015782, 0.9844797837865802, 0.05233675483831337, 0.915893209670484, 0.9775965447162144, 0.9321786805259249, 0.43643218903447617, 0.4291278846154891, 0.058434435351896394, 0.018260761047467624, 0.058434435351896394, 0.28456712746272383, 0.6956085337977693, 0.9806694899515005, 0.9791539497572035, 0.017178139469424623, 0.9873430366606946, 0.986851156589293, 0.8925396679002661, 0.0811399698091151, 0.9416263004147665, 0.7381389974410034, 0.19332211837740565, 0.0025106768620442293, 0.020085414896353834, 0.047702860378840355, 0.5383304488428069, 0.0033540837934131268, 0.13919447742664476, 0.3203150022709536, 0.9243148486882222, 0.9193918226896013, 0.9766486870174962, 0.570076433494028, 0.11907601744000584, 0.004465350654000219, 0.023815203488001167, 0.2813170912020138, 0.5062840809353969, 0.08210012123276705, 0.4127811650869677, 0.9329496953845763, 0.44591276042174616, 0.08107504734940839, 0.11710840172692323, 0.09458755524097646, 0.2612418192369826, 0.39407153871139516, 0.061680762580914025, 0.14734848838773906, 0.39749824774366815, 0.9490978584647835, 0.04126512428107754, 0.26985335929257276, 0.5029085332270674, 0.22692214304148164, 0.3058620184726347, 0.30142923559621976, 0.33245871573112473, 0.05762617739339495, 0.004432782876414996, 0.07592767302226891, 0.3796383651113446, 0.5314937111558824, 0.7360014826566584, 0.2615542459027794, 0.8947511523244768, 0.9536776761724087, 0.013008147112779011, 0.22113850091724319, 0.6764236498645086, 0.09105702978945308, 0.9932368448707346, 0.9903324690660694, 0.9577953991335174, 0.7029027957890178, 0.12995791240472193, 0.01017061923167389, 0.01921116965982846, 0.1378683940293572, 0.1784008415887511, 0.8127149450154217, 0.9439591210033915, 0.9711012861903828, 0.982231942444229, 0.05224688971241863, 0.9404440148235352, 0.9908402370346142, 0.9584243355319585, 0.01582521347487106, 0.22155298864819484, 0.26111602233537246, 0.4984942244584384, 0.3270164774058283, 0.6104307578242127, 0.058136262649925025, 0.2558203639889888, 0.7354835464683428, 0.9498792873303816, 0.2655958401458589, 0.7209029946816171, 0.9872499373991258, 0.4191953422906377, 0.1343574815034095, 0.34395515264872834, 0.10211168594259123, 0.9737410436220292, 0.024967719067231515, 0.11138086526510405, 0.04689720642741223, 0.09379441285482445, 0.7503553028385956, 0.9663246604300824, 0.9121646056867647, 0.971205900060827, 0.9254731028833232, 0.958535456910661, 0.9233925790551558, 0.9488125573737874, 0.6856305294013803, 0.019645573908349007, 0.29468360862523507, 0.4085809229492853, 0.5814420826585983, 0.8064400152328796, 0.1354326743139187, 0.05540427585569402, 0.253219897755996, 0.4461493436653263, 0.012058090369333144, 0.15273581134488648, 0.13665835751910896, 0.3573719685624494, 0.6254009449842864, 0.7275066864705643, 0.054648389594032995, 0.034155243496270624, 0.06147943829328712, 0.11954335223694718, 0.9592438013601391, 0.028634143324183254, 0.014317071662091627, 0.4396384393300089, 0.5536187754526039, 0.018112790951307557, 0.43470698283138137, 0.3682934160099203, 0.0422631788863843, 0.13886473062669127, 0.13974086354782367, 0.32938917836272724, 0.3526793222873645, 0.17966682456148758, 0.15027998780521512, 0.04140367010960008, 0.37263303098640077, 0.34196364572003035, 0.0920081557991113, 0.957546225992719, 0.9717373587083025, 0.017048023836987763, 0.6020295225561044, 0.13510893575516536, 0.09139722124614127, 0.10331859793042057, 0.06755446787758268, 0.9548110775022921, 0.14206656014174762, 0.09277816172522294, 0.762520516679176, 0.2769579709643735, 0.6599849520853156, 0.017678168359428096, 0.04714178229180826, 0.9716534110663687, 0.964980910682475, 0.9640554117113377, 0.21050497057069928, 0.7952409999337529, 0.051209178421657134, 0.19170615511697287, 0.07747029556096849, 0.5567356833534006, 0.12211419469779779, 0.7972265501336084, 0.18397535772314041, 0.589132416283969, 0.30057776341018827, 0.06011555268203765, 0.05049706425291162, 0.2901755456946228, 0.6964213096670947, 0.5196476182504632, 0.0564834367663547, 0.1299119045626158, 0.23723043441868974, 0.05836621799189985, 0.15679568545480993, 0.22281492143578252, 0.602425528326375, 0.01650480899524315, 0.9531614279885061, 0.9296059881909787, 0.9782470062510119, 0.9936266605661896, 0.8811892811452849, 0.11014866014316062, 0.9576685971906737, 0.9859535437455086, 0.9815355563488177, 0.4419473510612269, 0.1883710020916705, 0.27531146459551836, 0.06882786614887959, 0.02173511562596198, 0.5067716721206086, 0.03142770059662689, 0.45963012122566826, 0.9902962462885893, 0.013030845244281867, 0.31274028586276476, 0.677603952702657, 0.21818880475811844, 0.3353371563061015, 0.21818880475811844, 0.200616552025921, 0.029287087886995765, 0.9420907075139388, 0.05844126277850167, 0.9058395730667759, 0.033489771439143334, 0.8372442859785834, 0.13395908575657334, 0.50852553594328, 0.11134382649738483, 0.0581646854837085, 0.16950851198109335, 0.15289003041431948, 0.9625880729851939, 0.33545368401423115, 0.40649093474665654, 0.25652340542264734, 0.9641627507336805, 0.898753754771584, 0.9404679247347454, 0.028073669395067027, 0.028073669395067027, 0.9593042950461771, 0.17997936118871602, 0.698743402262074, 0.11645723371034565, 0.9571194733773102, 0.22185662347269094, 0.12677521341296627, 0.6497229687414521, 0.2042763194704893, 0.18570574497317208, 0.5106907986762232, 0.10213815973524465, 0.45916674253013845, 0.28956461240639364, 0.0441241314143076, 0.07859610908173541, 0.12823575692283146, 0.9737471187059811, 0.41173191368669004, 0.12199464109235261, 0.11182842100132323, 0.35073459314051375, 0.976288021624171, 0.32556438798583753, 0.6714765502207899, 0.9332382796058102, 0.9453615601054403, 0.1466603496025996, 0.11446661432398018, 0.30941756684450894, 0.4149414769244282, 0.014308326790497523, 0.1898402706142777, 0.10546681700793205, 0.15820022551189808, 0.5484274484412466, 0.40428857539760754, 0.16954037032802896, 0.2673521224403534, 0.09563815762093943, 0.0652078347415496, 0.966955140869518, 0.9194026982735694, 0.9494818554064589, 0.878820351000632, 0.45536429137717477, 0.32526020812655343, 0.03340510245624062, 0.10548979723023354, 0.08087551120984571, 0.3042181215373759, 0.2624626930910694, 0.14912653016538033, 0.2594801624877618, 0.020877714223153248, 0.5846635613376494, 0.1525209290446042, 0.0762604645223021, 0.02711483183015186, 0.15760496001275767, 0.986744339311104, 0.7745142914390879, 0.03921591349058673, 0.18627558908028696, 0.9423618494639459, 0.9490874745257172, 0.9806768641934666, 0.9674396252132902, 0.6283894968337159, 0.13534543008726188, 0.02658570948142644, 0.07008959772376061, 0.13776231276739156, 0.8534254791713112, 0.09103205111160652, 0.005689503194475407, 0.04551602555580326, 0.98564538321585, 0.9855667276065556, 0.9661507984988343, 0.9287417112169322, 0.8704188067917253, 0.09325915787054201, 0.9705526989290976, 0.3835650830927768, 0.1740248988106117, 0.13850961333905829, 0.3054314550553593, 0.5116151193843915, 0.21131928844137912, 0.03892723734446457, 0.08341550859528123, 0.15431869090127026, 0.5054810787630549, 0.4921789451113956, 0.579323760153545, 0.141347034264267, 0.08759534517785561, 0.11546659137080965, 0.07764132868037202, 0.9873304911469063, 0.4653526730239651, 0.1218780810300861, 0.02215965109637929, 0.39148716936936745, 0.7622398864011665, 0.07309149595627625, 0.04176656911787214, 0.12529970735361642, 0.8487596251056259, 0.06995271635485927, 0.041971629812915565, 0.041971629812915565, 0.18244457465626304, 0.7845116710219311, 0.018244457465626307, 0.9703407507121108, 0.9737334249070789, 0.4764238872992462, 0.16881161360996913, 0.11066539114431309, 0.12379518331397735, 0.12191949871831104, 0.21740194121918835, 0.12788349483481667, 0.6522058236575651, 0.4469522581598813, 0.3703318710467588, 0.044695225815988136, 0.03511767742684782, 0.10535303228054346, 0.41169047115930846, 0.05346629495575435, 0.4651567661150628, 0.010693258991150869, 0.05881292445132978, 0.3265249268207275, 0.16759686509382474, 0.14448005611536616, 0.21094088192843458, 0.1502592583599808, 0.5036180268396935, 0.07392558192142289, 0.3834889562173812, 0.04158313983080037, 0.3017884417205052, 0.44811011043347737, 0.11888635582928991, 0.027435312883682287, 0.10974125153472915, 0.6382651304448231, 0.23270082880800844, 0.046540165761601686, 0.00443239673920016, 0.0775669429360028, 0.9878636362886023, 0.7094956864672756, 0.15846604164751332, 0.13325553502177256, 0.9642166900052247], \"Term\": [\"  able/JJ\", \"  able/JJ\", \"  able/JJ\", \"  able/JJ\", \"  able/JJ\", \"  address/NN\", \"  address/NN\", \"  adventure/NN\", \"  adventure/NN\", \"  adventure/NN\", \"  adventure/NN\", \"  adventure/NN\", \"  affordable/JJ\", \"  agent/NN\", \"  aggressively/RB\", \"  along/IN\", \"  along/IN\", \"  along/IN\", \"  amount/NN\", \"  amount/NN\", \"  amount/NN\", \"  amount/NN\", \"  amusement/NN\", \"  announced/VBD\", \"  annual/JJ\", \"  annual/JJ\", \"  annual/JJ\", \"  annual/JJ\", \"  another/DT\", \"  another/DT\", \"  another/DT\", \"  another/DT\", \"  another/DT\", \"  appointment/NN\", \"  around/IN\", \"  around/IN\", \"  around/IN\", \"  around/IN\", \"  around/IN\", \"  asked/VBD\", \"  asked/VBD\", \"  asked/VBD\", \"  asked/VBD\", \"  asked/VBD\", \"  attempted/VBD\", \"  attraction/NN\", \"  attraction/NN\", \"  attraction/NN\", \"  autistic/JJ\", \"  away/RB\", \"  away/RB\", \"  away/RB\", \"  away/RB\", \"  bag/NN\", \"  bag/NN\", \"  bathroom/NN\", \"  bathroom/NN\", \"  bathroom/NN\", \"  beautifully/RB\", \"  better/RBR\", \"  better/RBR\", \"  better/RBR\", \"  better/RBR\", \"  better/RBR\", \"  bit/NN\", \"  bit/NN\", \"  bit/NN\", \"  boat/NN\", \"  boat/NN\", \"  boat/NN\", \"  book/NN\", \"  book/NN\", \"  book/NN\", \"  booth/DT\", \"  bowl/NN\", \"  break/RB\", \"  broke/VBD\", \"  broke/VBD\", \"  broke/VBD\", \"  broke/VBD\", \"  built/VBN\", \"  bus/NN\", \"  bus/NN\", \"  bus/NN\", \"  cafe/JJ\", \"  california/NN\", \"  california/NN\", \"  california/NN\", \"  california/NN\", \"  california/NN\", \"  called/VBN\", \"  called/VBN\", \"  called/VBN\", \"  called/VBN\", \"  called/VBN\", \"  came/VBD\", \"  came/VBD\", \"  came/VBD\", \"  came/VBD\", \"  came/VBD\", \"  cancelled/VBN\", \"  cancelled/VBN\", \"  car/NN\", \"  car/NN\", \"  car/NN\", \"  car/NN\", \"  card/NN\", \"  card/NN\", \"  card/NN\", \"  card/NN\", \"  care/NN\", \"  care/NN\", \"  care/NN\", \"  care/NN\", \"  care/NN\", \"  cashier/JJR\", \"  cast/JJ\", \"  cast/JJ\", \"  cast/JJ\", \"  cast/JJ\", \"  cast/NN\", \"  cast/NN\", \"  cast/NN\", \"  cast/NN\", \"  cast/NN\", \"  cast/VBD\", \"  cast/VBD\", \"  cast/VBD\", \"  cast/VBD\", \"  character/NN\", \"  character/NN\", \"  character/NN\", \"  character/RBR\", \"  child/NN\", \"  child/NN\", \"  child/NN\", \"  child/NN\", \"  child/NN\", \"  chip/NN\", \"  cinderella/NN\", \"  closed/VBD\", \"  closed/VBD\", \"  closed/VBD\", \"  closed/VBD\", \"  closed/VBD\", \"  closing/NN\", \"  closure/NN\", \"  closure/NN\", \"  coca/NN\", \"  color/NN\", \"  complaint/NN\", \"  complaint/NN\", \"  considering/VBG\", \"  considering/VBG\", \"  contacted/VBD\", \"  cost/NN\", \"  cost/NN\", \"  cost/NN\", \"  cost/NN\", \"  could/MD\", \"  could/MD\", \"  could/MD\", \"  could/MD\", \"  could/MD\", \"  cousin/NN\", \"  created/VBN\", \"  crowd/NN\", \"  crowd/NN\", \"  crowd/NN\", \"  crowd/VBP\", \"  crowd/VBP\", \"  crowded/VBN\", \"  crowded/VBN\", \"  crowded/VBN\", \"  culture/NN\", \"  customer/NN\", \"  customer/NN\", \"  customer/NN\", \"  customer/NN\", \"  customer/NN\", \"  customer/NN)\", \"  daughter/NN\", \"  daughter/NN\", \"  daughter/NN\", \"  daughter/NN\", \"  daughter/NN\", \"  delay/NN\", \"  dis/NN\", \"  disability/NN\", \"  disability/NN\", \"  disabled/JJ\", \"  disabled/JJ\", \"  disappoint/NN\", \"  disappointed/JJ\", \"  disappointed/JJ\", \"  disappointed/JJ\", \"  disappointed/JJ\", \"  disappointed/JJ\", \"  disgrace/NN\", \"  disgusting/VBG\", \"  disgusting/VBG\", \"  disgusting/VBG\", \"  disgusting/VBG\", \"  doctor/NN\", \"  dollar/NN\", \"  dollar/NN\", \"  dollar/NN\", \"  dramatically/RB\", \"  due/JJ\", \"  due/JJ\", \"  due/JJ\", \"  due/JJ\", \"  due/JJ\", \"  earth/NN\", \"  earth/NN\", \"  earth/NN\", \"  earth/NN\", \"  earth/NN\", \"  easter/NN\", \"  elevator/NN\", \"  email/NN\", \"  email/NN\", \"  email/NN\", \"  employee/NN\", \"  employee/NN\", \"  employee/NN\", \"  employee/NN\", \"  employee/NN\", \"  enjoy/NN)\", \"  enjoy/VBN\", \"  equal/JJ\", \"  error/NN\", \"  ever/RB\", \"  ever/RB\", \"  ever/RB\", \"  ever/RB\", \"  ever/RB\", \"  every/DT\", \"  every/DT\", \"  every/DT\", \"  every/DT\", \"  every/DT\", \"  everything/NN\", \"  everything/NN\", \"  everything/NN\", \"  everything/NN\", \"  everything/NN\", \"  exhausting/VBG\", \"  expensive/JJ\", \"  expensive/JJ\", \"  expensive/JJ\", \"  expensive/JJ\", \"  expensive/JJ\", \"  explained/VBD\", \"  explained/VBD\", \"  explained/VBD\", \"  explained/VBD\", \"  farm/NN\", \"  fear/NN\", \"  fee/NN\", \"  fee/NN\", \"  figure/NN\", \"  figure/NN\", \"  figure/NN\", \"  firework/NN\", \"  firework/NN\", \"  firework/NN\", \"  firework/NN\", \"  floor/NN\", \"  floor/NN\", \"  floor/NN\", \"  force/NN\", \"  french/JJ\", \"  friend/JJ\", \"  fucking/VBG\", \"  fyi/NN\", \"  genie/NN\", \"  genie/NN\", \"  genie/NN\", \"  gentleman/NN\", \"  gentleman/NN\", \"  getting/VBG\", \"  getting/VBG\", \"  getting/VBG\", \"  getting/VBG\", \"  getting/VBG\", \"  gift/JJ\", \"  girl/NN\", \"  girl/NN\", \"  girl/NN\", \"  grown/JJ\", \"  grown/VBN\", \"  guard/NN\", \"  guest/JJS\", \"  guest/JJS\", \"  guest/JJS\", \"  guest/JJS\", \"  guest/JJS\", \"  guy/NN\", \"  guy/NN\", \"  guy/NN\", \"  guy/NN\", \"  halloween/JJ\", \"  halloween/JJ\", \"  halloween/JJ\", \"  hand/NN\", \"  hand/NN\", \"  hand/NN\", \"  hand/NN\", \"  hand/NN\", \"  handicap/NN\", \"  handicap/NN\", \"  handicap/NN\", \"  handle/JJ\", \"  handling/VBG\", \"  happened/VBD\", \"  happened/VBD\", \"  happened/VBD\", \"  happened/VBD\", \"  happiest/JJS\", \"  happiest/JJS\", \"  happiest/JJS\", \"  happiest/JJS\", \"  happiest/JJS\", \"  happy/JJ\", \"  happy/JJ\", \"  happy/JJ\", \"  happy/JJ\", \"  happy/JJ\", \"  harbor/NN\", \"  heartless/JJ\", \"  help/NN\", \"  help/NN\", \"  help/NN\", \"  help/NN\", \"  help/NN\", \"  holder/NN\", \"  holder/NN\", \"  holder/NN\", \"  holder/NN\", \"  horrible/JJ)\", \"  hung/NN\", \"  husband/NN\", \"  husband/NN\", \"  husband/NN\", \"  hyperspace/NN\", \"  inappropriate/JJ\", \"  incredicoaster/NN\", \"  indian/JJ\", \"  indiana/JJ\", \"  indiana/JJ\", \"  indiana/JJ\", \"  indiana/NN\", \"  indiana/NN\", \"  indiana/NN\", \"  info/NN\", \"  information/NN\", \"  information/NN\", \"  initial/JJ\", \"  interest/NN\", \"  issue/NN\", \"  issue/NN\", \"  issue/NN\", \"  issue/NN\", \"  issue/NN\", \"  joke/VBD\", \"  jones/NNS\", \"  jones/NNS\", \"  jones/NNS\", \"  kindly/RB\", \"  know/VBP\", \"  know/VBP\", \"  know/VBP\", \"  know/VBP\", \"  know/VBP\", \"  lady/JJ\", \"  lady/NN\", \"  lady/NN\", \"  land/NN\", \"  land/NN\", \"  land/NN\", \"  land/NN\", \"  lane/JJ\", \"  lane/NN\", \"  lane/NN\", \"  lane/NN\", \"  lane/NN\", \"  last/JJ\", \"  last/JJ\", \"  last/JJ\", \"  last/JJ\", \"  last/JJ\", \"  legal/JJ\", \"  lightening/VBG\", \"  lightening/VBG\", \"  lightning/JJ\", \"  lightning/VBG\", \"  lightning/VBG\", \"  lightning/VBG\", \"  local/JJ\", \"  local/JJ\", \"  local/JJ\", \"  longer/RBR\", \"  longer/RBR\", \"  longer/RBR\", \"  longer/RBR\", \"  low/JJ\", \"  low/JJ\", \"  manager/NN\", \"  manager/NN\", \"  matterhorn/JJ\", \"  matterhorn/JJ\", \"  max/NN\", \"  max/NN\", \"  mean/VBP\", \"  mean/VBP\", \"  member/NN\", \"  member/NN\", \"  member/NN\", \"  member/NN\", \"  middle/JJ\", \"  middle/JJ\", \"  minnie/NN\", \"  mobile/IN\", \"  mom/NN\", \"  mom/NN\", \"  mom/NN\", \"  mom/NN\", \"  month/NN\", \"  month/NN\", \"  month/NN\", \"  month/NN\", \"  month/NN\", \"  mountain/NN\", \"  mountain/NN\", \"  mountain/NN\", \"  mouse/NN\", \"  mouse/NN\", \"  mouse/NN\", \"  mouse/NN\", \"  move/NN\", \"  move/NN\", \"  move/NN\", \"  move/NN\", \"  name/NN\", \"  name/NN\", \"  name/NN\", \"  name/NN\", \"  named/VBN\", \"  named/VBN\", \"  neck/NN\", \"  neither/CC\", \"  nemo/JJ\", \"  never/RB\", \"  never/RB\", \"  never/RB\", \"  never/RB\", \"  never/RB\", \"  new/JJ\", \"  new/JJ\", \"  new/JJ\", \"  new/JJ\", \"  new/JJ\", \"  newer/JJR\", \"  nicole/JJ\", \"  nostalgia/JJ\", \"  nowhere/RB\", \"  occasion/NN\", \"  occasion/NN\", \"  offer/VBP\", \"  officer/NN\", \"  old/JJ\", \"  old/JJ\", \"  old/JJ\", \"  old/JJ\", \"  old/JJ\", \"  online/NN\", \"  online/NN\", \"  organized/VBN\", \"  original/JJ\", \"  original/JJ\", \"  overpriced/JJ\", \"  overrated/VBN\", \"  owner/NN\", \"  owner/NN\", \"  par/NN\", \"  parking/VBG\", \"  parking/VBG\", \"  parking/VBG\", \"  parking/VBG\", \"  parking/VBG\", \"  pass/NN\", \"  pass/NN\", \"  pass/NN\", \"  pass/NN\", \"  passholders/NNS\", \"  passive/JJ\", \"  passport/NN\", \"  pay/NN\", \"  pay/NN\", \"  pay/NN\", \"  pay/NN\", \"  pay/NN\", \"  per/IN\", \"  per/IN\", \"  per/IN\", \"  perfectly/RB\", \"  person/NN\", \"  person/NN\", \"  person/NN\", \"  person/NN\", \"  person/NN\", \"  phone/NN\", \"  phone/NN\", \"  phone/NN\", \"  phone/NN\", \"  photo/JJ\", \"  photo/JJ\", \"  photo/NN\", \"  photo/NN\", \"  photo/NN\", \"  picture/NN\", \"  picture/NN\", \"  picture/NN\", \"  picture/NN\", \"  picture/NN\", \"  pirate/NN\", \"  pirate/NN\", \"  pirate/NN\", \"  plus/CC\", \"  plus/CC\", \"  point/NN)\", \"  poisoning/VBG\", \"  policy/NN\", \"  policy/NN\", \"  policy/NN\", \"  policy/NN\", \"  ppl/NN\", \"  pre/NN\", \"  prefer/VBP\", \"  price/NN\", \"  price/NN\", \"  price/NN\", \"  price/NN\", \"  price/NN\", \"  priority/NN\", \"  priority/NN\", \"  proceeded/VBD\", \"  providing/VBG\", \"  purchasing/VBG\", \"  purse/NN\", \"  purse/NN\", \"  pushing/VBG\", \"  quaility/NN\", \"  question/NN\", \"  question/NN\", \"  question/NN\", \"  question/NN\", \"  queue/NN\", \"  queue/NN\", \"  queue/NN\", \"  racer/NN\", \"  racer/NN\", \"  racism/NN\", \"  radiator/NN\", \"  radiator/NN\", \"  rain/NN\", \"  reason/NN\", \"  reason/NN\", \"  reason/NN\", \"  reason/NN\", \"  recommend/VBP\", \"  recommend/VBP\", \"  refund/NN\", \"  refund/NN\", \"  refund/NN\", \"  refund/NN\", \"  refundable/JJ\", \"  refunded/VBD\", \"  renew/NN\", \"  renewing/VBG\", \"  rep/NN\", \"  reply/NN\", \"  reschedule/NN\", \"  reservation/NN\", \"  reservation/NN\", \"  reservation/NN\", \"  resistance/NN\", \"  resistance/NN\", \"  restaurant/NN\", \"  restaurant/NN\", \"  restaurant/NN\", \"  review/NN\", \"  review/NN\", \"  review/NN\", \"  review/NN\", \"  review/NN\", \"  rich/JJ\", \"  rich/JJ\", \"  ridiculous/JJ\", \"  ridiculous/JJ\", \"  ridiculous/JJ\", \"  ridiculous/JJ\", \"  ridiculous/JJ\", \"  ridiculously/RB\", \"  ridiculously/RB\", \"  ridiculously/RB\", \"  rise/NN\", \"  rise/NN\", \"  rude/JJ\", \"  rude/JJ\", \"  rude/JJ\", \"  rude/JJ\", \"  rude/JJ\", \"  rude/NN\", \"  rude/NN\", \"  rude/NN\", \"  rude/NN\", \"  said/VBD\", \"  said/VBD\", \"  said/VBD\", \"  said/VBD\", \"  said/VBD\", \"  sanitizer/NN\", \"  save/VBP\", \"  save/VBP\", \"  say/VBP\", \"  say/VBP\", \"  say/VBP\", \"  say/VBP\", \"  say/VBP\", \"  scam/JJ\", \"  security/NN\", \"  security/NN\", \"  security/NN\", \"  seen/VBN\", \"  seen/VBN\", \"  seen/VBN\", \"  seen/VBN\", \"  selfie/JJ\", \"  selfie/NN\", \"  sell/VB\", \"  sent/VBD\", \"  sent/VBD\", \"  service/NN\", \"  service/NN\", \"  service/NN\", \"  service/NN\", \"  service/NN\", \"  share/NN\", \"  share/NN\", \"  show/NN\", \"  show/NN\", \"  show/NN\", \"  show/NN\", \"  simple/JJ\", \"  simple/JJ\", \"  since/IN\", \"  since/IN\", \"  since/IN\", \"  since/IN\", \"  since/IN\", \"  situation/NN\", \"  situation/NN\", \"  situation/NN\", \"  situation/NN\", \"  skateboard/NN\", \"  slammed/VBD\", \"  slot/NN\", \"  slow/JJ\", \"  smile/JJ\", \"  smile/JJ\", \"  smile/NN\", \"  snack/NN\", \"  sometimes/RB\", \"  son/NN\", \"  son/NN\", \"  son/NN\", \"  son/NN\", \"  son/NN\", \"  space/NN\", \"  space/NN\", \"  space/NN\", \"  spend/VB\", \"  spring/NN\", \"  spring/NN\", \"  spring/NN\", \"  staff/NN\", \"  staff/NN\", \"  staff/NN\", \"  staff/NN\", \"  staff/NN\", \"  stale/JJ\", \"  stated/VBN\", \"  stated/VBN\", \"  stick/NN\", \"  stick/NN\", \"  stick/NN\", \"  still/RB\", \"  still/RB\", \"  still/RB\", \"  still/RB\", \"  still/RB\", \"  stolen/VBN\", \"  stroller/NN\", \"  stroller/NN\", \"  stroller/NN\", \"  stuck/VBD\", \"  submarine/NN\", \"  sun/NN\", \"  sun/NN\", \"  sun/NN\", \"  supervisor/JJ\", \"  supervisor/NN\", \"  supervisor/NN\", \"  supervisor/NN\", \"  tag/NN\", \"  technical/JJ\", \"  technical/JJ\", \"  technical/JJ\", \"  telling/VBG\", \"  telling/VBG\", \"  telling/VBG\", \"  telling/VBG\", \"  thing/NN\", \"  thing/NN\", \"  thing/NN\", \"  thing/NN\", \"  thing/NN\", \"  thinking/NN\", \"  three/CD\", \"  three/CD\", \"  three/CD\", \"  three/CD\", \"  throwing/VBG\", \"  thunder/NN\", \"  thunder/NN\", \"  ticketing/VBG\", \"  told/RB\", \"  told/VBD\", \"  told/VBD\", \"  told/VBD\", \"  told/VBD\", \"  told/VBD\", \"  told/VBN\", \"  told/VBN\", \"  told/VBN\", \"  told/VBN\", \"  took/VBD\", \"  took/VBD\", \"  took/VBD\", \"  took/VBD\", \"  took/VBD\", \"  tour/VBP\", \"  trained/VBD\", \"  transfer/NN\", \"  trap/NN\", \"  trip/NN\", \"  trip/NN\", \"  trip/NN\", \"  trip/NN\", \"  trip/NN\", \"  trying/VBG\", \"  trying/VBG\", \"  trying/VBG\", \"  trying/VBG\", \"  trying/VBG\", \"  two/CD\", \"  two/CD\", \"  two/CD\", \"  two/CD\", \"  two/CD\", \"  uncomfortable/JJ\", \"  universal/JJ\", \"  universal/JJ\", \"  universal/JJ\", \"  unlimited/JJ\", \"  unwilling/JJ\", \"  upgrade/JJ\", \"  upgrade/VB\", \"  used/VBN\", \"  used/VBN\", \"  used/VBN\", \"  used/VBN\", \"  used/VBN\", \"  vacation/NN\", \"  vacation/NN\", \"  vacation/NN\", \"  vacation/NN\", \"  vegetarian/JJ\", \"  vip/FW\", \"  vip/NNS\", \"  virus/NN\", \"  visited/JJ\", \"  visited/JJ\", \"  wagon/NN\", \"  waited/VBD\", \"  waited/VBD\", \"  waited/VBD\", \"  waited/VBD\", \"  waiting/VBG\", \"  waiting/VBG\", \"  waiting/VBG\", \"  waiting/VBG\", \"  waiting/VBG\", \"  walking/VBG\", \"  walking/VBG\", \"  want/VBP\", \"  want/VBP\", \"  want/VBP\", \"  want/VBP\", \"  want/VBP\", \"  wanting/VBG\", \"  war/NN\", \"  war/NN\", \"  war/NN\", \"  war/NN\", \"  waste/NN\", \"  waste/NN\", \"  waste/NN\", \"  waste/NN\", \"  water/NN\", \"  water/NN\", \"  water/NN\", \"  water/NN\", \"  wearing/VBG\", \"  wearing/VBG\", \"  wearing/VBG\", \"  weekday/JJ\", \"  welcoming/VBG\", \"  well/RB\", \"  well/RB\", \"  well/RB\", \"  well/RB\", \"  well/RB\", \"  wheelchair/NN\", \"  wheelchair/NN\", \"  wheelchair/NN\", \"  whole/JJ\", \"  whole/JJ\", \"  whole/JJ\", \"  whole/JJ\", \"  whole/JJ\", \"  wife/NN\", \"  wife/NN\", \"  wife/NN\", \"  wife/NN\", \"  wife/NN\", \"  work/NN\", \"  work/NN\", \"  work/NN\", \"  work/NN\", \"  work/NN\", \"  worker/NN\", \"  worker/NN\", \"  worker/NN\", \"  worker/NN\", \"  working/VBG\", \"  working/VBG\", \"  working/VBG\", \"  working/VBG\", \"  working/VBG\", \"  world/NN\", \"  world/NN\", \"  world/NN\", \"  world/NN\", \"  world/NN\", \"  worth/IN\", \"  worth/JJ\", \"  worth/JJ\", \"  worth/JJ\", \"  worth/NN)\"]}, \"R\": 30, \"lambda.step\": 0.01, \"plot.opts\": {\"xlab\": \"PC1\", \"ylab\": \"PC2\"}, \"topic.order\": [3, 4, 2, 5, 1]};\n",
       "\n",
       "function LDAvis_load_lib(url, callback){\n",
       "  var s = document.createElement('script');\n",
       "  s.src = url;\n",
       "  s.async = true;\n",
       "  s.onreadystatechange = s.onload = callback;\n",
       "  s.onerror = function(){console.warn(\"failed to load library \" + url);};\n",
       "  document.getElementsByTagName(\"head\")[0].appendChild(s);\n",
       "}\n",
       "\n",
       "if(typeof(LDAvis) !== \"undefined\"){\n",
       "   // already loaded: just create the visualization\n",
       "   !function(LDAvis){\n",
       "       new LDAvis(\"#\" + \"ldavis_el3565612883480632161310228189\", ldavis_el3565612883480632161310228189_data);\n",
       "   }(LDAvis);\n",
       "}else if(typeof define === \"function\" && define.amd){\n",
       "   // require.js is available: use it to load d3/LDAvis\n",
       "   require.config({paths: {d3: \"https://d3js.org/d3.v5\"}});\n",
       "   require([\"d3\"], function(d3){\n",
       "      window.d3 = d3;\n",
       "      LDAvis_load_lib(\"https://cdn.jsdelivr.net/gh/bmabey/pyLDAvis@3.3.1/pyLDAvis/js/ldavis.v3.0.0.js\", function(){\n",
       "        new LDAvis(\"#\" + \"ldavis_el3565612883480632161310228189\", ldavis_el3565612883480632161310228189_data);\n",
       "      });\n",
       "    });\n",
       "}else{\n",
       "    // require.js not available: dynamically load d3 & LDAvis\n",
       "    LDAvis_load_lib(\"https://d3js.org/d3.v5.js\", function(){\n",
       "         LDAvis_load_lib(\"https://cdn.jsdelivr.net/gh/bmabey/pyLDAvis@3.3.1/pyLDAvis/js/ldavis.v3.0.0.js\", function(){\n",
       "                 new LDAvis(\"#\" + \"ldavis_el3565612883480632161310228189\", ldavis_el3565612883480632161310228189_data);\n",
       "            })\n",
       "         });\n",
       "}\n",
       "</script>"
      ],
      "text/plain": [
       "PreparedData(topic_coordinates=              x         y  topics  cluster       Freq\n",
       "topic                                                \n",
       "2      0.111502 -0.034703       1        1  40.262506\n",
       "3      0.034265 -0.118137       2        1  21.235943\n",
       "1     -0.155857 -0.061797       3        1  13.427273\n",
       "4     -0.113544  0.119111       4        1  13.276847\n",
       "0      0.123633  0.095526       5        1  11.797431, topic_info=                  Term        Freq       Total Category  logprob  loglift\n",
       "241        customer/NN  690.000000  690.000000  Default  30.0000  30.0000\n",
       "326         service/NN  761.000000  761.000000  Default  29.0000  29.0000\n",
       "280          member/NN  829.000000  829.000000  Default  28.0000  28.0000\n",
       "1424       security/NN  344.000000  344.000000  Default  27.0000  27.0000\n",
       "178           said/VBD  652.000000  652.000000  Default  26.0000  26.0000\n",
       "...                ...         ...         ...      ...      ...      ...\n",
       "207       adventure/NN   79.879448  378.390803   Topic5  -5.8144   0.5819\n",
       "422           thing/NN   92.741924  725.226740   Topic5  -5.6651   0.0806\n",
       "326         service/NN   92.642922  761.582224   Topic5  -5.6662   0.0306\n",
       "57            every/DT   81.074786  685.110447   Topic5  -5.7996   0.0031\n",
       "18770    lightning/VBG   78.563224  381.938281   Topic5  -5.8311   0.5559\n",
       "\n",
       "[433 rows x 6 columns], token_table=      Topic      Freq         Term\n",
       "term                              \n",
       "672       1  0.613089      able/JJ\n",
       "672       2  0.058287      able/JJ\n",
       "672       3  0.086351      able/JJ\n",
       "672       4  0.088509      able/JJ\n",
       "672       5  0.153272      able/JJ\n",
       "...     ...       ...          ...\n",
       "4219      1  0.987864     worth/IN\n",
       "671       1  0.709496     worth/JJ\n",
       "671       2  0.158466     worth/JJ\n",
       "671       5  0.133256     worth/JJ\n",
       "2709      1  0.964217    worth/NN)\n",
       "\n",
       "[872 rows x 3 columns], R=30, lambda_step=0.01, plot_opts={'xlab': 'PC1', 'ylab': 'PC2'}, topic_order=[3, 4, 2, 5, 1])"
      ]
     },
     "execution_count": 21,
     "metadata": {},
     "output_type": "execute_result"
    }
   ],
   "source": [
    "# visualize the topics and keywords\n",
    "pyLDAvis.enable_notebook()\n",
    "vis = pyLDAvis.gensim_models.prepare(ldamodel, doc_term_matrix, dictionary)\n",
    "vis"
   ]
  },
  {
   "cell_type": "markdown",
   "id": "90ea8951",
   "metadata": {},
   "source": [
    "From the visualization, the pain points are:\n",
    "\n",
    "#### 1. Price\n",
    "- Tickets and parking are expensive, and it is hard to make a reservation to visit the park as it is always crowded.\n",
    "- there are long waiting times for rides and attractions, even after using the genie pass to skip queues\n",
    "- some rides or attactions were closed, which made visitors feel like they did not get their money's worth\n",
    "\n",
    "\n",
    "#### 2. Transport and accessibility \n",
    "- Employees and staff has high term frequency, in this context could mean that the visitors were unsatisfied with the staff\n",
    "- Soarin' Around the World is a ride. The ride could have been a let down, hence the high term frequency\n",
    "- Visitors had to wait for service. This could mean in restaurants or assistance in rides\n",
    "- The crowd could have been unbearable for many as more families frequent the park, which means a higher chance of their children wandering off.\n",
    "- As the park is so big but so crowded, they cannot afford for trams to transport visitors to different parts of the park. Visitors have to walk around the park, which is tiring especially for people who are not used to walking long distances.\n",
    "- Families with young children could be having difficulties with storing their stroller, or maneuvering it in the large crowds.\n",
    "\n",
    "#### 3. People\n",
    "- security, staff, employee, worker has high term frequency, which indicates that visitors has a negative review of them\n",
    "- rude member / guest shows that other visitors are also a main cause for an unpleasant experience.\n",
    "- getting a picture with characters, and getting help from staff may have been difficult, due to the large crowds.\n",
    "\n",
    "\n",
    "#### 4. Communication issues\n",
    "- service towards visitors was not the best\n",
    "- told / said has high term frequency, pointing out that there could have been communication issues and misunderstandings between staff and visitors.\n",
    "- Visitors called to get a refund for their reservation or annual pass, but could not do so or found it difficult as the park has many rules and regulations that the staff has to follow as well.\n",
    "\n",
    "\n",
    "#### 5. unavailability of rides\n",
    "- Even though visitors paid a high price to visit the park, many attractions are closed (renovating / broken) with no notice from the park.\n",
    "- This causes a longer waiting time for other attractions.\n",
    "- Visitors would feel dissatisfied and impatient as they spend most of their day queuing for attractions, which could be a waste of moeny for some.\n",
    "\n"
   ]
  },
  {
   "cell_type": "code",
   "execution_count": 22,
   "id": "c1c2baef",
   "metadata": {},
   "outputs": [],
   "source": [
    "\n",
    "filenames = df['date_posted']\n",
    "\n",
    "# print('\\nFile name and its corresponding topic id with probability:')\n",
    "dic_topic_doc = {}\n",
    "for index, doc in enumerate(negtagged):\n",
    "    #for doc in doc_clean:\n",
    "    bow = dictionary.doc2bow(doc)\n",
    "\n",
    "    #get topic distribution of the ldamodel\n",
    "    t = ldamodel.get_document_topics(bow)\n",
    "\n",
    "    #sort the probability value in descending order to extract the top contributing topic id\n",
    "    sorted_t = sorted(t, key=lambda x: x[1], reverse=True)\n",
    "\n",
    "    #get the top scoring item\n",
    "    top_item = sorted_t.pop(0)\n",
    "\n",
    "    #create dictionary and keep key as topic id and filename and probability in tuple as value\n",
    "    dic_topic_doc.setdefault(top_item[0],[]).append((filenames[index],top_item[1]))"
   ]
  },
  {
   "cell_type": "code",
   "execution_count": 23,
   "id": "df71c4c2",
   "metadata": {},
   "outputs": [
    {
     "name": "stdout",
     "output_type": "stream",
     "text": [
      "\n",
      "Topic id, number of documents, list of documents with probability and represented topic words:\n",
      "0.007*\"  price/NN\" + 0.005*\"  every/DT\" + 0.004*\"  pay/NN\" + 0.004*\"  could/MD\" + 0.004*\"  waiting/VBG\" \n",
      "\n",
      "0.008*\"  employee/NN\" + 0.006*\"  member/NN\" + 0.006*\"  never/RB\" + 0.005*\"  old/JJ\" + 0.005*\"  staff/NN\" \n",
      "\n",
      "0.007*\"  pass/NN\" + 0.007*\"  pay/NN\" + 0.007*\"  per/IN\" + 0.006*\"  mountain/NN\" + 0.005*\"  price/NN\" \n",
      "\n",
      "0.014*\"  service/NN\" + 0.014*\"  customer/NN\" + 0.011*\"  member/NN\" + 0.009*\"  could/MD\" + 0.008*\"  told/VBD\" \n",
      "\n",
      "0.009*\"  security/NN\" + 0.008*\"  said/VBD\" + 0.006*\"  told/VBD\" + 0.005*\"  staff/NN\" + 0.005*\"  employee/NN\" \n",
      "\n"
     ]
    }
   ],
   "source": [
    "print('\\nTopic id, number of documents, list of documents with probability and represented topic words:')\n",
    "\n",
    "word_num = 5 # display top 5 words with highest term weight in each topic\n",
    "\n",
    "for key,value in dic_topic_doc.items():\n",
    "    sorted_value = sorted(value, key=lambda x: x[1], reverse=True)\n",
    "\n",
    "    #print the topic word and most represented doc\n",
    "    print(ldamodel.print_topic(key,word_num), '\\n')"
   ]
  },
  {
   "cell_type": "markdown",
   "id": "ec17b619",
   "metadata": {},
   "source": [
    "# Sentiment analysis"
   ]
  },
  {
   "cell_type": "markdown",
   "id": "b459ee4b",
   "metadata": {},
   "source": [
    "# Pre Processing"
   ]
  },
  {
   "cell_type": "markdown",
   "id": "3d93106a",
   "metadata": {},
   "source": [
    "remove top 25 most occuring words"
   ]
  },
  {
   "cell_type": "code",
   "execution_count": 24,
   "id": "0d4002e1",
   "metadata": {},
   "outputs": [],
   "source": [
    "clean_text = []\n",
    "\n",
    "for i in df['words_review']:\n",
    "    clean_sent = []\n",
    "    i = word_tokenize(i)\n",
    "    for word in i:\n",
    "        if word not in list_freq_keys:\n",
    "            clean_sent.append(word)\n",
    "    clean_text.append(clean_sent)\n",
    "            \n"
   ]
  },
  {
   "cell_type": "code",
   "execution_count": 25,
   "id": "3522c553",
   "metadata": {},
   "outputs": [],
   "source": [
    "cl_text_series = pd.Series(clean_text)\n",
    "\n",
    "cl_txt_s = cl_text_series.apply(lambda i: ' '.join(i))"
   ]
  },
  {
   "cell_type": "markdown",
   "id": "bcc7784a",
   "metadata": {},
   "source": [
    "### Split data "
   ]
  },
  {
   "cell_type": "code",
   "execution_count": 26,
   "id": "ffae15ac",
   "metadata": {},
   "outputs": [],
   "source": [
    "from sklearn.model_selection import train_test_split\n",
    "\n",
    "x= df['words_review']\n",
    "# x = cl_txt_s\n",
    "y= df['sentiment']\n",
    "\n",
    "x_train, x_test, y_train, y_test = train_test_split(x, y, test_size=0.3, random_state=42)\n"
   ]
  },
  {
   "cell_type": "markdown",
   "id": "117d6f96",
   "metadata": {},
   "source": [
    "Data is split into 70:30, where 70% of data is training data and 20% is test data."
   ]
  },
  {
   "cell_type": "markdown",
   "id": "75c61e37",
   "metadata": {},
   "source": [
    "### Feature Engineering \n",
    "- using unigrams and bigrams to retain meaning of phrases"
   ]
  },
  {
   "cell_type": "markdown",
   "id": "70ff6993",
   "metadata": {},
   "source": [
    "#### Count Vectorizer - Absolute Term Frequency\n"
   ]
  },
  {
   "cell_type": "code",
   "execution_count": 27,
   "id": "8a801c22",
   "metadata": {},
   "outputs": [
    {
     "name": "stdout",
     "output_type": "stream",
     "text": [
      "the dimensions of the count set is (6533, 230654) \n",
      "\n",
      "the dimensions of the training set (6533, 20000)\n",
      "the dimensions of the test set (2801, 20000)\n"
     ]
    }
   ],
   "source": [
    "from sklearn.feature_extraction.text import CountVectorizer\n",
    "\n",
    "# include unigrams and bigrams\n",
    "cvtest = CountVectorizer(ngram_range = (1, 2), stop_words='english')\n",
    "\n",
    "testfeaturecount = cvtest.fit_transform(x_train)\n",
    "print('the dimensions of the count set is', testfeaturecount.toarray().shape, '\\n')\n",
    "\n",
    "\n",
    "cv = CountVectorizer(ngram_range = (1, 2), stop_words='english', max_features=20000)\n",
    "x_train_cv=cv.fit_transform(x_train)\n",
    "x_test_cv=cv.transform(x_test)\n",
    "\n",
    "print('the dimensions of the training set', x_train_cv.toarray().shape)\n",
    "print('the dimensions of the test set', x_test_cv.toarray().shape)"
   ]
  },
  {
   "cell_type": "markdown",
   "id": "427bed3b",
   "metadata": {},
   "source": [
    "#### TF-IDF"
   ]
  },
  {
   "cell_type": "code",
   "execution_count": 28,
   "id": "83ac1b83",
   "metadata": {},
   "outputs": [
    {
     "data": {
      "text/html": [
       "<div>\n",
       "<style scoped>\n",
       "    .dataframe tbody tr th:only-of-type {\n",
       "        vertical-align: middle;\n",
       "    }\n",
       "\n",
       "    .dataframe tbody tr th {\n",
       "        vertical-align: top;\n",
       "    }\n",
       "\n",
       "    .dataframe thead th {\n",
       "        text-align: right;\n",
       "    }\n",
       "</style>\n",
       "<table border=\"1\" class=\"dataframe\">\n",
       "  <thead>\n",
       "    <tr style=\"text-align: right;\">\n",
       "      <th></th>\n",
       "      <th>aaa</th>\n",
       "      <th>aback</th>\n",
       "      <th>abc</th>\n",
       "      <th>ability</th>\n",
       "      <th>able</th>\n",
       "      <th>able access</th>\n",
       "      <th>able afford</th>\n",
       "      <th>able attraction</th>\n",
       "      <th>able book</th>\n",
       "      <th>able bring</th>\n",
       "      <th>...</th>\n",
       "      <th>yup</th>\n",
       "      <th>zero</th>\n",
       "      <th>zero star</th>\n",
       "      <th>zipper</th>\n",
       "      <th>zippity</th>\n",
       "      <th>zocalo</th>\n",
       "      <th>zocalo restaurante</th>\n",
       "      <th>zombie</th>\n",
       "      <th>zone</th>\n",
       "      <th>zoo</th>\n",
       "    </tr>\n",
       "  </thead>\n",
       "  <tbody>\n",
       "    <tr>\n",
       "      <th>2796</th>\n",
       "      <td>0.0</td>\n",
       "      <td>0.0</td>\n",
       "      <td>0.0</td>\n",
       "      <td>0.0</td>\n",
       "      <td>0.000000</td>\n",
       "      <td>0.0</td>\n",
       "      <td>0.0</td>\n",
       "      <td>0.0</td>\n",
       "      <td>0.0</td>\n",
       "      <td>0.0</td>\n",
       "      <td>...</td>\n",
       "      <td>0.0</td>\n",
       "      <td>0.0</td>\n",
       "      <td>0.0</td>\n",
       "      <td>0.0</td>\n",
       "      <td>0.0</td>\n",
       "      <td>0.0</td>\n",
       "      <td>0.0</td>\n",
       "      <td>0.0</td>\n",
       "      <td>0.0</td>\n",
       "      <td>0.0</td>\n",
       "    </tr>\n",
       "    <tr>\n",
       "      <th>2797</th>\n",
       "      <td>0.0</td>\n",
       "      <td>0.0</td>\n",
       "      <td>0.0</td>\n",
       "      <td>0.0</td>\n",
       "      <td>0.000000</td>\n",
       "      <td>0.0</td>\n",
       "      <td>0.0</td>\n",
       "      <td>0.0</td>\n",
       "      <td>0.0</td>\n",
       "      <td>0.0</td>\n",
       "      <td>...</td>\n",
       "      <td>0.0</td>\n",
       "      <td>0.0</td>\n",
       "      <td>0.0</td>\n",
       "      <td>0.0</td>\n",
       "      <td>0.0</td>\n",
       "      <td>0.0</td>\n",
       "      <td>0.0</td>\n",
       "      <td>0.0</td>\n",
       "      <td>0.0</td>\n",
       "      <td>0.0</td>\n",
       "    </tr>\n",
       "    <tr>\n",
       "      <th>2798</th>\n",
       "      <td>0.0</td>\n",
       "      <td>0.0</td>\n",
       "      <td>0.0</td>\n",
       "      <td>0.0</td>\n",
       "      <td>0.035127</td>\n",
       "      <td>0.0</td>\n",
       "      <td>0.0</td>\n",
       "      <td>0.0</td>\n",
       "      <td>0.0</td>\n",
       "      <td>0.0</td>\n",
       "      <td>...</td>\n",
       "      <td>0.0</td>\n",
       "      <td>0.0</td>\n",
       "      <td>0.0</td>\n",
       "      <td>0.0</td>\n",
       "      <td>0.0</td>\n",
       "      <td>0.0</td>\n",
       "      <td>0.0</td>\n",
       "      <td>0.0</td>\n",
       "      <td>0.0</td>\n",
       "      <td>0.0</td>\n",
       "    </tr>\n",
       "    <tr>\n",
       "      <th>2799</th>\n",
       "      <td>0.0</td>\n",
       "      <td>0.0</td>\n",
       "      <td>0.0</td>\n",
       "      <td>0.0</td>\n",
       "      <td>0.000000</td>\n",
       "      <td>0.0</td>\n",
       "      <td>0.0</td>\n",
       "      <td>0.0</td>\n",
       "      <td>0.0</td>\n",
       "      <td>0.0</td>\n",
       "      <td>...</td>\n",
       "      <td>0.0</td>\n",
       "      <td>0.0</td>\n",
       "      <td>0.0</td>\n",
       "      <td>0.0</td>\n",
       "      <td>0.0</td>\n",
       "      <td>0.0</td>\n",
       "      <td>0.0</td>\n",
       "      <td>0.0</td>\n",
       "      <td>0.0</td>\n",
       "      <td>0.0</td>\n",
       "    </tr>\n",
       "    <tr>\n",
       "      <th>2800</th>\n",
       "      <td>0.0</td>\n",
       "      <td>0.0</td>\n",
       "      <td>0.0</td>\n",
       "      <td>0.0</td>\n",
       "      <td>0.000000</td>\n",
       "      <td>0.0</td>\n",
       "      <td>0.0</td>\n",
       "      <td>0.0</td>\n",
       "      <td>0.0</td>\n",
       "      <td>0.0</td>\n",
       "      <td>...</td>\n",
       "      <td>0.0</td>\n",
       "      <td>0.0</td>\n",
       "      <td>0.0</td>\n",
       "      <td>0.0</td>\n",
       "      <td>0.0</td>\n",
       "      <td>0.0</td>\n",
       "      <td>0.0</td>\n",
       "      <td>0.0</td>\n",
       "      <td>0.0</td>\n",
       "      <td>0.0</td>\n",
       "    </tr>\n",
       "  </tbody>\n",
       "</table>\n",
       "<p>5 rows × 20000 columns</p>\n",
       "</div>"
      ],
      "text/plain": [
       "      aaa  aback  abc  ability      able  able access  able afford  \\\n",
       "2796  0.0    0.0  0.0      0.0  0.000000          0.0          0.0   \n",
       "2797  0.0    0.0  0.0      0.0  0.000000          0.0          0.0   \n",
       "2798  0.0    0.0  0.0      0.0  0.035127          0.0          0.0   \n",
       "2799  0.0    0.0  0.0      0.0  0.000000          0.0          0.0   \n",
       "2800  0.0    0.0  0.0      0.0  0.000000          0.0          0.0   \n",
       "\n",
       "      able attraction  able book  able bring  ...  yup  zero  zero star  \\\n",
       "2796              0.0        0.0         0.0  ...  0.0   0.0        0.0   \n",
       "2797              0.0        0.0         0.0  ...  0.0   0.0        0.0   \n",
       "2798              0.0        0.0         0.0  ...  0.0   0.0        0.0   \n",
       "2799              0.0        0.0         0.0  ...  0.0   0.0        0.0   \n",
       "2800              0.0        0.0         0.0  ...  0.0   0.0        0.0   \n",
       "\n",
       "      zipper  zippity  zocalo  zocalo restaurante  zombie  zone  zoo  \n",
       "2796     0.0      0.0     0.0                 0.0     0.0   0.0  0.0  \n",
       "2797     0.0      0.0     0.0                 0.0     0.0   0.0  0.0  \n",
       "2798     0.0      0.0     0.0                 0.0     0.0   0.0  0.0  \n",
       "2799     0.0      0.0     0.0                 0.0     0.0   0.0  0.0  \n",
       "2800     0.0      0.0     0.0                 0.0     0.0   0.0  0.0  \n",
       "\n",
       "[5 rows x 20000 columns]"
      ]
     },
     "execution_count": 28,
     "metadata": {},
     "output_type": "execute_result"
    }
   ],
   "source": [
    "# Use TfidfVectorizer() to generate TF-IDF matrix for reviews\n",
    "\n",
    "from sklearn.feature_extraction.text import TfidfVectorizer\n",
    "\n",
    "# create document term matrix with TF-IDF, unigrams and bigrams\n",
    "tfid = TfidfVectorizer(stop_words='english', ngram_range=(1,2), max_features=20000)\n",
    "\n",
    "x_train_tfidf = tfid.fit_transform(x_train).toarray()\n",
    "x_test_tfidf = tfid.transform(x_test).toarray()\n",
    "\n",
    "\n",
    "dftfidf = pd.DataFrame(x_test_tfidf, columns = tfid.get_feature_names())\n",
    "dftfidf.tail()"
   ]
  },
  {
   "cell_type": "markdown",
   "id": "70f83be4",
   "metadata": {},
   "source": [
    "By using term frequency–inverse document frequency (TF-IDF), the term weight relative to the document and corpus is used in the model.\n",
    "\n",
    "This allows for a more accurate representation of each term as compared to using count vectorization, where the number of occurrences of a term in a document is used."
   ]
  },
  {
   "cell_type": "markdown",
   "id": "45e69b4b",
   "metadata": {},
   "source": [
    "In both TF-IDF and Count Vectorizer feature engineering, the ngram range used is 1 to 2. When using both unigrams and bigrams, the meaning and context of words and phrases are retained. This can allow for better prediction in the sentiment where the bigrams can carry more meaning than unigrams.\n",
    "\n",
    "The max_features parameter is used to exclude the features with low term frequency and low TF-IDF weight. These features may be too documnent-specific, context-specific or too rare and would not be helpful in the sentiment analysis. Removing them will reduce dimensionality and also reduce the likelyhood of overfitting.\n",
    "\n",
    "max_features of 2000 in both feature sets yielded the best results in all models. max_features of a higher amount would cause overfitting, and accuracy of models decreased."
   ]
  },
  {
   "cell_type": "markdown",
   "id": "6072155b",
   "metadata": {},
   "source": [
    "## Fit and predict models\n",
    "\n",
    "- done on top 2 performing models\n",
    "\n"
   ]
  },
  {
   "cell_type": "code",
   "execution_count": 29,
   "id": "ae891b3d",
   "metadata": {},
   "outputs": [],
   "source": [
    "from sklearn.svm import SVC\n",
    "from sklearn.linear_model import LogisticRegression\n",
    "from sklearn.naive_bayes import GaussianNB\n",
    "from sklearn.ensemble import RandomForestClassifier\n",
    "from sklearn.ensemble import GradientBoostingClassifier\n",
    "\n",
    "from sklearn.metrics import classification_report\n",
    "from sklearn.metrics import ConfusionMatrixDisplay\n",
    "from sklearn.metrics import accuracy_score, confusion_matrix, f1_score, classification_report"
   ]
  },
  {
   "cell_type": "code",
   "execution_count": 30,
   "id": "c98a8915",
   "metadata": {},
   "outputs": [],
   "source": [
    "# We will iterate through all the models to see which model gives us the highest accuracy after testing.\n",
    "\n",
    "models = []\n",
    "models.append(('SVM', SVC(gamma='auto')))\n",
    "models.append(('LR', LogisticRegression(solver='liblinear')))\n",
    "models.append(('RF', RandomForestClassifier(n_estimators=10)))\n",
    "models.append(('GB', GradientBoostingClassifier()))"
   ]
  },
  {
   "cell_type": "code",
   "execution_count": 31,
   "id": "6b8f6877",
   "metadata": {},
   "outputs": [
    {
     "name": "stdout",
     "output_type": "stream",
     "text": [
      "pred\n",
      "pred\n",
      "pred\n",
      "pred\n"
     ]
    },
    {
     "data": {
      "text/html": [
       "<div>\n",
       "<style scoped>\n",
       "    .dataframe tbody tr th:only-of-type {\n",
       "        vertical-align: middle;\n",
       "    }\n",
       "\n",
       "    .dataframe tbody tr th {\n",
       "        vertical-align: top;\n",
       "    }\n",
       "\n",
       "    .dataframe thead th {\n",
       "        text-align: right;\n",
       "    }\n",
       "</style>\n",
       "<table border=\"1\" class=\"dataframe\">\n",
       "  <thead>\n",
       "    <tr style=\"text-align: right;\">\n",
       "      <th></th>\n",
       "      <th>Name</th>\n",
       "      <th>Score</th>\n",
       "    </tr>\n",
       "  </thead>\n",
       "  <tbody>\n",
       "    <tr>\n",
       "      <th>1</th>\n",
       "      <td>LR</td>\n",
       "      <td>0.913245</td>\n",
       "    </tr>\n",
       "    <tr>\n",
       "      <th>3</th>\n",
       "      <td>GB</td>\n",
       "      <td>0.858265</td>\n",
       "    </tr>\n",
       "    <tr>\n",
       "      <th>2</th>\n",
       "      <td>RF</td>\n",
       "      <td>0.838629</td>\n",
       "    </tr>\n",
       "    <tr>\n",
       "      <th>0</th>\n",
       "      <td>SVM</td>\n",
       "      <td>0.598001</td>\n",
       "    </tr>\n",
       "  </tbody>\n",
       "</table>\n",
       "</div>"
      ],
      "text/plain": [
       "  Name     Score\n",
       "1   LR  0.913245\n",
       "3   GB  0.858265\n",
       "2   RF  0.838629\n",
       "0  SVM  0.598001"
      ]
     },
     "execution_count": 31,
     "metadata": {},
     "output_type": "execute_result"
    }
   ],
   "source": [
    "\n",
    "names=[]\n",
    "scores=[]\n",
    "for name, model in models:\n",
    "    model.fit(x_train_cv, y_train)\n",
    "    y_pred = model.predict(x_test_cv)\n",
    "    print('pred')\n",
    "    \n",
    "    scores.append(accuracy_score(y_test, y_pred))\n",
    "    names.append(name)\n",
    "    \n",
    "models_comparison = pd.DataFrame({'Name': names, 'Score':scores})\n",
    "\n",
    "# sort models by descending to see the model with highest score\n",
    "models_comparison.sort_values(by='Score', ascending=False)"
   ]
  },
  {
   "cell_type": "markdown",
   "id": "9fe91400",
   "metadata": {},
   "source": [
    "Best performing models on the term occurence feature set are the logistic regression model and the Gradient boosting classifier.\n",
    "Hence, the following models will be evaluated to find the best performing model and feature set.\n",
    "\n",
    "- Logistic regression with count vectorizer\n",
    "- Gradient boosting classifier with count vectorizer\n",
    "\n",
    "- Logistic regression with TF-IDF\n",
    "- Gradient boosting classifier with TF-IDF"
   ]
  },
  {
   "cell_type": "code",
   "execution_count": 32,
   "id": "8659c5cf",
   "metadata": {},
   "outputs": [],
   "source": [
    "lr = LogisticRegression(solver='lbfgs')\n",
    "gb = GradientBoostingClassifier()\n",
    "\n",
    "allmodels = []"
   ]
  },
  {
   "cell_type": "markdown",
   "id": "fc5310a6",
   "metadata": {},
   "source": [
    "### logistic regression with Count Vectorizer "
   ]
  },
  {
   "cell_type": "code",
   "execution_count": 33,
   "id": "681b50d0",
   "metadata": {},
   "outputs": [
    {
     "name": "stdout",
     "output_type": "stream",
     "text": [
      "['positive', 'negative', 'negative', 'negative', 'negative', 'negative', 'negative', 'negative', 'positive', 'negative']\n",
      "['positive', 'negative', 'negative', 'negative', 'negative', 'negative', 'negative', 'negative', 'positive', 'negative']\n"
     ]
    },
    {
     "name": "stderr",
     "output_type": "stream",
     "text": [
      "C:\\Users\\zoe\\anaconda3\\lib\\site-packages\\sklearn\\linear_model\\_logistic.py:763: ConvergenceWarning: lbfgs failed to converge (status=1):\n",
      "STOP: TOTAL NO. of ITERATIONS REACHED LIMIT.\n",
      "\n",
      "Increase the number of iterations (max_iter) or scale the data as shown in:\n",
      "    https://scikit-learn.org/stable/modules/preprocessing.html\n",
      "Please also refer to the documentation for alternative solver options:\n",
      "    https://scikit-learn.org/stable/modules/linear_model.html#logistic-regression\n",
      "  n_iter_i = _check_optimize_result(\n",
      "C:\\Users\\zoe\\AppData\\Local\\Temp/ipykernel_35656/1467875536.py:5: FutureWarning: The behavior of `series[i:j]` with an integer-dtype index is deprecated. In a future version, this will be treated as *label-based* indexing, consistent with e.g. `series[i]` lookups. To retain the old behavior, use `series.iloc[i:j]`. To get the future behavior, use `series.loc[i:j]`.\n",
      "  print(list(y_test[:10]))\n"
     ]
    }
   ],
   "source": [
    "# fit term frequency matrix to logistic regression model\n",
    "lr.fit(x_train_cv, y_train)\n",
    "y_pred_cv = lr.predict(x_test_cv)\n",
    "\n",
    "print(list(y_test[:10]))\n",
    "print(list(y_pred_cv[:10]))"
   ]
  },
  {
   "cell_type": "code",
   "execution_count": 34,
   "id": "7b2d9bf8",
   "metadata": {},
   "outputs": [
    {
     "name": "stdout",
     "output_type": "stream",
     "text": [
      "              precision    recall  f1-score   support\n",
      "\n",
      "    negative       0.91      0.90      0.90      1285\n",
      "    positive       0.92      0.92      0.92      1516\n",
      "\n",
      "    accuracy                           0.91      2801\n",
      "   macro avg       0.91      0.91      0.91      2801\n",
      "weighted avg       0.91      0.91      0.91      2801\n",
      "\n",
      "Accuracy Score: 0.9132452695465905\n"
     ]
    },
    {
     "data": {
      "text/plain": [
       "<sklearn.metrics._plot.confusion_matrix.ConfusionMatrixDisplay at 0x12bff38a0a0>"
      ]
     },
     "execution_count": 34,
     "metadata": {},
     "output_type": "execute_result"
    },
    {
     "data": {
      "image/png": "[encoded data removed]",
      "text/plain": [
       "<Figure size 432x288 with 2 Axes>"
      ]
     },
     "metadata": {
      "needs_background": "light"
     },
     "output_type": "display_data"
    }
   ],
   "source": [
    "# classification report\n",
    "print(classification_report(y_test, y_pred_cv))\n",
    "\n",
    "thisscore = []\n",
    "\n",
    "# f1_score\n",
    "f1score = f1_score(y_test, y_pred_cv, average=None)\n",
    "thisscore.extend(f1score)\n",
    "\n",
    "# accuracy score\n",
    "accuracy = accuracy_score(y_test, y_pred_cv)\n",
    "thisscore.append(accuracy)\n",
    "print(\"Accuracy Score: \" + str(accuracy))\n",
    "\n",
    "allmodels.append(thisscore)\n",
    "\n",
    "# plot confusion matrix\n",
    "cm = confusion_matrix(y_test, y_pred_cv)\n",
    "cmd = ConfusionMatrixDisplay(cm, display_labels=['positive','negative'])\n",
    "cmd.plot()"
   ]
  },
  {
   "cell_type": "markdown",
   "id": "261900c8",
   "metadata": {},
   "source": [
    "### Gradient boosting classifier with Count Vectorizer "
   ]
  },
  {
   "cell_type": "code",
   "execution_count": 35,
   "id": "59fb8442",
   "metadata": {},
   "outputs": [
    {
     "name": "stdout",
     "output_type": "stream",
     "text": [
      "['positive', 'negative', 'negative', 'negative', 'negative', 'negative', 'negative', 'negative', 'positive', 'negative']\n",
      "['positive', 'negative', 'negative', 'negative', 'negative', 'positive', 'negative', 'negative', 'positive', 'negative']\n"
     ]
    },
    {
     "name": "stderr",
     "output_type": "stream",
     "text": [
      "C:\\Users\\zoe\\AppData\\Local\\Temp/ipykernel_35656/267207232.py:6: FutureWarning: The behavior of `series[i:j]` with an integer-dtype index is deprecated. In a future version, this will be treated as *label-based* indexing, consistent with e.g. `series[i]` lookups. To retain the old behavior, use `series.iloc[i:j]`. To get the future behavior, use `series.loc[i:j]`.\n",
      "  print(list(y_test[:10]))\n"
     ]
    }
   ],
   "source": [
    "# fit term frequency matrix to naive bayes model\n",
    "\n",
    "gb.fit(x_train_cv, y_train)\n",
    "y_pred_cv = gb.predict(x_test_cv)\n",
    "\n",
    "print(list(y_test[:10]))\n",
    "print(list(y_pred_cv[:10]))"
   ]
  },
  {
   "cell_type": "code",
   "execution_count": 36,
   "id": "fffcb489",
   "metadata": {},
   "outputs": [
    {
     "name": "stdout",
     "output_type": "stream",
     "text": [
      "              precision    recall  f1-score   support\n",
      "\n",
      "    negative       0.88      0.80      0.84      1285\n",
      "    positive       0.84      0.91      0.87      1516\n",
      "\n",
      "    accuracy                           0.86      2801\n",
      "   macro avg       0.86      0.85      0.86      2801\n",
      "weighted avg       0.86      0.86      0.86      2801\n",
      "\n",
      "Accuracy Score: 0.8579078900392717\n"
     ]
    },
    {
     "data": {
      "text/plain": [
       "<sklearn.metrics._plot.confusion_matrix.ConfusionMatrixDisplay at 0x12b82383190>"
      ]
     },
     "execution_count": 36,
     "metadata": {},
     "output_type": "execute_result"
    },
    {
     "data": {
      "image/png": "[encoded data removed]",
      "text/plain": [
       "<Figure size 432x288 with 2 Axes>"
      ]
     },
     "metadata": {
      "needs_background": "light"
     },
     "output_type": "display_data"
    }
   ],
   "source": [
    "# classification report\n",
    "print(classification_report(y_test, y_pred_cv))\n",
    "\n",
    "thisscore = []\n",
    "\n",
    "# f1_score\n",
    "f1score = f1_score(y_test, y_pred_cv, average=None)\n",
    "thisscore.extend(f1score)\n",
    "\n",
    "# accuracy score\n",
    "accuracy = accuracy_score(y_test, y_pred_cv)\n",
    "thisscore.append(accuracy)\n",
    "print(\"Accuracy Score: \" + str(accuracy))\n",
    "\n",
    "allmodels.append(thisscore)\n",
    "\n",
    "# plot confusion matrix\n",
    "cm = confusion_matrix(y_test, y_pred_cv)\n",
    "cmd = ConfusionMatrixDisplay(cm, display_labels=['positive','negative'])\n",
    "cmd.plot()"
   ]
  },
  {
   "cell_type": "markdown",
   "id": "d5908317",
   "metadata": {},
   "source": [
    "### logistic regression with TF-IDF "
   ]
  },
  {
   "cell_type": "code",
   "execution_count": 37,
   "id": "43f33e85",
   "metadata": {},
   "outputs": [
    {
     "name": "stdout",
     "output_type": "stream",
     "text": [
      "['positive', 'negative', 'negative', 'negative', 'negative', 'negative', 'negative', 'negative', 'positive', 'negative']\n",
      "['positive', 'negative', 'negative', 'negative', 'negative', 'negative', 'negative', 'positive', 'positive', 'negative']\n"
     ]
    },
    {
     "name": "stderr",
     "output_type": "stream",
     "text": [
      "C:\\Users\\zoe\\AppData\\Local\\Temp/ipykernel_35656/1652826021.py:6: FutureWarning: The behavior of `series[i:j]` with an integer-dtype index is deprecated. In a future version, this will be treated as *label-based* indexing, consistent with e.g. `series[i]` lookups. To retain the old behavior, use `series.iloc[i:j]`. To get the future behavior, use `series.loc[i:j]`.\n",
      "  print(list(y_test[:10]))\n"
     ]
    }
   ],
   "source": [
    "# fit TF-IDF matrix on logistic regression model\n",
    "\n",
    "lr.fit(x_train_tfidf, y_train)\n",
    "y_pred_tfidf = lr.predict(x_test_tfidf)\n",
    "\n",
    "print(list(y_test[:10]))\n",
    "print(list(y_pred_tfidf[:10]))"
   ]
  },
  {
   "cell_type": "code",
   "execution_count": 38,
   "id": "9bb04aa7",
   "metadata": {},
   "outputs": [
    {
     "name": "stdout",
     "output_type": "stream",
     "text": [
      "              precision    recall  f1-score   support\n",
      "\n",
      "    negative       0.92      0.90      0.91      1285\n",
      "    positive       0.92      0.93      0.92      1516\n",
      "\n",
      "    accuracy                           0.92      2801\n",
      "   macro avg       0.92      0.91      0.92      2801\n",
      "weighted avg       0.92      0.92      0.92      2801\n",
      "\n",
      "Accuracy Score: 0.9161013923598714\n"
     ]
    },
    {
     "data": {
      "text/plain": [
       "<sklearn.metrics._plot.confusion_matrix.ConfusionMatrixDisplay at 0x12b829cda30>"
      ]
     },
     "execution_count": 38,
     "metadata": {},
     "output_type": "execute_result"
    },
    {
     "data": {
      "image/png": "[encoded data removed]",
      "text/plain": [
       "<Figure size 432x288 with 2 Axes>"
      ]
     },
     "metadata": {
      "needs_background": "light"
     },
     "output_type": "display_data"
    }
   ],
   "source": [
    "# classification report\n",
    "print(classification_report(y_test, y_pred_tfidf))\n",
    "\n",
    "thisscore = []\n",
    "\n",
    "# f1_score\n",
    "f1score = f1_score(y_test, y_pred_tfidf, average=None)\n",
    "thisscore.extend(f1score)\n",
    "\n",
    "# accuracy score\n",
    "accuracy = accuracy_score(y_test, y_pred_tfidf)\n",
    "thisscore.append(accuracy)\n",
    "print(\"Accuracy Score: \" + str(accuracy))\n",
    "\n",
    "allmodels.append(thisscore)\n",
    "\n",
    "# plot confusion matrix\n",
    "cm = confusion_matrix(y_test, y_pred_tfidf)\n",
    "cmd = ConfusionMatrixDisplay(cm, display_labels=['positive','negative'])\n",
    "cmd.plot()"
   ]
  },
  {
   "cell_type": "markdown",
   "id": "9c3e794f",
   "metadata": {},
   "source": [
    "This model has the highest accuracy of 0.916 (3.s.f).\n"
   ]
  },
  {
   "cell_type": "markdown",
   "id": "14bd26ac",
   "metadata": {},
   "source": [
    "### Gradient boosting classifier with TF-IDF "
   ]
  },
  {
   "cell_type": "code",
   "execution_count": 39,
   "id": "737e5375",
   "metadata": {},
   "outputs": [
    {
     "name": "stdout",
     "output_type": "stream",
     "text": [
      "['positive', 'negative', 'negative', 'negative', 'negative', 'negative', 'negative', 'negative', 'positive', 'negative']\n",
      "['positive', 'negative', 'negative', 'negative', 'positive', 'positive', 'negative', 'negative', 'positive', 'negative']\n"
     ]
    },
    {
     "name": "stderr",
     "output_type": "stream",
     "text": [
      "C:\\Users\\zoe\\AppData\\Local\\Temp/ipykernel_35656/2375682494.py:6: FutureWarning: The behavior of `series[i:j]` with an integer-dtype index is deprecated. In a future version, this will be treated as *label-based* indexing, consistent with e.g. `series[i]` lookups. To retain the old behavior, use `series.iloc[i:j]`. To get the future behavior, use `series.loc[i:j]`.\n",
      "  print(list(y_test[:10]))\n"
     ]
    }
   ],
   "source": [
    "# fit TF-IDF matrix on naive bayes model\n",
    "\n",
    "gb.fit(x_train_tfidf, y_train)\n",
    "y_pred_tfidf = gb.predict(x_test_tfidf)\n",
    "\n",
    "print(list(y_test[:10]))\n",
    "print(list(y_pred_tfidf[:10]))"
   ]
  },
  {
   "cell_type": "code",
   "execution_count": 40,
   "id": "a5a3b5e5",
   "metadata": {},
   "outputs": [
    {
     "name": "stdout",
     "output_type": "stream",
     "text": [
      "              precision    recall  f1-score   support\n",
      "\n",
      "    negative       0.88      0.82      0.85      1285\n",
      "    positive       0.86      0.91      0.88      1516\n",
      "\n",
      "    accuracy                           0.87      2801\n",
      "   macro avg       0.87      0.86      0.87      2801\n",
      "weighted avg       0.87      0.87      0.87      2801\n",
      "\n",
      "Accuracy Score: 0.8668332738307747\n"
     ]
    },
    {
     "data": {
      "text/plain": [
       "<sklearn.metrics._plot.confusion_matrix.ConfusionMatrixDisplay at 0x12b823b3f70>"
      ]
     },
     "execution_count": 40,
     "metadata": {},
     "output_type": "execute_result"
    },
    {
     "data": {
      "image/png": "[encoded data removed]",
      "text/plain": [
       "<Figure size 432x288 with 2 Axes>"
      ]
     },
     "metadata": {
      "needs_background": "light"
     },
     "output_type": "display_data"
    }
   ],
   "source": [
    "# classification report\n",
    "print(classification_report(y_test, y_pred_tfidf))\n",
    "\n",
    "thisscore = []\n",
    "\n",
    "# f1_score\n",
    "f1score = f1_score(y_test, y_pred_tfidf, average=None)\n",
    "thisscore.extend(f1score)\n",
    "\n",
    "# accuracy score\n",
    "accuracy = accuracy_score(y_test, y_pred_tfidf)\n",
    "thisscore.append(accuracy)\n",
    "print(\"Accuracy Score: \" + str(accuracy))\n",
    "\n",
    "allmodels.append(thisscore)\n",
    "\n",
    "# plot confusion matrix\n",
    "cm = confusion_matrix(y_test, y_pred_tfidf)\n",
    "cmd = ConfusionMatrixDisplay(cm, display_labels=['positive','negative'])\n",
    "cmd.plot()"
   ]
  },
  {
   "cell_type": "code",
   "execution_count": 41,
   "id": "34f31ab4",
   "metadata": {},
   "outputs": [
    {
     "data": {
      "text/html": [
       "<div>\n",
       "<style scoped>\n",
       "    .dataframe tbody tr th:only-of-type {\n",
       "        vertical-align: middle;\n",
       "    }\n",
       "\n",
       "    .dataframe tbody tr th {\n",
       "        vertical-align: top;\n",
       "    }\n",
       "\n",
       "    .dataframe thead th {\n",
       "        text-align: right;\n",
       "    }\n",
       "</style>\n",
       "<table border=\"1\" class=\"dataframe\">\n",
       "  <thead>\n",
       "    <tr style=\"text-align: right;\">\n",
       "      <th></th>\n",
       "      <th>Negative f1 score</th>\n",
       "      <th>Positive f1 score</th>\n",
       "      <th>Accuracy</th>\n",
       "    </tr>\n",
       "  </thead>\n",
       "  <tbody>\n",
       "    <tr>\n",
       "      <th>Logistic regression with TF-IDF</th>\n",
       "      <td>0.907735</td>\n",
       "      <td>0.923077</td>\n",
       "      <td>0.916101</td>\n",
       "    </tr>\n",
       "    <tr>\n",
       "      <th>Logistic regression with Count Vectorizer</th>\n",
       "      <td>0.904892</td>\n",
       "      <td>0.920249</td>\n",
       "      <td>0.913245</td>\n",
       "    </tr>\n",
       "    <tr>\n",
       "      <th>Gradient boosting classifier with TF-IDF</th>\n",
       "      <td>0.849657</td>\n",
       "      <td>0.880487</td>\n",
       "      <td>0.866833</td>\n",
       "    </tr>\n",
       "    <tr>\n",
       "      <th>Gradient boosting classifier with Count Vectorizer</th>\n",
       "      <td>0.837684</td>\n",
       "      <td>0.873651</td>\n",
       "      <td>0.857908</td>\n",
       "    </tr>\n",
       "  </tbody>\n",
       "</table>\n",
       "</div>"
      ],
      "text/plain": [
       "                                                    Negative f1 score  \\\n",
       "Logistic regression with TF-IDF                              0.907735   \n",
       "Logistic regression with Count Vectorizer                    0.904892   \n",
       "Gradient boosting classifier with TF-IDF                     0.849657   \n",
       "Gradient boosting classifier with Count Vectorizer           0.837684   \n",
       "\n",
       "                                                    Positive f1 score  \\\n",
       "Logistic regression with TF-IDF                              0.923077   \n",
       "Logistic regression with Count Vectorizer                    0.920249   \n",
       "Gradient boosting classifier with TF-IDF                     0.880487   \n",
       "Gradient boosting classifier with Count Vectorizer           0.873651   \n",
       "\n",
       "                                                    Accuracy  \n",
       "Logistic regression with TF-IDF                     0.916101  \n",
       "Logistic regression with Count Vectorizer           0.913245  \n",
       "Gradient boosting classifier with TF-IDF            0.866833  \n",
       "Gradient boosting classifier with Count Vectorizer  0.857908  "
      ]
     },
     "execution_count": 41,
     "metadata": {},
     "output_type": "execute_result"
    }
   ],
   "source": [
    "modelnames = ['Logistic regression with Count Vectorizer', 'Gradient boosting classifier with Count Vectorizer',  \n",
    "              'Logistic regression with TF-IDF', 'Gradient boosting classifier with TF-IDF']\n",
    "\n",
    "modelscores = ['Negative f1 score' ,'Positive f1 score' , 'Accuracy']\n",
    "\n",
    "\n",
    "modeldf = pd.DataFrame(allmodels, index=modelnames, columns=modelscores)\n",
    "modeldfsorted = modeldf.sort_values(by='Accuracy', ascending=False)\n",
    "modeldfsorted"
   ]
  },
  {
   "cell_type": "code",
   "execution_count": 42,
   "id": "117086b8",
   "metadata": {},
   "outputs": [
    {
     "data": {
      "image/png": "[encoded data removed]",
      "text/plain": [
       "<Figure size 432x288 with 1 Axes>"
      ]
     },
     "metadata": {
      "needs_background": "light"
     },
     "output_type": "display_data"
    }
   ],
   "source": [
    "import seaborn as sns\n",
    "import matplotlib.pyplot as plt\n",
    "\n",
    "plt.xticks(rotation=90)\n",
    "plt.plot(modeldfsorted.index, modeldfsorted['Accuracy'])\n",
    "plt.show()"
   ]
  },
  {
   "cell_type": "markdown",
   "id": "2a141eeb",
   "metadata": {},
   "source": [
    "# Feature selection on best model"
   ]
  },
  {
   "cell_type": "code",
   "execution_count": 43,
   "id": "4b878d4b",
   "metadata": {
    "scrolled": true
   },
   "outputs": [
    {
     "data": {
      "text/plain": [
       "[(5.598092653676463, 'love'),\n",
       " (5.497089600610323, 'great'),\n",
       " (4.677907016696249, 'best'),\n",
       " (4.474315627255853, 'amazing'),\n",
       " (4.20101645501522, 'fun'),\n",
       " (2.9685438669612103, 'favorite'),\n",
       " (2.9006960493150036, 'awesome'),\n",
       " (2.5711921730745133, 'loved'),\n",
       " (2.498298017850355, 'wonderful'),\n",
       " (2.4405851750104106, 'disneyland'),\n",
       " (2.398708421949068, 'definitely'),\n",
       " (2.375356453451602, 'lot'),\n",
       " (2.369931114362316, 'blast'),\n",
       " (2.254184208030605, 'bring'),\n",
       " (2.1494571118505226, 'place'),\n",
       " (2.0679966663453895, 'time'),\n",
       " (1.9772772665110194, 'magical'),\n",
       " (1.9304890248671087, 'good'),\n",
       " (1.8945222669101294, 'great time'),\n",
       " (1.8917679125495879, 'perfect'),\n",
       " (1.8687771877626538, 'tip'),\n",
       " (1.8264966882854208, 'sure'),\n",
       " (1.7649282868699114, 'memory'),\n",
       " (1.762085558949299, 'nice'),\n",
       " (1.6939829819045853, 'fantastic'),\n",
       " (1.6845022849667413, 'clean'),\n",
       " (1.669854933929427, 'enjoyed'),\n",
       " (1.6198599687867938, 'plan'),\n",
       " (1.6112099301596687, 'yes'),\n",
       " (1.5672217303377407, 'age'),\n",
       " (1.563278554732266, 'holiday'),\n",
       " (1.5409414394594045, 'star'),\n",
       " (1.5218956857435655, 'annual'),\n",
       " (1.5103373685520738, 'food'),\n",
       " (1.5097388257892488, 'recommend'),\n",
       " (1.4771793177189108, 'worth'),\n",
       " (1.452118500626828, 'helped'),\n",
       " (1.4408791378502264, 'bit'),\n",
       " (1.4328137352672954, 'special'),\n",
       " (1.420771316024698, 'excellent'),\n",
       " (1.4119356884761955, 'truly'),\n",
       " (1.404600769837976, 'thank'),\n",
       " (1.4024173642114242, 'pricey'),\n",
       " (1.3814795357719534, 'love disneyland'),\n",
       " (1.3753596215490238, 'snack'),\n",
       " (1.367256200610222, 'say'),\n",
       " (1.361613962863467, 'live'),\n",
       " (1.3377454203680965, 'world'),\n",
       " (1.3241295023662865, 'firework'),\n",
       " (1.320250634115186, 'happiest place'),\n",
       " (1.3118524161963803, 'make sure'),\n",
       " (1.3083442668850704, 'annual pas'),\n",
       " (1.3041735207484648, 'pretty'),\n",
       " (1.293407830551606, 'happiest'),\n",
       " (1.2859253983727699, 'review'),\n",
       " (1.2655900231236012, 'little'),\n",
       " (1.2470345646171221, 'life'),\n",
       " (1.2404349619036317, 'churros'),\n",
       " (1.2356730336980395, 'christmas'),\n",
       " (1.223995356686837, 'helpful'),\n",
       " (1.221556259241448, 'visit'),\n",
       " (1.2195884668631507, 'water'),\n",
       " (1.2105700988069399, 'pas'),\n",
       " (1.2053215936861743, 'love place'),\n",
       " (1.2026189680654469, 'new'),\n",
       " (1.199591327702843, 'highly recommend'),\n",
       " (1.191585658506657, 'night'),\n",
       " (1.1831717077420953, 'come'),\n",
       " (1.1789010793099297, 'highly'),\n",
       " (1.166826568277776, 'weather'),\n",
       " (1.1552182751983044, 'wish'),\n",
       " (1.1544581875072697, 'dole'),\n",
       " (1.138892229337516, 'great day'),\n",
       " (1.1366194560691933, 'friend'),\n",
       " (1.1365020771789465, 'free'),\n",
       " (1.1171202961751314, 'halloween'),\n",
       " (1.116678103112521, 'friendly'),\n",
       " (1.1047148560781093, 'classic'),\n",
       " (1.096735703426802, 'magical place'),\n",
       " (1.0810166196633255, 'turkey'),\n",
       " (1.06215582902545, 'download'),\n",
       " (1.0618146099167096, 'app'),\n",
       " (1.0575772532896242, 'lol'),\n",
       " (1.0562321492424411, 'heart'),\n",
       " (1.0517181170927985, 'entertainment'),\n",
       " (1.0485839356038458, 'like kid'),\n",
       " (1.0479238448756074, 'overall'),\n",
       " (1.0452759732011716, 'advantage'),\n",
       " (1.0437388226953361, 'whip'),\n",
       " (1.0349278602341894, 'mountain'),\n",
       " (1.0291751389062591, 'walking'),\n",
       " (1.0099377241827068, 'socal')]"
      ]
     },
     "execution_count": 43,
     "metadata": {},
     "output_type": "execute_result"
    }
   ],
   "source": [
    "feature_importances = zip( list(lr.coef_[0]), list(tfid.get_feature_names()))\n",
    "\n",
    "top = sorted(feature_importances, reverse=True)\n",
    "morethan1 = []\n",
    "for i in top:\n",
    "    if i[0]>1:\n",
    "        morethan1.append(i)\n",
    "        \n",
    "morethan1"
   ]
  },
  {
   "cell_type": "code",
   "execution_count": 44,
   "id": "6d617088",
   "metadata": {},
   "outputs": [],
   "source": [
    "values = list(zip(*morethan1))[0]\n",
    "featurenames = list(zip(*morethan1))[1]"
   ]
  },
  {
   "cell_type": "code",
   "execution_count": 45,
   "id": "8556e1b2",
   "metadata": {},
   "outputs": [
    {
     "data": {
      "image/png": "[encoded data removed]",
      "text/plain": [
       "<Figure size 432x288 with 1 Axes>"
      ]
     },
     "metadata": {
      "needs_background": "light"
     },
     "output_type": "display_data"
    }
   ],
   "source": [
    "import seaborn as sns\n",
    "\n",
    "# plot line chart\n",
    "sns.lineplot(x=featurenames[:25], y=values[:25])\n",
    "plt.xticks(rotation='90')\n",
    "plt.show()"
   ]
  },
  {
   "cell_type": "markdown",
   "id": "3d0fb968",
   "metadata": {},
   "source": [
    "\n",
    "The words with highest weight in predicting sentiment are all positive words, which can explain why the model is better at predicting positive sentiment. This is because the model has more positive training data, hence it can identify 'positive' reviews, and 'non positive' reviews, instead of 'negative' reviews."
   ]
  },
  {
   "cell_type": "code",
   "execution_count": 46,
   "id": "25933f8c",
   "metadata": {},
   "outputs": [],
   "source": [
    "x_fs = tfid.transform(x).toarray()"
   ]
  },
  {
   "cell_type": "code",
   "execution_count": 47,
   "id": "760dc47a",
   "metadata": {},
   "outputs": [
    {
     "data": {
      "text/html": [
       "<div>\n",
       "<style scoped>\n",
       "    .dataframe tbody tr th:only-of-type {\n",
       "        vertical-align: middle;\n",
       "    }\n",
       "\n",
       "    .dataframe tbody tr th {\n",
       "        vertical-align: top;\n",
       "    }\n",
       "\n",
       "    .dataframe thead th {\n",
       "        text-align: right;\n",
       "    }\n",
       "</style>\n",
       "<table border=\"1\" class=\"dataframe\">\n",
       "  <thead>\n",
       "    <tr style=\"text-align: right;\">\n",
       "      <th></th>\n",
       "      <th>aaa</th>\n",
       "      <th>aback</th>\n",
       "      <th>abc</th>\n",
       "      <th>ability</th>\n",
       "      <th>able</th>\n",
       "      <th>able access</th>\n",
       "      <th>able afford</th>\n",
       "      <th>able attraction</th>\n",
       "      <th>able book</th>\n",
       "      <th>able bring</th>\n",
       "      <th>...</th>\n",
       "      <th>yup</th>\n",
       "      <th>zero</th>\n",
       "      <th>zero star</th>\n",
       "      <th>zipper</th>\n",
       "      <th>zippity</th>\n",
       "      <th>zocalo</th>\n",
       "      <th>zocalo restaurante</th>\n",
       "      <th>zombie</th>\n",
       "      <th>zone</th>\n",
       "      <th>zoo</th>\n",
       "    </tr>\n",
       "  </thead>\n",
       "  <tbody>\n",
       "    <tr>\n",
       "      <th>9329</th>\n",
       "      <td>0.0</td>\n",
       "      <td>0.0</td>\n",
       "      <td>0.0</td>\n",
       "      <td>0.0</td>\n",
       "      <td>0.000000</td>\n",
       "      <td>0.0</td>\n",
       "      <td>0.0</td>\n",
       "      <td>0.0</td>\n",
       "      <td>0.0</td>\n",
       "      <td>0.0</td>\n",
       "      <td>...</td>\n",
       "      <td>0.0</td>\n",
       "      <td>0.0</td>\n",
       "      <td>0.0</td>\n",
       "      <td>0.0</td>\n",
       "      <td>0.0</td>\n",
       "      <td>0.0</td>\n",
       "      <td>0.0</td>\n",
       "      <td>0.0</td>\n",
       "      <td>0.0</td>\n",
       "      <td>0.0</td>\n",
       "    </tr>\n",
       "    <tr>\n",
       "      <th>9330</th>\n",
       "      <td>0.0</td>\n",
       "      <td>0.0</td>\n",
       "      <td>0.0</td>\n",
       "      <td>0.0</td>\n",
       "      <td>0.000000</td>\n",
       "      <td>0.0</td>\n",
       "      <td>0.0</td>\n",
       "      <td>0.0</td>\n",
       "      <td>0.0</td>\n",
       "      <td>0.0</td>\n",
       "      <td>...</td>\n",
       "      <td>0.0</td>\n",
       "      <td>0.0</td>\n",
       "      <td>0.0</td>\n",
       "      <td>0.0</td>\n",
       "      <td>0.0</td>\n",
       "      <td>0.0</td>\n",
       "      <td>0.0</td>\n",
       "      <td>0.0</td>\n",
       "      <td>0.0</td>\n",
       "      <td>0.0</td>\n",
       "    </tr>\n",
       "    <tr>\n",
       "      <th>9331</th>\n",
       "      <td>0.0</td>\n",
       "      <td>0.0</td>\n",
       "      <td>0.0</td>\n",
       "      <td>0.0</td>\n",
       "      <td>0.000000</td>\n",
       "      <td>0.0</td>\n",
       "      <td>0.0</td>\n",
       "      <td>0.0</td>\n",
       "      <td>0.0</td>\n",
       "      <td>0.0</td>\n",
       "      <td>...</td>\n",
       "      <td>0.0</td>\n",
       "      <td>0.0</td>\n",
       "      <td>0.0</td>\n",
       "      <td>0.0</td>\n",
       "      <td>0.0</td>\n",
       "      <td>0.0</td>\n",
       "      <td>0.0</td>\n",
       "      <td>0.0</td>\n",
       "      <td>0.0</td>\n",
       "      <td>0.0</td>\n",
       "    </tr>\n",
       "    <tr>\n",
       "      <th>9332</th>\n",
       "      <td>0.0</td>\n",
       "      <td>0.0</td>\n",
       "      <td>0.0</td>\n",
       "      <td>0.0</td>\n",
       "      <td>0.076644</td>\n",
       "      <td>0.0</td>\n",
       "      <td>0.0</td>\n",
       "      <td>0.0</td>\n",
       "      <td>0.0</td>\n",
       "      <td>0.0</td>\n",
       "      <td>...</td>\n",
       "      <td>0.0</td>\n",
       "      <td>0.0</td>\n",
       "      <td>0.0</td>\n",
       "      <td>0.0</td>\n",
       "      <td>0.0</td>\n",
       "      <td>0.0</td>\n",
       "      <td>0.0</td>\n",
       "      <td>0.0</td>\n",
       "      <td>0.0</td>\n",
       "      <td>0.0</td>\n",
       "    </tr>\n",
       "    <tr>\n",
       "      <th>9333</th>\n",
       "      <td>0.0</td>\n",
       "      <td>0.0</td>\n",
       "      <td>0.0</td>\n",
       "      <td>0.0</td>\n",
       "      <td>0.000000</td>\n",
       "      <td>0.0</td>\n",
       "      <td>0.0</td>\n",
       "      <td>0.0</td>\n",
       "      <td>0.0</td>\n",
       "      <td>0.0</td>\n",
       "      <td>...</td>\n",
       "      <td>0.0</td>\n",
       "      <td>0.0</td>\n",
       "      <td>0.0</td>\n",
       "      <td>0.0</td>\n",
       "      <td>0.0</td>\n",
       "      <td>0.0</td>\n",
       "      <td>0.0</td>\n",
       "      <td>0.0</td>\n",
       "      <td>0.0</td>\n",
       "      <td>0.0</td>\n",
       "    </tr>\n",
       "  </tbody>\n",
       "</table>\n",
       "<p>5 rows × 20000 columns</p>\n",
       "</div>"
      ],
      "text/plain": [
       "      aaa  aback  abc  ability      able  able access  able afford  \\\n",
       "9329  0.0    0.0  0.0      0.0  0.000000          0.0          0.0   \n",
       "9330  0.0    0.0  0.0      0.0  0.000000          0.0          0.0   \n",
       "9331  0.0    0.0  0.0      0.0  0.000000          0.0          0.0   \n",
       "9332  0.0    0.0  0.0      0.0  0.076644          0.0          0.0   \n",
       "9333  0.0    0.0  0.0      0.0  0.000000          0.0          0.0   \n",
       "\n",
       "      able attraction  able book  able bring  ...  yup  zero  zero star  \\\n",
       "9329              0.0        0.0         0.0  ...  0.0   0.0        0.0   \n",
       "9330              0.0        0.0         0.0  ...  0.0   0.0        0.0   \n",
       "9331              0.0        0.0         0.0  ...  0.0   0.0        0.0   \n",
       "9332              0.0        0.0         0.0  ...  0.0   0.0        0.0   \n",
       "9333              0.0        0.0         0.0  ...  0.0   0.0        0.0   \n",
       "\n",
       "      zipper  zippity  zocalo  zocalo restaurante  zombie  zone  zoo  \n",
       "9329     0.0      0.0     0.0                 0.0     0.0   0.0  0.0  \n",
       "9330     0.0      0.0     0.0                 0.0     0.0   0.0  0.0  \n",
       "9331     0.0      0.0     0.0                 0.0     0.0   0.0  0.0  \n",
       "9332     0.0      0.0     0.0                 0.0     0.0   0.0  0.0  \n",
       "9333     0.0      0.0     0.0                 0.0     0.0   0.0  0.0  \n",
       "\n",
       "[5 rows x 20000 columns]"
      ]
     },
     "execution_count": 47,
     "metadata": {},
     "output_type": "execute_result"
    }
   ],
   "source": [
    "dfx_fs = pd.DataFrame(x_fs, columns = tfid.get_feature_names())\n",
    "dfx_fs.tail()"
   ]
  },
  {
   "cell_type": "code",
   "execution_count": 48,
   "id": "bf7e4d36",
   "metadata": {},
   "outputs": [],
   "source": [
    "filteredtfidf = dfx_fs.filter(items=featurenames)\n",
    "lrtfidf = filteredtfidf.to_numpy()"
   ]
  },
  {
   "cell_type": "code",
   "execution_count": 49,
   "id": "82dd88f0",
   "metadata": {},
   "outputs": [],
   "source": [
    "x= lrtfidf\n",
    "y= df['sentiment']\n",
    "\n",
    "x_train, x_test, y_train, y_test = train_test_split(x, y, test_size=0.3, random_state=42)"
   ]
  },
  {
   "cell_type": "code",
   "execution_count": 50,
   "id": "3c094ba9",
   "metadata": {},
   "outputs": [],
   "source": [
    "# fit TF-IDF matrix on logistic regression model\n",
    "\n",
    "lr.fit(x_train, y_train)\n",
    "y_pred_tfidf = lr.predict(x_test)"
   ]
  },
  {
   "cell_type": "code",
   "execution_count": 51,
   "id": "46c778d6",
   "metadata": {},
   "outputs": [
    {
     "name": "stdout",
     "output_type": "stream",
     "text": [
      "              precision    recall  f1-score   support\n",
      "\n",
      "    negative       0.79      0.82      0.81      1285\n",
      "    positive       0.85      0.82      0.83      1516\n",
      "\n",
      "    accuracy                           0.82      2801\n",
      "   macro avg       0.82      0.82      0.82      2801\n",
      "weighted avg       0.82      0.82      0.82      2801\n",
      "\n",
      "Accuracy Score: 0.8218493395215994\n"
     ]
    },
    {
     "data": {
      "text/plain": [
       "<sklearn.metrics._plot.confusion_matrix.ConfusionMatrixDisplay at 0x12b83b70340>"
      ]
     },
     "execution_count": 51,
     "metadata": {},
     "output_type": "execute_result"
    },
    {
     "data": {
      "image/png": "[encoded data removed]",
      "text/plain": [
       "<Figure size 432x288 with 2 Axes>"
      ]
     },
     "metadata": {
      "needs_background": "light"
     },
     "output_type": "display_data"
    }
   ],
   "source": [
    "# classification report\n",
    "print(classification_report(y_test, y_pred_tfidf))\n",
    "\n",
    "# accuracy score\n",
    "accuracy = accuracy_score(y_test, y_pred_tfidf)\n",
    "print(\"Accuracy Score: \" + str(accuracy))\n",
    "\n",
    "# plot confusion matrix\n",
    "cm = confusion_matrix(y_test, y_pred_tfidf)\n",
    "cmd = ConfusionMatrixDisplay(cm, display_labels=['positive','negative'])\n",
    "cmd.plot()"
   ]
  },
  {
   "cell_type": "markdown",
   "id": "f9577aef",
   "metadata": {},
   "source": [
    "After only keeping the features that have a feature importance of more than 1.0, the accuracy of the model decreased significantly.\n",
    "The new accuracy score is 0.822 (3.s.f), 82.2%.\n",
    "This could be due to reducing the feature set too much, which results in a very vauge training dataset.\n",
    "\n",
    "Hence, the model with more features regardless of feature importances has a higher accuracy."
   ]
  },
  {
   "cell_type": "markdown",
   "id": "3858d19d",
   "metadata": {},
   "source": [
    "# Perform k-fold cross validation on best model"
   ]
  },
  {
   "cell_type": "code",
   "execution_count": 52,
   "id": "9ba91bc7",
   "metadata": {},
   "outputs": [
    {
     "name": "stdout",
     "output_type": "stream",
     "text": [
      "After performing k-fold cross validation, accuracy score of logistic regression model is 0.9139712150637599\n"
     ]
    }
   ],
   "source": [
    "from sklearn.model_selection import cross_val_score, KFold\n",
    "\n",
    "x= tfid.transform(df['words_review']).toarray()\n",
    "y= df['sentiment']\n",
    "\n",
    "lr.fit(x_train_tfidf, y_train)\n",
    "\n",
    "kfold = KFold(n_splits=12, random_state=123, shuffle=True)\n",
    "score = cross_val_score(lr, x, y, cv=kfold, scoring='accuracy').mean()\n",
    "\n",
    "print('After performing k-fold cross validation, accuracy score of logistic regression model is', score)"
   ]
  },
  {
   "cell_type": "markdown",
   "id": "79f5e0d1",
   "metadata": {},
   "source": [
    "The accuracy decreased after performing k-fold cross validation. This could be a result of overfitting as more data is used as compared to previously in the best model."
   ]
  },
  {
   "cell_type": "markdown",
   "id": "85b7c802",
   "metadata": {},
   "source": [
    "# Conclusion\n",
    "\n",
    "The best performing model is Logistic regression with TF-IDF. It has the highest accuracy of 0.916 (3.s.f), 91.6% accurate.\n",
    "The negative and positive f1 score is also quite balanced, where there is only a difference of 0.0155 (3.s.f). This can be explained by the sampling of positive values previously.\n",
    "\n",
    "Both logistic regression and gradient boosting classifier performed better with TF-IDF feature set. This proved that TF-IDF is a better representation of features in this corpus\n",
    "\n",
    "\n",
    "After removing top 25 occuring words for before performing TF-IDF, accuracy of the best model decreased by 1.1% to 0.905 (3.s.f), 90.5%. Hence, I did not utilise this technique.\n",
    "Feature selection and k-fold cross validation also resulted in a decreased accuracy score.\n",
    "\n",
    "\n",
    "A sentiment analysis model can help in ChatBot responses to customer feedback. The ChatBot can respond to a positive or negative feedback appropriately, and address customer concerns without the need for human intervention.\n",
    "- Improves productivity as it frees up employees to do more valuable work.\n",
    "- Increases customer satisfaction and customer engagment as their queries are answered fast and efficiently.\n"
   ]
  }
 ],
 "metadata": {
  "kernelspec": {
   "display_name": "Python 3 (ipykernel)",
   "language": "python",
   "name": "python3"
  },
  "language_info": {
   "codemirror_mode": {
    "name": "ipython",
    "version": 3
   },
   "file_extension": ".py",
   "mimetype": "text/x-python",
   "name": "python",
   "nbconvert_exporter": "python",
   "pygments_lexer": "ipython3",
   "version": "3.9.7"
  }
 },
 "nbformat": 4,
 "nbformat_minor": 5
}
