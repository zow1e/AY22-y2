{
 "cells": [
  {
   "cell_type": "code",
   "execution_count": 1,
   "id": "8e432fe2",
   "metadata": {},
   "outputs": [
    {
     "name": "stdout",
     "output_type": "stream",
     "text": [
      "Requirement already satisfied: beautifulsoup4 in c:\\users\\zoe\\anaconda3\\lib\\site-packages (4.10.0)\n",
      "Requirement already satisfied: soupsieve>1.2 in c:\\users\\zoe\\anaconda3\\lib\\site-packages (from beautifulsoup4) (2.2.1)\n",
      "Note: you may need to restart the kernel to use updated packages.\n"
     ]
    }
   ],
   "source": [
    "pip install beautifulsoup4"
   ]
  },
  {
   "cell_type": "code",
   "execution_count": 2,
   "id": "0561fea3",
   "metadata": {},
   "outputs": [
    {
     "name": "stdout",
     "output_type": "stream",
     "text": [
      "Requirement already satisfied: selenium in c:\\users\\zoe\\anaconda3\\lib\\site-packages (4.8.0)Note: you may need to restart the kernel to use updated packages.\n",
      "\n",
      "Requirement already satisfied: certifi>=2021.10.8 in c:\\users\\zoe\\anaconda3\\lib\\site-packages (from selenium) (2021.10.8)\n",
      "Requirement already satisfied: trio~=0.17 in c:\\users\\zoe\\anaconda3\\lib\\site-packages (from selenium) (0.22.0)\n",
      "Requirement already satisfied: trio-websocket~=0.9 in c:\\users\\zoe\\anaconda3\\lib\\site-packages (from selenium) (0.9.2)\n",
      "Requirement already satisfied: urllib3[socks]~=1.26 in c:\\users\\zoe\\anaconda3\\lib\\site-packages (from selenium) (1.26.7)\n",
      "Requirement already satisfied: idna in c:\\users\\zoe\\anaconda3\\lib\\site-packages (from trio~=0.17->selenium) (3.2)\n",
      "Requirement already satisfied: cffi>=1.14 in c:\\users\\zoe\\anaconda3\\lib\\site-packages (from trio~=0.17->selenium) (1.14.6)\n",
      "Requirement already satisfied: exceptiongroup>=1.0.0rc9 in c:\\users\\zoe\\anaconda3\\lib\\site-packages (from trio~=0.17->selenium) (1.0.4)\n",
      "Requirement already satisfied: attrs>=19.2.0 in c:\\users\\zoe\\anaconda3\\lib\\site-packages (from trio~=0.17->selenium) (21.2.0)\n",
      "Requirement already satisfied: async-generator>=1.9 in c:\\users\\zoe\\anaconda3\\lib\\site-packages (from trio~=0.17->selenium) (1.10)\n",
      "Requirement already satisfied: sortedcontainers in c:\\users\\zoe\\anaconda3\\lib\\site-packages (from trio~=0.17->selenium) (2.4.0)\n",
      "Requirement already satisfied: outcome in c:\\users\\zoe\\anaconda3\\lib\\site-packages (from trio~=0.17->selenium) (1.2.0)\n",
      "Requirement already satisfied: sniffio in c:\\users\\zoe\\anaconda3\\lib\\site-packages (from trio~=0.17->selenium) (1.2.0)\n",
      "Requirement already satisfied: pycparser in c:\\users\\zoe\\anaconda3\\lib\\site-packages (from cffi>=1.14->trio~=0.17->selenium) (2.20)\n",
      "Requirement already satisfied: wsproto>=0.14 in c:\\users\\zoe\\anaconda3\\lib\\site-packages (from trio-websocket~=0.9->selenium) (1.2.0)\n",
      "Requirement already satisfied: PySocks!=1.5.7,<2.0,>=1.5.6 in c:\\users\\zoe\\anaconda3\\lib\\site-packages (from urllib3[socks]~=1.26->selenium) (1.7.1)\n",
      "Requirement already satisfied: h11<1,>=0.9.0 in c:\\users\\zoe\\anaconda3\\lib\\site-packages (from wsproto>=0.14->trio-websocket~=0.9->selenium) (0.14.0)\n"
     ]
    }
   ],
   "source": [
    "pip install -U selenium"
   ]
  },
  {
   "cell_type": "code",
   "execution_count": 3,
   "id": "a092f640",
   "metadata": {},
   "outputs": [],
   "source": [
    "from selenium import webdriver\n",
    "from bs4 import BeautifulSoup\n",
    "import pandas as pd\n",
    "import numpy as np\n",
    "from time import sleep\n",
    "from random import randint\n",
    "import time\n",
    "\n",
    "page = 'https://www.google.com.pk/travel/entity/key/ChQI-rmJwcHwi_suGggvbS8wMmZ6cxAE/reviews?ts=CAESABoECgIaACoECgAaAA&ved=0CAAQ5JsGahcKEwiw8Paov7n8AhUAAAAAHQAAAAAQAw'\n",
    "driver = webdriver.Chrome()\n",
    "driver.get(page)\n",
    "\n",
    "# scrolling\n",
    "pre_scroll_height = driver.execute_script('return document.body.scrollHeight;')\n",
    "run_time, max_run_time = 0, 5\n",
    "while run_time < max_run_time:\n",
    "    iteration_start = time.time()\n",
    "    # Scroll webpage, the 150 allows for a more 'aggressive' scroll\n",
    "    driver.execute_script('window.scrollTo(0, 150*document.body.scrollHeight);')\n",
    "\n",
    "    post_scroll_height = driver.execute_script('return document.body.scrollHeight;')\n",
    "\n",
    "    scrolled = post_scroll_height != pre_scroll_height\n",
    "    timed_out = run_time >= max_run_time\n",
    "\n",
    "\n",
    "    if scrolled:\n",
    "        run_time = 0\n",
    "        pre_scroll_height = post_scroll_height\n",
    "        \n",
    "    elif not scrolled and not timed_out:\n",
    "        run_time += time.time() - iteration_start\n",
    "    elif not scrolled and timed_out:\n",
    "        break\n"
   ]
  },
  {
   "cell_type": "code",
   "execution_count": 4,
   "id": "fa3d2e1e",
   "metadata": {},
   "outputs": [
    {
     "name": "stdout",
     "output_type": "stream",
     "text": [
      "scraped\n"
     ]
    }
   ],
   "source": [
    "# scrape reviews\n",
    "\n",
    "soup = BeautifulSoup(driver.page_source, 'html.parser')\n",
    "my_table = soup.find_all(class_=['STQFb eoY5cb'])\n",
    "\n",
    "print('scraped')\n",
    "\n",
    "\n",
    "data = []\n",
    "for tag in my_table:\n",
    "    data.append(tag.get_text())"
   ]
  },
  {
   "cell_type": "code",
   "execution_count": 5,
   "id": "463d902c",
   "metadata": {},
   "outputs": [
    {
     "name": "stdout",
     "output_type": "stream",
     "text": [
      "scraped\n"
     ]
    }
   ],
   "source": [
    "# scrape ratings\n",
    "\n",
    "ratingstable = soup.find_all(class_=['GDWaad'])\n",
    "\n",
    "print('scraped')\n",
    "\n",
    "\n",
    "ratingslist=[]\n",
    "for tag in ratingstable:\n",
    "    ratingslist.append(tag.get_text())"
   ]
  },
  {
   "cell_type": "code",
   "execution_count": 6,
   "id": "44fa4626",
   "metadata": {},
   "outputs": [
    {
     "name": "stdout",
     "output_type": "stream",
     "text": [
      "scraped\n"
     ]
    }
   ],
   "source": [
    "# scrape date\n",
    "\n",
    "datetable = soup.find_all(class_=['iUtr1 CQYfx'])\n",
    "\n",
    "print('scraped')\n",
    "\n",
    "datelist = []\n",
    "for tag in datetable:\n",
    "    datelist.append(tag.get_text())"
   ]
  },
  {
   "cell_type": "markdown",
   "id": "40123317",
   "metadata": {},
   "source": [
    "combine scraped data"
   ]
  },
  {
   "cell_type": "code",
   "execution_count": 13,
   "id": "59ff678d",
   "metadata": {},
   "outputs": [],
   "source": [
    "import pandas as pd\n",
    "\n",
    "googledisney = {'review':data, 'rating':ratingslist, 'date':datelist}\n",
    "df = pd.DataFrame.from_dict(googledisney)\n"
   ]
  },
  {
   "cell_type": "code",
   "execution_count": 14,
   "id": "68af6fb5",
   "metadata": {},
   "outputs": [
    {
     "data": {
      "text/html": [
       "<div>\n",
       "<style scoped>\n",
       "    .dataframe tbody tr th:only-of-type {\n",
       "        vertical-align: middle;\n",
       "    }\n",
       "\n",
       "    .dataframe tbody tr th {\n",
       "        vertical-align: top;\n",
       "    }\n",
       "\n",
       "    .dataframe thead th {\n",
       "        text-align: right;\n",
       "    }\n",
       "</style>\n",
       "<table border=\"1\" class=\"dataframe\">\n",
       "  <thead>\n",
       "    <tr style=\"text-align: right;\">\n",
       "      <th></th>\n",
       "      <th>review</th>\n",
       "      <th>rating</th>\n",
       "      <th>date</th>\n",
       "    </tr>\n",
       "  </thead>\n",
       "  <tbody>\n",
       "    <tr>\n",
       "      <th>0</th>\n",
       "      <td>There's an undeniable magic to Disneyland. I m...</td>\n",
       "      <td>4/5</td>\n",
       "      <td>10 months ago on  Google</td>\n",
       "    </tr>\n",
       "    <tr>\n",
       "      <th>1</th>\n",
       "      <td>We went for one day and tickets cost $164 each...</td>\n",
       "      <td>5/5</td>\n",
       "      <td>3 months ago on  Google</td>\n",
       "    </tr>\n",
       "    <tr>\n",
       "      <th>2</th>\n",
       "      <td>Fantastic! Still the great Disneyland that I r...</td>\n",
       "      <td>5/5</td>\n",
       "      <td>4 weeks ago on  Google</td>\n",
       "    </tr>\n",
       "    <tr>\n",
       "      <th>3</th>\n",
       "      <td>What a beautiful place to have fun.If you go o...</td>\n",
       "      <td>5/5</td>\n",
       "      <td>5 months ago on  Google</td>\n",
       "    </tr>\n",
       "    <tr>\n",
       "      <th>4</th>\n",
       "      <td>This was an amazing experience that we enjoyed...</td>\n",
       "      <td>5/5</td>\n",
       "      <td>a year ago on  Google</td>\n",
       "    </tr>\n",
       "  </tbody>\n",
       "</table>\n",
       "</div>"
      ],
      "text/plain": [
       "                                              review rating  \\\n",
       "0  There's an undeniable magic to Disneyland. I m...    4/5   \n",
       "1  We went for one day and tickets cost $164 each...    5/5   \n",
       "2  Fantastic! Still the great Disneyland that I r...    5/5   \n",
       "3  What a beautiful place to have fun.If you go o...    5/5   \n",
       "4  This was an amazing experience that we enjoyed...    5/5   \n",
       "\n",
       "                       date  \n",
       "0  10 months ago on  Google  \n",
       "1   3 months ago on  Google  \n",
       "2    4 weeks ago on  Google  \n",
       "3   5 months ago on  Google  \n",
       "4     a year ago on  Google  "
      ]
     },
     "execution_count": 14,
     "metadata": {},
     "output_type": "execute_result"
    }
   ],
   "source": [
    "df.head()"
   ]
  },
  {
   "cell_type": "code",
   "execution_count": 15,
   "id": "ea69e428",
   "metadata": {},
   "outputs": [
    {
     "data": {
      "text/plain": [
       "(7090, 3)"
      ]
     },
     "execution_count": 15,
     "metadata": {},
     "output_type": "execute_result"
    }
   ],
   "source": [
    "df.shape"
   ]
  },
  {
   "cell_type": "code",
   "execution_count": 16,
   "id": "6d393465",
   "metadata": {},
   "outputs": [],
   "source": [
    "df.to_csv('disneygooglereviews.csv')"
   ]
  }
 ],
 "metadata": {
  "kernelspec": {
   "display_name": "Python 3 (ipykernel)",
   "language": "python",
   "name": "python3"
  },
  "language_info": {
   "codemirror_mode": {
    "name": "ipython",
    "version": 3
   },
   "file_extension": ".py",
   "mimetype": "text/x-python",
   "name": "python",
   "nbconvert_exporter": "python",
   "pygments_lexer": "ipython3",
   "version": "3.9.7"
  }
 },
 "nbformat": 4,
 "nbformat_minor": 5
}
