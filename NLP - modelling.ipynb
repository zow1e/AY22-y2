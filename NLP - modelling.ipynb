{
  "nbformat": 4,
  "nbformat_minor": 0,
  "metadata": {
    "colab": {
      "provenance": []
    },
    "kernelspec": {
      "name": "python3",
      "display_name": "Python 3"
    },
    "language_info": {
      "name": "python"
    }
  },
  "cells": [
    {
      "cell_type": "code",
      "execution_count": null,
      "metadata": {
        "id": "BjMGRvYruCpm",
        "colab": {
          "base_uri": "https://localhost:8080/"
        },
        "outputId": "5661cb69-a2fe-4ff8-adc1-f1c001d6f749"
      },
      "outputs": [
        {
          "output_type": "stream",
          "name": "stdout",
          "text": [
            "Drive already mounted at /content/drive; to attempt to forcibly remount, call drive.mount(\"/content/drive\", force_remount=True).\n"
          ]
        }
      ],
      "source": [
        "from google.colab import drive\n",
        "drive.mount('/content/drive')"
      ]
    },
    {
      "cell_type": "markdown",
      "source": [
        "Import cleaned_product_review.csv"
      ],
      "metadata": {
        "id": "j9cFpFa78ngK"
      }
    },
    {
      "cell_type": "code",
      "source": [
        "import pandas as pd\n",
        "df = pd.read_csv('/content/drive/MyDrive/ITB241 NLP/cleaned_product_review.csv', index_col=[0])\n",
        "df.tail()"
      ],
      "metadata": {
        "colab": {
          "base_uri": "https://localhost:8080/",
          "height": 372
        },
        "id": "dGyt7IZruf-2",
        "outputId": "6e9a03b6-e1ce-40b3-cbf1-6433304449ef"
      },
      "execution_count": null,
      "outputs": [
        {
          "output_type": "execute_result",
          "data": {
            "text/plain": [
              "            user_id  stars                                            reviews  \\\n",
              "537  A398T38COTS30K      5  this is my favorite kcup flavor  i like my cof...   \n",
              "538  A1B410YK9O18XZ      5  if you are looking for the taste of french van...   \n",
              "539  A1W85A81467TCW      5  i have purchased and used  boxes of the hazeln...   \n",
              "540  A103FOM06QPAX8      5  yummy great tasting and very convenient  only ...   \n",
              "541  A1V5V04WIYLT8Q      4  for an enjoyable change from a coffee routine ...   \n",
              "\n",
              "                                           sent_review  \\\n",
              "537  ['this is my favorite kcup flavor  i like my c...   \n",
              "538  ['if you are looking for the taste of french v...   \n",
              "539  ['i have purchased and used  boxes of the haze...   \n",
              "540  ['yummy great tasting and very convenient  onl...   \n",
              "541  ['for an enjoyable change from a coffee routin...   \n",
              "\n",
              "                                          words_review  \\\n",
              "537  [['favorit', 'kcup', 'flavor', 'like', 'coffe'...   \n",
              "538  [['look', 'tast', 'french', 'vanilla', 'cappuc...   \n",
              "539  [['purchas', 'hazelnut', 'cappuccino', 'look',...   \n",
              "540  [['yummi', 'great', 'tast', 'conveni', 'drawba...   \n",
              "541  [['enjoy', 'chang', 'coffe', 'routin', 'think'...   \n",
              "\n",
              "                                         bigram_tokens  \\\n",
              "537  [['favorit_kcup', 'kcup_flavor', 'flavor_like'...   \n",
              "538  [['look_tast', 'tast_french', 'french_vanilla'...   \n",
              "539  [['purchas_use', 'use_box', 'box_hazelnut', 'h...   \n",
              "540  [['yummi_great', 'great_tast', 'tast_conveni',...   \n",
              "541  [['enjoy_chang', 'chang_coffe', 'coffe_routin'...   \n",
              "\n",
              "                                             freq_word  \\\n",
              "537  [{'favorit': 1, 'kcup': 1, 'flavor': 1, 'like'...   \n",
              "538  [{'look': 2, 'tast': 1, 'french': 1, 'vanilla'...   \n",
              "539  [{'purchas': 1, 'hazelnut': 1, 'cappuccino': 1...   \n",
              "540  [{'yummi': 1, 'great': 1, 'tast': 1, 'conveni'...   \n",
              "541  [{'enjoy': 2, 'chang': 1, 'coffe': 1, 'routin'...   \n",
              "\n",
              "                                           freq_bigram  \n",
              "537  [{'favorit_kcup': 1, 'kcup_flavor': 1, 'flavor...  \n",
              "538  [{'look_tast': 1, 'tast_french': 1, 'french_va...  \n",
              "539  [{'purchas_use': 1, 'use_box': 1, 'box_hazelnu...  \n",
              "540  [{'yummi_great': 1, 'great_tast': 1, 'tast_con...  \n",
              "541  [{'enjoy_chang': 1, 'chang_coffe': 1, 'coffe_r...  "
            ],
            "text/html": [
              "\n",
              "  <div id=\"df-639bab68-a144-4acb-bcba-1b45339ad3bf\">\n",
              "    <div class=\"colab-df-container\">\n",
              "      <div>\n",
              "<style scoped>\n",
              "    .dataframe tbody tr th:only-of-type {\n",
              "        vertical-align: middle;\n",
              "    }\n",
              "\n",
              "    .dataframe tbody tr th {\n",
              "        vertical-align: top;\n",
              "    }\n",
              "\n",
              "    .dataframe thead th {\n",
              "        text-align: right;\n",
              "    }\n",
              "</style>\n",
              "<table border=\"1\" class=\"dataframe\">\n",
              "  <thead>\n",
              "    <tr style=\"text-align: right;\">\n",
              "      <th></th>\n",
              "      <th>user_id</th>\n",
              "      <th>stars</th>\n",
              "      <th>reviews</th>\n",
              "      <th>sent_review</th>\n",
              "      <th>words_review</th>\n",
              "      <th>bigram_tokens</th>\n",
              "      <th>freq_word</th>\n",
              "      <th>freq_bigram</th>\n",
              "    </tr>\n",
              "  </thead>\n",
              "  <tbody>\n",
              "    <tr>\n",
              "      <th>537</th>\n",
              "      <td>A398T38COTS30K</td>\n",
              "      <td>5</td>\n",
              "      <td>this is my favorite kcup flavor  i like my cof...</td>\n",
              "      <td>['this is my favorite kcup flavor  i like my c...</td>\n",
              "      <td>[['favorit', 'kcup', 'flavor', 'like', 'coffe'...</td>\n",
              "      <td>[['favorit_kcup', 'kcup_flavor', 'flavor_like'...</td>\n",
              "      <td>[{'favorit': 1, 'kcup': 1, 'flavor': 1, 'like'...</td>\n",
              "      <td>[{'favorit_kcup': 1, 'kcup_flavor': 1, 'flavor...</td>\n",
              "    </tr>\n",
              "    <tr>\n",
              "      <th>538</th>\n",
              "      <td>A1B410YK9O18XZ</td>\n",
              "      <td>5</td>\n",
              "      <td>if you are looking for the taste of french van...</td>\n",
              "      <td>['if you are looking for the taste of french v...</td>\n",
              "      <td>[['look', 'tast', 'french', 'vanilla', 'cappuc...</td>\n",
              "      <td>[['look_tast', 'tast_french', 'french_vanilla'...</td>\n",
              "      <td>[{'look': 2, 'tast': 1, 'french': 1, 'vanilla'...</td>\n",
              "      <td>[{'look_tast': 1, 'tast_french': 1, 'french_va...</td>\n",
              "    </tr>\n",
              "    <tr>\n",
              "      <th>539</th>\n",
              "      <td>A1W85A81467TCW</td>\n",
              "      <td>5</td>\n",
              "      <td>i have purchased and used  boxes of the hazeln...</td>\n",
              "      <td>['i have purchased and used  boxes of the haze...</td>\n",
              "      <td>[['purchas', 'hazelnut', 'cappuccino', 'look',...</td>\n",
              "      <td>[['purchas_use', 'use_box', 'box_hazelnut', 'h...</td>\n",
              "      <td>[{'purchas': 1, 'hazelnut': 1, 'cappuccino': 1...</td>\n",
              "      <td>[{'purchas_use': 1, 'use_box': 1, 'box_hazelnu...</td>\n",
              "    </tr>\n",
              "    <tr>\n",
              "      <th>540</th>\n",
              "      <td>A103FOM06QPAX8</td>\n",
              "      <td>5</td>\n",
              "      <td>yummy great tasting and very convenient  only ...</td>\n",
              "      <td>['yummy great tasting and very convenient  onl...</td>\n",
              "      <td>[['yummi', 'great', 'tast', 'conveni', 'drawba...</td>\n",
              "      <td>[['yummi_great', 'great_tast', 'tast_conveni',...</td>\n",
              "      <td>[{'yummi': 1, 'great': 1, 'tast': 1, 'conveni'...</td>\n",
              "      <td>[{'yummi_great': 1, 'great_tast': 1, 'tast_con...</td>\n",
              "    </tr>\n",
              "    <tr>\n",
              "      <th>541</th>\n",
              "      <td>A1V5V04WIYLT8Q</td>\n",
              "      <td>4</td>\n",
              "      <td>for an enjoyable change from a coffee routine ...</td>\n",
              "      <td>['for an enjoyable change from a coffee routin...</td>\n",
              "      <td>[['enjoy', 'chang', 'coffe', 'routin', 'think'...</td>\n",
              "      <td>[['enjoy_chang', 'chang_coffe', 'coffe_routin'...</td>\n",
              "      <td>[{'enjoy': 2, 'chang': 1, 'coffe': 1, 'routin'...</td>\n",
              "      <td>[{'enjoy_chang': 1, 'chang_coffe': 1, 'coffe_r...</td>\n",
              "    </tr>\n",
              "  </tbody>\n",
              "</table>\n",
              "</div>\n",
              "      <button class=\"colab-df-convert\" onclick=\"convertToInteractive('df-639bab68-a144-4acb-bcba-1b45339ad3bf')\"\n",
              "              title=\"Convert this dataframe to an interactive table.\"\n",
              "              style=\"display:none;\">\n",
              "        \n",
              "  <svg xmlns=\"http://www.w3.org/2000/svg\" height=\"24px\"viewBox=\"0 0 24 24\"\n",
              "       width=\"24px\">\n",
              "    <path d=\"M0 0h24v24H0V0z\" fill=\"none\"/>\n",
              "    <path d=\"M18.56 5.44l.94 2.06.94-2.06 2.06-.94-2.06-.94-.94-2.06-.94 2.06-2.06.94zm-11 1L8.5 8.5l.94-2.06 2.06-.94-2.06-.94L8.5 2.5l-.94 2.06-2.06.94zm10 10l.94 2.06.94-2.06 2.06-.94-2.06-.94-.94-2.06-.94 2.06-2.06.94z\"/><path d=\"M17.41 7.96l-1.37-1.37c-.4-.4-.92-.59-1.43-.59-.52 0-1.04.2-1.43.59L10.3 9.45l-7.72 7.72c-.78.78-.78 2.05 0 2.83L4 21.41c.39.39.9.59 1.41.59.51 0 1.02-.2 1.41-.59l7.78-7.78 2.81-2.81c.8-.78.8-2.07 0-2.86zM5.41 20L4 18.59l7.72-7.72 1.47 1.35L5.41 20z\"/>\n",
              "  </svg>\n",
              "      </button>\n",
              "      \n",
              "  <style>\n",
              "    .colab-df-container {\n",
              "      display:flex;\n",
              "      flex-wrap:wrap;\n",
              "      gap: 12px;\n",
              "    }\n",
              "\n",
              "    .colab-df-convert {\n",
              "      background-color: #E8F0FE;\n",
              "      border: none;\n",
              "      border-radius: 50%;\n",
              "      cursor: pointer;\n",
              "      display: none;\n",
              "      fill: #1967D2;\n",
              "      height: 32px;\n",
              "      padding: 0 0 0 0;\n",
              "      width: 32px;\n",
              "    }\n",
              "\n",
              "    .colab-df-convert:hover {\n",
              "      background-color: #E2EBFA;\n",
              "      box-shadow: 0px 1px 2px rgba(60, 64, 67, 0.3), 0px 1px 3px 1px rgba(60, 64, 67, 0.15);\n",
              "      fill: #174EA6;\n",
              "    }\n",
              "\n",
              "    [theme=dark] .colab-df-convert {\n",
              "      background-color: #3B4455;\n",
              "      fill: #D2E3FC;\n",
              "    }\n",
              "\n",
              "    [theme=dark] .colab-df-convert:hover {\n",
              "      background-color: #434B5C;\n",
              "      box-shadow: 0px 1px 3px 1px rgba(0, 0, 0, 0.15);\n",
              "      filter: drop-shadow(0px 1px 2px rgba(0, 0, 0, 0.3));\n",
              "      fill: #FFFFFF;\n",
              "    }\n",
              "  </style>\n",
              "\n",
              "      <script>\n",
              "        const buttonEl =\n",
              "          document.querySelector('#df-639bab68-a144-4acb-bcba-1b45339ad3bf button.colab-df-convert');\n",
              "        buttonEl.style.display =\n",
              "          google.colab.kernel.accessAllowed ? 'block' : 'none';\n",
              "\n",
              "        async function convertToInteractive(key) {\n",
              "          const element = document.querySelector('#df-639bab68-a144-4acb-bcba-1b45339ad3bf');\n",
              "          const dataTable =\n",
              "            await google.colab.kernel.invokeFunction('convertToInteractive',\n",
              "                                                     [key], {});\n",
              "          if (!dataTable) return;\n",
              "\n",
              "          const docLinkHtml = 'Like what you see? Visit the ' +\n",
              "            '<a target=\"_blank\" href=https://colab.research.google.com/notebooks/data_table.ipynb>data table notebook</a>'\n",
              "            + ' to learn more about interactive tables.';\n",
              "          element.innerHTML = '';\n",
              "          dataTable['output_type'] = 'display_data';\n",
              "          await google.colab.output.renderOutput(dataTable, element);\n",
              "          const docLink = document.createElement('div');\n",
              "          docLink.innerHTML = docLinkHtml;\n",
              "          element.appendChild(docLink);\n",
              "        }\n",
              "      </script>\n",
              "    </div>\n",
              "  </div>\n",
              "  "
            ]
          },
          "metadata": {},
          "execution_count": 30
        }
      ]
    },
    {
      "cell_type": "markdown",
      "source": [
        "Remove 3 star reviews"
      ],
      "metadata": {
        "id": "byFy-e6m8tUe"
      }
    },
    {
      "cell_type": "code",
      "source": [
        "print(df.shape)\n",
        "\n",
        "# drop rows with 3 star reviews\n",
        "df = df.loc[df[\"stars\"] != 3 ]\n",
        "\n",
        "# reset index\n",
        "df.index = range(len(df.index))\n",
        "\n",
        "df.shape"
      ],
      "metadata": {
        "colab": {
          "base_uri": "https://localhost:8080/"
        },
        "id": "BqpfIWsGuhA6",
        "outputId": "1d7eff26-8bf5-4907-e729-13f627cecd51"
      },
      "execution_count": null,
      "outputs": [
        {
          "output_type": "stream",
          "name": "stdout",
          "text": [
            "(542, 8)\n"
          ]
        },
        {
          "output_type": "execute_result",
          "data": {
            "text/plain": [
              "(514, 8)"
            ]
          },
          "metadata": {},
          "execution_count": 31
        }
      ]
    },
    {
      "cell_type": "markdown",
      "source": [
        "Create new column, sentiment"
      ],
      "metadata": {
        "id": "UWjWF1Yp8w3x"
      }
    },
    {
      "cell_type": "code",
      "source": [
        "stars = list(df['stars'])\n",
        "print(len(stars))"
      ],
      "metadata": {
        "colab": {
          "base_uri": "https://localhost:8080/"
        },
        "id": "Ni0kF_XAFvPr",
        "outputId": "46267916-6780-4276-9e35-e48a9bbe838d"
      },
      "execution_count": null,
      "outputs": [
        {
          "output_type": "stream",
          "name": "stdout",
          "text": [
            "514\n"
          ]
        }
      ]
    },
    {
      "cell_type": "code",
      "source": [
        "df['sentiment'] = ''\n",
        "stars = list(df['stars'])\n",
        "\n",
        "for i, item in enumerate(stars):\n",
        "  if item ==1 or item ==2:\n",
        "    df['sentiment'][i] = 'negative'\n",
        "  else:\n",
        "    df['sentiment'][i] = 'positive'\n"
      ],
      "metadata": {
        "colab": {
          "base_uri": "https://localhost:8080/"
        },
        "id": "gm2mz_DX8oEy",
        "outputId": "a9036933-922f-488c-99c5-46ce250eb4b8"
      },
      "execution_count": null,
      "outputs": [
        {
          "output_type": "stream",
          "name": "stderr",
          "text": [
            "<ipython-input-33-6227fcd78175>:6: SettingWithCopyWarning: \n",
            "A value is trying to be set on a copy of a slice from a DataFrame\n",
            "\n",
            "See the caveats in the documentation: https://pandas.pydata.org/pandas-docs/stable/user_guide/indexing.html#returning-a-view-versus-a-copy\n",
            "  df['sentiment'][i] = 'negative'\n",
            "<ipython-input-33-6227fcd78175>:8: SettingWithCopyWarning: \n",
            "A value is trying to be set on a copy of a slice from a DataFrame\n",
            "\n",
            "See the caveats in the documentation: https://pandas.pydata.org/pandas-docs/stable/user_guide/indexing.html#returning-a-view-versus-a-copy\n",
            "  df['sentiment'][i] = 'positive'\n"
          ]
        }
      ]
    },
    {
      "cell_type": "markdown",
      "source": [
        "Drop other columns"
      ],
      "metadata": {
        "id": "M5ZmEDcSUNTv"
      }
    },
    {
      "cell_type": "code",
      "source": [
        "# use only the necessary columns\n",
        "df = df[['user_id', 'reviews', 'sentiment']]\n",
        "df.tail()"
      ],
      "metadata": {
        "colab": {
          "base_uri": "https://localhost:8080/",
          "height": 206
        },
        "id": "nxHQkTfaUJur",
        "outputId": "849e0c93-53bb-437a-a428-57105172626d"
      },
      "execution_count": null,
      "outputs": [
        {
          "output_type": "execute_result",
          "data": {
            "text/plain": [
              "            user_id                                            reviews  \\\n",
              "509  A398T38COTS30K  this is my favorite kcup flavor  i like my cof...   \n",
              "510  A1B410YK9O18XZ  if you are looking for the taste of french van...   \n",
              "511  A1W85A81467TCW  i have purchased and used  boxes of the hazeln...   \n",
              "512  A103FOM06QPAX8  yummy great tasting and very convenient  only ...   \n",
              "513  A1V5V04WIYLT8Q  for an enjoyable change from a coffee routine ...   \n",
              "\n",
              "    sentiment  \n",
              "509  positive  \n",
              "510  positive  \n",
              "511  positive  \n",
              "512  positive  \n",
              "513  positive  "
            ],
            "text/html": [
              "\n",
              "  <div id=\"df-8036fa29-7ba0-40f1-8c06-3d627632af50\">\n",
              "    <div class=\"colab-df-container\">\n",
              "      <div>\n",
              "<style scoped>\n",
              "    .dataframe tbody tr th:only-of-type {\n",
              "        vertical-align: middle;\n",
              "    }\n",
              "\n",
              "    .dataframe tbody tr th {\n",
              "        vertical-align: top;\n",
              "    }\n",
              "\n",
              "    .dataframe thead th {\n",
              "        text-align: right;\n",
              "    }\n",
              "</style>\n",
              "<table border=\"1\" class=\"dataframe\">\n",
              "  <thead>\n",
              "    <tr style=\"text-align: right;\">\n",
              "      <th></th>\n",
              "      <th>user_id</th>\n",
              "      <th>reviews</th>\n",
              "      <th>sentiment</th>\n",
              "    </tr>\n",
              "  </thead>\n",
              "  <tbody>\n",
              "    <tr>\n",
              "      <th>509</th>\n",
              "      <td>A398T38COTS30K</td>\n",
              "      <td>this is my favorite kcup flavor  i like my cof...</td>\n",
              "      <td>positive</td>\n",
              "    </tr>\n",
              "    <tr>\n",
              "      <th>510</th>\n",
              "      <td>A1B410YK9O18XZ</td>\n",
              "      <td>if you are looking for the taste of french van...</td>\n",
              "      <td>positive</td>\n",
              "    </tr>\n",
              "    <tr>\n",
              "      <th>511</th>\n",
              "      <td>A1W85A81467TCW</td>\n",
              "      <td>i have purchased and used  boxes of the hazeln...</td>\n",
              "      <td>positive</td>\n",
              "    </tr>\n",
              "    <tr>\n",
              "      <th>512</th>\n",
              "      <td>A103FOM06QPAX8</td>\n",
              "      <td>yummy great tasting and very convenient  only ...</td>\n",
              "      <td>positive</td>\n",
              "    </tr>\n",
              "    <tr>\n",
              "      <th>513</th>\n",
              "      <td>A1V5V04WIYLT8Q</td>\n",
              "      <td>for an enjoyable change from a coffee routine ...</td>\n",
              "      <td>positive</td>\n",
              "    </tr>\n",
              "  </tbody>\n",
              "</table>\n",
              "</div>\n",
              "      <button class=\"colab-df-convert\" onclick=\"convertToInteractive('df-8036fa29-7ba0-40f1-8c06-3d627632af50')\"\n",
              "              title=\"Convert this dataframe to an interactive table.\"\n",
              "              style=\"display:none;\">\n",
              "        \n",
              "  <svg xmlns=\"http://www.w3.org/2000/svg\" height=\"24px\"viewBox=\"0 0 24 24\"\n",
              "       width=\"24px\">\n",
              "    <path d=\"M0 0h24v24H0V0z\" fill=\"none\"/>\n",
              "    <path d=\"M18.56 5.44l.94 2.06.94-2.06 2.06-.94-2.06-.94-.94-2.06-.94 2.06-2.06.94zm-11 1L8.5 8.5l.94-2.06 2.06-.94-2.06-.94L8.5 2.5l-.94 2.06-2.06.94zm10 10l.94 2.06.94-2.06 2.06-.94-2.06-.94-.94-2.06-.94 2.06-2.06.94z\"/><path d=\"M17.41 7.96l-1.37-1.37c-.4-.4-.92-.59-1.43-.59-.52 0-1.04.2-1.43.59L10.3 9.45l-7.72 7.72c-.78.78-.78 2.05 0 2.83L4 21.41c.39.39.9.59 1.41.59.51 0 1.02-.2 1.41-.59l7.78-7.78 2.81-2.81c.8-.78.8-2.07 0-2.86zM5.41 20L4 18.59l7.72-7.72 1.47 1.35L5.41 20z\"/>\n",
              "  </svg>\n",
              "      </button>\n",
              "      \n",
              "  <style>\n",
              "    .colab-df-container {\n",
              "      display:flex;\n",
              "      flex-wrap:wrap;\n",
              "      gap: 12px;\n",
              "    }\n",
              "\n",
              "    .colab-df-convert {\n",
              "      background-color: #E8F0FE;\n",
              "      border: none;\n",
              "      border-radius: 50%;\n",
              "      cursor: pointer;\n",
              "      display: none;\n",
              "      fill: #1967D2;\n",
              "      height: 32px;\n",
              "      padding: 0 0 0 0;\n",
              "      width: 32px;\n",
              "    }\n",
              "\n",
              "    .colab-df-convert:hover {\n",
              "      background-color: #E2EBFA;\n",
              "      box-shadow: 0px 1px 2px rgba(60, 64, 67, 0.3), 0px 1px 3px 1px rgba(60, 64, 67, 0.15);\n",
              "      fill: #174EA6;\n",
              "    }\n",
              "\n",
              "    [theme=dark] .colab-df-convert {\n",
              "      background-color: #3B4455;\n",
              "      fill: #D2E3FC;\n",
              "    }\n",
              "\n",
              "    [theme=dark] .colab-df-convert:hover {\n",
              "      background-color: #434B5C;\n",
              "      box-shadow: 0px 1px 3px 1px rgba(0, 0, 0, 0.15);\n",
              "      filter: drop-shadow(0px 1px 2px rgba(0, 0, 0, 0.3));\n",
              "      fill: #FFFFFF;\n",
              "    }\n",
              "  </style>\n",
              "\n",
              "      <script>\n",
              "        const buttonEl =\n",
              "          document.querySelector('#df-8036fa29-7ba0-40f1-8c06-3d627632af50 button.colab-df-convert');\n",
              "        buttonEl.style.display =\n",
              "          google.colab.kernel.accessAllowed ? 'block' : 'none';\n",
              "\n",
              "        async function convertToInteractive(key) {\n",
              "          const element = document.querySelector('#df-8036fa29-7ba0-40f1-8c06-3d627632af50');\n",
              "          const dataTable =\n",
              "            await google.colab.kernel.invokeFunction('convertToInteractive',\n",
              "                                                     [key], {});\n",
              "          if (!dataTable) return;\n",
              "\n",
              "          const docLinkHtml = 'Like what you see? Visit the ' +\n",
              "            '<a target=\"_blank\" href=https://colab.research.google.com/notebooks/data_table.ipynb>data table notebook</a>'\n",
              "            + ' to learn more about interactive tables.';\n",
              "          element.innerHTML = '';\n",
              "          dataTable['output_type'] = 'display_data';\n",
              "          await google.colab.output.renderOutput(dataTable, element);\n",
              "          const docLink = document.createElement('div');\n",
              "          docLink.innerHTML = docLinkHtml;\n",
              "          element.appendChild(docLink);\n",
              "        }\n",
              "      </script>\n",
              "    </div>\n",
              "  </div>\n",
              "  "
            ]
          },
          "metadata": {},
          "execution_count": 34
        }
      ]
    },
    {
      "cell_type": "markdown",
      "source": [
        "----\n",
        "Distributon of sentiments"
      ],
      "metadata": {
        "id": "LpyZdXgd9IGa"
      }
    },
    {
      "cell_type": "code",
      "source": [
        "# count sentiment column\n",
        "\n",
        "sentcol = list(df['sentiment'])\n",
        "positive = sentcol.count('positive')\n",
        "negative = sentcol.count('negative')\n",
        "\n",
        "print('number of positive reviews is', positive, \n",
        "      '\\nnumber of negative reviews is', negative)\n",
        "\n",
        "def percentage(s):\n",
        "  return s/len(sentcol)*100\n",
        "\n",
        "print('\\nPercentage of positive reviews is', \"{:.2f}%\".format(percentage(positive)), \n",
        "      '\\nPercentage of positive reviews is', \"{:.2f}%\".format(percentage(negative)))"
      ],
      "metadata": {
        "id": "HeGjdh4f8sg_",
        "colab": {
          "base_uri": "https://localhost:8080/"
        },
        "outputId": "0bb3f54f-9d3c-4923-f78d-ea7fc892b0da"
      },
      "execution_count": null,
      "outputs": [
        {
          "output_type": "stream",
          "name": "stdout",
          "text": [
            "number of positive reviews is 373 \n",
            "number of negative reviews is 141\n",
            "\n",
            "Percentage of positive reviews is 72.57% \n",
            "Percentage of positive reviews is 27.43%\n"
          ]
        }
      ]
    },
    {
      "cell_type": "code",
      "source": [
        "import matplotlib.pyplot as plt\n",
        "\n",
        "# Plotting the Sentiment distribution\n",
        "plt.figure()\n",
        "pd.value_counts(df['sentiment']).plot.bar(title=\"Sentiment Distribution\")\n",
        "plt.xlabel(\"Sentiment\")\n",
        "plt.ylabel(\"No. of rows in df\")\n",
        "plt.show()"
      ],
      "metadata": {
        "colab": {
          "base_uri": "https://localhost:8080/",
          "height": 329
        },
        "id": "_jkXIsmBP28-",
        "outputId": "88ba30e9-f2dc-44c4-eb35-b8a7e6e5c4d0"
      },
      "execution_count": null,
      "outputs": [
        {
          "output_type": "display_data",
          "data": {
            "text/plain": [
              "<Figure size 432x288 with 1 Axes>"
            ],
            "image/png": "[encoded data removed]"
          },
          "metadata": {
            "needs_background": "light"
          }
        }
      ]
    },
    {
      "cell_type": "markdown",
      "source": [
        "The analysis of distribution of sentiments show that the number of positive reviews are more than two times the number of negative reviews.\n",
        "\n",
        "Where 72.57% are positive and 27.43% are negative reviews."
      ],
      "metadata": {
        "id": "LfaCt-5LVz-W"
      }
    },
    {
      "cell_type": "markdown",
      "source": [
        "#Split data"
      ],
      "metadata": {
        "id": "45KI43zjSoL0"
      }
    },
    {
      "cell_type": "code",
      "source": [
        "from sklearn.model_selection import train_test_split\n",
        "\n",
        "x= df['reviews']\n",
        "y= df['sentiment']\n",
        "\n",
        "x_train, x_test, y_train, y_test = train_test_split(x, y, test_size=0.3, random_state=42)\n"
      ],
      "metadata": {
        "id": "nsCjtzXKSoL1"
      },
      "execution_count": null,
      "outputs": []
    },
    {
      "cell_type": "markdown",
      "source": [
        "Data is split into 70:30, where 70% of data is training data and 20% of data is test data."
      ],
      "metadata": {
        "id": "6N6EBiioWjTc"
      }
    },
    {
      "cell_type": "markdown",
      "source": [
        "# Feature Engineering\n"
      ],
      "metadata": {
        "id": "SmW20cM9R8sn"
      }
    },
    {
      "cell_type": "markdown",
      "source": [
        "##Count Vectorizer - Absolute Term Frequency"
      ],
      "metadata": {
        "id": "tkqcYNyBXvjU"
      }
    },
    {
      "cell_type": "code",
      "source": [
        "from sklearn.feature_extraction.text import CountVectorizer\n",
        "\n",
        "# unigrams and bigrams\n",
        "cvtest = CountVectorizer(ngram_range = (1, 2), stop_words='english')\n",
        "\n",
        "testfeaturecount = cvtest.fit_transform(x_train)\n",
        "print('the dimensions of the count set is', testfeaturecount.toarray().shape, '\\n')\n",
        "\n",
        "cv = CountVectorizer(ngram_range = (1, 2), stop_words='english', max_features=7000)\n",
        "x_train_cv=cv.fit_transform(x_train)\n",
        "x_test_cv=cv.transform(x_test)\n",
        "\n",
        "print('the dimensions of the training set', x_train_cv.toarray().shape)\n",
        "print('the dimensions of the test set', x_test_cv.toarray().shape)"
      ],
      "metadata": {
        "id": "j33xMxfeAgly",
        "colab": {
          "base_uri": "https://localhost:8080/"
        },
        "outputId": "20da3194-2778-4e9d-f060-980244356859"
      },
      "execution_count": null,
      "outputs": [
        {
          "output_type": "stream",
          "name": "stdout",
          "text": [
            "the dimensions of the count set is (359, 7675) \n",
            "\n",
            "the dimensions of the training set (359, 7000)\n",
            "the dimensions of the test set (155, 7000)\n"
          ]
        }
      ]
    },
    {
      "cell_type": "markdown",
      "source": [],
      "metadata": {
        "id": "tQE_f5PEWYVf"
      }
    },
    {
      "cell_type": "markdown",
      "source": [
        "##TF-IDF"
      ],
      "metadata": {
        "id": "NXWOwMIHbafi"
      }
    },
    {
      "cell_type": "code",
      "source": [
        "# Use TfidfVectorizer() to generate TF-IDF matrix for reviews\n",
        "\n",
        "from sklearn.feature_extraction.text import TfidfVectorizer\n",
        "\n",
        "# create document term matrix with TF-IDF, unigrams and bigrams\n",
        "tfid = TfidfVectorizer(stop_words='english', ngram_range=(1,2), max_features=7000)\n",
        "\n",
        "x_train_tfidf = tfid.fit_transform(x_train).toarray()\n",
        "x_test_tfidf = tfid.transform(x_test).toarray()\n",
        "\n",
        "\n",
        "dftfidf = pd.DataFrame(x_test_tfidf, columns = tfid.get_feature_names_out())\n",
        "dftfidf.tail()"
      ],
      "metadata": {
        "colab": {
          "base_uri": "https://localhost:8080/",
          "height": 317
        },
        "id": "6UrghnpIWDtE",
        "outputId": "883b2abe-c008-421b-9f43-fd298bde9b22"
      },
      "execution_count": null,
      "outputs": [
        {
          "output_type": "execute_result",
          "data": {
            "text/plain": [
              "     able  able cappuccino  able drink  able finish  able longer  able make  \\\n",
              "150   0.0              0.0         0.0          0.0          0.0        0.0   \n",
              "151   0.0              0.0         0.0          0.0          0.0        0.0   \n",
              "152   0.0              0.0         0.0          0.0          0.0        0.0   \n",
              "153   0.0              0.0         0.0          0.0          0.0        0.0   \n",
              "154   0.0              0.0         0.0          0.0          0.0        0.0   \n",
              "\n",
              "     able return  able switch  abomination  abomination bet  ...  \\\n",
              "150          0.0          0.0          0.0              0.0  ...   \n",
              "151          0.0          0.0          0.0              0.0  ...   \n",
              "152          0.0          0.0          0.0              0.0  ...   \n",
              "153          0.0          0.0          0.0              0.0  ...   \n",
              "154          0.0          0.0          0.0              0.0  ...   \n",
              "\n",
              "     yummy disappointed  yummy gas  yummy great  yummy kuerig  yummy perfect  \\\n",
              "150                 0.0        0.0          0.0           0.0            0.0   \n",
              "151                 0.0        0.0          0.0           0.0            0.0   \n",
              "152                 0.0        0.0          0.0           0.0            0.0   \n",
              "153                 0.0        0.0          0.0           0.0            0.0   \n",
              "154                 0.0        0.0          0.0           0.0            0.0   \n",
              "\n",
              "     yummy price  yummy quite  yummy run  yummy strong  yummy suitable  \n",
              "150          0.0          0.0        0.0           0.0             0.0  \n",
              "151          0.0          0.0        0.0           0.0             0.0  \n",
              "152          0.0          0.0        0.0           0.0             0.0  \n",
              "153          0.0          0.0        0.0           0.0             0.0  \n",
              "154          0.0          0.0        0.0           0.0             0.0  \n",
              "\n",
              "[5 rows x 7000 columns]"
            ],
            "text/html": [
              "\n",
              "  <div id=\"df-7b1050ce-b635-4649-ba15-5b7ce17c0c4c\">\n",
              "    <div class=\"colab-df-container\">\n",
              "      <div>\n",
              "<style scoped>\n",
              "    .dataframe tbody tr th:only-of-type {\n",
              "        vertical-align: middle;\n",
              "    }\n",
              "\n",
              "    .dataframe tbody tr th {\n",
              "        vertical-align: top;\n",
              "    }\n",
              "\n",
              "    .dataframe thead th {\n",
              "        text-align: right;\n",
              "    }\n",
              "</style>\n",
              "<table border=\"1\" class=\"dataframe\">\n",
              "  <thead>\n",
              "    <tr style=\"text-align: right;\">\n",
              "      <th></th>\n",
              "      <th>able</th>\n",
              "      <th>able cappuccino</th>\n",
              "      <th>able drink</th>\n",
              "      <th>able finish</th>\n",
              "      <th>able longer</th>\n",
              "      <th>able make</th>\n",
              "      <th>able return</th>\n",
              "      <th>able switch</th>\n",
              "      <th>abomination</th>\n",
              "      <th>abomination bet</th>\n",
              "      <th>...</th>\n",
              "      <th>yummy disappointed</th>\n",
              "      <th>yummy gas</th>\n",
              "      <th>yummy great</th>\n",
              "      <th>yummy kuerig</th>\n",
              "      <th>yummy perfect</th>\n",
              "      <th>yummy price</th>\n",
              "      <th>yummy quite</th>\n",
              "      <th>yummy run</th>\n",
              "      <th>yummy strong</th>\n",
              "      <th>yummy suitable</th>\n",
              "    </tr>\n",
              "  </thead>\n",
              "  <tbody>\n",
              "    <tr>\n",
              "      <th>150</th>\n",
              "      <td>0.0</td>\n",
              "      <td>0.0</td>\n",
              "      <td>0.0</td>\n",
              "      <td>0.0</td>\n",
              "      <td>0.0</td>\n",
              "      <td>0.0</td>\n",
              "      <td>0.0</td>\n",
              "      <td>0.0</td>\n",
              "      <td>0.0</td>\n",
              "      <td>0.0</td>\n",
              "      <td>...</td>\n",
              "      <td>0.0</td>\n",
              "      <td>0.0</td>\n",
              "      <td>0.0</td>\n",
              "      <td>0.0</td>\n",
              "      <td>0.0</td>\n",
              "      <td>0.0</td>\n",
              "      <td>0.0</td>\n",
              "      <td>0.0</td>\n",
              "      <td>0.0</td>\n",
              "      <td>0.0</td>\n",
              "    </tr>\n",
              "    <tr>\n",
              "      <th>151</th>\n",
              "      <td>0.0</td>\n",
              "      <td>0.0</td>\n",
              "      <td>0.0</td>\n",
              "      <td>0.0</td>\n",
              "      <td>0.0</td>\n",
              "      <td>0.0</td>\n",
              "      <td>0.0</td>\n",
              "      <td>0.0</td>\n",
              "      <td>0.0</td>\n",
              "      <td>0.0</td>\n",
              "      <td>...</td>\n",
              "      <td>0.0</td>\n",
              "      <td>0.0</td>\n",
              "      <td>0.0</td>\n",
              "      <td>0.0</td>\n",
              "      <td>0.0</td>\n",
              "      <td>0.0</td>\n",
              "      <td>0.0</td>\n",
              "      <td>0.0</td>\n",
              "      <td>0.0</td>\n",
              "      <td>0.0</td>\n",
              "    </tr>\n",
              "    <tr>\n",
              "      <th>152</th>\n",
              "      <td>0.0</td>\n",
              "      <td>0.0</td>\n",
              "      <td>0.0</td>\n",
              "      <td>0.0</td>\n",
              "      <td>0.0</td>\n",
              "      <td>0.0</td>\n",
              "      <td>0.0</td>\n",
              "      <td>0.0</td>\n",
              "      <td>0.0</td>\n",
              "      <td>0.0</td>\n",
              "      <td>...</td>\n",
              "      <td>0.0</td>\n",
              "      <td>0.0</td>\n",
              "      <td>0.0</td>\n",
              "      <td>0.0</td>\n",
              "      <td>0.0</td>\n",
              "      <td>0.0</td>\n",
              "      <td>0.0</td>\n",
              "      <td>0.0</td>\n",
              "      <td>0.0</td>\n",
              "      <td>0.0</td>\n",
              "    </tr>\n",
              "    <tr>\n",
              "      <th>153</th>\n",
              "      <td>0.0</td>\n",
              "      <td>0.0</td>\n",
              "      <td>0.0</td>\n",
              "      <td>0.0</td>\n",
              "      <td>0.0</td>\n",
              "      <td>0.0</td>\n",
              "      <td>0.0</td>\n",
              "      <td>0.0</td>\n",
              "      <td>0.0</td>\n",
              "      <td>0.0</td>\n",
              "      <td>...</td>\n",
              "      <td>0.0</td>\n",
              "      <td>0.0</td>\n",
              "      <td>0.0</td>\n",
              "      <td>0.0</td>\n",
              "      <td>0.0</td>\n",
              "      <td>0.0</td>\n",
              "      <td>0.0</td>\n",
              "      <td>0.0</td>\n",
              "      <td>0.0</td>\n",
              "      <td>0.0</td>\n",
              "    </tr>\n",
              "    <tr>\n",
              "      <th>154</th>\n",
              "      <td>0.0</td>\n",
              "      <td>0.0</td>\n",
              "      <td>0.0</td>\n",
              "      <td>0.0</td>\n",
              "      <td>0.0</td>\n",
              "      <td>0.0</td>\n",
              "      <td>0.0</td>\n",
              "      <td>0.0</td>\n",
              "      <td>0.0</td>\n",
              "      <td>0.0</td>\n",
              "      <td>...</td>\n",
              "      <td>0.0</td>\n",
              "      <td>0.0</td>\n",
              "      <td>0.0</td>\n",
              "      <td>0.0</td>\n",
              "      <td>0.0</td>\n",
              "      <td>0.0</td>\n",
              "      <td>0.0</td>\n",
              "      <td>0.0</td>\n",
              "      <td>0.0</td>\n",
              "      <td>0.0</td>\n",
              "    </tr>\n",
              "  </tbody>\n",
              "</table>\n",
              "<p>5 rows × 7000 columns</p>\n",
              "</div>\n",
              "      <button class=\"colab-df-convert\" onclick=\"convertToInteractive('df-7b1050ce-b635-4649-ba15-5b7ce17c0c4c')\"\n",
              "              title=\"Convert this dataframe to an interactive table.\"\n",
              "              style=\"display:none;\">\n",
              "        \n",
              "  <svg xmlns=\"http://www.w3.org/2000/svg\" height=\"24px\"viewBox=\"0 0 24 24\"\n",
              "       width=\"24px\">\n",
              "    <path d=\"M0 0h24v24H0V0z\" fill=\"none\"/>\n",
              "    <path d=\"M18.56 5.44l.94 2.06.94-2.06 2.06-.94-2.06-.94-.94-2.06-.94 2.06-2.06.94zm-11 1L8.5 8.5l.94-2.06 2.06-.94-2.06-.94L8.5 2.5l-.94 2.06-2.06.94zm10 10l.94 2.06.94-2.06 2.06-.94-2.06-.94-.94-2.06-.94 2.06-2.06.94z\"/><path d=\"M17.41 7.96l-1.37-1.37c-.4-.4-.92-.59-1.43-.59-.52 0-1.04.2-1.43.59L10.3 9.45l-7.72 7.72c-.78.78-.78 2.05 0 2.83L4 21.41c.39.39.9.59 1.41.59.51 0 1.02-.2 1.41-.59l7.78-7.78 2.81-2.81c.8-.78.8-2.07 0-2.86zM5.41 20L4 18.59l7.72-7.72 1.47 1.35L5.41 20z\"/>\n",
              "  </svg>\n",
              "      </button>\n",
              "      \n",
              "  <style>\n",
              "    .colab-df-container {\n",
              "      display:flex;\n",
              "      flex-wrap:wrap;\n",
              "      gap: 12px;\n",
              "    }\n",
              "\n",
              "    .colab-df-convert {\n",
              "      background-color: #E8F0FE;\n",
              "      border: none;\n",
              "      border-radius: 50%;\n",
              "      cursor: pointer;\n",
              "      display: none;\n",
              "      fill: #1967D2;\n",
              "      height: 32px;\n",
              "      padding: 0 0 0 0;\n",
              "      width: 32px;\n",
              "    }\n",
              "\n",
              "    .colab-df-convert:hover {\n",
              "      background-color: #E2EBFA;\n",
              "      box-shadow: 0px 1px 2px rgba(60, 64, 67, 0.3), 0px 1px 3px 1px rgba(60, 64, 67, 0.15);\n",
              "      fill: #174EA6;\n",
              "    }\n",
              "\n",
              "    [theme=dark] .colab-df-convert {\n",
              "      background-color: #3B4455;\n",
              "      fill: #D2E3FC;\n",
              "    }\n",
              "\n",
              "    [theme=dark] .colab-df-convert:hover {\n",
              "      background-color: #434B5C;\n",
              "      box-shadow: 0px 1px 3px 1px rgba(0, 0, 0, 0.15);\n",
              "      filter: drop-shadow(0px 1px 2px rgba(0, 0, 0, 0.3));\n",
              "      fill: #FFFFFF;\n",
              "    }\n",
              "  </style>\n",
              "\n",
              "      <script>\n",
              "        const buttonEl =\n",
              "          document.querySelector('#df-7b1050ce-b635-4649-ba15-5b7ce17c0c4c button.colab-df-convert');\n",
              "        buttonEl.style.display =\n",
              "          google.colab.kernel.accessAllowed ? 'block' : 'none';\n",
              "\n",
              "        async function convertToInteractive(key) {\n",
              "          const element = document.querySelector('#df-7b1050ce-b635-4649-ba15-5b7ce17c0c4c');\n",
              "          const dataTable =\n",
              "            await google.colab.kernel.invokeFunction('convertToInteractive',\n",
              "                                                     [key], {});\n",
              "          if (!dataTable) return;\n",
              "\n",
              "          const docLinkHtml = 'Like what you see? Visit the ' +\n",
              "            '<a target=\"_blank\" href=https://colab.research.google.com/notebooks/data_table.ipynb>data table notebook</a>'\n",
              "            + ' to learn more about interactive tables.';\n",
              "          element.innerHTML = '';\n",
              "          dataTable['output_type'] = 'display_data';\n",
              "          await google.colab.output.renderOutput(dataTable, element);\n",
              "          const docLink = document.createElement('div');\n",
              "          docLink.innerHTML = docLinkHtml;\n",
              "          element.appendChild(docLink);\n",
              "        }\n",
              "      </script>\n",
              "    </div>\n",
              "  </div>\n",
              "  "
            ]
          },
          "metadata": {},
          "execution_count": 39
        }
      ]
    },
    {
      "cell_type": "markdown",
      "source": [
        "By using term frequency–inverse document frequency (TF-IDF), the term weight relative to the document and corpus is used in the model.\n",
        "\n",
        "This allows for a more accurate representation of each term as compared to using count vectorization, where the number of occurrences of a term in a document is used."
      ],
      "metadata": {
        "id": "JEPHnadY7puV"
      }
    },
    {
      "cell_type": "markdown",
      "source": [
        "In both TF-IDF and Count Vectorizer feature engineering, the ngram range used is 1 to 2.\n",
        "When using both unigrams and bigrams, the meaning and context of words and phrases are retained. This can allow for better prediction in the sentiment where the bigrams can carry more meaning than unigrams.\n",
        "\n",
        "The max_features parameter is used to exclude the 675 features with lowest term frequency and lowest TF-IDF weight.\n",
        "These features may be too documnent-specific, context-specific or too rare and would not be helpful in the sentiment analysis. Removing them will also reduce the likelyhood of overfitting."
      ],
      "metadata": {
        "id": "Umswi7ek7lPr"
      }
    },
    {
      "cell_type": "markdown",
      "source": [
        "#Modelling"
      ],
      "metadata": {
        "id": "Ih5E1YOfA1Qi"
      }
    },
    {
      "cell_type": "code",
      "source": [
        "# import necessary modules\n",
        "\n",
        "from sklearn.linear_model import LogisticRegression\n",
        "\n",
        "lr = LogisticRegression(solver='lbfgs')\n",
        "\n",
        "from sklearn.naive_bayes import GaussianNB\n",
        "\n",
        "nb = GaussianNB()\n",
        "\n",
        "from sklearn.metrics import confusion_matrix\n",
        "from sklearn.metrics import ConfusionMatrixDisplay\n",
        "from sklearn.metrics import classification_report, accuracy_score\n"
      ],
      "metadata": {
        "id": "GC2SR5SzYFcK"
      },
      "execution_count": null,
      "outputs": []
    },
    {
      "cell_type": "markdown",
      "source": [
        "----\n",
        "###**logistic regression with CountVectorizer**"
      ],
      "metadata": {
        "id": "nCt_aw2LN9sL"
      }
    },
    {
      "cell_type": "code",
      "source": [
        "# fit term frequency matrix to logistic regression model\n",
        "lr.fit(x_train_cv, y_train)\n",
        "y_pred_cv = lr.predict(x_test_cv)\n",
        "\n",
        "print(list(y_test[:10]))\n",
        "print(list(y_pred_cv[:10]))"
      ],
      "metadata": {
        "colab": {
          "base_uri": "https://localhost:8080/"
        },
        "id": "mMuIMh_HAveB",
        "outputId": "2f842b47-a9c3-46bb-a776-24519745a8c5"
      },
      "execution_count": null,
      "outputs": [
        {
          "output_type": "stream",
          "name": "stdout",
          "text": [
            "['negative', 'positive', 'positive', 'positive', 'negative', 'positive', 'positive', 'positive', 'positive', 'positive']\n",
            "['positive', 'positive', 'positive', 'positive', 'negative', 'positive', 'positive', 'positive', 'positive', 'positive']\n"
          ]
        }
      ]
    },
    {
      "cell_type": "markdown",
      "source": [
        "####evaluate model - logistic regression"
      ],
      "metadata": {
        "id": "9EYq6IDCBXFr"
      }
    },
    {
      "cell_type": "code",
      "source": [
        "# display confusion matrix\n",
        "cm = confusion_matrix(y_test, y_pred_cv)\n",
        "cm"
      ],
      "metadata": {
        "colab": {
          "base_uri": "https://localhost:8080/"
        },
        "id": "y0oT_OvnA6r8",
        "outputId": "161f8296-f509-4b60-c80d-72e77229abf0"
      },
      "execution_count": null,
      "outputs": [
        {
          "output_type": "execute_result",
          "data": {
            "text/plain": [
              "array([[ 26,  12],\n",
              "       [  4, 113]])"
            ]
          },
          "metadata": {},
          "execution_count": 42
        }
      ]
    },
    {
      "cell_type": "code",
      "source": [
        "# plot confusion matrix\n",
        "cmd = ConfusionMatrixDisplay(cm, display_labels=['positive','negative'])\n",
        "cmd.plot()"
      ],
      "metadata": {
        "colab": {
          "base_uri": "https://localhost:8080/",
          "height": 296
        },
        "id": "nN1Dh2ZXMPmG",
        "outputId": "d85766e0-7df1-4b8b-d8dc-60844adbe1d9"
      },
      "execution_count": null,
      "outputs": [
        {
          "output_type": "execute_result",
          "data": {
            "text/plain": [
              "<sklearn.metrics._plot.confusion_matrix.ConfusionMatrixDisplay at 0x7f2511ae1970>"
            ]
          },
          "metadata": {},
          "execution_count": 43
        },
        {
          "output_type": "display_data",
          "data": {
            "text/plain": [
              "<Figure size 432x288 with 2 Axes>"
            ],
            "image/png": "[encoded data removed]"
          },
          "metadata": {
            "needs_background": "light"
          }
        }
      ]
    },
    {
      "cell_type": "code",
      "source": [
        "# classification report\n",
        "print(classification_report(y_test, y_pred_cv))\n",
        "\n",
        "# accuracy score\n",
        "print(\"Accuracy Score: \" + str(accuracy_score(y_test, y_pred_cv)))"
      ],
      "metadata": {
        "colab": {
          "base_uri": "https://localhost:8080/"
        },
        "id": "oyntAJjCBYmf",
        "outputId": "c3287ecd-68aa-4a3f-c52e-6ef3b16dcdec"
      },
      "execution_count": null,
      "outputs": [
        {
          "output_type": "stream",
          "name": "stdout",
          "text": [
            "              precision    recall  f1-score   support\n",
            "\n",
            "    negative       0.87      0.68      0.76        38\n",
            "    positive       0.90      0.97      0.93       117\n",
            "\n",
            "    accuracy                           0.90       155\n",
            "   macro avg       0.89      0.83      0.85       155\n",
            "weighted avg       0.89      0.90      0.89       155\n",
            "\n",
            "Accuracy Score: 0.896774193548387\n"
          ]
        }
      ]
    },
    {
      "cell_type": "markdown",
      "source": [
        "The model is more accurate in predicting positive sentiment as seen in the classification report.\n",
        "\n",
        "\n",
        "*   Positive precision is 0.13 higher than negative precision.\n",
        "*   Positive recall is 0.29 higher than negative recall.\n",
        "*   Positive f1-score is 0.17 higher than negative f1-score.\n",
        "\n",
        "\n",
        "*   Metrics for positive are in the range of 0.90 to 0.97.\n",
        "*   Metrics for negative are in the range of 0.68 to 0.87.\n",
        "\n",
        "\n",
        "It is overall a good model as all metrics are above 0.65 which is very near to 1.0, indicating that almost all values retrieved were relevant, and almost all the relevant values were retrieved.\n",
        "\n",
        "The model also has an accuracy score of 0.897 which indicates a high accuracy as it is less than 0.1 lower than 0.90."
      ],
      "metadata": {
        "id": "dA1YG5mnt99W"
      }
    },
    {
      "cell_type": "markdown",
      "source": [
        "----\n",
        "###**naive bayes with CountVectorizer**"
      ],
      "metadata": {
        "id": "w5KNy9HvOXlG"
      }
    },
    {
      "cell_type": "code",
      "source": [
        "# fit term frequency matrix to naive bayes model\n",
        "\n",
        "nb.fit(x_train_cv.toarray(), y_train)\n",
        "y_pred_cv = nb.predict(x_test_cv.toarray())\n",
        "\n",
        "print(list(y_test[:10]))\n",
        "print(list(y_pred_cv[:10]))"
      ],
      "metadata": {
        "colab": {
          "base_uri": "https://localhost:8080/"
        },
        "id": "7VU3BW9NN_9s",
        "outputId": "b94fe20e-f097-4dce-ed08-3490d3d92b9a"
      },
      "execution_count": null,
      "outputs": [
        {
          "output_type": "stream",
          "name": "stdout",
          "text": [
            "['negative', 'positive', 'positive', 'positive', 'negative', 'positive', 'positive', 'positive', 'positive', 'positive']\n",
            "['positive', 'positive', 'positive', 'positive', 'positive', 'positive', 'negative', 'positive', 'positive', 'negative']\n"
          ]
        }
      ]
    },
    {
      "cell_type": "markdown",
      "source": [
        "####evaluate model - naive bayes"
      ],
      "metadata": {
        "id": "SO0-3q2kOu-m"
      }
    },
    {
      "cell_type": "code",
      "source": [
        "# display confusion matrix\n",
        "\n",
        "cm = confusion_matrix(y_test, y_pred_cv)\n",
        "cm"
      ],
      "metadata": {
        "colab": {
          "base_uri": "https://localhost:8080/"
        },
        "outputId": "dd954227-00ff-4436-a518-00f20058b940",
        "id": "5F_4djD-Ou-n"
      },
      "execution_count": null,
      "outputs": [
        {
          "output_type": "execute_result",
          "data": {
            "text/plain": [
              "array([[ 25,  13],\n",
              "       [  7, 110]])"
            ]
          },
          "metadata": {},
          "execution_count": 46
        }
      ]
    },
    {
      "cell_type": "code",
      "source": [
        "# plot confusion matrix\n",
        "\n",
        "cmd = ConfusionMatrixDisplay(cm, display_labels=['positive','negative'])\n",
        "cmd.plot()"
      ],
      "metadata": {
        "colab": {
          "base_uri": "https://localhost:8080/",
          "height": 296
        },
        "id": "S-ZKKA7FMRSv",
        "outputId": "7279dce5-ac50-49b7-e527-908dd6dbdfc2"
      },
      "execution_count": null,
      "outputs": [
        {
          "output_type": "execute_result",
          "data": {
            "text/plain": [
              "<sklearn.metrics._plot.confusion_matrix.ConfusionMatrixDisplay at 0x7f2514a34a30>"
            ]
          },
          "metadata": {},
          "execution_count": 47
        },
        {
          "output_type": "display_data",
          "data": {
            "text/plain": [
              "<Figure size 432x288 with 2 Axes>"
            ],
            "image/png": "[encoded data removed]"
          },
          "metadata": {
            "needs_background": "light"
          }
        }
      ]
    },
    {
      "cell_type": "code",
      "source": [
        "# classification report\n",
        "print(classification_report(y_test, y_pred_cv))\n",
        "\n",
        "# accuracy score\n",
        "print(\"Accuracy Score: \" + str(accuracy_score(y_test, y_pred_cv)))"
      ],
      "metadata": {
        "colab": {
          "base_uri": "https://localhost:8080/"
        },
        "outputId": "9347de5b-4080-4468-d077-bd94f04bb455",
        "id": "xXwobeXQOu-o"
      },
      "execution_count": null,
      "outputs": [
        {
          "output_type": "stream",
          "name": "stdout",
          "text": [
            "              precision    recall  f1-score   support\n",
            "\n",
            "    negative       0.78      0.66      0.71        38\n",
            "    positive       0.89      0.94      0.92       117\n",
            "\n",
            "    accuracy                           0.87       155\n",
            "   macro avg       0.84      0.80      0.82       155\n",
            "weighted avg       0.87      0.87      0.87       155\n",
            "\n",
            "Accuracy Score: 0.8709677419354839\n"
          ]
        }
      ]
    },
    {
      "cell_type": "markdown",
      "source": [
        "The model is more accurate in predicting positive sentiment as seen in the classification report.\n",
        "\n",
        "\n",
        "*   Positive precision is 0.11 higher than negative precision.\n",
        "*   Positive recall is 0.18 higher than negative recall.\n",
        "*   Positive f1-score is 0.21 higher than negative f1-score.\n",
        "\n",
        "\n",
        "*   Metrics for positive are in the range of 0.89 to 0.94.\n",
        "*   Metrics for negative are in the range of 0.66 to 0.78.\n",
        "\n",
        "\n",
        "\n",
        "It is overall an good model as the precision and recall are within 0.66 to 0.94 which would return a high number of relevant results. \n",
        "\n",
        "The accuracy score of 0.871 also shows that it is an good performing model, meaning that 87.1% of predictions made were correct."
      ],
      "metadata": {
        "id": "nq1G6VrIPQtT"
      }
    },
    {
      "cell_type": "markdown",
      "source": [
        "----\n",
        "###**logistic regression with TF-IDF**"
      ],
      "metadata": {
        "id": "MGgKG4hsVKRm"
      }
    },
    {
      "cell_type": "code",
      "source": [
        "# fit TF-IDF matrix on logistic regression model\n",
        "\n",
        "lr.fit(x_train_tfidf, y_train)\n",
        "y_pred_tfidf = lr.predict(x_test_tfidf)\n",
        "\n",
        "print(list(y_test[:10]))\n",
        "print(list(y_pred_tfidf[:10]))"
      ],
      "metadata": {
        "colab": {
          "base_uri": "https://localhost:8080/"
        },
        "outputId": "377226a9-77a7-4c74-aad6-395e34224f48",
        "id": "acI32YzAVKRo"
      },
      "execution_count": null,
      "outputs": [
        {
          "output_type": "stream",
          "name": "stdout",
          "text": [
            "['negative', 'positive', 'positive', 'positive', 'negative', 'positive', 'positive', 'positive', 'positive', 'positive']\n",
            "['positive', 'positive', 'positive', 'positive', 'positive', 'positive', 'positive', 'positive', 'positive', 'positive']\n"
          ]
        }
      ]
    },
    {
      "cell_type": "markdown",
      "source": [
        "####evaluate model - logistic regression"
      ],
      "metadata": {
        "id": "4oZVn8MjetRq"
      }
    },
    {
      "cell_type": "code",
      "source": [
        "# display confusion matrix\n",
        "\n",
        "cm = confusion_matrix(y_test, y_pred_tfidf)\n",
        "cm"
      ],
      "metadata": {
        "colab": {
          "base_uri": "https://localhost:8080/"
        },
        "outputId": "8aac50ba-ffd3-48b6-e493-ce1288d0a9aa",
        "id": "a02nZFY_VKRp"
      },
      "execution_count": null,
      "outputs": [
        {
          "output_type": "execute_result",
          "data": {
            "text/plain": [
              "array([[  5,  33],\n",
              "       [  0, 117]])"
            ]
          },
          "metadata": {},
          "execution_count": 50
        }
      ]
    },
    {
      "cell_type": "code",
      "source": [
        "# plot confusion matrix\n",
        "\n",
        "cmd = ConfusionMatrixDisplay(cm, display_labels=['positive','negative'])\n",
        "cmd.plot()"
      ],
      "metadata": {
        "colab": {
          "base_uri": "https://localhost:8080/",
          "height": 296
        },
        "id": "b_QeX19UL3j1",
        "outputId": "0e4fd70f-e3cd-4131-ccc3-adb68e217aac"
      },
      "execution_count": null,
      "outputs": [
        {
          "output_type": "execute_result",
          "data": {
            "text/plain": [
              "<sklearn.metrics._plot.confusion_matrix.ConfusionMatrixDisplay at 0x7f2514523280>"
            ]
          },
          "metadata": {},
          "execution_count": 51
        },
        {
          "output_type": "display_data",
          "data": {
            "text/plain": [
              "<Figure size 432x288 with 2 Axes>"
            ],
            "image/png": "[encoded data removed]"
          },
          "metadata": {
            "needs_background": "light"
          }
        }
      ]
    },
    {
      "cell_type": "code",
      "source": [
        "# classification report\n",
        "print(classification_report(y_test, y_pred_tfidf))\n",
        "\n",
        "# accuracy score\n",
        "print(\"Accuracy Score: \" + str(accuracy_score(y_test, y_pred_tfidf)))"
      ],
      "metadata": {
        "colab": {
          "base_uri": "https://localhost:8080/"
        },
        "outputId": "379aef1e-a34a-4412-9e21-60c6348e633d",
        "id": "e7qqLYksVKRq"
      },
      "execution_count": null,
      "outputs": [
        {
          "output_type": "stream",
          "name": "stdout",
          "text": [
            "              precision    recall  f1-score   support\n",
            "\n",
            "    negative       1.00      0.13      0.23        38\n",
            "    positive       0.78      1.00      0.88       117\n",
            "\n",
            "    accuracy                           0.79       155\n",
            "   macro avg       0.89      0.57      0.55       155\n",
            "weighted avg       0.83      0.79      0.72       155\n",
            "\n",
            "Accuracy Score: 0.7870967741935484\n"
          ]
        }
      ]
    },
    {
      "cell_type": "markdown",
      "source": [
        "The model is overall more accurate in predicting positive sentiment as seen from the recall and f1-score.\n",
        "\n",
        "\n",
        "*   Negative precision is 0.22 higher than positive precision.\n",
        "*   Positive recall is 0.87 higher than negative recall.\n",
        "*   Positive f1-score is 0.65 higher than negative f1-score.\n",
        "\n",
        "\n",
        "*   Metrics for positive are in the range of 0.78 to 1.00.\n",
        "*   Metrics for negative are in the range of 0.13 to 1.00.\n",
        "\n",
        "\n",
        "It is overall an bad model as the regative recall is 0.13, meaning that only 8% of the positive results are true positives.\n",
        "\n",
        "The accuracy score of 0.787 also shows that the model is not very accurate in the prediction, where only 78.7% of predictions made were correct.\n"
      ],
      "metadata": {
        "id": "C6yGVt2qUvKj"
      }
    },
    {
      "cell_type": "markdown",
      "source": [
        "# ----\n",
        "###**naive bayes with TF-IDF**"
      ],
      "metadata": {
        "id": "rStNqkAZSvxz"
      }
    },
    {
      "cell_type": "code",
      "source": [
        "# fit TF-IDF matric on naive bayes model\n",
        "\n",
        "nb.fit(x_train_tfidf, y_train)\n",
        "y_pred_tfidf = nb.predict(x_test_tfidf)\n",
        "\n",
        "print(list(y_test[:10]))\n",
        "print(list(y_pred_tfidf[:10]))"
      ],
      "metadata": {
        "colab": {
          "base_uri": "https://localhost:8080/"
        },
        "outputId": "337299f5-b80c-42c5-b370-b4e9e8cceb7c",
        "id": "UdqYI3VXSu48"
      },
      "execution_count": null,
      "outputs": [
        {
          "output_type": "stream",
          "name": "stdout",
          "text": [
            "['negative', 'positive', 'positive', 'positive', 'negative', 'positive', 'positive', 'positive', 'positive', 'positive']\n",
            "['positive', 'positive', 'positive', 'positive', 'positive', 'positive', 'negative', 'positive', 'positive', 'negative']\n"
          ]
        }
      ]
    },
    {
      "cell_type": "markdown",
      "source": [
        "####evaluate model - naive bayes"
      ],
      "metadata": {
        "id": "N1eOaHYzewP_"
      }
    },
    {
      "cell_type": "code",
      "source": [
        "# display confusion matrix\n",
        "\n",
        "cm = confusion_matrix(y_test, y_pred_tfidf)\n",
        "cm"
      ],
      "metadata": {
        "colab": {
          "base_uri": "https://localhost:8080/"
        },
        "outputId": "8c0d8cd2-ca3e-4e8d-c426-1a203c9cc8a4",
        "id": "Sos_T2bASu49"
      },
      "execution_count": null,
      "outputs": [
        {
          "output_type": "execute_result",
          "data": {
            "text/plain": [
              "array([[ 22,  16],\n",
              "       [  7, 110]])"
            ]
          },
          "metadata": {},
          "execution_count": 54
        }
      ]
    },
    {
      "cell_type": "code",
      "source": [
        "# plot confusion matrix\n",
        "\n",
        "cmd = ConfusionMatrixDisplay(cm, display_labels=['positive','negative'])\n",
        "cmd.plot()"
      ],
      "metadata": {
        "colab": {
          "base_uri": "https://localhost:8080/",
          "height": 296
        },
        "id": "8UtmA0OtMKJc",
        "outputId": "a907927f-7b25-460b-dbae-1527989e6d7a"
      },
      "execution_count": null,
      "outputs": [
        {
          "output_type": "execute_result",
          "data": {
            "text/plain": [
              "<sklearn.metrics._plot.confusion_matrix.ConfusionMatrixDisplay at 0x7f2511868520>"
            ]
          },
          "metadata": {},
          "execution_count": 55
        },
        {
          "output_type": "display_data",
          "data": {
            "text/plain": [
              "<Figure size 432x288 with 2 Axes>"
            ],
            "image/png": "[encoded data removed]"
          },
          "metadata": {
            "needs_background": "light"
          }
        }
      ]
    },
    {
      "cell_type": "code",
      "source": [
        "# classification report\n",
        "print(classification_report(y_test, y_pred_tfidf))\n",
        "\n",
        "# accuracy score\n",
        "print(\"Accuracy Score: \" + str(accuracy_score(y_test, y_pred_tfidf)))"
      ],
      "metadata": {
        "colab": {
          "base_uri": "https://localhost:8080/"
        },
        "outputId": "be1aa7f4-da48-4c16-e37b-3f1e9d715033",
        "id": "4Wmq-BD8Su4-"
      },
      "execution_count": null,
      "outputs": [
        {
          "output_type": "stream",
          "name": "stdout",
          "text": [
            "              precision    recall  f1-score   support\n",
            "\n",
            "    negative       0.76      0.58      0.66        38\n",
            "    positive       0.87      0.94      0.91       117\n",
            "\n",
            "    accuracy                           0.85       155\n",
            "   macro avg       0.82      0.76      0.78       155\n",
            "weighted avg       0.84      0.85      0.84       155\n",
            "\n",
            "Accuracy Score: 0.8516129032258064\n"
          ]
        }
      ]
    },
    {
      "cell_type": "markdown",
      "source": [
        "The model is more accurate in predicting positive sentiment as seen in the classification report.\n",
        "\n",
        "\n",
        "*   Positive precision is 0.11 higher than negative precision.\n",
        "*   Positive recall is 0.36 higher than negative recall.\n",
        "*   Positive f1-score is 0.25 higher than negative f1-score.\n",
        "\n",
        "\n",
        "*   Metrics for positive are in the range of 0.87 to 0.94.\n",
        "*   Metrics for negative are in the range of 0.58 to 0.76.\n",
        "\n",
        "\n",
        "It is overall an average model as the precision and recall are within 0.58 to 0.94 which would not return high number of relevant results.\n",
        "\n",
        "This can also be seen in the accuracy score of 0.852, 85.2%, where it is above 0.80 but far from 0.90. Hence I conclude that the model is not a good model as it does not have an accuracy near to 90%."
      ],
      "metadata": {
        "id": "jpY7QucTW2uE"
      }
    },
    {
      "cell_type": "markdown",
      "source": [
        "----\n",
        "## **Conclusion**\n",
        "In summary, \n",
        " \n",
        "\n",
        "*   Best performing model = logisitic regression with count vectorizer, ngrams range is 1 to 2, and max features = 7000\n",
        "*   Worst performing model = logistic regresion with TF-IDF, ngrams range is 1 to 2, and max features = 7000\n",
        "\n",
        "\n",
        "\n",
        "\n",
        "*   Models that used Count Vectorizer, a matrix of documents and absolute term frequency, performed better than models that used TF-IDF as features.\n",
        "\n",
        "*   The Naive Bayes models performed similarly when using term frequency and TF-IDF. This is seen where there is only a difference of 0.019 in the two models' accuracy score.\n",
        "\n",
        "\n",
        "*   All models performed better in predicting positive reviews.\n",
        "\n",
        "*   There is an imbalance in the number of positive and negative reviews, where the number of positive reviews is more than two times the number of negative reviews. \n",
        "*   This could be the cause of all models performing better in predicting positives. Hence, an increase in negative reviews could lead to more accurate prediction in the models.\n",
        "\n",
        "\n",
        "\n",
        "\n",
        "\n"
      ],
      "metadata": {
        "id": "xzpUn3jbJ2Y2"
      }
    }
  ]
}