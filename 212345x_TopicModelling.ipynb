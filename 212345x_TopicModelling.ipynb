{
 "cells": [
  {
   "attachments": {
    "NYPLogo.png": {
     "image/png": "[encoded data removed]"
    }
   },
   "cell_type": "markdown",
   "metadata": {},
   "source": [
    "![NYPLogo.png](attachment:NYPLogo.png)\n",
    "\n",
    "# ITB251 Assignment - Task 2: Topic Modelling\n",
    "\n",
    "You are required to build a topic model to help understand the text in the review to a particular topic. This analysis aims to be accompaniment to the results of the sentiment classification and helps businesses to identify main topic that customers are concern about.\n",
    "\n",
    "Complete the following sub-tasks:\n",
    "1.\t**Data Understanding**: Examine the dataset\n",
    "2.\t**Data Preparation**: Prepares the data and all necessary pre-processing tasks\n",
    "3.\t**Modelling**: Identify the suitable topic number for the topic model\n",
    "4.\t**Evaluation**: Evaluates the results and identify the topic\n",
    "\n",
    "For each sub-task, perform the necessary steps and **explain the rationale taken for each step in the Jupyter notebook**. \n",
    "\n",
    "**Done by: \\<Zowie Ong 212345X>**"
   ]
  },
  {
   "cell_type": "markdown",
   "metadata": {},
   "source": [
    "## Import libraries and download the packages"
   ]
  },
  {
   "cell_type": "code",
   "execution_count": 1,
   "metadata": {},
   "outputs": [
    {
     "name": "stderr",
     "output_type": "stream",
     "text": [
      "[nltk_data] Downloading package stopwords to\n",
      "[nltk_data]     C:\\Users\\zoe\\AppData\\Roaming\\nltk_data...\n",
      "[nltk_data]   Package stopwords is already up-to-date!\n",
      "[nltk_data] Downloading package wordnet to\n",
      "[nltk_data]     C:\\Users\\zoe\\AppData\\Roaming\\nltk_data...\n",
      "[nltk_data]   Package wordnet is already up-to-date!\n",
      "[nltk_data] Downloading package averaged_perceptron_tagger to\n",
      "[nltk_data]     C:\\Users\\zoe\\AppData\\Roaming\\nltk_data...\n",
      "[nltk_data]   Package averaged_perceptron_tagger is already up-to-\n",
      "[nltk_data]       date!\n"
     ]
    }
   ],
   "source": [
    "import nltk\n",
    "nltk.download('stopwords')\n",
    "nltk.download('wordnet')\n",
    "nltk.download('averaged_perceptron_tagger')\n",
    "\n",
    "from nltk.corpus import stopwords\n",
    "from nltk.stem.wordnet import WordNetLemmatizer\n",
    "from nltk.tokenize import word_tokenize, sent_tokenize \n",
    "stop_words = set(stopwords.words('english')) \n",
    "\n",
    "from nltk.probability import FreqDist\n",
    "import string\n",
    "\n",
    "import gensim\n",
    "from gensim import corpora\n",
    "\n",
    "import pandas as pd\n",
    "\n",
    "import string\n",
    "from pathlib import Path\n",
    "from pprint import pprint"
   ]
  },
  {
   "cell_type": "markdown",
   "metadata": {},
   "source": [
    "## Read the dataset"
   ]
  },
  {
   "cell_type": "code",
   "execution_count": 19,
   "metadata": {},
   "outputs": [
    {
     "name": "stdout",
     "output_type": "stream",
     "text": [
      "(100, 6)\n"
     ]
    },
    {
     "data": {
      "text/html": [
       "<div>\n",
       "<style scoped>\n",
       "    .dataframe tbody tr th:only-of-type {\n",
       "        vertical-align: middle;\n",
       "    }\n",
       "\n",
       "    .dataframe tbody tr th {\n",
       "        vertical-align: top;\n",
       "    }\n",
       "\n",
       "    .dataframe thead th {\n",
       "        text-align: right;\n",
       "    }\n",
       "</style>\n",
       "<table border=\"1\" class=\"dataframe\">\n",
       "  <thead>\n",
       "    <tr style=\"text-align: right;\">\n",
       "      <th></th>\n",
       "      <th>review_id</th>\n",
       "      <th>date</th>\n",
       "      <th>name</th>\n",
       "      <th>categories</th>\n",
       "      <th>text</th>\n",
       "      <th>stars</th>\n",
       "    </tr>\n",
       "  </thead>\n",
       "  <tbody>\n",
       "    <tr>\n",
       "      <th>0</th>\n",
       "      <td>Af6Jnf8F5xBliuixStWF8g</td>\n",
       "      <td>2019-09-20</td>\n",
       "      <td>\"Soccer Zone\"</td>\n",
       "      <td>Shopping;Sporting Goods</td>\n",
       "      <td>I'll admit it.  I caught World Cup fever in 20...</td>\n",
       "      <td>4</td>\n",
       "    </tr>\n",
       "    <tr>\n",
       "      <th>1</th>\n",
       "      <td>j-6-I55-9EiKNGAjoLHx9A</td>\n",
       "      <td>2020-06-30</td>\n",
       "      <td>\"Fye\"</td>\n",
       "      <td>Shopping;Books;Mags;Music &amp; Video;Music &amp; DVDs</td>\n",
       "      <td>This store has gone through some management ch...</td>\n",
       "      <td>4</td>\n",
       "    </tr>\n",
       "    <tr>\n",
       "      <th>2</th>\n",
       "      <td>wCwl4NC1CxkRIAg2RcLzig</td>\n",
       "      <td>2020-09-28</td>\n",
       "      <td>\"By Design\"</td>\n",
       "      <td>Home &amp; Garden;Furniture Stores;Shopping</td>\n",
       "      <td>By Design sells funky ultra modern furniture. ...</td>\n",
       "      <td>3</td>\n",
       "    </tr>\n",
       "    <tr>\n",
       "      <th>3</th>\n",
       "      <td>PwSZrByRWrZ5x7QTq7V2PA</td>\n",
       "      <td>2020-05-10</td>\n",
       "      <td>\"Star Nursery\"</td>\n",
       "      <td>Nurseries &amp; Gardening;Home &amp; Garden;Shopping</td>\n",
       "      <td>I don't have much of a greenthumb, thankfully ...</td>\n",
       "      <td>4</td>\n",
       "    </tr>\n",
       "    <tr>\n",
       "      <th>4</th>\n",
       "      <td>yHmRAHgjgqucJcUG3to7-Q</td>\n",
       "      <td>2020-08-26</td>\n",
       "      <td>\"Sports Authority\"</td>\n",
       "      <td>Sporting Goods;Shopping</td>\n",
       "      <td>I am only ever going to this Sports Authority ...</td>\n",
       "      <td>5</td>\n",
       "    </tr>\n",
       "  </tbody>\n",
       "</table>\n",
       "</div>"
      ],
      "text/plain": [
       "                review_id        date                name  \\\n",
       "0  Af6Jnf8F5xBliuixStWF8g  2019-09-20       \"Soccer Zone\"   \n",
       "1  j-6-I55-9EiKNGAjoLHx9A  2020-06-30               \"Fye\"   \n",
       "2  wCwl4NC1CxkRIAg2RcLzig  2020-09-28         \"By Design\"   \n",
       "3  PwSZrByRWrZ5x7QTq7V2PA  2020-05-10      \"Star Nursery\"   \n",
       "4  yHmRAHgjgqucJcUG3to7-Q  2020-08-26  \"Sports Authority\"   \n",
       "\n",
       "                                       categories  \\\n",
       "0                         Shopping;Sporting Goods   \n",
       "1  Shopping;Books;Mags;Music & Video;Music & DVDs   \n",
       "2         Home & Garden;Furniture Stores;Shopping   \n",
       "3    Nurseries & Gardening;Home & Garden;Shopping   \n",
       "4                         Sporting Goods;Shopping   \n",
       "\n",
       "                                                text  stars  \n",
       "0  I'll admit it.  I caught World Cup fever in 20...      4  \n",
       "1  This store has gone through some management ch...      4  \n",
       "2  By Design sells funky ultra modern furniture. ...      3  \n",
       "3  I don't have much of a greenthumb, thankfully ...      4  \n",
       "4  I am only ever going to this Sports Authority ...      5  "
      ]
     },
     "execution_count": 19,
     "metadata": {},
     "output_type": "execute_result"
    }
   ],
   "source": [
    "df = pd.read_csv('shopping_reviews.csv',index_col=[0])\n",
    "\n",
    "# reset index\n",
    "df.index = range(len(df.index))\n",
    "df = df.iloc[:100]\n",
    "\n",
    "print(df.shape)\n",
    "df.head()"
   ]
  },
  {
   "cell_type": "markdown",
   "metadata": {},
   "source": [
    "## Data Understanding\n",
    "\n"
   ]
  },
  {
   "cell_type": "markdown",
   "metadata": {},
   "source": [
    "#### How many rows are in the dataset?"
   ]
  },
  {
   "cell_type": "code",
   "execution_count": 20,
   "metadata": {},
   "outputs": [
    {
     "name": "stdout",
     "output_type": "stream",
     "text": [
      "100 rows\n"
     ]
    }
   ],
   "source": [
    "print(df.shape[0], 'rows')"
   ]
  },
  {
   "cell_type": "markdown",
   "metadata": {},
   "source": [
    "## Dates "
   ]
  },
  {
   "cell_type": "code",
   "execution_count": 21,
   "metadata": {},
   "outputs": [
    {
     "data": {
      "text/plain": [
       "str"
      ]
     },
     "execution_count": 21,
     "metadata": {},
     "output_type": "execute_result"
    }
   ],
   "source": [
    "type(df['date'][0])"
   ]
  },
  {
   "cell_type": "markdown",
   "metadata": {},
   "source": [
    "Convert dates from string to datetime objects"
   ]
  },
  {
   "cell_type": "code",
   "execution_count": 22,
   "metadata": {},
   "outputs": [
    {
     "name": "stdout",
     "output_type": "stream",
     "text": [
      "<class 'datetime.date'>\n",
      "2019-09-20\n"
     ]
    },
    {
     "name": "stderr",
     "output_type": "stream",
     "text": [
      "C:\\Users\\zoe\\AppData\\Local\\Temp/ipykernel_2728/3672976536.py:10: SettingWithCopyWarning: \n",
      "A value is trying to be set on a copy of a slice from a DataFrame\n",
      "\n",
      "See the caveats in the documentation: https://pandas.pydata.org/pandas-docs/stable/user_guide/indexing.html#returning-a-view-versus-a-copy\n",
      "  df['year'][index]=date_obj.strftime('%Y')\n",
      "C:\\Users\\zoe\\AppData\\Local\\Temp/ipykernel_2728/3672976536.py:11: SettingWithCopyWarning: \n",
      "A value is trying to be set on a copy of a slice from a DataFrame\n",
      "\n",
      "See the caveats in the documentation: https://pandas.pydata.org/pandas-docs/stable/user_guide/indexing.html#returning-a-view-versus-a-copy\n",
      "  df['month'][index]=date_obj.strftime('%B')\n",
      "C:\\Users\\zoe\\AppData\\Local\\Temp/ipykernel_2728/3672976536.py:9: SettingWithCopyWarning: \n",
      "A value is trying to be set on a copy of a slice from a DataFrame\n",
      "\n",
      "See the caveats in the documentation: https://pandas.pydata.org/pandas-docs/stable/user_guide/indexing.html#returning-a-view-versus-a-copy\n",
      "  df['date'][index] = date_obj\n"
     ]
    }
   ],
   "source": [
    "from datetime import datetime\n",
    "\n",
    "date_str = df['date']\n",
    "df['year']=''\n",
    "df['month']=''\n",
    "\n",
    "for index, date in enumerate(date_str):\n",
    "    date_obj = datetime.strptime(date, '%Y-%m-%d').date()\n",
    "    df['date'][index] = date_obj\n",
    "    df['year'][index]=date_obj.strftime('%Y')\n",
    "    df['month'][index]=date_obj.strftime('%B')\n",
    "\n",
    "print(type(df['date'][0]))\n",
    "print(df['date'][0])  # printed in default format"
   ]
  },
  {
   "cell_type": "code",
   "execution_count": 23,
   "metadata": {},
   "outputs": [
    {
     "data": {
      "text/plain": [
       "2019"
      ]
     },
     "execution_count": 23,
     "metadata": {},
     "output_type": "execute_result"
    }
   ],
   "source": [
    "df['date'][0].year"
   ]
  },
  {
   "cell_type": "markdown",
   "metadata": {},
   "source": [
    "When was the oldest and newest records made?"
   ]
  },
  {
   "cell_type": "code",
   "execution_count": 24,
   "metadata": {},
   "outputs": [
    {
     "name": "stdout",
     "output_type": "stream",
     "text": [
      "oldest record is 2019-02-05\n",
      "newest record is 2020-12-17\n"
     ]
    }
   ],
   "source": [
    "print('oldest record is', min(df['date']))\n",
    "print('newest record is', max(df['date']))"
   ]
  },
  {
   "cell_type": "code",
   "execution_count": 25,
   "metadata": {},
   "outputs": [
    {
     "data": {
      "image/png": "[encoded data removed]",
      "text/plain": [
       "<Figure size 432x288 with 1 Axes>"
      ]
     },
     "metadata": {
      "needs_background": "light"
     },
     "output_type": "display_data"
    }
   ],
   "source": [
    "# sort by months\n",
    "import calendar\n",
    "df['month'] = pd.Categorical(df.month, categories=calendar.month_name[1:], ordered=True)\n",
    "\n",
    "df.sort_values('month', inplace=True)\n",
    "\n",
    "import seaborn as sns\n",
    "import matplotlib.pyplot as plt\n",
    "\n",
    "color = sns.color_palette('Set2')\n",
    "plt.xticks(rotation=90)\n",
    "sns.countplot(x='month', data=df, palette = color)\n",
    "\n",
    "plt.show()"
   ]
  },
  {
   "cell_type": "markdown",
   "metadata": {},
   "source": [
    "June and July have the highest number of reviews in total, whereas Feburary has the least number of reviews."
   ]
  },
  {
   "cell_type": "code",
   "execution_count": 26,
   "metadata": {},
   "outputs": [
    {
     "data": {
      "image/png": "[encoded data removed]",
      "text/plain": [
       "<Figure size 432x288 with 1 Axes>"
      ]
     },
     "metadata": {
      "needs_background": "light"
     },
     "output_type": "display_data"
    }
   ],
   "source": [
    "# sort by year\n",
    "df.sort_values('year', inplace=True)\n",
    "\n",
    "color = sns.color_palette('Set2')\n",
    "plt.xticks(rotation=90)\n",
    "sns.countplot(x='year', data=df, palette = color)\n",
    "\n",
    "plt.show()"
   ]
  },
  {
   "cell_type": "markdown",
   "metadata": {},
   "source": [
    "There are about 5000 more reviews in 2020 as compared to 2019."
   ]
  },
  {
   "cell_type": "markdown",
   "metadata": {},
   "source": [
    "## Categories "
   ]
  },
  {
   "cell_type": "markdown",
   "metadata": {},
   "source": [
    "#### Tokenize words in 'categories' by using ';' as a seperator"
   ]
  },
  {
   "cell_type": "code",
   "execution_count": 27,
   "metadata": {},
   "outputs": [],
   "source": [
    "\n",
    "from nltk.tokenize import RegexpTokenizer\n",
    "\n",
    "categories = list(df['categories'])\n",
    "\n",
    "pattern = RegexpTokenizer(';', gaps= True)\n",
    "\n",
    "for index, one in enumerate(categories):\n",
    "    categories[index] = pattern.tokenize(one)\n"
   ]
  },
  {
   "cell_type": "markdown",
   "metadata": {},
   "source": [
    "#### combine all words into one list"
   ]
  },
  {
   "cell_type": "code",
   "execution_count": 28,
   "metadata": {},
   "outputs": [
    {
     "name": "stdout",
     "output_type": "stream",
     "text": [
      "['Watch Repair', 'Jewelry Repair', 'Shopping', 'Local Services', 'Jewelry', 'Watch Repair', 'Jewelry Repair', 'Shopping', 'Local Services', 'Jewelry']\n"
     ]
    }
   ],
   "source": [
    "firstcats = categories[0]\n",
    "for i in categories:\n",
    "    firstcats.extend(i)\n",
    "\n",
    "print(firstcats[:10])"
   ]
  },
  {
   "cell_type": "markdown",
   "metadata": {},
   "source": [
    "#### generate frequency distribution of categories"
   ]
  },
  {
   "cell_type": "code",
   "execution_count": 29,
   "metadata": {},
   "outputs": [
    {
     "name": "stdout",
     "output_type": "stream",
     "text": [
      "This tells us that there are 73 distinct categories in the dataset as labelled in \"categories\"\n"
     ]
    },
    {
     "data": {
      "image/png": "[encoded data removed]",
      "text/plain": [
       "<Figure size 432x288 with 1 Axes>"
      ]
     },
     "metadata": {
      "needs_background": "light"
     },
     "output_type": "display_data"
    },
    {
     "data": {
      "text/plain": [
       "<AxesSubplot:xlabel='Samples', ylabel='Counts'>"
      ]
     },
     "execution_count": 29,
     "metadata": {},
     "output_type": "execute_result"
    }
   ],
   "source": [
    "# generate frequency for all the words\n",
    "freq_dist = nltk.FreqDist(firstcats)\n",
    "\n",
    "# show the top few results\n",
    "print('This tells us that there are', len(freq_dist) ,'distinct categories in the dataset as labelled in \"categories\"')\n",
    "\n",
    "# what are the top 25 categories\n",
    "freq_dist.plot(25, cumulative=False)"
   ]
  },
  {
   "cell_type": "markdown",
   "metadata": {},
   "source": [
    "Shopping has a significantly higher count than other categories, followed by "
   ]
  },
  {
   "cell_type": "markdown",
   "metadata": {},
   "source": [
    "## Data Preparation\n",
    "\n",
    "\n",
    "- remove unnecessary columns\n",
    "- remove duplicate rows\n",
    "\n",
    "\n",
    "clean the text data\n",
    "- remove stopwords, words with 2 characters or lesser, punctuation and perform stemming"
   ]
  },
  {
   "cell_type": "markdown",
   "metadata": {},
   "source": [
    "Remove columns that will not help in topic modelling analysis of review text."
   ]
  },
  {
   "cell_type": "code",
   "execution_count": 30,
   "metadata": {},
   "outputs": [
    {
     "data": {
      "text/html": [
       "<div>\n",
       "<style scoped>\n",
       "    .dataframe tbody tr th:only-of-type {\n",
       "        vertical-align: middle;\n",
       "    }\n",
       "\n",
       "    .dataframe tbody tr th {\n",
       "        vertical-align: top;\n",
       "    }\n",
       "\n",
       "    .dataframe thead th {\n",
       "        text-align: right;\n",
       "    }\n",
       "</style>\n",
       "<table border=\"1\" class=\"dataframe\">\n",
       "  <thead>\n",
       "    <tr style=\"text-align: right;\">\n",
       "      <th></th>\n",
       "      <th>review_id</th>\n",
       "      <th>text</th>\n",
       "      <th>stars</th>\n",
       "      <th>year</th>\n",
       "      <th>month</th>\n",
       "    </tr>\n",
       "  </thead>\n",
       "  <tbody>\n",
       "    <tr>\n",
       "      <th>8</th>\n",
       "      <td>sVo3TZJ36rMKfda3im1VLA</td>\n",
       "      <td>The first of many wedding-related reviews I'll...</td>\n",
       "      <td>4</td>\n",
       "      <td>2019</td>\n",
       "      <td>July</td>\n",
       "    </tr>\n",
       "    <tr>\n",
       "      <th>96</th>\n",
       "      <td>E5TiwMs2KbI11Fmqw94M-Q</td>\n",
       "      <td>Located in the Forum Shops between Express and...</td>\n",
       "      <td>4</td>\n",
       "      <td>2019</td>\n",
       "      <td>April</td>\n",
       "    </tr>\n",
       "    <tr>\n",
       "      <th>51</th>\n",
       "      <td>6VCYCI1eV2Zh6XPoOnulww</td>\n",
       "      <td>This Walmart is okay.\\nAlways packed, so its e...</td>\n",
       "      <td>3</td>\n",
       "      <td>2019</td>\n",
       "      <td>April</td>\n",
       "    </tr>\n",
       "    <tr>\n",
       "      <th>81</th>\n",
       "      <td>97QpmPPhwNI4oUavckRgTA</td>\n",
       "      <td>One would think this place's touristy location...</td>\n",
       "      <td>4</td>\n",
       "      <td>2019</td>\n",
       "      <td>October</td>\n",
       "    </tr>\n",
       "    <tr>\n",
       "      <th>71</th>\n",
       "      <td>ZKEIW7ms6n53PbOjnyqNyg</td>\n",
       "      <td>In the middle of a weekday afternoon, I am sur...</td>\n",
       "      <td>2</td>\n",
       "      <td>2019</td>\n",
       "      <td>April</td>\n",
       "    </tr>\n",
       "  </tbody>\n",
       "</table>\n",
       "</div>"
      ],
      "text/plain": [
       "                 review_id                                               text  \\\n",
       "8   sVo3TZJ36rMKfda3im1VLA  The first of many wedding-related reviews I'll...   \n",
       "96  E5TiwMs2KbI11Fmqw94M-Q  Located in the Forum Shops between Express and...   \n",
       "51  6VCYCI1eV2Zh6XPoOnulww  This Walmart is okay.\\nAlways packed, so its e...   \n",
       "81  97QpmPPhwNI4oUavckRgTA  One would think this place's touristy location...   \n",
       "71  ZKEIW7ms6n53PbOjnyqNyg  In the middle of a weekday afternoon, I am sur...   \n",
       "\n",
       "    stars  year    month  \n",
       "8       4  2019     July  \n",
       "96      4  2019    April  \n",
       "51      3  2019    April  \n",
       "81      4  2019  October  \n",
       "71      2  2019    April  "
      ]
     },
     "execution_count": 30,
     "metadata": {},
     "output_type": "execute_result"
    }
   ],
   "source": [
    "# drop unnecessary columns\n",
    "df.drop(columns=['date', 'name', 'categories'], inplace=True)\n",
    "df.head()"
   ]
  },
  {
   "cell_type": "markdown",
   "metadata": {},
   "source": [
    "Remove duplicate rows, if any"
   ]
  },
  {
   "cell_type": "code",
   "execution_count": 31,
   "metadata": {},
   "outputs": [
    {
     "name": "stdout",
     "output_type": "stream",
     "text": [
      "Number of rows after removing duplicates is 100\n"
     ]
    }
   ],
   "source": [
    "# remove duplicate rows\n",
    "df.drop_duplicates(inplace=True)\n",
    "print('Number of rows after removing duplicates is', len(df))"
   ]
  },
  {
   "cell_type": "markdown",
   "metadata": {},
   "source": [
    "### Clean text"
   ]
  },
  {
   "cell_type": "markdown",
   "metadata": {},
   "source": [
    "Remove digits, words with less than 2 characters, punctuation, stopwords, perform lemmatization and tokenize text.\n",
    "\n",
    "- This is done to reduce noise and dimensionality in the dataset. Words that would not help in the categorization or do not carry much meaning such as punctuation, filler words (on, to, of), are removed.\n",
    "\n",
    "- words are not converted to lowercase, to be able to identify nouns using capitalised first letters"
   ]
  },
  {
   "cell_type": "code",
   "execution_count": 32,
   "metadata": {},
   "outputs": [],
   "source": [
    "\n",
    "import string\n",
    "import gensim\n",
    "from nltk.corpus import stopwords\n",
    "\n",
    "lemma = WordNetLemmatizer()\n",
    "\n",
    "stop = set(stopwords.words('english'))\n",
    "exclude = set(string.punctuation)\n",
    "\n",
    "\n",
    "def clean(doc):\n",
    "    \n",
    "    all_words_clean = []\n",
    "    for word in doc:\n",
    "        if word not in stop and not any(c.isdigit() for c in word) and len(word)>5:\n",
    "            punc_free = ''.join([ch for ch in word if ch not in string.punctuation])\n",
    "            if punc_free and not word.isdigit():\n",
    "                all_words_clean.append(lemma.lemmatize(punc_free))\n",
    "\n",
    "    return all_words_clean\n"
   ]
  },
  {
   "cell_type": "code",
   "execution_count": 33,
   "metadata": {},
   "outputs": [],
   "source": [
    "# import re\n",
    "df['cl_text'] = ''\n",
    "\n",
    "# word tokenize text\n",
    "df['cl_text'] = df['text'].apply(lambda x: word_tokenize(x))\n",
    "\n",
    "# apply function to text in dataframe; remove words with 4 characters or less, digits, \n",
    "# Punctuation and Stopwords, perform stemming\n",
    "doc_clean = [clean(doc) for doc in df['cl_text']]\n"
   ]
  },
  {
   "cell_type": "markdown",
   "metadata": {},
   "source": [
    "### Perform part-of-speech (POS) tagging"
   ]
  },
  {
   "cell_type": "code",
   "execution_count": 34,
   "metadata": {},
   "outputs": [
    {
     "data": {
      "text/html": [
       "<div>\n",
       "<style scoped>\n",
       "    .dataframe tbody tr th:only-of-type {\n",
       "        vertical-align: middle;\n",
       "    }\n",
       "\n",
       "    .dataframe tbody tr th {\n",
       "        vertical-align: top;\n",
       "    }\n",
       "\n",
       "    .dataframe thead th {\n",
       "        text-align: right;\n",
       "    }\n",
       "</style>\n",
       "<table border=\"1\" class=\"dataframe\">\n",
       "  <thead>\n",
       "    <tr style=\"text-align: right;\">\n",
       "      <th></th>\n",
       "      <th>review_id</th>\n",
       "      <th>text</th>\n",
       "      <th>stars</th>\n",
       "      <th>year</th>\n",
       "      <th>month</th>\n",
       "      <th>cl_text</th>\n",
       "    </tr>\n",
       "  </thead>\n",
       "  <tbody>\n",
       "    <tr>\n",
       "      <th>8</th>\n",
       "      <td>sVo3TZJ36rMKfda3im1VLA</td>\n",
       "      <td>The first of many wedding-related reviews I'll...</td>\n",
       "      <td>4</td>\n",
       "      <td>2019</td>\n",
       "      <td>July</td>\n",
       "      <td>[weddingrelated, review, writing, month, aweso...</td>\n",
       "    </tr>\n",
       "    <tr>\n",
       "      <th>96</th>\n",
       "      <td>E5TiwMs2KbI11Fmqw94M-Q</td>\n",
       "      <td>Located in the Forum Shops between Express and...</td>\n",
       "      <td>4</td>\n",
       "      <td>2019</td>\n",
       "      <td>April</td>\n",
       "      <td>[Located, Express, Tuesday, walked, plenty, ca...</td>\n",
       "    </tr>\n",
       "    <tr>\n",
       "      <th>51</th>\n",
       "      <td>6VCYCI1eV2Zh6XPoOnulww</td>\n",
       "      <td>This Walmart is okay.\\nAlways packed, so its e...</td>\n",
       "      <td>3</td>\n",
       "      <td>2019</td>\n",
       "      <td>April</td>\n",
       "      <td>[Walmart, Always, packed, expected, cluttered,...</td>\n",
       "    </tr>\n",
       "    <tr>\n",
       "      <th>81</th>\n",
       "      <td>97QpmPPhwNI4oUavckRgTA</td>\n",
       "      <td>One would think this place's touristy location...</td>\n",
       "      <td>4</td>\n",
       "      <td>2019</td>\n",
       "      <td>October</td>\n",
       "      <td>[touristy, location, offering, overpriced, cav...</td>\n",
       "    </tr>\n",
       "    <tr>\n",
       "      <th>71</th>\n",
       "      <td>ZKEIW7ms6n53PbOjnyqNyg</td>\n",
       "      <td>In the middle of a weekday afternoon, I am sur...</td>\n",
       "      <td>2</td>\n",
       "      <td>2019</td>\n",
       "      <td>April</td>\n",
       "      <td>[middle, weekday, afternoon, surprised, parkin...</td>\n",
       "    </tr>\n",
       "  </tbody>\n",
       "</table>\n",
       "</div>"
      ],
      "text/plain": [
       "                 review_id                                               text  \\\n",
       "8   sVo3TZJ36rMKfda3im1VLA  The first of many wedding-related reviews I'll...   \n",
       "96  E5TiwMs2KbI11Fmqw94M-Q  Located in the Forum Shops between Express and...   \n",
       "51  6VCYCI1eV2Zh6XPoOnulww  This Walmart is okay.\\nAlways packed, so its e...   \n",
       "81  97QpmPPhwNI4oUavckRgTA  One would think this place's touristy location...   \n",
       "71  ZKEIW7ms6n53PbOjnyqNyg  In the middle of a weekday afternoon, I am sur...   \n",
       "\n",
       "    stars  year    month                                            cl_text  \n",
       "8       4  2019     July  [weddingrelated, review, writing, month, aweso...  \n",
       "96      4  2019    April  [Located, Express, Tuesday, walked, plenty, ca...  \n",
       "51      3  2019    April  [Walmart, Always, packed, expected, cluttered,...  \n",
       "81      4  2019  October  [touristy, location, offering, overpriced, cav...  \n",
       "71      2  2019    April  [middle, weekday, afternoon, surprised, parkin...  "
      ]
     },
     "execution_count": 34,
     "metadata": {},
     "output_type": "execute_result"
    }
   ],
   "source": [
    "df['cl_text'] = doc_clean\n",
    "df.head()"
   ]
  },
  {
   "cell_type": "code",
   "execution_count": 35,
   "metadata": {
    "scrolled": true
   },
   "outputs": [
    {
     "data": {
      "text/html": [
       "<div>\n",
       "<style scoped>\n",
       "    .dataframe tbody tr th:only-of-type {\n",
       "        vertical-align: middle;\n",
       "    }\n",
       "\n",
       "    .dataframe tbody tr th {\n",
       "        vertical-align: top;\n",
       "    }\n",
       "\n",
       "    .dataframe thead th {\n",
       "        text-align: right;\n",
       "    }\n",
       "</style>\n",
       "<table border=\"1\" class=\"dataframe\">\n",
       "  <thead>\n",
       "    <tr style=\"text-align: right;\">\n",
       "      <th></th>\n",
       "      <th>review_id</th>\n",
       "      <th>text</th>\n",
       "      <th>stars</th>\n",
       "      <th>year</th>\n",
       "      <th>month</th>\n",
       "      <th>cl_text</th>\n",
       "      <th>POS_txt</th>\n",
       "    </tr>\n",
       "  </thead>\n",
       "  <tbody>\n",
       "    <tr>\n",
       "      <th>8</th>\n",
       "      <td>sVo3TZJ36rMKfda3im1VLA</td>\n",
       "      <td>The first of many wedding-related reviews I'll...</td>\n",
       "      <td>4</td>\n",
       "      <td>2019</td>\n",
       "      <td>July</td>\n",
       "      <td>[weddingrelated, review, writing, month, aweso...</td>\n",
       "      <td>[(weddingrelated, VBN), (review, NN), (writing...</td>\n",
       "    </tr>\n",
       "    <tr>\n",
       "      <th>96</th>\n",
       "      <td>E5TiwMs2KbI11Fmqw94M-Q</td>\n",
       "      <td>Located in the Forum Shops between Express and...</td>\n",
       "      <td>4</td>\n",
       "      <td>2019</td>\n",
       "      <td>April</td>\n",
       "      <td>[Located, Express, Tuesday, walked, plenty, ca...</td>\n",
       "      <td>[(Located, VBN), (Express, NNP), (Tuesday, NNP...</td>\n",
       "    </tr>\n",
       "    <tr>\n",
       "      <th>51</th>\n",
       "      <td>6VCYCI1eV2Zh6XPoOnulww</td>\n",
       "      <td>This Walmart is okay.\\nAlways packed, so its e...</td>\n",
       "      <td>3</td>\n",
       "      <td>2019</td>\n",
       "      <td>April</td>\n",
       "      <td>[Walmart, Always, packed, expected, cluttered,...</td>\n",
       "      <td>[(Walmart, NNP), (Always, NNP), (packed, VBD),...</td>\n",
       "    </tr>\n",
       "    <tr>\n",
       "      <th>81</th>\n",
       "      <td>97QpmPPhwNI4oUavckRgTA</td>\n",
       "      <td>One would think this place's touristy location...</td>\n",
       "      <td>4</td>\n",
       "      <td>2019</td>\n",
       "      <td>October</td>\n",
       "      <td>[touristy, location, offering, overpriced, cav...</td>\n",
       "      <td>[(touristy, JJ), (location, NN), (offering, NN...</td>\n",
       "    </tr>\n",
       "    <tr>\n",
       "      <th>71</th>\n",
       "      <td>ZKEIW7ms6n53PbOjnyqNyg</td>\n",
       "      <td>In the middle of a weekday afternoon, I am sur...</td>\n",
       "      <td>2</td>\n",
       "      <td>2019</td>\n",
       "      <td>April</td>\n",
       "      <td>[middle, weekday, afternoon, surprised, parkin...</td>\n",
       "      <td>[(middle, JJ), (weekday, JJ), (afternoon, NN),...</td>\n",
       "    </tr>\n",
       "  </tbody>\n",
       "</table>\n",
       "</div>"
      ],
      "text/plain": [
       "                 review_id                                               text  \\\n",
       "8   sVo3TZJ36rMKfda3im1VLA  The first of many wedding-related reviews I'll...   \n",
       "96  E5TiwMs2KbI11Fmqw94M-Q  Located in the Forum Shops between Express and...   \n",
       "51  6VCYCI1eV2Zh6XPoOnulww  This Walmart is okay.\\nAlways packed, so its e...   \n",
       "81  97QpmPPhwNI4oUavckRgTA  One would think this place's touristy location...   \n",
       "71  ZKEIW7ms6n53PbOjnyqNyg  In the middle of a weekday afternoon, I am sur...   \n",
       "\n",
       "    stars  year    month                                            cl_text  \\\n",
       "8       4  2019     July  [weddingrelated, review, writing, month, aweso...   \n",
       "96      4  2019    April  [Located, Express, Tuesday, walked, plenty, ca...   \n",
       "51      3  2019    April  [Walmart, Always, packed, expected, cluttered,...   \n",
       "81      4  2019  October  [touristy, location, offering, overpriced, cav...   \n",
       "71      2  2019    April  [middle, weekday, afternoon, surprised, parkin...   \n",
       "\n",
       "                                              POS_txt  \n",
       "8   [(weddingrelated, VBN), (review, NN), (writing...  \n",
       "96  [(Located, VBN), (Express, NNP), (Tuesday, NNP...  \n",
       "51  [(Walmart, NNP), (Always, NNP), (packed, VBD),...  \n",
       "81  [(touristy, JJ), (location, NN), (offering, NN...  \n",
       "71  [(middle, JJ), (weekday, JJ), (afternoon, NN),...  "
      ]
     },
     "execution_count": 35,
     "metadata": {},
     "output_type": "execute_result"
    }
   ],
   "source": [
    "\n",
    "def tagPOS(text):\n",
    "    tagged_text = []\n",
    "\n",
    "        #  Using a Tagger. Which is part-of-speech tagger or POS-tagger.  \n",
    "    tagged = nltk.pos_tag(text) \n",
    "    tagged_text.extend(tagged)\n",
    "\n",
    "    return tagged_text\n",
    "\n",
    "\n",
    "# Next we will use lamda to apply the tagPOS function to each review.\n",
    "\n",
    "df['POS_txt'] = df['cl_text'].apply(lambda x: tagPOS(x))\n",
    "\n",
    "df.head()"
   ]
  },
  {
   "cell_type": "code",
   "execution_count": 36,
   "metadata": {},
   "outputs": [
    {
     "data": {
      "text/plain": [
       "[('caught', 'NN'),\n",
       " ('decided', 'VBD'),\n",
       " ('playing', 'VBG'),\n",
       " ('soccer', 'NN'),\n",
       " ('Shockingly', 'NNP'),\n",
       " ('school', 'NN'),\n",
       " ('cleat', 'NN'),\n",
       " ('guard', 'NN'),\n",
       " ('soccer', 'NN'),\n",
       " ('Google', 'NNP'),\n",
       " ('search', 'NN'),\n",
       " ('headed', 'VBD'),\n",
       " ('Soccer', 'NNP'),\n",
       " ('supply', 'NN'),\n",
       " ('incredibly', 'RB'),\n",
       " ('wellstocked', 'VBD'),\n",
       " ('variety', 'NN'),\n",
       " ('jersey', 'NN'),\n",
       " ('cleat', 'NN'),\n",
       " ('guard', 'NN'),\n",
       " ('anything', 'NN'),\n",
       " ('visited', 'JJ'),\n",
       " ('helpful', 'JJ'),\n",
       " ('friendly', 'RB'),\n",
       " ('talked', 'VBD'),\n",
       " ('needed', 'VBN'),\n",
       " ('started', 'VBD')]"
      ]
     },
     "execution_count": 36,
     "metadata": {},
     "output_type": "execute_result"
    }
   ],
   "source": [
    "df['POS_txt'][0]"
   ]
  },
  {
   "cell_type": "code",
   "execution_count": 37,
   "metadata": {},
   "outputs": [
    {
     "name": "stderr",
     "output_type": "stream",
     "text": [
      "[nltk_data] Downloading package words to\n",
      "[nltk_data]     C:\\Users\\zoe\\AppData\\Roaming\\nltk_data...\n",
      "[nltk_data]   Package words is already up-to-date!\n",
      "[nltk_data] Downloading package maxent_ne_chunker to\n",
      "[nltk_data]     C:\\Users\\zoe\\AppData\\Roaming\\nltk_data...\n",
      "[nltk_data]   Package maxent_ne_chunker is already up-to-date!\n"
     ]
    }
   ],
   "source": [
    "from nltk import ne_chunk\n",
    "nltk.download('words')\n",
    "nltk.download('maxent_ne_chunker')\n",
    "\n",
    "import re"
   ]
  },
  {
   "cell_type": "markdown",
   "metadata": {},
   "source": [
    "## Perform NER\n",
    "\n",
    "Extract entities from text using named entity recognition (NER)."
   ]
  },
  {
   "cell_type": "code",
   "execution_count": 38,
   "metadata": {},
   "outputs": [],
   "source": [
    "tagged_text_list=df['POS_txt']\n",
    "\n",
    "allnoun = []\n",
    "allentity = []\n",
    "noexclude = []\n",
    "\n",
    "include = ['PERSON', 'NORP','FAC','ORG','GPE','LOC','PRODUCT','EVENT','WORK_OF_ART','LAW','LANGUAGE']\n",
    "exclude = ['DATE','TIME','PERCENT','MONEY','QUANTITY','ORDINAL','CARDINAL']\n",
    "\n",
    "for text in tagged_text_list:\n",
    "\n",
    "    nnplist = []\n",
    "    includelist = []\n",
    "    excludelist = []\n",
    "    \n",
    "    res_chunk = ne_chunk(text)\n",
    "\n",
    "    for x in str(res_chunk).split('\\n'):\n",
    "        if '/NNP' in x:\n",
    "            nnplist.append(x)\n",
    "            \n",
    "            if re.search('[A-Z]+', x) != None:\n",
    "                entity = re.search('[A-Z]+', x).group()\n",
    "                if entity in include:\n",
    "                    includelist.append(x)\n",
    "#                   only included identified named entities that are in 'include'\n",
    "\n",
    "                if entity not in exclude:\n",
    "                    excludelist.append(x)\n",
    "#                   only excluded named entities in 'exclude'. include other named entities and 'NNP' terms.\n",
    "    \n",
    "    allnoun.append(nnplist)\n",
    "    allentity.append(includelist)\n",
    "    noexclude.append(excludelist)\n",
    "\n"
   ]
  },
  {
   "cell_type": "markdown",
   "metadata": {},
   "source": [
    "After trying various feature sets, the feature set which yields the best results is to include terms with 'NNP' tag, disregarding if the term was given a named entity tag."
   ]
  },
  {
   "cell_type": "markdown",
   "metadata": {},
   "source": [
    "Visualize entities in the first text"
   ]
  },
  {
   "cell_type": "code",
   "execution_count": 39,
   "metadata": {},
   "outputs": [
    {
     "name": "stderr",
     "output_type": "stream",
     "text": [
      "C:\\Users\\zoe\\AppData\\Roaming\\Python\\Python39\\site-packages\\spacy\\language.py:1895: UserWarning: [W123] Argument disable with value [] is used instead of ['senter'] as specified in the config. Be aware that this might affect other components in your pipeline.\n",
      "  warnings.warn(\n"
     ]
    }
   ],
   "source": [
    "from spacy import displacy\n",
    "from collections import Counter\n",
    "import en_core_web_sm\n",
    "nlp = en_core_web_sm.load()"
   ]
  },
  {
   "cell_type": "code",
   "execution_count": 40,
   "metadata": {},
   "outputs": [
    {
     "data": {
      "text/html": [
       "<span class=\"tex2jax_ignore\"><div class=\"entities\" style=\"line-height: 2.5; direction: ltr\">I'll admit it.  I caught \n",
       "<mark class=\"entity\" style=\"background: #ffeb80; padding: 0.45em 0.6em; margin: 0 0.25em; line-height: 1; border-radius: 0.35em;\">\n",
       "    World Cup\n",
       "    <span style=\"font-size: 0.8em; font-weight: bold; line-height: 1; border-radius: 0.35em; vertical-align: middle; margin-left: 0.5rem\">EVENT</span>\n",
       "</mark>\n",
       " fever in \n",
       "<mark class=\"entity\" style=\"background: #bfe1d9; padding: 0.45em 0.6em; margin: 0 0.25em; line-height: 1; border-radius: 0.35em;\">\n",
       "    2010\n",
       "    <span style=\"font-size: 0.8em; font-weight: bold; line-height: 1; border-radius: 0.35em; vertical-align: middle; margin-left: 0.5rem\">DATE</span>\n",
       "</mark>\n",
       " and decided to get back on the field after \n",
       "<mark class=\"entity\" style=\"background: #bfe1d9; padding: 0.45em 0.6em; margin: 0 0.25em; line-height: 1; border-radius: 0.35em;\">\n",
       "    15 years\n",
       "    <span style=\"font-size: 0.8em; font-weight: bold; line-height: 1; border-radius: 0.35em; vertical-align: middle; margin-left: 0.5rem\">DATE</span>\n",
       "</mark>\n",
       " of not playing soccer.  Shockingly, my high school cleats didn't fit.  Oh, I and  I didn't own shin guards or a soccer ball.</br></br>So after a quick \n",
       "<mark class=\"entity\" style=\"background: #7aecec; padding: 0.45em 0.6em; margin: 0 0.25em; line-height: 1; border-radius: 0.35em;\">\n",
       "    Google\n",
       "    <span style=\"font-size: 0.8em; font-weight: bold; line-height: 1; border-radius: 0.35em; vertical-align: middle; margin-left: 0.5rem\">ORG</span>\n",
       "</mark>\n",
       " search, I headed over to \n",
       "<mark class=\"entity\" style=\"background: #9cc9cc; padding: 0.45em 0.6em; margin: 0 0.25em; line-height: 1; border-radius: 0.35em;\">\n",
       "    Soccer Zone\n",
       "    <span style=\"font-size: 0.8em; font-weight: bold; line-height: 1; border-radius: 0.35em; vertical-align: middle; margin-left: 0.5rem\">FAC</span>\n",
       "</mark>\n",
       " to pick up some supplies.  The place is incredibly well-stocked, with a wide variety of team jerseys, cleats, shin guards, and anything else you can think of.  When I visited, the staff was super helpful and very friendly.  They talked me through what I needed to get started again and what I should wait to buy.  Great place.</div></span>"
      ],
      "text/plain": [
       "<IPython.core.display.HTML object>"
      ]
     },
     "metadata": {},
     "output_type": "display_data"
    }
   ],
   "source": [
    "# visualize first text\n",
    "firsttext = nlp(df['text'][0])\n",
    "displacy.render(firsttext, style='ent', jupyter = True)"
   ]
  },
  {
   "cell_type": "markdown",
   "metadata": {},
   "source": [
    "## Modelling\n",
    "Perform the necessary steps and explain the rationale taken here.\n",
    "\n"
   ]
  },
  {
   "cell_type": "markdown",
   "metadata": {},
   "source": [
    "Create a document-term matrix using bag of words approach."
   ]
  },
  {
   "cell_type": "code",
   "execution_count": 41,
   "metadata": {},
   "outputs": [],
   "source": [
    "ent_dictionary = corpora.Dictionary(allentity)\n",
    "entities_doc_term_matrix = [ent_dictionary.doc2bow(doc) for doc in allentity]"
   ]
  },
  {
   "cell_type": "code",
   "execution_count": 42,
   "metadata": {},
   "outputs": [],
   "source": [
    "ex_dictionary = corpora.Dictionary(noexclude)\n",
    "excluded_doc_term_matrix = [ex_dictionary.doc2bow(doc) for doc in noexclude]"
   ]
  },
  {
   "cell_type": "code",
   "execution_count": 43,
   "metadata": {},
   "outputs": [],
   "source": [
    "dictionary = corpora.Dictionary(allnoun)\n",
    "doc_term_matrix = [dictionary.doc2bow(doc) for doc in allnoun]"
   ]
  },
  {
   "cell_type": "markdown",
   "metadata": {},
   "source": [
    "Using Latent Dirichlet allocation (LDA) model, trial and error with the number of topics to find the best number of topics and lowest perplexity for the various corpora.\n",
    "- Only include relevant named entities\n",
    "- all NNP and named entities except excluded entities\n",
    "- all NNP terms"
   ]
  },
  {
   "cell_type": "code",
   "execution_count": 44,
   "metadata": {},
   "outputs": [
    {
     "name": "stdout",
     "output_type": "stream",
     "text": [
      "Perplexity:  -5.905780968223362\n"
     ]
    }
   ],
   "source": [
    "allp = []\n",
    "\n",
    "import random\n",
    "seed = random.seed(15)\n",
    "\n",
    "topic_num = 6\n",
    "Lda = gensim.models.ldamodel.LdaModel\n",
    "ldamodel = Lda(entities_doc_term_matrix, num_topics = topic_num, id2word = ent_dictionary, passes=25, random_state=seed)\n",
    "\n",
    "allp.append(ldamodel.log_perplexity(entities_doc_term_matrix))\n",
    "print('Perplexity: ', ldamodel.log_perplexity(entities_doc_term_matrix))"
   ]
  },
  {
   "cell_type": "code",
   "execution_count": 45,
   "metadata": {},
   "outputs": [
    {
     "name": "stdout",
     "output_type": "stream",
     "text": [
      "Perplexity:  -6.4307303129159195\n"
     ]
    }
   ],
   "source": [
    "\n",
    "topic_num = 6\n",
    "Lda = gensim.models.ldamodel.LdaModel\n",
    "ldamodel = Lda(excluded_doc_term_matrix, num_topics = topic_num, id2word = ex_dictionary, passes=25, random_state=seed)\n",
    "\n",
    "allp.append(ldamodel.log_perplexity(excluded_doc_term_matrix))\n",
    "print('Perplexity: ', ldamodel.log_perplexity(excluded_doc_term_matrix))"
   ]
  },
  {
   "cell_type": "code",
   "execution_count": 46,
   "metadata": {},
   "outputs": [
    {
     "name": "stdout",
     "output_type": "stream",
     "text": [
      "Perplexity:  -6.409617715951788\n"
     ]
    }
   ],
   "source": [
    "\n",
    "topic_num = 6\n",
    "Lda = gensim.models.ldamodel.LdaModel\n",
    "ldamodel = Lda(doc_term_matrix, num_topics = topic_num, id2word = dictionary, passes=25, random_state=seed)\n",
    "\n",
    "allp.append(ldamodel.log_perplexity(doc_term_matrix))\n",
    "print('Perplexity: ', ldamodel.log_perplexity(doc_term_matrix))"
   ]
  },
  {
   "cell_type": "code",
   "execution_count": 47,
   "metadata": {},
   "outputs": [
    {
     "name": "stdout",
     "output_type": "stream",
     "text": [
      "[('all NNP and named entities except excluded entities', -6.430730307308521),\n",
      " ('all NNP terms', -6.409617748957971),\n",
      " ('Only include relevant named entities', -5.9057809765535625)]\n"
     ]
    }
   ],
   "source": [
    "featursetnames = ['Only include relevant named entities', 'all NNP and named entities except excluded entities', 'all NNP terms']\n",
    "\n",
    "def takeSecond(e):\n",
    "    return e[1]\n",
    "\n",
    "compare = zip(featursetnames, allp)\n",
    "pprint(sorted(compare,key=takeSecond))"
   ]
  },
  {
   "cell_type": "markdown",
   "metadata": {},
   "source": [
    "In all models, the only difference is the feature set used.\n",
    "The feature set that produces the lowest perplexity is 'all NNP terms'. All terms tagged with 'NNP' are included, disregarding the named entity tag.\n",
    "\n",
    "Hence, the model that uses 'All NNP terms' will be used in identifying topics."
   ]
  },
  {
   "cell_type": "markdown",
   "metadata": {},
   "source": [
    "## Evaluation\n",
    "Perform the necessary steps and explain the rationale taken here.\n",
    "\n"
   ]
  },
  {
   "cell_type": "markdown",
   "metadata": {},
   "source": [
    "#### Visualize the topic clusters"
   ]
  },
  {
   "cell_type": "code",
   "execution_count": 54,
   "metadata": {},
   "outputs": [
    {
     "data": {
      "text/plain": [
       "NoneType"
      ]
     },
     "execution_count": 54,
     "metadata": {},
     "output_type": "execute_result"
    }
   ],
   "source": [
    "type(seed)"
   ]
  },
  {
   "cell_type": "code",
   "execution_count": 49,
   "metadata": {},
   "outputs": [
    {
     "name": "stderr",
     "output_type": "stream",
     "text": [
      "C:\\Users\\zoe\\anaconda3\\lib\\site-packages\\pyLDAvis\\_prepare.py:246: FutureWarning: In a future version of pandas all arguments of DataFrame.drop except for the argument 'labels' will be keyword-only.\n",
      "  default_term_info = default_term_info.sort_values(\n"
     ]
    },
    {
     "data": {
      "text/html": [
       "\n",
       "<link rel=\"stylesheet\" type=\"text/css\" href=\"https://cdn.jsdelivr.net/gh/bmabey/pyLDAvis@3.3.1/pyLDAvis/js/ldavis.v1.0.0.css\">\n",
       "\n",
       "\n",
       "<div id=\"ldavis_el272815161332152489652421415\"></div>\n",
       "<script type=\"text/javascript\">\n",
       "\n",
       "var ldavis_el272815161332152489652421415_data = {\"mdsDat\": {\"x\": [0.11006613909613486, -0.1589204039227169, -0.0008501268957058842, 0.0240839215488147, 0.014089214627017664, 0.011531255546455704], \"y\": [0.12521719288312794, 0.07001839969762283, -0.04559782505085659, -0.0678560598661181, -0.04546544663471691, -0.03631626102905911], \"topics\": [1, 2, 3, 4, 5, 6], \"cluster\": [1, 1, 1, 1, 1, 1], \"Freq\": [21.38278493478534, 21.17027146294969, 17.200118236853168, 15.696155993853047, 12.362827631737924, 12.187841739820833]}, \"tinfo\": {\"Term\": [\"  (PERSON Samurai/NNP)\", \"  (ORGANIZATION WalMart/NNP)\", \"  (PERSON Cadillac/NNP)\", \"  (PERSON Shopper/NNP)\", \"  Friday/NNP\", \"  Otherwise/NNP\", \"  (PERSON Louisa/NNP Designs/NNP)\", \"  (PERSON Walmart/NNP)\", \"  (PERSON Filipino/NNP)\", \"  (ORGANIZATION Intellivision/NNP)\", \"  Walmart/NNP\", \"  (PERSON Charlotte/NNP)\", \"  (GPE California/NNP)\", \"  (GPE Groovy/NNP)\", \"  Saturday/NNP\", \"  (PERSON Batman/NNP)\", \"  (PERSON Phoenix/NNP)\", \"  (PERSON Samurai/NNP Comics/NNP)\", \"  (PERSON Camelback/NNP)\", \"  (PERSON Anyways/NNP)\", \"  kaufen/NNP\", \"  (PERSON Blackburn/NNP)\", \"  (PERSON Buybuy/NNP)\", \"  (GPE Thankyou/NNP)\", \"  Tuesday/NNP\", \"  (PERSON Express/NNP)\", \"  Anyway/NNP\", \"  (ORGANIZATION RUNNING/NNP Target/NNP)\", \"  (ORGANIZATION Transformers/NNP Simpsons/NNP)\", \"  Pittsburgh/NNP\", \"  kaufen/NNP\", \"  (PERSON Blackburn/NNP)\", \"  (PERSON Buybuy/NNP)\", \"  (GPE Thankyou/NNP)\", \"  Tuesday/NNP\", \"  (PERSON Express/NNP)\", \"  Anyway/NNP\", \"  (ORGANIZATION Geldbeutel/NNP)\", \"  (ORGANIZATION Korbmayer/NNP)\", \"  (PERSON Edelmarken/NNP Allerkleinsten/NNP)\", \"  Anhieb/NNP\", \"  Beratung/NNP\", \"  Kinderwagen/NNP\", \"  Lieferzeit/NNP\", \"  (ORGANIZATION BabyWalz/NNP)\", \"  (PERSON Normalpreisiges/NNP Sch\\u00f6nes/NNP Allt\\u00e4gliches/NNP)\", \"  (PERSON Stelle/NNP)\", \"  Einiges/NNP\", \"  Erkl\\u00e4rungen/NNP\", \"  Preisklasse/NNP\", \"  Ambiente/NNP\", \"  \\u00dcberraschung/NNP\", \"  (GPE Zugegeben/NNP)\", \"  (PERSON Verk\\u00e4uferinnen/NNP Korbmayer/NNP Besuch/NNP))\", \"  (PERSON Verzweiflung/NNP Korbmayer/NNP)\", \"  (PERSON Especially/NNP)\", \"  (ORGANIZATION Blackburn/NNP)\", \"  Representatives/NNP\", \"  (ORGANIZATION Customer/NNP Service/NNP)\", \"  Overall/NNP\", \"  (ORGANIZATION SouthPark/NNP)\", \"  (PERSON Samurai/NNP)\", \"  (PERSON Batman/NNP)\", \"  (PERSON Phoenix/NNP)\", \"  (PERSON Samurai/NNP Comics/NNP)\", \"  (PERSON Camelback/NNP)\", \"  (PERSON Anyways/NNP)\", \"  (PERSON Walmart/NNP)\", \"  (PERSON Phoenix/NNP Moryha/NNP)\", \"  (PERSON Moryha/NNP Fantastic/NNP)\", \"  (PERSON School/NNP)\", \"  Driving/NNP\", \"  (PERSON Brandon/NNP)\", \"  (ORGANIZATION COMICS/NNP)\", \"  (ORGANIZATION Samurai/NNP Comics/NNPS)\", \"  Moryha/NNP\", \"  (PERSON School/NNP Tucson/NNP)\", \"  Camelback/NNP\", \"  (PERSON Street/NNP Camelback/NNP)\", \"  (ORGANIZATION Samurai/NNP Comics/NNPS Phoenix/NNP)\", \"    Samurai/NNP\", \"    Camelback/NNP\", \"    Forget/NNP)\", \"    Comics/NNP\", \"  Action/NNP\", \"    Street/NNP\", \"  Wednesday/NNP\", \"    Phoenix/NNP\", \"  (PERSON Taylor/NNP Burner/NNP)\", \"  (PERSON Bottom/NNP)\", \"  Urgent/NNP\", \"  (ORGANIZATION Customer/NNP)\", \"  (ORGANIZATION Intellivision/NNP)\", \"  Walmart/NNP\", \"  (ORGANIZATION PacMan/NNP Anyways/NNP)\", \"  (PERSON Seriously/NNP)\", \"  (ORGANIZATION SoilworkDeath/NNP Diesel/NNP)\", \"  EVERYTHING/NNP\", \"  Remember/NNP\", \"  (GPE Middle/NNP)\", \"  (PERSON Valhalla/NNP)\", \"  Adventure/NNP\", \"  Amurikan/NNP\", \"  Stitzer/NNP\", \"  Speaking/NNP\", \"  (GPE Amarth/NNP)\", \"  (ORGANIZATION PeeWee/NNP)\", \"  (PERSON Master/NNP Francis/NNP Buxton/NNP)\", \"  Groovy/NNP\", \"  Ihaveeverygaming/NNP\", \"  Intellivision/NNP\", \"  PacMan/NNP\", \"  (ORGANIZATION PacMan/NNP)\", \"  August/NNP\", \"  (ORGANIZATION COMPLETELY/NNP)\", \"  UNPROFESSIONAL/NNP\", \"  Furthermore/NNP\", \"  Showalter/NNP\", \"  (ORGANIZATION SHOWALTER/NNP)\", \"  (PERSON Please/NNP Bridal/NNP)\", \"  People/NNP\", \"  Cleaners/NNP\", \"  Beyond/NNP\", \"  (GPE Groovy/NNP)\", \"  BRIDAL/NNP\", \"  (PERSON Filipino/NNP)\", \"  (PERSON Eglinton/NNP)\", \"  (PERSON Center/NNP)\", \"  (GPE Chinese/NNP)\", \"  (LOCATION Western/NNP Matheson/NNP)\", \"  Lighting/NNP\", \"  Prices/NNP\", \"  Phoenix/NNP\", \"  (ORGANIZATION GreatSuper/NNP)\", \"  StoreHighly/NNP\", \"  Recommend/NNP)\", \"  (PERSON Martha/NNP Stewart/NNP)\", \"  Beading/NNP\", \"  (PERSON Sheila/NNP)\", \"  (PERSON Beyond/NNP Double/NNP))\", \"  (PERSON Usually/NNP)\", \"  (PERSON Easter/NNP)\", \"  (ORGANIZATION Authority/NNP Pavilions/NNP)\", \"  (ORGANIZATION ENGLISH/NNP)\", \"  Pharmacy/NNP\", \"  Lastly/NNP\", \"  (GPE Indian/NNP)\", \"  Authority/NNP\", \"  (PERSON Sports/NNP Chalet/NNP))\", \"  (PERSON Edible/JJ Arrangement/NNP)\", \"  (GPE Parking/NNP)\", \"  (PERSON Babiesrus/NNP Bigger/NNP)\", \"  (PERSON Tiffany/NNP)\", \"  (GPE Walmart/NNP)\", \"  Nursery/NNP\", \"  (ORGANIZATION ANYTHING/NNP)\", \"  Saturday/NNP\", \"  Beyond/NNP\", \"  (PERSON Shopper/NNP)\", \"  Friday/NNP\", \"  Otherwise/NNP\", \"  (PERSON Louisa/NNP Designs/NNP)\", \"  (PERSON Golden/NNP Corral/NNP)\", \"  (PERSON Bentonville/NNP)\", \"  (ORGANIZATION WalMart/NNP University/NNP)\", \"  (ORGANIZATION University/NNP)\", \"  (PERSON Brookside/NNP)\", \"  (PERSON Honestly/NNP)\", \"  Tissues/NNP\", \"  (ORGANIZATION BIGGEST/NNP)\", \"  (PERSON Either/NNP)\", \"  (ORGANIZATION ARGYLE/NNP)\", \"  (PERSON Banana/NNP Republic/NNP Crocker/NNP))\", \"  (PERSON Banana/NNP)\", \"  (GPE English/NNP)\", \"  (GPE Excellent/NNP)\", \"  (PERSON Barbie/NNP Rainbow/NNP Bright/NNP)\", \"  (PERSON Stopped/NNP)\", \"  (PERSON Hayden/NNP McDowell/NNP)\", \"  (ORGANIZATION AMAZING/NNP)\", \"  (PERSON Victorian/NNP)\", \"  (PERSON Garbage/NNP)\", \"  (PERSON Beyond/NNP)\", \"  (PERSON Pacific/NNP)\", \"  (ORGANIZATION WalMart/NNP)\", \"  (PERSON Charlotte/NNP)\", \"  Saturday/NNP\", \"  (GPE Pretty/NNP)\", \"  (PERSON Samurai/NNP)\", \"  (PERSON Cadillac/NNP)\", \"  (ORGANIZATION RUNNING/NNP Target/NNP)\", \"  (ORGANIZATION Transformers/NNP Simpsons/NNP)\", \"  Pittsburgh/NNP\", \"  (GPE Facebook/NNP)\", \"  (ORGANIZATION Excuse/NNP)\", \"  (GPE WalMart/NNP)\", \"  Thankfully/NNP\", \"  (PERSON Carson/NNP Prices/NNP)\", \"  Christmas/NNP)\", \"  (PERSON Excuse/NNP)\", \"  WalMart/NNP\", \"  (PERSON Carson/NNP)\", \"  (ORGANIZATION Customer/NNP Service/NNP Associates/NNPS)\", \"  Walltowall/NNP\", \"  (ORGANIZATION Digging/NNP Doritos/NNP)\", \"  Cadillac/NNP\", \"  (GPE Cadillac/NNP)\", \"  (GPE Candies/NNPS)\", \"  (PERSON Pineville/NNP)\", \"  (PERSON Mexican/NNP)\", \"  Design/NNP\", \"  (GPE Kindle/NNP)\", \"  (GPE Pretty/NNP)\", \"  (PERSON Phoenix/NNP Angeles/NNP Phoenix/NNP)\", \"  (ORGANIZATION African/NNP Polish/NNP Russian/NNP)\", \"  (PERSON Charlotte/NNP)\", \"  (GPE California/NNP)\", \"  (ORGANIZATION WalMart/NNP)\", \"  (GPE Groovy/NNP)\"], \"Freq\": [5.0, 2.0, 1.0, 1.0, 1.0, 1.0, 1.0, 2.0, 1.0, 1.0, 1.0, 1.0, 1.0, 1.0, 1.0, 1.0, 1.0, 1.0, 1.0, 1.0, 1.0, 1.0, 1.0, 1.0, 1.0, 1.0, 1.0, 1.0, 1.0, 1.0, 1.2524677797309296, 1.2524651506489772, 1.2524628644907578, 1.252462750182847, 1.25245840648223, 1.252457949250586, 1.2524492618493523, 0.674399585695438, 0.674399585695438, 0.674399585695438, 0.674399585695438, 0.674399585695438, 0.674399585695438, 0.674399585695438, 0.674399585695438, 0.674399585695438, 0.674399585695438, 0.674399585695438, 0.674399585695438, 0.674399585695438, 0.674399585695438, 0.674399585695438, 0.674399585695438, 0.674399585695438, 0.674399585695438, 0.6743963850739308, 0.6743963850739308, 0.6743963850739308, 0.6743963279199753, 0.6743954706106431, 0.6743954706106431, 4.80905975745777, 1.275993802061158, 1.275993802061158, 1.275993802061158, 1.275993349373725, 1.2759879171245292, 1.8656241631020642, 0.6870675397363502, 0.6870675397363502, 0.6870675397363502, 0.6870675397363502, 0.6870675397363502, 0.6870675397363502, 0.6870675397363502, 0.6870675397363502, 0.6870675397363502, 0.6870675397363502, 0.6870675397363502, 0.6870675397363502, 0.6870663514318386, 0.6870663514318386, 0.6870662948459094, 0.6870662948459094, 0.6870662948459094, 0.6870662948459094, 0.6870662948459094, 0.6870662948459094, 0.6870618811434377, 0.6870618811434377, 0.6870618811434377, 0.6870618811434377, 1.2131240659639202, 1.2131180893278852, 0.6532156998442121, 0.6532156998442121, 0.6532156998442121, 0.6532156998442121, 0.6532156998442121, 0.6532156998442121, 0.6532156998442121, 0.6532156998442121, 0.6532156998442121, 0.6532156998442121, 0.6532156998442121, 0.6532156998442121, 0.6532156998442121, 0.6532156998442121, 0.6532156998442121, 0.6532156998442121, 0.6532156998442121, 0.6532156998442121, 0.6532156998442121, 0.6532145504911285, 0.6532145504911285, 0.6532145504911285, 0.6532145045170052, 0.6532145045170052, 0.6532145045170052, 0.6532145045170052, 0.6532145045170052, 0.6532145045170052, 0.6534403753849997, 0.6532686160601824, 0.6532145045170052, 1.1197432083826242, 0.6029329223071427, 0.6029329223071427, 0.6029329223071427, 0.6029328803529537, 0.6029322929943074, 0.6029322510401184, 0.6029322510401184, 0.6029322510401184, 0.6029322510401184, 0.6029322510401184, 0.6029322090859294, 0.6029322090859294, 0.6029321251775513, 0.6029312021853929, 0.6029311602312039, 0.6029311602312039, 0.6029293981552649, 0.6029293981552649, 0.6029293562010759, 0.6029293562010759, 0.6029293142468869, 0.6029293142468869, 0.6029254125073078, 0.6029252446905518, 0.6029251607821737, 0.6029111061288515, 0.6029110641746624, 0.6029109383120953, 0.6029109383120953, 0.6029111061288515, 0.6031969819728455, 0.6031621180417684, 1.0093057215014938, 1.0093057215014938, 1.0092989143242495, 1.0091671987490265, 0.543469368070913, 0.543469368070913, 0.543469368070913, 0.543469368070913, 0.5434693350263633, 0.5434672201751806, 0.5434672201751806, 0.5434672201751806, 0.5434672201751806, 0.543467154086081, 0.5434670879969816, 0.5434670879969816, 0.5434627261164173, 0.5434627261164173, 0.5434627261164173, 0.5434626600273178, 0.5434625939382184, 0.5434625939382184, 0.5434625939382184, 0.5434625939382184, 0.5434516231477081, 0.5434515570586086, 1.4753467528731006, 0.5436721955171543, 0.5432254662493575, 0.07764253973179187, 0.07778905926529367, 1.0358185766309849, 0.5577447906756245, 0.5577447255219632, 0.5577447255219632, 0.5577447255219632, 0.5577447255219632, 0.5577447255219632, 0.5577447255219632, 0.5577447255219632, 0.5577447255219632, 0.5577447255219632, 0.5577447255219632, 0.5577447255219632, 0.5577447255219632, 0.5577447255219632, 0.5577440088316882, 0.5577440088316882, 0.5577440088316882, 0.5577414026852339, 0.5577412723779112, 0.5577412723779112, 0.5577412072242498, 0.5577273294943806, 0.5577272643407193, 0.5577272643407193, 0.5577272643407193, 0.5575342791957782, 0.5581028100447842, 1.0356128213684177, 0.5576998346492877], \"Total\": [5.0, 2.0, 1.0, 1.0, 1.0, 1.0, 1.0, 2.0, 1.0, 1.0, 1.0, 1.0, 1.0, 1.0, 1.0, 1.0, 1.0, 1.0, 1.0, 1.0, 1.0, 1.0, 1.0, 1.0, 1.0, 1.0, 1.0, 1.0, 1.0, 1.0, 1.6873936718031495, 1.6873927314221362, 1.6873917508280776, 1.6873916795724213, 1.6873900745729506, 1.687389915706247, 1.6873865721988914, 1.1093255472094001, 1.1093255553536079, 1.1093255553536079, 1.1093255553536079, 1.1093255553536079, 1.1093255553536079, 1.1093255553536079, 1.109325562426849, 1.109325562426849, 1.109325562426849, 1.109325562426849, 1.109325562426849, 1.109325562426849, 1.1093255658421552, 1.1093255658421552, 1.1093255729153964, 1.1093255729153964, 1.1093255729153964, 1.1093242108822323, 1.10932423300289, 1.109324235261753, 1.1093242243264627, 1.1093238895982631, 1.1093238907861596, 5.242609059582068, 1.7091099110802819, 1.7091099110802819, 1.7091099263687342, 1.7091097993316893, 1.709107576433982, 2.857961427669375, 1.120183694287142, 1.1201837025482793, 1.1201837025482793, 1.1201837025482793, 1.120183707792553, 1.1201837085756308, 1.1201837085756308, 1.1201837085756308, 1.1201837168367683, 1.1201837249809758, 1.1201837307277411, 1.1201837359720148, 1.1201832237864648, 1.1201832567077086, 1.1201832058685448, 1.1201832083829169, 1.1201832111128185, 1.1201832140127526, 1.1201832165271246, 1.1201832294181344, 1.1201813207700835, 1.1201813554276419, 1.1201813561937455, 1.1201813605549857, 1.6510763963232253, 1.6510741131854885, 1.0911680642416541, 1.0911680642416541, 1.0911680694859278, 1.0911680694859278, 1.0911680713148952, 1.091168076559169, 1.091168076559169, 1.091168076559169, 1.091168076559169, 1.091168076559169, 1.0911680776301356, 1.0911680847033767, 1.0911680847033767, 1.0911680847033767, 1.0911680847033767, 1.0911680847033767, 1.0911680847033767, 1.0911680847033767, 1.091168091847621, 1.091167618824529, 1.0911676270856665, 1.0911676270856665, 1.0911675809946135, 1.0911675892557509, 1.091167596328992, 1.091167596328992, 1.0911675963999954, 1.091167601644269, 2.1859841442473154, 1.56924286606999, 1.0911676168617177, 1.5648800425276352, 1.0480699162454594, 1.0480699243896672, 1.048069930182359, 1.0480699503087825, 1.0480697470018572, 1.0480696984443019, 1.0480697214530132, 1.0480697273167083, 1.048069744048566, 1.0480697521927735, 1.0480696866889951, 1.0480697020484504, 1.0480696485533205, 1.0480693955868339, 1.0480693983079492, 1.0480694040547147, 1.0480687955786994, 1.0480687983520078, 1.04806880467804, 1.048068824292773, 1.0480687711979981, 1.0480687791771937, 1.0480674723123997, 1.0480674822183393, 1.0480674863852273, 1.0480629548911764, 1.0480629498776608, 1.0480628899657682, 1.0480628968095564, 1.0480686230844625, 1.5139251202287567, 2.1859841442473154, 1.462938499695613, 1.4629385381747626, 1.462937182705127, 1.4629508026858964, 0.9971006898822117, 0.9971007095199502, 0.9971007155172045, 0.99710072126397, 0.9971007200568173, 0.9971002001301553, 0.9971002043034622, 0.9971002210553764, 0.9971002805506136, 0.9971002104110835, 0.9971001740124278, 0.9971001796491968, 0.9970990931856423, 0.9970991342030114, 0.9970991547584398, 0.9970991234855345, 0.9970990759034738, 0.997099090290689, 0.9970990937788944, 0.9970991002723908, 0.99709652117387, 0.9970965524782975, 2.8849127800848917, 1.4751616919723762, 1.5139251202287567, 1.0093323382250639, 5.242609059582068, 1.4874110121056896, 1.0093368550386157, 1.0093367782085108, 1.0093367873705823, 1.009336788697058, 1.0093367959123056, 1.0093368041734432, 1.0093368112466843, 1.0093368158765568, 1.0093368158765568, 1.0093368183909286, 1.0093368219102843, 1.0093368222377233, 1.0093368304988606, 1.0093368376431051, 1.0093365757825787, 1.0093365873471127, 1.009336608428257, 1.0093359092701535, 1.0093358424192727, 1.0093358686673106, 1.0093358186714914, 1.009332326840979, 1.0093323382250639, 1.0093323421589002, 1.0093323558949354, 1.4751616919723762, 1.5261045948885785, 2.8849127800848917, 1.56924286606999], \"Category\": [\"Default\", \"Default\", \"Default\", \"Default\", \"Default\", \"Default\", \"Default\", \"Default\", \"Default\", \"Default\", \"Default\", \"Default\", \"Default\", \"Default\", \"Default\", \"Default\", \"Default\", \"Default\", \"Default\", \"Default\", \"Default\", \"Default\", \"Default\", \"Default\", \"Default\", \"Default\", \"Default\", \"Default\", \"Default\", \"Default\", \"Topic1\", \"Topic1\", \"Topic1\", \"Topic1\", \"Topic1\", \"Topic1\", \"Topic1\", \"Topic1\", \"Topic1\", \"Topic1\", \"Topic1\", \"Topic1\", \"Topic1\", \"Topic1\", \"Topic1\", \"Topic1\", \"Topic1\", \"Topic1\", \"Topic1\", \"Topic1\", \"Topic1\", \"Topic1\", \"Topic1\", \"Topic1\", \"Topic1\", \"Topic1\", \"Topic1\", \"Topic1\", \"Topic1\", \"Topic1\", \"Topic1\", \"Topic2\", \"Topic2\", \"Topic2\", \"Topic2\", \"Topic2\", \"Topic2\", \"Topic2\", \"Topic2\", \"Topic2\", \"Topic2\", \"Topic2\", \"Topic2\", \"Topic2\", \"Topic2\", \"Topic2\", \"Topic2\", \"Topic2\", \"Topic2\", \"Topic2\", \"Topic2\", \"Topic2\", \"Topic2\", \"Topic2\", \"Topic2\", \"Topic2\", \"Topic2\", \"Topic2\", \"Topic2\", \"Topic2\", \"Topic2\", \"Topic2\", \"Topic3\", \"Topic3\", \"Topic3\", \"Topic3\", \"Topic3\", \"Topic3\", \"Topic3\", \"Topic3\", \"Topic3\", \"Topic3\", \"Topic3\", \"Topic3\", \"Topic3\", \"Topic3\", \"Topic3\", \"Topic3\", \"Topic3\", \"Topic3\", \"Topic3\", \"Topic3\", \"Topic3\", \"Topic3\", \"Topic3\", \"Topic3\", \"Topic3\", \"Topic3\", \"Topic3\", \"Topic3\", \"Topic3\", \"Topic3\", \"Topic3\", \"Topic3\", \"Topic3\", \"Topic4\", \"Topic4\", \"Topic4\", \"Topic4\", \"Topic4\", \"Topic4\", \"Topic4\", \"Topic4\", \"Topic4\", \"Topic4\", \"Topic4\", \"Topic4\", \"Topic4\", \"Topic4\", \"Topic4\", \"Topic4\", \"Topic4\", \"Topic4\", \"Topic4\", \"Topic4\", \"Topic4\", \"Topic4\", \"Topic4\", \"Topic4\", \"Topic4\", \"Topic4\", \"Topic4\", \"Topic4\", \"Topic4\", \"Topic4\", \"Topic4\", \"Topic4\", \"Topic4\", \"Topic5\", \"Topic5\", \"Topic5\", \"Topic5\", \"Topic5\", \"Topic5\", \"Topic5\", \"Topic5\", \"Topic5\", \"Topic5\", \"Topic5\", \"Topic5\", \"Topic5\", \"Topic5\", \"Topic5\", \"Topic5\", \"Topic5\", \"Topic5\", \"Topic5\", \"Topic5\", \"Topic5\", \"Topic5\", \"Topic5\", \"Topic5\", \"Topic5\", \"Topic5\", \"Topic5\", \"Topic5\", \"Topic5\", \"Topic5\", \"Topic5\", \"Topic6\", \"Topic6\", \"Topic6\", \"Topic6\", \"Topic6\", \"Topic6\", \"Topic6\", \"Topic6\", \"Topic6\", \"Topic6\", \"Topic6\", \"Topic6\", \"Topic6\", \"Topic6\", \"Topic6\", \"Topic6\", \"Topic6\", \"Topic6\", \"Topic6\", \"Topic6\", \"Topic6\", \"Topic6\", \"Topic6\", \"Topic6\", \"Topic6\", \"Topic6\", \"Topic6\", \"Topic6\", \"Topic6\", \"Topic6\"], \"logprob\": [30.0, 29.0, 28.0, 27.0, 26.0, 25.0, 24.0, 23.0, 22.0, 21.0, 20.0, 19.0, 18.0, 17.0, 16.0, 15.0, 14.0, 13.0, 12.0, 11.0, 10.0, 9.0, 8.0, 7.0, 6.0, 5.0, 4.0, 3.0, 2.0, 1.0, -3.8918, -3.8918, -3.8918, -3.8918, -3.8918, -3.8918, -3.8918, -4.5108, -4.5108, -4.5108, -4.5108, -4.5108, -4.5108, -4.5108, -4.5108, -4.5108, -4.5108, -4.5108, -4.5108, -4.5108, -4.5108, -4.5108, -4.5108, -4.5108, -4.5108, -4.5108, -4.5108, -4.5108, -4.5108, -4.5108, -4.5108, -2.5364, -3.8632, -3.8632, -3.8632, -3.8632, -3.8632, -3.4833, -4.4822, -4.4822, -4.4822, -4.4822, -4.4822, -4.4822, -4.4822, -4.4822, -4.4822, -4.4822, -4.4822, -4.4822, -4.4822, -4.4822, -4.4822, -4.4822, -4.4822, -4.4822, -4.4822, -4.4822, -4.4822, -4.4822, -4.4822, -4.4822, -3.706, -3.706, -4.3251, -4.3251, -4.3251, -4.3251, -4.3251, -4.3251, -4.3251, -4.3251, -4.3251, -4.3251, -4.3251, -4.3251, -4.3251, -4.3251, -4.3251, -4.3251, -4.3251, -4.3251, -4.3251, -4.3251, -4.3251, -4.3251, -4.3251, -4.3251, -4.3251, -4.3251, -4.3251, -4.3251, -4.3247, -4.325, -4.3251, -3.6946, -4.3137, -4.3137, -4.3137, -4.3137, -4.3137, -4.3137, -4.3137, -4.3137, -4.3137, -4.3137, -4.3137, -4.3137, -4.3137, -4.3137, -4.3137, -4.3137, -4.3137, -4.3137, -4.3137, -4.3137, -4.3137, -4.3137, -4.3137, -4.3137, -4.3137, -4.3137, -4.3137, -4.3137, -4.3137, -4.3137, -4.3132, -4.3133, -3.5597, -3.5597, -3.5598, -3.5599, -4.1788, -4.1788, -4.1788, -4.1788, -4.1788, -4.1788, -4.1788, -4.1788, -4.1788, -4.1788, -4.1788, -4.1788, -4.1788, -4.1788, -4.1788, -4.1788, -4.1788, -4.1788, -4.1788, -4.1788, -4.1788, -4.1788, -3.1801, -4.1784, -4.1792, -6.1246, -6.1228, -3.5196, -4.1386, -4.1386, -4.1386, -4.1386, -4.1386, -4.1386, -4.1386, -4.1386, -4.1386, -4.1386, -4.1386, -4.1386, -4.1386, -4.1386, -4.1386, -4.1386, -4.1386, -4.1386, -4.1386, -4.1386, -4.1386, -4.1386, -4.1386, -4.1386, -4.1386, -4.139, -4.138, -3.5198, -4.1387], \"loglift\": [30.0, 29.0, 28.0, 27.0, 26.0, 25.0, 24.0, 23.0, 22.0, 21.0, 20.0, 19.0, 18.0, 17.0, 16.0, 15.0, 14.0, 13.0, 12.0, 11.0, 10.0, 9.0, 8.0, 7.0, 6.0, 5.0, 4.0, 3.0, 2.0, 1.0, 1.2445, 1.2445, 1.2445, 1.2445, 1.2445, 1.2445, 1.2445, 1.0449, 1.0449, 1.0449, 1.0449, 1.0449, 1.0449, 1.0449, 1.0449, 1.0449, 1.0449, 1.0449, 1.0449, 1.0449, 1.0449, 1.0449, 1.0449, 1.0449, 1.0449, 1.0449, 1.0449, 1.0449, 1.0449, 1.0449, 1.0449, 1.4663, 1.2603, 1.2603, 1.2603, 1.2603, 1.2603, 1.1261, 1.0638, 1.0638, 1.0638, 1.0638, 1.0638, 1.0638, 1.0638, 1.0638, 1.0638, 1.0638, 1.0638, 1.0638, 1.0638, 1.0638, 1.0638, 1.0638, 1.0638, 1.0638, 1.0638, 1.0638, 1.0638, 1.0638, 1.0638, 1.0638, 1.452, 1.452, 1.2472, 1.2472, 1.2472, 1.2472, 1.2472, 1.2472, 1.2472, 1.2472, 1.2472, 1.2472, 1.2472, 1.2472, 1.2472, 1.2472, 1.2472, 1.2472, 1.2472, 1.2472, 1.2472, 1.2472, 1.2472, 1.2472, 1.2472, 1.2472, 1.2472, 1.2472, 1.2472, 1.2472, 0.5527, 0.8839, 1.2472, 1.517, 1.2989, 1.2989, 1.2989, 1.2989, 1.2989, 1.2989, 1.2989, 1.2989, 1.2989, 1.2989, 1.2989, 1.2989, 1.2989, 1.2989, 1.2989, 1.2989, 1.2988, 1.2988, 1.2988, 1.2988, 1.2988, 1.2988, 1.2988, 1.2988, 1.2988, 1.2988, 1.2988, 1.2988, 1.2988, 1.2988, 0.9315, 0.5641, 1.7193, 1.7193, 1.7193, 1.7191, 1.4836, 1.4836, 1.4836, 1.4836, 1.4836, 1.4836, 1.4836, 1.4836, 1.4836, 1.4836, 1.4836, 1.4836, 1.4836, 1.4836, 1.4836, 1.4836, 1.4836, 1.4836, 1.4836, 1.4836, 1.4836, 1.4836, 1.4199, 1.0923, 1.0655, -0.4745, -2.1201, 1.7429, 1.5116, 1.5116, 1.5116, 1.5116, 1.5116, 1.5116, 1.5116, 1.5116, 1.5116, 1.5116, 1.5116, 1.5116, 1.5116, 1.5116, 1.5116, 1.5116, 1.5116, 1.5116, 1.5116, 1.5116, 1.5116, 1.5116, 1.5116, 1.5116, 1.5116, 1.1317, 1.0988, 1.0802, 1.0702]}, \"token.table\": {\"Topic\": [2, 2, 2, 2, 2, 2, 3, 6, 4, 6, 6, 4, 5, 5, 6, 3, 6, 4, 6, 3, 4, 6, 1, 6, 4, 1, 4, 5, 4, 5, 6, 4, 5, 1, 1, 2, 3, 6, 1, 2, 6, 4, 6, 1, 4, 3, 1, 3, 3, 3, 6, 3, 2, 2, 3, 1, 6, 5, 5, 5, 6, 2, 4, 5, 5, 5, 2, 5, 4, 5, 1, 2, 2, 5, 1, 6, 2, 6, 6, 4, 5, 6, 4, 1, 4, 4, 5, 1, 6, 1, 4, 5, 5, 5, 5, 5, 4, 3, 6, 2, 1, 5, 6, 2, 2, 6, 3, 2, 2, 2, 2, 3, 4, 5, 4, 1, 5, 2, 2, 4, 4, 3, 1, 1, 5, 2, 3, 2, 3, 1, 3, 1, 1, 3, 4, 3, 4, 1, 1, 3, 4, 6, 2, 6, 3, 6, 2, 3, 1, 1, 5, 3, 3, 3, 3, 1, 4, 1, 4, 2, 4, 5, 1, 3, 3, 4, 4, 6, 1, 4, 4, 3, 1, 4, 5, 3, 3, 3, 4, 6, 5, 1, 3, 2, 6, 6, 3, 2, 1, 1], \"Freq\": [0.8927110756315578, 0.8927111141431838, 0.8927111161469703, 0.8927110973795224, 0.8927111018675863, 0.8927111096565813, 0.9164490915914574, 0.9907497574641666, 0.6552630818027321, 0.6552630818027321, 0.9907504437478062, 0.9541348064685005, 1.002909346557612, 1.00290930530123, 0.9907495805150324, 0.637249989547124, 0.637249989547124, 0.9541358615780022, 0.9907539602241935, 0.916449098431606, 0.9541370312411737, 0.990753949049651, 0.5926306334836238, 0.9907495653236491, 0.9541412157362636, 0.9014486138383342, 0.9541347881459438, 1.0029093494694348, 0.9541359964169172, 1.0029082228231814, 0.9907539317050222, 0.954135839382416, 1.0029082121168866, 0.9014486223614286, 0.9014497026654197, 0.8927107155232151, 0.9164494759350947, 0.9907495394830228, 0.9014497097159849, 0.892712586740916, 0.9907497895086783, 0.9541358368576647, 0.9907495734326555, 0.9014486347272741, 0.9541349911519937, 0.6056654932666323, 0.9014486281092124, 0.9164491087768275, 0.9164490855911571, 0.9164490915914574, 0.9907495153951765, 0.9164495017670004, 0.892710693690149, 0.8927107155232151, 0.9164491043722723, 0.9014499807547789, 0.9907495908104302, 1.0029077089948895, 1.0029077147751235, 0.3466309300243642, 0.3466309300243642, 0.5851006769781453, 0.9541411566291197, 1.0029082594338572, 1.002908253764254, 1.002909284626024, 0.5850998777298806, 1.002907720807305, 0.9541352931502032, 1.002911933563575, 0.5926302640625927, 0.8927125908270798, 0.8927107161472752, 1.0029077102090724, 0.5926306084578498, 0.6723091276461142, 0.5850999159861049, 0.990749553836052, 0.9907495475920285, 0.9541348117420122, 0.6778917900606152, 0.6778917900606152, 0.9541352854412634, 0.9014486281092124, 0.9541370350346147, 0.954134819156281, 1.0029081522751002, 0.9014497206409224, 0.9907495513679832, 0.5926312529735938, 0.6390266172637576, 1.002909339429568, 1.0029077405594122, 1.0029093639404867, 1.0029082331639951, 0.6835499855251834, 0.9541350281383919, 0.9164490915914574, 0.9907504836030079, 0.8927107203266069, 0.9014486223614286, 1.0029119020765702, 0.9907539451882232, 0.8927107269101753, 0.5850998777298806, 0.9907505093677288, 0.9164495017670004, 0.5850998724960034, 0.9537236027281789, 0.8927107089396468, 0.8927107203266069, 0.9164491087768275, 0.9541350628561066, 0.6835557340298758, 0.9541370440527591, 0.9014486223614286, 1.0029093160811584, 0.8927106978694805, 0.8927126184469285, 0.9541411611933509, 0.9541352906729701, 0.916449098431606, 0.9014486138383342, 0.9014486138383342, 1.0029093459609029, 0.6997995076619946, 0.3498997538309973, 0.8927111119676348, 0.916449098431606, 0.9014486195861179, 0.916449098431606, 0.9014486281092124, 0.592632427255164, 0.9164494828734561, 0.9541358543139402, 0.9164494845219813, 0.9541350141555488, 0.9014486281092124, 0.4574598597302832, 0.4574598597302832, 0.4574598597302832, 0.9907497781571036, 0.8927107024492639, 0.990749553836052, 0.916449497302807, 0.9907505326782325, 0.8927107203266069, 0.9164491043722723, 0.9014486223614286, 0.9014486223614286, 0.6835557160505537, 0.9164495146460335, 0.9164490915914574, 0.9164490915914574, 0.9164490915914574, 0.9014486281092124, 0.9541358132418362, 0.9014486281092124, 0.9541349732311546, 0.8927107155232151, 0.9541412095057784, 0.6835563493921819, 0.901449981720078, 0.9164490915914574, 0.9164495017073659, 0.954135831098602, 0.9541349964901469, 0.9907495818170806, 0.9014486223614286, 0.9541350174366705, 0.9541349685054817, 0.9164491028361611, 0.9014497008298415, 0.6605346503854156, 0.6605346503854156, 0.9164495077076719, 0.9164490975321237, 0.916449098431606, 0.9541349759197528, 0.9907495583806639, 1.002908228966379, 0.5926311971777378, 0.9164494759350947, 0.8927125902165444, 0.9907495479134376, 0.9907495324703421, 0.6056663307927812, 0.8927111076527949, 0.5926299337909686, 0.9014486195861179], \"Term\": [\"    Camelback/NNP\", \"    Comics/NNP\", \"    Forget/NNP)\", \"    Phoenix/NNP\", \"    Samurai/NNP\", \"    Street/NNP\", \"  (GPE Amarth/NNP)\", \"  (GPE Cadillac/NNP)\", \"  (GPE California/NNP)\", \"  (GPE California/NNP)\", \"  (GPE Candies/NNPS)\", \"  (GPE Chinese/NNP)\", \"  (GPE English/NNP)\", \"  (GPE Excellent/NNP)\", \"  (GPE Facebook/NNP)\", \"  (GPE Groovy/NNP)\", \"  (GPE Groovy/NNP)\", \"  (GPE Indian/NNP)\", \"  (GPE Kindle/NNP)\", \"  (GPE Middle/NNP)\", \"  (GPE Parking/NNP)\", \"  (GPE Pretty/NNP)\", \"  (GPE Thankyou/NNP)\", \"  (GPE WalMart/NNP)\", \"  (GPE Walmart/NNP)\", \"  (GPE Zugegeben/NNP)\", \"  (LOCATION Western/NNP Matheson/NNP)\", \"  (ORGANIZATION AMAZING/NNP)\", \"  (ORGANIZATION ANYTHING/NNP)\", \"  (ORGANIZATION ARGYLE/NNP)\", \"  (ORGANIZATION African/NNP Polish/NNP Russian/NNP)\", \"  (ORGANIZATION Authority/NNP Pavilions/NNP)\", \"  (ORGANIZATION BIGGEST/NNP)\", \"  (ORGANIZATION BabyWalz/NNP)\", \"  (ORGANIZATION Blackburn/NNP)\", \"  (ORGANIZATION COMICS/NNP)\", \"  (ORGANIZATION COMPLETELY/NNP)\", \"  (ORGANIZATION Customer/NNP Service/NNP Associates/NNPS)\", \"  (ORGANIZATION Customer/NNP Service/NNP)\", \"  (ORGANIZATION Customer/NNP)\", \"  (ORGANIZATION Digging/NNP Doritos/NNP)\", \"  (ORGANIZATION ENGLISH/NNP)\", \"  (ORGANIZATION Excuse/NNP)\", \"  (ORGANIZATION Geldbeutel/NNP)\", \"  (ORGANIZATION GreatSuper/NNP)\", \"  (ORGANIZATION Intellivision/NNP)\", \"  (ORGANIZATION Korbmayer/NNP)\", \"  (ORGANIZATION PacMan/NNP Anyways/NNP)\", \"  (ORGANIZATION PacMan/NNP)\", \"  (ORGANIZATION PeeWee/NNP)\", \"  (ORGANIZATION RUNNING/NNP Target/NNP)\", \"  (ORGANIZATION SHOWALTER/NNP)\", \"  (ORGANIZATION Samurai/NNP Comics/NNPS Phoenix/NNP)\", \"  (ORGANIZATION Samurai/NNP Comics/NNPS)\", \"  (ORGANIZATION SoilworkDeath/NNP Diesel/NNP)\", \"  (ORGANIZATION SouthPark/NNP)\", \"  (ORGANIZATION Transformers/NNP Simpsons/NNP)\", \"  (ORGANIZATION University/NNP)\", \"  (ORGANIZATION WalMart/NNP University/NNP)\", \"  (ORGANIZATION WalMart/NNP)\", \"  (ORGANIZATION WalMart/NNP)\", \"  (PERSON Anyways/NNP)\", \"  (PERSON Babiesrus/NNP Bigger/NNP)\", \"  (PERSON Banana/NNP Republic/NNP Crocker/NNP))\", \"  (PERSON Banana/NNP)\", \"  (PERSON Barbie/NNP Rainbow/NNP Bright/NNP)\", \"  (PERSON Batman/NNP)\", \"  (PERSON Bentonville/NNP)\", \"  (PERSON Beyond/NNP Double/NNP))\", \"  (PERSON Beyond/NNP)\", \"  (PERSON Blackburn/NNP)\", \"  (PERSON Bottom/NNP)\", \"  (PERSON Brandon/NNP)\", \"  (PERSON Brookside/NNP)\", \"  (PERSON Buybuy/NNP)\", \"  (PERSON Cadillac/NNP)\", \"  (PERSON Camelback/NNP)\", \"  (PERSON Carson/NNP Prices/NNP)\", \"  (PERSON Carson/NNP)\", \"  (PERSON Center/NNP)\", \"  (PERSON Charlotte/NNP)\", \"  (PERSON Charlotte/NNP)\", \"  (PERSON Easter/NNP)\", \"  (PERSON Edelmarken/NNP Allerkleinsten/NNP)\", \"  (PERSON Edible/JJ Arrangement/NNP)\", \"  (PERSON Eglinton/NNP)\", \"  (PERSON Either/NNP)\", \"  (PERSON Especially/NNP)\", \"  (PERSON Excuse/NNP)\", \"  (PERSON Express/NNP)\", \"  (PERSON Filipino/NNP)\", \"  (PERSON Garbage/NNP)\", \"  (PERSON Golden/NNP Corral/NNP)\", \"  (PERSON Hayden/NNP McDowell/NNP)\", \"  (PERSON Honestly/NNP)\", \"  (PERSON Louisa/NNP Designs/NNP)\", \"  (PERSON Martha/NNP Stewart/NNP)\", \"  (PERSON Master/NNP Francis/NNP Buxton/NNP)\", \"  (PERSON Mexican/NNP)\", \"  (PERSON Moryha/NNP Fantastic/NNP)\", \"  (PERSON Normalpreisiges/NNP Sch\\u00f6nes/NNP Allt\\u00e4gliches/NNP)\", \"  (PERSON Pacific/NNP)\", \"  (PERSON Phoenix/NNP Angeles/NNP Phoenix/NNP)\", \"  (PERSON Phoenix/NNP Moryha/NNP)\", \"  (PERSON Phoenix/NNP)\", \"  (PERSON Pineville/NNP)\", \"  (PERSON Please/NNP Bridal/NNP)\", \"  (PERSON Samurai/NNP Comics/NNP)\", \"  (PERSON Samurai/NNP)\", \"  (PERSON School/NNP Tucson/NNP)\", \"  (PERSON School/NNP)\", \"  (PERSON Seriously/NNP)\", \"  (PERSON Sheila/NNP)\", \"  (PERSON Shopper/NNP)\", \"  (PERSON Sports/NNP Chalet/NNP))\", \"  (PERSON Stelle/NNP)\", \"  (PERSON Stopped/NNP)\", \"  (PERSON Street/NNP Camelback/NNP)\", \"  (PERSON Taylor/NNP Burner/NNP)\", \"  (PERSON Tiffany/NNP)\", \"  (PERSON Usually/NNP)\", \"  (PERSON Valhalla/NNP)\", \"  (PERSON Verk\\u00e4uferinnen/NNP Korbmayer/NNP Besuch/NNP))\", \"  (PERSON Verzweiflung/NNP Korbmayer/NNP)\", \"  (PERSON Victorian/NNP)\", \"  (PERSON Walmart/NNP)\", \"  (PERSON Walmart/NNP)\", \"  Action/NNP\", \"  Adventure/NNP\", \"  Ambiente/NNP\", \"  Amurikan/NNP\", \"  Anhieb/NNP\", \"  Anyway/NNP\", \"  August/NNP\", \"  Authority/NNP\", \"  BRIDAL/NNP\", \"  Beading/NNP\", \"  Beratung/NNP\", \"  Beyond/NNP\", \"  Beyond/NNP\", \"  Beyond/NNP\", \"  Cadillac/NNP\", \"  Camelback/NNP\", \"  Christmas/NNP)\", \"  Cleaners/NNP\", \"  Design/NNP\", \"  Driving/NNP\", \"  EVERYTHING/NNP\", \"  Einiges/NNP\", \"  Erkl\\u00e4rungen/NNP\", \"  Friday/NNP\", \"  Furthermore/NNP\", \"  Groovy/NNP\", \"  Ihaveeverygaming/NNP\", \"  Intellivision/NNP\", \"  Kinderwagen/NNP\", \"  Lastly/NNP\", \"  Lieferzeit/NNP\", \"  Lighting/NNP\", \"  Moryha/NNP\", \"  Nursery/NNP\", \"  Otherwise/NNP\", \"  Overall/NNP\", \"  PacMan/NNP\", \"  People/NNP\", \"  Pharmacy/NNP\", \"  Phoenix/NNP\", \"  Pittsburgh/NNP\", \"  Preisklasse/NNP\", \"  Prices/NNP\", \"  Recommend/NNP)\", \"  Remember/NNP\", \"  Representatives/NNP\", \"  Saturday/NNP\", \"  Saturday/NNP\", \"  Showalter/NNP\", \"  Speaking/NNP\", \"  Stitzer/NNP\", \"  StoreHighly/NNP\", \"  Thankfully/NNP\", \"  Tissues/NNP\", \"  Tuesday/NNP\", \"  UNPROFESSIONAL/NNP\", \"  Urgent/NNP\", \"  WalMart/NNP\", \"  Walltowall/NNP\", \"  Walmart/NNP\", \"  Wednesday/NNP\", \"  kaufen/NNP\", \"  \\u00dcberraschung/NNP\"]}, \"R\": 30, \"lambda.step\": 0.01, \"plot.opts\": {\"xlab\": \"PC1\", \"ylab\": \"PC2\"}, \"topic.order\": [4, 3, 6, 1, 2, 5]};\n",
       "\n",
       "function LDAvis_load_lib(url, callback){\n",
       "  var s = document.createElement('script');\n",
       "  s.src = url;\n",
       "  s.async = true;\n",
       "  s.onreadystatechange = s.onload = callback;\n",
       "  s.onerror = function(){console.warn(\"failed to load library \" + url);};\n",
       "  document.getElementsByTagName(\"head\")[0].appendChild(s);\n",
       "}\n",
       "\n",
       "if(typeof(LDAvis) !== \"undefined\"){\n",
       "   // already loaded: just create the visualization\n",
       "   !function(LDAvis){\n",
       "       new LDAvis(\"#\" + \"ldavis_el272815161332152489652421415\", ldavis_el272815161332152489652421415_data);\n",
       "   }(LDAvis);\n",
       "}else if(typeof define === \"function\" && define.amd){\n",
       "   // require.js is available: use it to load d3/LDAvis\n",
       "   require.config({paths: {d3: \"https://d3js.org/d3.v5\"}});\n",
       "   require([\"d3\"], function(d3){\n",
       "      window.d3 = d3;\n",
       "      LDAvis_load_lib(\"https://cdn.jsdelivr.net/gh/bmabey/pyLDAvis@3.3.1/pyLDAvis/js/ldavis.v3.0.0.js\", function(){\n",
       "        new LDAvis(\"#\" + \"ldavis_el272815161332152489652421415\", ldavis_el272815161332152489652421415_data);\n",
       "      });\n",
       "    });\n",
       "}else{\n",
       "    // require.js not available: dynamically load d3 & LDAvis\n",
       "    LDAvis_load_lib(\"https://d3js.org/d3.v5.js\", function(){\n",
       "         LDAvis_load_lib(\"https://cdn.jsdelivr.net/gh/bmabey/pyLDAvis@3.3.1/pyLDAvis/js/ldavis.v3.0.0.js\", function(){\n",
       "                 new LDAvis(\"#\" + \"ldavis_el272815161332152489652421415\", ldavis_el272815161332152489652421415_data);\n",
       "            })\n",
       "         });\n",
       "}\n",
       "</script>"
      ],
      "text/plain": [
       "PreparedData(topic_coordinates=              x         y  topics  cluster       Freq\n",
       "topic                                                \n",
       "3      0.110066  0.125217       1        1  21.382785\n",
       "2     -0.158920  0.070018       2        1  21.170271\n",
       "5     -0.000850 -0.045598       3        1  17.200118\n",
       "0      0.024084 -0.067856       4        1  15.696156\n",
       "1      0.014089 -0.045465       5        1  12.362828\n",
       "4      0.011531 -0.036316       6        1  12.187842, topic_info=                                                  Term      Freq     Total  \\\n",
       "20                                (PERSON Samurai/NNP)  5.000000  5.000000   \n",
       "10                          (ORGANIZATION WalMart/NNP)  2.000000  2.000000   \n",
       "11                               (PERSON Cadillac/NNP)  1.000000  1.000000   \n",
       "144                               (PERSON Shopper/NNP)  1.000000  1.000000   \n",
       "29                                          Friday/NNP  1.000000  1.000000   \n",
       "..                                                 ...       ...       ...   \n",
       "207    (ORGANIZATION African/NNP Polish/NNP Russian...  0.557727  1.009332   \n",
       "100                             (PERSON Charlotte/NNP)  0.557534  1.475162   \n",
       "117                               (GPE California/NNP)  0.558103  1.526105   \n",
       "10                          (ORGANIZATION WalMart/NNP)  1.035613  2.884913   \n",
       "46                                    (GPE Groovy/NNP)  0.557700  1.569243   \n",
       "\n",
       "    Category  logprob  loglift  \n",
       "20   Default  30.0000  30.0000  \n",
       "10   Default  29.0000  29.0000  \n",
       "11   Default  28.0000  28.0000  \n",
       "144  Default  27.0000  27.0000  \n",
       "29   Default  26.0000  26.0000  \n",
       "..       ...      ...      ...  \n",
       "207   Topic6  -4.1386   1.5116  \n",
       "100   Topic6  -4.1390   1.1317  \n",
       "117   Topic6  -4.1380   1.0988  \n",
       "10    Topic6  -3.5198   1.0802  \n",
       "46    Topic6  -4.1387   1.0702  \n",
       "\n",
       "[219 rows x 6 columns], token_table=      Topic      Freq                Term\n",
       "term                                     \n",
       "13        2  0.892711       Camelback/NNP\n",
       "14        2  0.892711          Comics/NNP\n",
       "15        2  0.892711         Forget/NNP)\n",
       "16        2  0.892711         Phoenix/NNP\n",
       "17        2  0.892711         Samurai/NNP\n",
       "...     ...       ...                 ...\n",
       "176       6  0.990750      Walltowall/NNP\n",
       "154       3  0.605666         Walmart/NNP\n",
       "22        2  0.892711       Wednesday/NNP\n",
       "225       1  0.592630          kaufen/NNP\n",
       "226       1  0.901449    Überraschung/NNP\n",
       "\n",
       "[190 rows x 3 columns], R=30, lambda_step=0.01, plot_opts={'xlab': 'PC1', 'ylab': 'PC2'}, topic_order=[4, 3, 6, 1, 2, 5])"
      ]
     },
     "execution_count": 49,
     "metadata": {},
     "output_type": "execute_result"
    }
   ],
   "source": [
    "\n",
    "# plotting tools\n",
    "import pyLDAvis\n",
    "import pyLDAvis.gensim_models\n",
    "import matplotlib.pyplot as plt\n",
    "%matplotlib inline\n",
    "\n",
    "# visualize the topics and keywords\n",
    "pyLDAvis.enable_notebook()\n",
    "vis = pyLDAvis.gensim_models.prepare(ldamodel, doc_term_matrix, dictionary, seed)\n",
    "vis"
   ]
  },
  {
   "cell_type": "markdown",
   "metadata": {},
   "source": [
    "From the visualization, the topics are:\n",
    "\n",
    "#### 1. Sunday activities / activities around luxury resorts\n",
    "- This topic mentions Encore Canada, which is a hotel & resort, which is famous for its entertainment venue, casino, and sports stadium.\n",
    "- Scottsdale is also a top term. Scottsdale is known as \"The World's Finest Golf Destination\". This city is known for outdoor recreational opportunities such as hiking, biking, and golfing, and its luxury resorts, spas, and shopping.\n",
    "- Verizon refers to the American telecommunication company. Internet is also a term in the topic, which could mean that many reviews mention purchasing internet from Verizon\n",
    "- Henderson is well-known for its valley and canyon. Waterfront and Henderson are on the same topic as both have scenic views.\n",
    "- Shopping, Princes Street, and Vuitton all refer to buying luxury goods.\n",
    "\n",
    "#### 2. Shopping, entertainment, and dining in large cities.\n",
    "- Toronto, Montreal, and Phoenix are large cities in urban areas, with a variety of shopping, entertainment, and dining options.\n",
    "- Shopping referred to other terms like Trader (Trader Joe's - Groceries), Sephora (makeup), and Buffalo Exchange (fashion). \n",
    "- Activities on this topic can be done on all days of the week\n",
    "\n",
    "#### 3. Fashion, gardening, drugstores\n",
    "- Various fashion brands are mentioned such as Nordstrom, Chanel, Banana Republic, and Burberry\n",
    "- Gardening is referred through the Associated supply (agriculture company), laurel (plant), and pebbles (decorative gardening)\n",
    "- Walgreens is a drugstore corporation in America. The leaves of a laurel also has medical benefits.\n",
    "\n",
    "\n",
    "#### 4. Christmas shopping and local markets.\n",
    "- There is mention of Christmas, which could refer to buying food in preparation for Christmas.\n",
    "- Such shopping is frequently done at Walmart, Jean-Talon Market, Barnes & Noble, Amazon, Safeway, and Albertsons.\n",
    "- The german word 'Beratung' is also a relevant term. This translates to consultation and can be used in the context of a doctor's appointment.\n",
    "\n",
    "\n",
    "#### 5. Halloween and furniture shopping \n",
    "- There are many mentions of Halloween and fashion, where reviews could be talking about purchasing clothes, costumes, candy, or decorations for Halloween.\n",
    "- Ashley furniture and home store are also mentioned, meaning that a portion of the reviews talks about purchasing from this store.\n",
    "- Groupon is an e-commerce marketplace where users can find vouchers or discounts for department stores like Costco.\n",
    "- Places like Costco (department store), goodwill (thrift store), Marshalls (department store), and Neonopolis (shopping mall) have a wide selection of Halloween-themed products and furniture as well.\n",
    "\n",
    "\n",
    "#### 6. Food and fashion\n",
    "- Target (department store), Christmas, and Halloween are relevant terms. This points out that the reviews on this topic could mention purchasing Christmas or Halloween goods at Target.\n",
    "- Starbucks and Mexican Coca-Cola (sweetened with white sugar instead of the high-fructose corn syrup used in the U.S.) are sought after by people in America. These reviews could have mentioned that they were able to find these drinks at that Target outlet.\n",
    "- Princes Street is the main street in the city of Edinburgh, Scotland. The street is known for its many shops and businesses.\n",
    "- Biltmore Fashion Park is an upscale outdoor shopping center and is known for its high-end fashion and luxury retailers, as well as its dining options and other amenities.\n",
    "- The terms in this topic are direct to shopping for food (Christmas dinner, Halloween candy, Starbucks, Mexican Coca-Cola) and fashion (Target, Princess Street Edinburgh, Biltmore Fashion Park).\n",
    "\n"
   ]
  },
  {
   "cell_type": "code",
   "execution_count": 50,
   "metadata": {},
   "outputs": [
    {
     "name": "stdout",
     "output_type": "stream",
     "text": [
      "\n",
      "File name and its corresponding topic id with probability:\n",
      "Af6Jnf8F5xBliuixStWF8g [(0, 0.58331156), (4, 0.08333828), (1, 0.08333814), (5, 0.08333766), (2, 0.08333721), (3, 0.083337136)]\n",
      "j-6-I55-9EiKNGAjoLHx9A [(3, 0.72221553), (4, 0.055557042), (1, 0.055556998), (0, 0.055556867), (5, 0.055556856), (2, 0.05555673)]\n",
      "wCwl4NC1CxkRIAg2RcLzig [(2, 0.8332959), (5, 0.033365097), (4, 0.0333349), (1, 0.03333486), (0, 0.03333472), (3, 0.033334557)]\n",
      "PwSZrByRWrZ5x7QTq7V2PA [(3, 0.5833062), (4, 0.08333936), (1, 0.083339185), (0, 0.08333864), (5, 0.083338596), (2, 0.08333806)]\n",
      "yHmRAHgjgqucJcUG3to7-Q [(4, 0.8808799), (1, 0.023879768), (0, 0.023810126), (5, 0.02381012), (2, 0.023810064), (3, 0.023810053)]\n",
      "bHaZK6l9z0eort2jzPfweQ [(2, 0.93055284), (4, 0.0138894925), (1, 0.013889476), (0, 0.013889425), (5, 0.013889422), (3, 0.013889362)]\n",
      "x5U-Cfb3Q7KP4fr9g-fs_g [(2, 0.583307), (4, 0.08333919), (1, 0.08333902), (0, 0.08333849), (5, 0.08333845), (3, 0.083337836)]\n",
      "LIbIcaLg039uFJtpCwBFaw [(5, 0.5833113), (4, 0.083338335), (1, 0.083338186), (0, 0.08333773), (2, 0.08333725), (3, 0.08333717)]\n",
      "sVo3TZJ36rMKfda3im1VLA [(2, 0.5833308), (4, 0.08333389), (1, 0.08333388), (0, 0.08333382), (5, 0.08333382), (3, 0.08333377)]\n",
      "J1Tca9X9pkBUCnbMYre8tw [(3, 0.7222065), (4, 0.055559054), (1, 0.055558953), (0, 0.055558644), (5, 0.055558622), (2, 0.055558313)]\n",
      "vssr0NZttNU6Ga6g6XgQHw [(1, 0.833329), (4, 0.033334337), (0, 0.033334218), (5, 0.033334214), (2, 0.03333413), (3, 0.033334114)]\n",
      "pI5g6tGr2zs-GvUf_Mk-rw [(0, 0.16666667), (1, 0.16666667), (2, 0.16666667), (3, 0.16666667), (4, 0.16666667), (5, 0.16666667)]\n",
      "pXcmnyvZZKlDl-OfGXsUyQ [(0, 0.83314204), (5, 0.033437043), (3, 0.033416454), (4, 0.033334948), (1, 0.033334903), (2, 0.033334617)]\n",
      "FW_DHUY-2Mcr2kNRjzJE5w [(0, 0.16666667), (1, 0.16666667), (2, 0.16666667), (3, 0.16666667), (4, 0.16666667), (5, 0.16666667)]\n",
      "6NvfNHnFnbxLr6-RUtTSTw [(2, 0.58333087), (4, 0.08333389), (1, 0.08333387), (0, 0.08333381), (5, 0.08333381), (3, 0.08333376)]\n",
      "pibFX9fUuFvsORv9aFNhEA [(0, 0.16666667), (1, 0.16666667), (2, 0.16666667), (3, 0.16666667), (4, 0.16666667), (5, 0.16666667)]\n",
      "uiNjo5YlEycJk8a2N0LGxA [(0, 0.58331156), (4, 0.08333828), (1, 0.08333814), (5, 0.08333766), (2, 0.08333721), (3, 0.083337136)]\n",
      "5vFfTOhQT8bmC1YlORcN2A [(2, 0.8332958), (5, 0.03336517), (4, 0.033334896), (1, 0.033334855), (0, 0.033334717), (3, 0.033334553)]\n",
      "CFA4dyFkrF1vbQfmjg_WZQ [(1, 0.7222114), (4, 0.055558063), (0, 0.05555777), (5, 0.05555775), (2, 0.05555753), (3, 0.055557497)]\n",
      "_7rhCWZwWt2YISBYqO7W_Q [(2, 0.79165566), (4, 0.041669108), (1, 0.041669037), (0, 0.041668825), (5, 0.04166881), (3, 0.041668564)]\n",
      "sQEXlSFfd81TwYeeaO59MA [(1, 0.5833148), (4, 0.08333765), (0, 0.08333713), (5, 0.0833371), (2, 0.08333671), (3, 0.083336644)]\n",
      "l0MQZvCFxQyw-0N5ki_6yA [(2, 0.3897709), (3, 0.38799003), (4, 0.05556007), (1, 0.055559944), (0, 0.055559542), (5, 0.055559512)]\n",
      "GHQYQECtW0rNTeQX8zlNCw [(0, 0.16666667), (1, 0.16666667), (2, 0.16666667), (3, 0.16666667), (4, 0.16666667), (5, 0.16666667)]\n",
      "1_XrpEmo_IG3tBXjMK2xoQ [(5, 0.96376234)]\n",
      "8QbkZoBh2s5f6zs77bNIrw [(0, 0.16666667), (1, 0.16666667), (2, 0.16666667), (3, 0.16666667), (4, 0.16666667), (5, 0.16666667)]\n",
      "43e87MXxf0h8-MA5TRDGPg [(0, 0.16666667), (1, 0.16666667), (2, 0.16666667), (3, 0.16666667), (4, 0.16666667), (5, 0.16666667)]\n",
      "bD0nE8boWsYMHuKtwU6vYA [(3, 0.7222065), (4, 0.055559047), (1, 0.05555895), (0, 0.05555864), (5, 0.055558614), (2, 0.05555831)]\n",
      "VLioGmg4OY3dkjGOU7HjQQ [(3, 0.58330613), (4, 0.08333936), (1, 0.083339185), (0, 0.08333864), (5, 0.083338596), (2, 0.08333806)]\n",
      "m2UiGsVVCiVKLHxPrmZXPw [(5, 0.9242392), (4, 0.015152232), (1, 0.015152213), (0, 0.015152153), (2, 0.015152086), (3, 0.015152076)]\n",
      "oCEC67w4e8dSaeFvZCrkDA [(3, 0.7912385), (0, 0.04187893), (5, 0.04187563), (4, 0.04166918), (1, 0.041669108), (2, 0.041668653)]\n",
      "DEG4C_4XOB_uT2sHxV1Bpg [(0, 0.8809483), (4, 0.02381044), (1, 0.023810416), (5, 0.02381033), (2, 0.023810253), (3, 0.02381024)]\n",
      "a2HEn1M8bN-mcTYAZDWqhw [(0, 0.58331156), (4, 0.08333828), (1, 0.08333814), (5, 0.08333766), (2, 0.08333721), (3, 0.083337136)]\n",
      "SlE_PXFrzOnCfyhsNmlj9w [(0, 0.16666667), (1, 0.16666667), (2, 0.16666667), (3, 0.16666667), (4, 0.16666667), (5, 0.16666667)]\n",
      "EhsnlM6kCF-kdwlCO1rtWg [(2, 0.7222069), (4, 0.055558953), (1, 0.055558853), (0, 0.055558555), (5, 0.05555853), (3, 0.055558182)]\n",
      "grQw5_NiohFfuymjdiUDEg [(2, 0.72221136), (4, 0.055557977), (1, 0.055557907), (0, 0.055557694), (5, 0.05555768), (3, 0.05555743)]\n",
      "iswk8Zovj0CI8X475OrIJg [(4, 0.5833156), (1, 0.08333736), (0, 0.08333699), (5, 0.08333696), (2, 0.083336584), (3, 0.083336525)]\n",
      "FaB4q_Y2GalII_fEvbmuyw [(3, 0.79165965), (4, 0.041668214), (1, 0.04166817), (0, 0.041668035), (5, 0.041668024), (2, 0.04166789)]\n",
      "dkGmnBw95XwFXOTg32Qapw [(2, 0.7222069), (4, 0.055558957), (1, 0.055558857), (0, 0.05555856), (5, 0.055558532), (3, 0.055558186)]\n",
      "TGG-MqUL_8bgvetTRZgzgQ [(0, 0.7222096), (4, 0.055558424), (1, 0.05555834), (5, 0.055558067), (2, 0.055557817), (3, 0.055557773)]\n",
      "2clrzHiNzw6CBNk87z9jIQ [(0, 0.16666667), (1, 0.16666667), (2, 0.16666667), (3, 0.16666667), (4, 0.16666667), (5, 0.16666667)]\n",
      "G0EX7MgxX2fdeqygZGwsFw [(0, 0.16666667), (1, 0.16666667), (2, 0.16666667), (3, 0.16666667), (4, 0.16666667), (5, 0.16666667)]\n",
      "tuaZifdyPAwCL_0-wbQzPg [(0, 0.16666667), (1, 0.16666667), (2, 0.16666667), (3, 0.16666667), (4, 0.16666667), (5, 0.16666667)]\n",
      "DmhfugQED5KsD0eLoVI26w [(4, 0.5833156), (1, 0.08333735), (0, 0.08333698), (5, 0.08333695), (2, 0.08333658), (3, 0.08333652)]\n",
      "UYw-2juYchHLPdWW5KADgg [(5, 0.7222094), (4, 0.055558458), (1, 0.055558376), (0, 0.05555812), (2, 0.055557847), (3, 0.055557802)]\n",
      "cEnzvb4MaRFuD-WcWnO7BQ [(4, 0.79149544), (1, 0.04183213), (0, 0.0416682), (5, 0.041668184), (2, 0.041668035), (3, 0.041668013)]\n",
      "klHXwF0UivNelyxGyacVAA [(4, 0.5833156), (1, 0.08333735), (0, 0.08333698), (5, 0.08333695), (2, 0.08333658), (3, 0.08333652)]\n",
      "X38m7nwS00mRWlP-gnJkZw [(3, 0.58330613), (4, 0.08333936), (1, 0.083339185), (0, 0.08333864), (5, 0.083338596), (2, 0.08333806)]\n",
      "Jn2VAfccPS6HnlSEtZDWJA [(1, 0.8333281), (4, 0.033334542), (0, 0.033334404), (5, 0.033334397), (2, 0.033334292), (3, 0.033334274)]\n",
      "0cNWfwSXAA6i14inTneAIQ [(2, 0.583307), (4, 0.08333919), (1, 0.08333902), (0, 0.08333849), (5, 0.08333845), (3, 0.083337836)]\n",
      "CCdXhW61_ADjwIDZpA9Oqw [(1, 0.721878), (0, 0.055891164), (4, 0.055558067), (5, 0.05555776), (2, 0.055557538), (3, 0.0555575)]\n",
      "2x869ReG12d4Cpods6xlwA [(1, 0.58332545), (4, 0.08333516), (0, 0.083334945), (5, 0.08333493), (2, 0.08333477), (3, 0.08333474)]\n",
      "6VCYCI1eV2Zh6XPoOnulww [(2, 0.58292645), (5, 0.08373454), (4, 0.0833349), (1, 0.083334856), (0, 0.083334714), (3, 0.083334535)]\n",
      "72sIwlmTaqVFvD1wkHngCw [(5, 0.5833113), (4, 0.083338335), (1, 0.083338186), (0, 0.08333773), (2, 0.08333725), (3, 0.08333717)]\n",
      "PMO3Y3nePmSOno2v67AYZw [(5, 0.5833113), (4, 0.083338335), (1, 0.083338186), (0, 0.08333773), (2, 0.08333725), (3, 0.08333717)]\n",
      "KsHyVxTpZqLnWZ8Xmz4upw [(0, 0.79165757), (4, 0.041668724), (1, 0.041668665), (5, 0.04166847), (2, 0.041668292), (3, 0.041668262)]\n",
      "1wfose9Tg_6LXOSZwVRn3g [(0, 0.16666667), (1, 0.16666667), (2, 0.16666667), (3, 0.16666667), (4, 0.16666667), (5, 0.16666667)]\n",
      "r2rAG42Fymj1MlWL-3MSTg [(0, 0.7217362), (4, 0.056031793), (1, 0.05555835), (5, 0.055558074), (2, 0.05555782), (3, 0.055557784)]\n",
      "bc5IgGIuW7_pYH4lY9j5DA [(4, 0.90736115), (1, 0.018562479), (0, 0.01851912), (5, 0.018519115), (2, 0.018519059), (3, 0.01851905)]\n",
      "XarOK2kVY4FfLXKFeo1o9A [(3, 0.83332443), (4, 0.033335302), (1, 0.033335246), (0, 0.033335075), (5, 0.033335064), (2, 0.033334892)]\n",
      "lZXRvVqlffM9gxhRUXG6JA [(3, 0.8611038), (4, 0.0277794), (1, 0.027779356), (0, 0.027779216), (5, 0.027779205), (2, 0.027779067)]\n",
      "JK7WOr1VjOqgTKDvksFNKA [(3, 0.79165745), (4, 0.041668694), (1, 0.04166864), (0, 0.04166846), (5, 0.041668445), (2, 0.04166827)]\n",
      "_2OCGzdczyDApoDGIQiI7g [(1, 0.91660076), (4, 0.016730804), (0, 0.016667124), (5, 0.01666712), (2, 0.016667075), (3, 0.016667068)]\n",
      "zrexRSJHIza8dNEcIPHebw [(1, 0.83332896), (4, 0.03333434), (0, 0.03333422), (5, 0.033334218), (2, 0.033334132), (3, 0.033334117)]\n",
      "UxqTW8-nkhgc-toIa-Q53g [(0, 0.16666667), (1, 0.16666667), (2, 0.16666667), (3, 0.16666667), (4, 0.16666667), (5, 0.16666667)]\n",
      "MrInjXzsdfwW-l18crXZMw [(3, 0.7222065), (4, 0.055559054), (1, 0.055558953), (0, 0.055558644), (5, 0.055558622), (2, 0.055558313)]\n",
      "0Rs3yl1FPgrZrRXKPqDrYA [(1, 0.7222114), (4, 0.055558063), (0, 0.05555777), (5, 0.05555775), (2, 0.05555753), (3, 0.055557497)]\n",
      "Oogu07cqqPj0PJI3mwwSkg [(0, 0.16666667), (1, 0.16666667), (2, 0.16666667), (3, 0.16666667), (4, 0.16666667), (5, 0.16666667)]\n",
      "a-6M_WMpDP1wmGy8-7n9lw [(0, 0.5833116), (4, 0.083338276), (1, 0.083338134), (5, 0.08333765), (2, 0.0833372), (3, 0.08333713)]\n",
      "D9FLAQdM3lopmASu3YExGw [(3, 0.7916553), (4, 0.041669175), (1, 0.041669104), (0, 0.04166889), (5, 0.04166887), (2, 0.041668653)]\n",
      "b_dg2_FImI-C82220lOjQQ [(5, 0.79104394), (2, 0.042284705), (4, 0.041667953), (1, 0.04166792), (0, 0.041667808), (3, 0.041667666)]\n",
      "AQrhUTvg6s4PlC-qmAAtAA [(0, 0.8611052), (4, 0.027779108), (1, 0.02777907), (5, 0.02777895), (2, 0.027778834), (3, 0.027778817)]\n",
      "ZKEIW7ms6n53PbOjnyqNyg [(1, 0.7222114), (4, 0.055558063), (0, 0.05555777), (5, 0.05555775), (2, 0.05555753), (3, 0.055557497)]\n",
      "e8626aYtXqyhxaqf0wWo0g [(0, 0.16666667), (1, 0.16666667), (2, 0.16666667), (3, 0.16666667), (4, 0.16666667), (5, 0.16666667)]\n",
      "XL3kNO7mW7sZ2lLiJxvoEA [(5, 0.5833113), (4, 0.083338335), (1, 0.083338186), (0, 0.08333773), (2, 0.08333725), (3, 0.08333717)]\n",
      "RaFs5wCOGoFdR39ZERcvCw [(0, 0.16666667), (1, 0.16666667), (2, 0.16666667), (3, 0.16666667), (4, 0.16666667), (5, 0.16666667)]\n",
      "rjtRJmHWZMxzNlu9VYYadw [(0, 0.58331156), (4, 0.08333828), (1, 0.08333814), (5, 0.08333766), (2, 0.08333721), (3, 0.083337136)]\n",
      "Ou6aksPdhV5Q-o_mISOooA [(0, 0.86102694), (1, 0.027857378), (4, 0.027779108), (5, 0.02777895), (2, 0.027778834), (3, 0.027778817)]\n",
      "qg_5SpRrZqv4IkOGtl2rqw [(4, 0.7915034), (0, 0.041824), (1, 0.041668344), (5, 0.041668184), (2, 0.04166803), (3, 0.04166801)]\n",
      "Guq90m70vWwaToR3Y6sOlQ [(4, 0.9073826), (5, 0.018540792), (1, 0.018519228), (0, 0.018519167), (2, 0.0185191), (3, 0.01851909)]\n",
      "QAzrx1zbHxurxDamRoCfiQ [(5, 0.7222094), (4, 0.055558458), (1, 0.055558376), (0, 0.05555812), (2, 0.055557847), (3, 0.055557802)]\n",
      "aNErQlM4em5izL-OtBTryA [(2, 0.8333247), (4, 0.03333525), (1, 0.033335198), (0, 0.03333503), (5, 0.03333502), (3, 0.033334825)]\n",
      "97QpmPPhwNI4oUavckRgTA [(3, 0.8333295), (4, 0.033334173), (1, 0.033334147), (0, 0.033334073), (5, 0.033334073), (2, 0.033334)]\n",
      "vNaWUHsf6nXqtQDvWX5kwA [(0, 0.79165757), (4, 0.041668724), (1, 0.041668665), (5, 0.04166847), (2, 0.041668292), (3, 0.041668262)]\n",
      "K-XqStinTowqKX7XFfqLMw [(1, 0.7222145), (4, 0.055557344), (0, 0.055557135), (5, 0.05555712), (2, 0.055556964), (3, 0.05555694)]\n",
      "4zGlduL6uZrdR-B0rPDJew [(1, 0.5833148), (4, 0.08333765), (0, 0.08333713), (5, 0.0833371), (2, 0.08333671), (3, 0.083336644)]\n",
      "lT_70q9IXtijbnamIjlw1Q [(2, 0.96527666)]\n",
      "SaFUL0TykOBy52hJ4DUPsA [(3, 0.5833062), (4, 0.08333936), (1, 0.083339185), (0, 0.08333864), (5, 0.083338596), (2, 0.08333806)]\n",
      "AV4OHC5Qg-V-PFBo2FN7yA [(4, 0.5833156), (1, 0.08333735), (0, 0.08333698), (5, 0.08333695), (2, 0.08333658), (3, 0.08333652)]\n",
      "Af6_7ZpjrN-qEYrHTcWL-g [(3, 0.5833218), (4, 0.0833359), (1, 0.08333582), (0, 0.083335586), (5, 0.08333557), (2, 0.08333534)]\n",
      "at_1R-8_H0z6JPOcROdt9w [(3, 0.9603155)]\n",
      "aZMgUgY_spuOtZj_HoeZzQ [(5, 0.8331359), (0, 0.03344149), (3, 0.03341812), (4, 0.033334967), (1, 0.033334922), (2, 0.03333463)]\n",
      "E7vD2OiFkkxXhvy5_J5SIA [(3, 0.8809473), (4, 0.02381064), (1, 0.023810608), (0, 0.023810513), (5, 0.023810506), (2, 0.02381041)]\n",
      "IXVUSgntfUfnF5x0W6ueSw [(0, 0.9242393), (4, 0.015152227), (1, 0.015152207), (5, 0.015152141), (2, 0.015152081), (3, 0.015152071)]\n",
      "HNJuprDdY0-34m9EOkLLyQ [(0, 0.16666667), (1, 0.16666667), (2, 0.16666667), (3, 0.16666667), (4, 0.16666667), (5, 0.16666667)]\n",
      "k4YNFx7CRt5q1uSNcIeUIA [(1, 0.58332545), (4, 0.08333516), (0, 0.08333495), (5, 0.08333493), (2, 0.08333477), (3, 0.08333474)]\n",
      "OREyjCs5Zpuxsr185exInQ [(0, 0.16666667), (1, 0.16666667), (2, 0.16666667), (3, 0.16666667), (4, 0.16666667), (5, 0.16666667)]\n",
      "E5TiwMs2KbI11Fmqw94M-Q [(2, 0.583307), (4, 0.08333919), (1, 0.08333902), (0, 0.08333849), (5, 0.08333845), (3, 0.083337836)]\n",
      "Q3EL64_lqJb5ehSh92Iasg [(0, 0.16666667), (1, 0.16666667), (2, 0.16666667), (3, 0.16666667), (4, 0.16666667), (5, 0.16666667)]\n",
      "e1V8BQxSnr79c-anHKQcTA [(0, 0.5833116), (4, 0.083338276), (1, 0.083338134), (5, 0.08333765), (2, 0.0833372), (3, 0.08333713)]\n",
      "aS-mRN7h7kpJbwu-3QHFPw [(0, 0.16666667), (1, 0.16666667), (2, 0.16666667), (3, 0.16666667), (4, 0.16666667), (5, 0.16666667)]\n"
     ]
    }
   ],
   "source": [
    "\n",
    "filenames = df['review_id']\n",
    "\n",
    "print('\\nFile name and its corresponding topic id with probability:')\n",
    "dic_topic_doc = {}\n",
    "for index, doc in enumerate(allnoun):\n",
    "    #for doc in doc_clean:\n",
    "    bow = dictionary.doc2bow(doc)\n",
    "\n",
    "    #get topic distribution of the ldamodel\n",
    "    t = ldamodel.get_document_topics(bow)\n",
    "\n",
    "    #sort the probability value in descending order to extract the top contributing topic id\n",
    "    sorted_t = sorted(t, key=lambda x: x[1], reverse=True)\n",
    "\n",
    "    #print only the filename \n",
    "    print(filenames[index],sorted_t)\n",
    "\n",
    "    #get the top scoring item\n",
    "    top_item = sorted_t.pop(0)\n",
    "\n",
    "    #create dictionary and keep key as topic id and filename and probability in tuple as value\n",
    "    dic_topic_doc.setdefault(top_item[0],[]).append((filenames[index],top_item[1]))"
   ]
  },
  {
   "cell_type": "code",
   "execution_count": 51,
   "metadata": {},
   "outputs": [
    {
     "name": "stdout",
     "output_type": "stream",
     "text": [
      "\n",
      "Topic id, number of documents, list of documents with probability and represented topic words:\n",
      "0.025*\"  (PERSON Filipino/NNP)\" + 0.013*\"  Saturday/NNP\" + 0.013*\"  Beyond/NNP\" + 0.013*\"  (GPE Chinese/NNP)\" + 0.013*\"  (PERSON Eglinton/NNP)\" \n",
      "\n",
      "0.020*\"  kaufen/NNP\" + 0.020*\"  (PERSON Blackburn/NNP)\" + 0.020*\"  (PERSON Buybuy/NNP)\" + 0.020*\"  (GPE Thankyou/NNP)\" + 0.020*\"  Tuesday/NNP\" \n",
      "\n",
      "0.079*\"  (PERSON Samurai/NNP)\" + 0.031*\"  (PERSON Walmart/NNP)\" + 0.021*\"  (PERSON Phoenix/NNP)\" + 0.021*\"  (PERSON Samurai/NNP Comics/NNP)\" + 0.021*\"  (PERSON Batman/NNP)\" \n",
      "\n",
      "0.030*\"  (PERSON Cadillac/NNP)\" + 0.030*\"  (ORGANIZATION WalMart/NNP)\" + 0.016*\"  (GPE California/NNP)\" + 0.016*\"  (ORGANIZATION RUNNING/NNP Target/NNP)\" + 0.016*\"  Pittsburgh/NNP\" \n",
      "\n",
      "0.025*\"  (ORGANIZATION Intellivision/NNP)\" + 0.025*\"  Walmart/NNP\" + 0.013*\"  Beyond/NNP\" + 0.013*\"  (GPE Groovy/NNP)\" + 0.013*\"  PacMan/NNP\" \n",
      "\n",
      "0.042*\"  (ORGANIZATION WalMart/NNP)\" + 0.028*\"  Friday/NNP\" + 0.028*\"  (PERSON Shopper/NNP)\" + 0.028*\"  Otherwise/NNP\" + 0.028*\"  (PERSON Louisa/NNP Designs/NNP)\" \n",
      "\n"
     ]
    }
   ],
   "source": [
    "\n",
    "print('\\nTopic id, number of documents, list of documents with probability and represented topic words:')\n",
    "\n",
    "word_num = 5 # display top 5 words with highest term weight in each topic\n",
    "\n",
    "for key,value in dic_topic_doc.items():\n",
    "    sorted_value = sorted(value, key=lambda x: x[1], reverse=True)\n",
    "\n",
    "    #print the topic word and most represented doc\n",
    "    print(ldamodel.print_topic(key,word_num), '\\n')"
   ]
  },
  {
   "cell_type": "markdown",
   "metadata": {},
   "source": [
    "## Submission\n",
    "Export your completed work as HTML. Select **File** > **Download as** > **HTML (.html)**."
   ]
  }
 ],
 "metadata": {
  "kernelspec": {
   "display_name": "Python 3 (ipykernel)",
   "language": "python",
   "name": "python3"
  },
  "language_info": {
   "codemirror_mode": {
    "name": "ipython",
    "version": 3
   },
   "file_extension": ".py",
   "mimetype": "text/x-python",
   "name": "python",
   "nbconvert_exporter": "python",
   "pygments_lexer": "ipython3",
   "version": "3.9.7"
  }
 },
 "nbformat": 4,
 "nbformat_minor": 4
}
